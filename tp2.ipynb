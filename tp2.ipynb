{
 "cells": [
  {
   "cell_type": "markdown",
   "metadata": {},
   "source": [
    "# Deep Learning for NLP - Project"
   ]
  },
  {
   "cell_type": "markdown",
   "metadata": {},
   "source": [
    "RULES:\n",
    "\n",
    "* Do not create any additional cell\n",
    "\n",
    "* Fill in the blanks\n",
    "\n",
    "* All cells should be runnable (modulo trivial compatibility bugs that we'd fix)\n",
    "\n",
    "* 4 / 20 points will be allocated to the clarity of your code\n",
    "\n",
    "* Efficient code will have a bonus\n",
    "\n",
    "DELIVERABLE:\n",
    "\n",
    "* this notebook\n",
    "* the predictions of the SST test set\n",
    "\n",
    "DO NOT INCLUDE THE DATASETS IN THE DELIVERABLE.."
   ]
  },
  {
   "cell_type": "code",
   "execution_count": 1,
   "metadata": {},
   "outputs": [],
   "source": [
    "import io\n",
    "import os\n",
    "import numpy as np\n",
    "import scipy"
   ]
  },
  {
   "cell_type": "code",
   "execution_count": 151,
   "metadata": {},
   "outputs": [],
   "source": [
    "import matplotlib.pyplot as plt\n",
    "import seaborn as sns\n",
    "import pylab\n",
    "plt.style.use('ggplot')\n",
    "pylab.rcParams['figure.figsize'] = (16.0, 8.0)\n",
    "cp = sns.color_palette()"
   ]
  },
  {
   "cell_type": "code",
   "execution_count": 2,
   "metadata": {},
   "outputs": [],
   "source": [
    "PATH_TO_DATA = \"nlp_project/data/\""
   ]
  },
  {
   "cell_type": "markdown",
   "metadata": {},
   "source": [
    "# 1) Monolingual (English) word embeddings "
   ]
  },
  {
   "cell_type": "code",
   "execution_count": 3,
   "metadata": {},
   "outputs": [],
   "source": [
    "class Word2vec():\n",
    "    def __init__(self, fname, nmax=100000):\n",
    "        self.load_wordvec(fname, nmax)\n",
    "        self.word2id = dict.fromkeys(self.word2vec.keys())\n",
    "        self.id2word = {v: k for k, v in self.word2id.items()}\n",
    "        self.embeddings = np.array(self.word2vec.values())\n",
    "    \n",
    "    def load_wordvec(self, fname, nmax):\n",
    "        self.word2vec = {}\n",
    "        with io.open(fname, encoding='utf-8') as f:\n",
    "            next(f)\n",
    "            for i, line in enumerate(f):\n",
    "                word, vec = line.split(' ', 1)\n",
    "                self.word2vec[word.upper()] = np.fromstring(vec, sep=' ')\n",
    "                if i == (nmax - 1):\n",
    "                    break\n",
    "        print('Loaded %s pretrained word vectors' % (len(self.word2vec)))\n",
    "\n",
    "    def most_similar(self, w, K=5):\n",
    "        words = []\n",
    "        scores = []\n",
    "        for word in self.word2id:\n",
    "            words.append(word)\n",
    "            scores.append(self.score(w, word))\n",
    "        words = np.array(words)\n",
    "        scores = np.array(scores)\n",
    "        sorted_index = np.argsort(-scores)  # sort -scores to have descending sorting for scores\n",
    "        return words[sorted_index[1:K+1]]\n",
    "\n",
    "    def score(self, w1, w2):\n",
    "        # cosine similarity: np.dot  -  np.linalg.norm\n",
    "        v1 = self.word2vec.get(w1.upper())\n",
    "        v2 = self.word2vec.get(w2.upper())\n",
    "        den = np.linalg.norm(v1) * np.linalg.norm(v2)\n",
    "        return np.dot(v1, v2) / den\n"
   ]
  },
  {
   "cell_type": "code",
   "execution_count": 4,
   "metadata": {},
   "outputs": [
    {
     "name": "stdout",
     "output_type": "stream",
     "text": [
      "Loaded 19765 pretrained word vectors\n",
      "cat dog\n",
      "cat dog 0.25109368796701387\n",
      "dog pet\n",
      "dog pet 0.2814974489576861\n",
      "dogs cats\n",
      "dogs cats 0.6747577573530964\n",
      "paris france\n",
      "paris france 0.7058595452409974\n",
      "germany berlin\n",
      "germany berlin 0.7060253015336013\n",
      "cat  most similar to :\n",
      "['MAN' 'SAT' 'PET' 'ACT' 'STAR']\n",
      "dog  most similar to :\n",
      "['DOGS' 'PUPPY' 'CANINE' 'HORSE' 'PETS']\n",
      "dogs  most similar to :\n",
      "['DOG' 'PETS' 'CATS' 'ANIMALS' 'HORSES']\n",
      "paris  most similar to :\n",
      "['PARISIAN' 'FRANCE' 'VERSAILLES' 'LYON' 'BORDEAUX']\n",
      "germany  most similar to :\n",
      "['AUSTRIA' 'BAVARIA' 'BERLIN' 'MUNICH' 'HAMBURG']\n"
     ]
    }
   ],
   "source": [
    "w2v = Word2vec(os.path.join(PATH_TO_DATA, 'crawl-300d-200k.vec'), nmax=25000)\n",
    "\n",
    "# You will be evaluated on the output of the following:\n",
    "for w1, w2 in zip(('cat', 'dog', 'dogs', 'paris', 'germany'), ('dog', 'pet', 'cats', 'france', 'berlin')):\n",
    "    print(w1, w2)\n",
    "    print(w1, w2, w2v.score(w1, w2))\n",
    "for w1 in ['cat', 'dog', 'dogs', 'paris', 'germany']:\n",
    "    print(w1, \" most similar to :\")\n",
    "    print(w2v.most_similar(w1))"
   ]
  },
  {
   "cell_type": "code",
   "execution_count": 23,
   "metadata": {},
   "outputs": [],
   "source": [
    "class BoV():\n",
    "    def __init__(self, w2v):\n",
    "        self.w2v = w2v\n",
    "        self._emb_dim = w2v.word2vec.get(\"CAT\").shape[0]\n",
    "    \n",
    "    def encode(self, sentences, idf=None):\n",
    "        sentemb = np.zeros((len(sentences), self._emb_dim))\n",
    "        for i, sent in enumerate(sentences):\n",
    "            emb = np.zeros(self._emb_dim)\n",
    "            count = 0\n",
    "            if idf is None:\n",
    "                for word in sent.strip().split(' '):\n",
    "                    word = word.upper()\n",
    "                    if word in self.w2v.word2vec.keys():\n",
    "                        contrib = self.w2v.word2vec.get(word)\n",
    "                        emb += contrib\n",
    "                        count += 1\n",
    "                sentemb[i, :] = emb / count\n",
    "            else:\n",
    "                for word in sent.strip().split(' '):\n",
    "                    word = word.upper()\n",
    "                    if word in self.w2v.word2vec.keys() and word in idf.keys():\n",
    "                        contrib = self.w2v.word2vec.get(word)\n",
    "                        emb += contrib * idf.get(word)\n",
    "                        count += idf.get(word)\n",
    "                sentemb[i, :] = emb / count\n",
    "        return sentemb\n",
    "\n",
    "    def most_similar(self, s, sentences, idf=None, K=5):\n",
    "        # get most similar sentences and **print** them\n",
    "        scores = []\n",
    "        for i in range(len(sentences)):\n",
    "            scores.append(self.score(s, sentences[i], idf))\n",
    "        scores = np.array(scores)\n",
    "        sorted_index = np.argsort(-scores)\n",
    "        for k in sorted_index[1:K+1]:\n",
    "            print(f\"({scores[k]:.2f}, {k}) : {sentences[k]}\")\n",
    "\n",
    "    def score(self, s1, s2, idf=None):\n",
    "        v1 = self.encode([s1], idf)[0, :]\n",
    "        v2 = self.encode([s2], idf)[0, :]\n",
    "        return np.dot(v1, v2) / (np.linalg.norm(v1) * np.linalg.norm(v2))\n",
    "    \n",
    "    def build_idf(self, sentences):\n",
    "        # build the idf dictionary: associate each word to its idf value\n",
    "        from collections import defaultdict\n",
    "        idf = defaultdict(float)\n",
    "        for sentence in sentences:\n",
    "            for w in set(w.upper() for w in sentence.strip().split(' ')):\n",
    "                idf[w] += 1\n",
    "        for w in idf:\n",
    "            idf[w] = max(1, np.log10(len(sentences) / idf[w]))\n",
    "        return idf\n"
   ]
  },
  {
   "cell_type": "code",
   "execution_count": 25,
   "metadata": {},
   "outputs": [
    {
     "name": "stdout",
     "output_type": "stream",
     "text": [
      "Loaded 4367 pretrained word vectors\n"
     ]
    },
    {
     "name": "stderr",
     "output_type": "stream",
     "text": [
      "/home/valentin/anaconda3/envs/thera/lib/python3.6/site-packages/ipykernel_launcher.py:18: RuntimeWarning: invalid value encountered in true_divide\n"
     ]
    },
    {
     "name": "stdout",
     "output_type": "stream",
     "text": [
      "(0.94, 135564) : two people are swimming in a pool . \n",
      "(0.91, 128) : 2 men are swimming in a pool in separate lanes as if racing . \n",
      "(0.91, 112512) : some people are sitting in a watery pool beside the river . \n",
      "(0.91, 102594) : many people are in an indoor swimming pool and one girl is in the act of jumping in headfirst . \n",
      "(0.91, 110030) : seven people are wading in a natural pool . \n",
      "0.8421031884549606\n"
     ]
    },
    {
     "name": "stderr",
     "output_type": "stream",
     "text": [
      "/home/valentin/anaconda3/envs/thera/lib/python3.6/site-packages/ipykernel_launcher.py:26: RuntimeWarning: invalid value encountered in true_divide\n"
     ]
    },
    {
     "name": "stdout",
     "output_type": "stream",
     "text": [
      "(0.89, 135564) : two people are swimming in a pool . \n",
      "(0.87, 33227) : a man and a boy are in the swimming pool . \n",
      "(0.87, 135285) : two people are in a swimming pool with water splashing around . \n",
      "(0.87, 100269) : man and boy are swimming in a pool . \n",
      "(0.87, 101200) : man in swimming pool holding 2 children . \n",
      "0.7341256858340702\n"
     ]
    }
   ],
   "source": [
    "w2v = Word2vec(os.path.join(PATH_TO_DATA, 'crawl-300d-200k.vec'), nmax=5000)\n",
    "s2v = BoV(w2v)\n",
    "\n",
    "# Load sentences in \"PATH_TO_DATA/sentences.txt\"\n",
    "sentences = np.loadtxt(f\"{PATH_TO_DATA}/sentences.txt\", delimiter='\\n', dtype='str').tolist()\n",
    "\n",
    "# You will be evaluated on the output of the following:\n",
    "s2v.most_similar('' if not sentences else sentences[10], sentences)  # BoV-mean\n",
    "print(s2v.score('' if not sentences else sentences[7], '' if not sentences else sentences[13]))\n",
    "\n",
    "\n",
    "idf = s2v.build_idf(sentences)\n",
    "s2v.most_similar('' if not sentences else sentences[10], sentences, idf)  # BoV-idf\n",
    "print(s2v.score('' if not sentences else sentences[7], '' if not sentences else sentences[13], idf))"
   ]
  },
  {
   "cell_type": "markdown",
   "metadata": {},
   "source": [
    "# 2) Multilingual (English-French) word embeddings"
   ]
  },
  {
   "cell_type": "markdown",
   "metadata": {},
   "source": [
    "Let's consider a bilingual dictionary of size $V_a$ (e.g French-English).\n",
    "\n",
    "Let's define  X  and Y the **French** and **English** matrices.\n",
    "\n",
    "They contain the embeddings associated to the words in the bilingual dictionary.\n",
    "\n",
    "We want to find a **mapping W** that will project the source word space (e.g French) to the target word space (e.g English).\n",
    "\n",
    "Procrustes : $W^* = \\text{argmin} || W.X - Y || \\text{  s.t  } W^T.W = \\text{Id}$\n",
    "has a closed form solution:\n",
    "$W = U.V^T$  where $U.\\Sigma.V^T = \\text{SVD}(Y.X^T)$\n",
    "\n",
    "In what follows, you are asked to: "
   ]
  },
  {
   "cell_type": "code",
   "execution_count": 28,
   "metadata": {},
   "outputs": [],
   "source": [
    "# 1 - Download and load 50k first vectors of\n",
    "#     https://s3-us-west-1.amazonaws.com/fasttext-vectors/wiki.en.vec\n",
    "#     https://s3-us-west-1.amazonaws.com/fasttext-vectors/wiki.fr.vec\n",
    "\n",
    "# TYPE CODE HERE\n",
    "\n",
    "with open(os.path.join(PATH_TO_DATA, 'wiki.en.vec'), encoding='utf-8') as en_f:\n",
    "    wiki_eng = {}\n",
    "    next(en_f)  # Skip headers\n",
    "    for i, line in enumerate(en_f):\n",
    "        if i == 50000:\n",
    "            break\n",
    "        word, data = line.split(' ', maxsplit=1)\n",
    "        wiki_eng[word.upper()] = np.fromstring(data, sep=' ')\n",
    "\n",
    "with open(os.path.join(PATH_TO_DATA, 'wiki.fr.vec'), encoding='utf-8') as fr_f:\n",
    "    wiki_fr = {}\n",
    "    next(fr_f)  # Skip headers\n",
    "    for i, line in enumerate(fr_f):\n",
    "        if i == 50000:\n",
    "            break\n",
    "        word, data = line.split(' ', maxsplit=1)\n",
    "        wiki_fr[word.upper()] = np.fromstring(data, sep=' ')"
   ]
  },
  {
   "cell_type": "code",
   "execution_count": 38,
   "metadata": {},
   "outputs": [
    {
     "data": {
      "text/plain": [
       "(300,)"
      ]
     },
     "execution_count": 38,
     "metadata": {},
     "output_type": "execute_result"
    }
   ],
   "source": [
    "wiki_eng[\"BJÖRN\"].shape"
   ]
  },
  {
   "cell_type": "code",
   "execution_count": 44,
   "metadata": {},
   "outputs": [
    {
     "data": {
      "text/plain": [
       "18968"
      ]
     },
     "execution_count": 44,
     "metadata": {},
     "output_type": "execute_result"
    }
   ],
   "source": [
    "len(set(wiki_eng.keys()).intersection(set(wiki_fr.keys())))"
   ]
  },
  {
   "cell_type": "code",
   "execution_count": 46,
   "metadata": {},
   "outputs": [],
   "source": [
    "# 2 - Get words that appear in both vocabs (= identical character strings)\n",
    "#     Use it to create the matrix X and Y (of aligned embeddings for these words)\n",
    "\n",
    "common_words = set(wiki_eng).intersection(set(wiki_fr))\n",
    "X = np.zeros((wiki_eng[\"BJÖRN\"].shape[0], len(common_words)))\n",
    "Y = np.zeros((wiki_eng[\"BJÖRN\"].shape[0], len(common_words)))\n",
    "for j, w in enumerate(common_words):\n",
    "    X[:, j] = wiki_fr[w]\n",
    "    Y[:, j] = wiki_eng[w]"
   ]
  },
  {
   "cell_type": "code",
   "execution_count": 48,
   "metadata": {},
   "outputs": [],
   "source": [
    "# 3 - Solve the Procrustes using the scipy package and: scipy.linalg.svd() and get the optimal W\n",
    "#     Now W*French_vector is in the same space as English_vector\n",
    "\n",
    "from scipy import linalg\n",
    "\n",
    "U, sig, V = scipy.linalg.svd(np.dot(Y, np.transpose(X)))\n",
    "W = np.dot(U, V)"
   ]
  },
  {
   "cell_type": "code",
   "execution_count": 64,
   "metadata": {},
   "outputs": [
    {
     "name": "stdout",
     "output_type": "stream",
     "text": [
      "SOLUBLES : SOLUBLE, INSOLUBLE, SALTS, HYDROXIDE, SOLVENTS\n",
      "FINLAY : FINLAY, ORTON, LAWLER, PRINGLE, SANDERSON\n",
      "LAURA : LAURA, MARISA, GINA, AMANDA, JENNIFER\n",
      "CLAPTON : CLAPTON, JAGGER, BEATLES, KNOPFLER, GROHL\n",
      "CHABAN : CHIRAC, MITTERRAND, HOLLANDE, GAILLARD, GAULLE\n",
      "MALFORMATION : CONGENITAL, ABNORMALITY, ABNORMALITIES, DYSPLASIA, TESTICULAR\n",
      "FRÉQUENTE : FREQUENTED, STUDIED, FREQUENT, ACQUAINTED, BEFRIENDED\n",
      "ADJACENT : ADJACENT, ADJOINING, ADJOINS, OCCUPIES, NEARBY\n",
      "ARGO : ARGO, ORION, POSEIDON, DAEDALUS, TRITON\n",
      "MEURTRIÈRES : EMPLACEMENTS, BASTIONS, DOORWAYS, PARAPET, RAMPARTS\n",
      "CORPORATE : CORPORATE, CORPORATIONS, CORPORATION, BUSINESS, CONSULTANCY\n",
      "TENTENT : CONFRONT, THWART, CONVINCE, REGROUP, PERSUADE\n",
      "JULIAN : JULIAN, BARRY, TOBY, RHYS, SEBASTIAN\n",
      "NAPOLÉONIEN : NAPOLEONIC, NAPOLEON, NAPOLÉON, ANCIEN, BONAPARTE\n",
      "DISPARUE : DEFUNCT, DISAPPEARED, DISAPPEARANCE, VANISHED, HACHETTE\n",
      "LATÉRAL : LATERAL, LATERALLY, SEMICIRCULAR, MIDLINE, ANTERIOR\n",
      "ALPHABET : ALPHABET, ALPHABETS, ORTHOGRAPHY, PHONETIC, DIACRITIC\n",
      "CIBLANT : TARGETING, TARGETED, TARGETS, TARGET, SELECTIVELY\n",
      "TRONDHEIM : TRONDHEIM, KRISTIANSAND, FREDRIKSTAD, STAVANGER, TROMSØ\n",
      "POSTMODERNE : POSTMODERN, POSTMODERNISM, MODERNISM, MODERNITY, MODERNIST\n"
     ]
    }
   ],
   "source": [
    "# 4 - After alignment with W, give examples of English nearest neighbors of some French words (and vice versa)\n",
    "#     You will be evaluated on that part and the code above\n",
    "\n",
    "def get_nearest_translations(W, src_word, target_words, K=5):\n",
    "    translation = np.dot(W, src_word)\n",
    "    words = []\n",
    "    scores = []\n",
    "    for w, v in wiki_eng.items():\n",
    "        words.append(w)\n",
    "        scores.append(np.dot(translation, v) / (np.linalg.norm(v) * np.linalg.norm(translation)))\n",
    "    words = np.array(words)\n",
    "    scores = np.array(scores)\n",
    "    sorted_index = np.argsort(- scores)\n",
    "    return words[sorted_index[:K]]\n",
    "\n",
    "np.random.seed(seed=10)\n",
    "fr_words = list(wiki_fr.keys())\n",
    "samples = np.random.choice(np.array(range(len(fr_words))), size=20, replace=False)\n",
    "for i in samples:\n",
    "    print(f\"{fr_words[i]} : \", end='')\n",
    "    neighs = get_nearest_translations(W, wiki_fr[fr_words[i]], wiki_eng)\n",
    "    print(', '.join(neighs))"
   ]
  },
  {
   "cell_type": "markdown",
   "metadata": {},
   "source": [
    "If you want to dive deeper on this subject: https://github.com/facebookresearch/MUSE"
   ]
  },
  {
   "cell_type": "markdown",
   "metadata": {},
   "source": [
    "# 3) Sentence classification with BoV and scikit-learn"
   ]
  },
  {
   "cell_type": "code",
   "execution_count": 74,
   "metadata": {},
   "outputs": [
    {
     "name": "stdout",
     "output_type": "stream",
     "text": [
      "Loaded 49996 pretrained word vectors\n"
     ]
    }
   ],
   "source": [
    "# 1 - Load train/dev/test of Stanford Sentiment TreeBank (SST)\n",
    "#     (https://nlp.stanford.edu/~socherr/EMNLP2013_RNTN.pdf)\n",
    "\n",
    "w2v = Word2vec(os.path.join(PATH_TO_DATA, 'wiki.en.vec'), nmax=50000)\n",
    "\n",
    "def load_sentiment(filename, test=False):\n",
    "    file = np.loadtxt(f\"{PATH_TO_DATA}SST/{filename}\", delimiter='\\n', dtype='str').tolist()\n",
    "    x = []\n",
    "    y = []\n",
    "    if test:\n",
    "        return file\n",
    "    for l in file:\n",
    "        target, sentence = l.split(' ', 1)\n",
    "        x.append(sentence.strip())\n",
    "        y.append(int(target))\n",
    "    return x, y\n",
    "\n",
    "dev_x, dev_y = load_sentiment('stsa.fine.dev')\n",
    "train_x, train_y = load_sentiment('stsa.fine.train')\n",
    "test_x = load_sentiment('stsa.fine.test.X', test=True)"
   ]
  },
  {
   "cell_type": "code",
   "execution_count": 75,
   "metadata": {},
   "outputs": [],
   "source": [
    "# 2 - Encode sentences with the BoV model above\n",
    "\n",
    "s2v = BoV(w2v)\n",
    "idf_bov = BoV.build_idf(BoV, train_x)\n",
    "\n",
    "# Encoding\n",
    "train_enc = s2v.encode(train_x, idf_bov)\n",
    "dev_enc = s2v.encode(dev_x, idf_bov)\n",
    "test_enc = s2v.encode(test_x, idf_bov)"
   ]
  },
  {
   "cell_type": "code",
   "execution_count": 82,
   "metadata": {},
   "outputs": [
    {
     "name": "stderr",
     "output_type": "stream",
     "text": [
      "/home/valentin/anaconda3/envs/thera/lib/python3.6/site-packages/sklearn/linear_model/logistic.py:432: FutureWarning: Default solver will be changed to 'lbfgs' in 0.22. Specify a solver to silence this warning.\n",
      "  FutureWarning)\n",
      "/home/valentin/anaconda3/envs/thera/lib/python3.6/site-packages/sklearn/linear_model/logistic.py:459: FutureWarning: Default multi_class will be changed to 'auto' in 0.22. Specify the multi_class option to silence this warning.\n",
      "  \"this warning.\", FutureWarning)\n"
     ]
    },
    {
     "data": {
      "text/plain": [
       "LogisticRegression(C=1.0, class_weight=None, dual=False, fit_intercept=True,\n",
       "          intercept_scaling=1, max_iter=100, multi_class='warn',\n",
       "          n_jobs=None, penalty='l2', random_state=None, solver='warn',\n",
       "          tol=0.0001, verbose=0, warm_start=False)"
      ]
     },
     "execution_count": 82,
     "metadata": {},
     "output_type": "execute_result"
    }
   ],
   "source": [
    "# 3 - Learn Logistic Regression on top of sentence embeddings using scikit-learn\n",
    "#     (consider tuning the L2 regularization on the dev set)\n",
    "\n",
    "from sklearn.linear_model import LogisticRegression\n",
    "cl = LogisticRegression(penalty='l2')\n",
    "cl.fit(train_enc, np.array(train_y))"
   ]
  },
  {
   "cell_type": "code",
   "execution_count": 91,
   "metadata": {},
   "outputs": [
    {
     "name": "stdout",
     "output_type": "stream",
     "text": [
      "Accuracy: 0.40\n",
      "Mean absolute distance from target class: 0.85\n"
     ]
    }
   ],
   "source": [
    "print(f\"Accuracy: {cl.score(dev_enc, np.array(dev_y)):.2f}\")\n",
    "print(f\"Mean absolute distance from target class: {np.mean(np.abs(dev_y - cl.predict(dev_enc))):.2f}\")"
   ]
  },
  {
   "cell_type": "code",
   "execution_count": 87,
   "metadata": {},
   "outputs": [],
   "source": [
    "# 4 - Produce 2210 predictions for the test set (in the same order). One line = one prediction (=0,1,2,3,4).\n",
    "#     Attach the output file \"logreg_bov_y_test_sst.txt\" to your deliverable.\n",
    "#     You will be evaluated on the results of the test set.\n",
    "\n",
    "test_pred = cl.predict(test_enc)\n",
    "np.savetxt(\"logreg_bov_y_test_sst.txt\", test_pred.astype('int'), encoding='utf-8', fmt=\"%d\")"
   ]
  },
  {
   "cell_type": "code",
   "execution_count": 9,
   "metadata": {
    "collapsed": true
   },
   "outputs": [],
   "source": [
    "# BONUS!\n",
    "# 5 - Try to improve performance with another classifier\n",
    "#     Attach the output file \"XXX_bov_y_test_sst.txt\" to your deliverable (where XXX = the name of the classifier)\n",
    "\n",
    "# TYPE CODE HERE"
   ]
  },
  {
   "cell_type": "markdown",
   "metadata": {},
   "source": [
    "# 4) Sentence classification with LSTMs in Keras"
   ]
  },
  {
   "cell_type": "markdown",
   "metadata": {},
   "source": [
    "## 4.1 - Preprocessing"
   ]
  },
  {
   "cell_type": "code",
   "execution_count": 92,
   "metadata": {},
   "outputs": [
    {
     "name": "stderr",
     "output_type": "stream",
     "text": [
      "Using TensorFlow backend.\n"
     ]
    }
   ],
   "source": [
    "import keras"
   ]
  },
  {
   "cell_type": "code",
   "execution_count": 11,
   "metadata": {
    "collapsed": true
   },
   "outputs": [],
   "source": [
    "# 1 - Load train/dev/test sets of SST\n",
    "PATH_TO_DATA = \"nlp_project/data/\"\n",
    "\n",
    "def load_sentiment(filename, test=False):\n",
    "    file = np.loadtxt(f\"{PATH_TO_DATA}SST/{filename}\", delimiter='\\n', dtype='str').tolist()\n",
    "    x = []\n",
    "    y = []\n",
    "    if test:\n",
    "        return file\n",
    "    for l in file:\n",
    "        target, sentence = l.split(' ', 1)\n",
    "        x.append(sentence.strip())\n",
    "        y.append(int(target))\n",
    "    return x, y\n",
    "\n",
    "dev_x, dev_y = load_sentiment('stsa.fine.dev')\n",
    "train_x, train_y = load_sentiment('stsa.fine.train')\n",
    "test_x = load_sentiment('stsa.fine.test.X', test=True)"
   ]
  },
  {
   "cell_type": "code",
   "execution_count": 101,
   "metadata": {},
   "outputs": [
    {
     "name": "stdout",
     "output_type": "stream",
     "text": [
      "Number of words in the corpus: 19537\n"
     ]
    }
   ],
   "source": [
    "words = set()\n",
    "for s in dev_x + train_x + test_x:\n",
    "    for w in s.split(' '):\n",
    "        words.add(w.lower())\n",
    "print(\"Number of words in the corpus: \" + str(len(words)))\n",
    "del words"
   ]
  },
  {
   "cell_type": "code",
   "execution_count": 102,
   "metadata": {},
   "outputs": [],
   "source": [
    "# 2 - Transform text to integers using keras.preprocessing.text.one_hot function\n",
    "#     https://keras.io/preprocessing/text/\n",
    "\n",
    "# TYPE CODE HERE\n",
    "enc_train = [keras.preprocessing.text.one_hot(s, split=' ', n=19600) for s in train_x]\n",
    "enc_dev = [keras.preprocessing.text.one_hot(s, split=' ', n=19600) for s in dev_x]"
   ]
  },
  {
   "cell_type": "markdown",
   "metadata": {},
   "source": [
    "**Padding input data**\n",
    "\n",
    "Models in Keras (and elsewhere) take batches of sentences of the same length as input. It is because Deep Learning framework have been designed to handle well Tensors, which are particularly suited for fast computation on the GPU.\n",
    "\n",
    "Since sentences have different sizes, we \"pad\" them. That is, we add dummy \"padding\" tokens so that they all have the same length.\n",
    "\n",
    "The input to a Keras model thus has this size : (batchsize, maxseqlen) where maxseqlen is the maximum length of a sentence in the batch."
   ]
  },
  {
   "cell_type": "code",
   "execution_count": 107,
   "metadata": {},
   "outputs": [],
   "source": [
    "# 3 - Pad your sequences using keras.preprocessing.sequence.pad_sequences\n",
    "#     https://keras.io/preprocessing/sequence/\n",
    "\n",
    "maxlen = max(len(s.split(' ')) for s in dev_x + train_x + test_x)\n",
    "x_train = keras.preprocessing.sequence.pad_sequences(enc_train, padding='pre', maxlen=maxlen)\n",
    "x_dev = keras.preprocessing.sequence.pad_sequences(enc_dev, padding='pre', maxlen=maxlen)"
   ]
  },
  {
   "cell_type": "markdown",
   "metadata": {},
   "source": [
    "## 4.2 - Design and train your model"
   ]
  },
  {
   "cell_type": "code",
   "execution_count": 211,
   "metadata": {},
   "outputs": [],
   "source": [
    "# 4 - Design your encoder + classifier using keras.layers\n",
    "#     In Keras, Torch and other deep learning framework, we create a \"container\" which is the Sequential() module.\n",
    "#     Then we add components to this contained : the lookuptable, the LSTM, the classifier etc.\n",
    "#     All of these components are contained in the Sequential() and are trained together.\n",
    "\n",
    "\n",
    "# ADAPT CODE BELOW\n",
    "\n",
    "\n",
    "from keras.models import Sequential\n",
    "from keras.layers import Embedding, LSTM, Dense, Activation, Bidirectional\n",
    "\n",
    "embed_dim  = x_train.shape[1]\n",
    "nhid       = 30  # number of hidden units in the LSTM\n",
    "vocab_size = 19600  # size of the vocabulary\n",
    "n_classes  = 5\n",
    "\n",
    "model = Sequential()\n",
    "model.add(Embedding(vocab_size, embed_dim))\n",
    "model.add(LSTM(nhid, dropout=0.4, recurrent_dropout=0.4))\n",
    "# model.add(Bidirectional(LSTM(nhid, dropout_W=0.2, dropout_U=0.2), merge_mode='concat'))\n",
    "model.add(Dense(n_classes, activation='sigmoid'))\n"
   ]
  },
  {
   "cell_type": "code",
   "execution_count": 212,
   "metadata": {},
   "outputs": [
    {
     "name": "stdout",
     "output_type": "stream",
     "text": [
      "_________________________________________________________________\n",
      "Layer (type)                 Output Shape              Param #   \n",
      "=================================================================\n",
      "embedding_29 (Embedding)     (None, None, 56)          1097600   \n",
      "_________________________________________________________________\n",
      "lstm_30 (LSTM)               (None, 30)                10440     \n",
      "_________________________________________________________________\n",
      "dense_28 (Dense)             (None, 5)                 155       \n",
      "=================================================================\n",
      "Total params: 1,108,195\n",
      "Trainable params: 1,108,195\n",
      "Non-trainable params: 0\n",
      "_________________________________________________________________\n",
      "None\n"
     ]
    }
   ],
   "source": [
    "# 5 - Define your loss/optimizer/metrics\n",
    "\n",
    "# MODIFY CODE BELOW\n",
    "\n",
    "loss_classif     =  'categorical_crossentropy' \n",
    "optimizer        =  'adam'\n",
    "metrics_classif  =  ['accuracy']\n",
    "\n",
    "# Observe how easy (but blackboxed) this is in Keras\n",
    "model.compile(loss=loss_classif,\n",
    "              optimizer=optimizer,\n",
    "              metrics=metrics_classif)\n",
    "print(model.summary())"
   ]
  },
  {
   "cell_type": "code",
   "execution_count": 213,
   "metadata": {},
   "outputs": [
    {
     "name": "stdout",
     "output_type": "stream",
     "text": [
      "Train on 8544 samples, validate on 1101 samples\n",
      "Epoch 1/8\n",
      "8544/8544 [==============================] - 7s 852us/step - loss: 1.5847 - acc: 0.2578 - val_loss: 1.5717 - val_acc: 0.2579\n",
      "Epoch 2/8\n",
      "8544/8544 [==============================] - 3s 364us/step - loss: 1.5577 - acc: 0.3064 - val_loss: 1.5616 - val_acc: 0.2761\n",
      "Epoch 3/8\n",
      "8544/8544 [==============================] - 3s 371us/step - loss: 1.5005 - acc: 0.3558 - val_loss: 1.5050 - val_acc: 0.3415\n",
      "Epoch 4/8\n",
      "8544/8544 [==============================] - 3s 382us/step - loss: 1.3542 - acc: 0.4464 - val_loss: 1.4678 - val_acc: 0.3669\n",
      "Epoch 5/8\n",
      "8544/8544 [==============================] - 3s 377us/step - loss: 1.1787 - acc: 0.5210 - val_loss: 1.4770 - val_acc: 0.3560\n",
      "Epoch 6/8\n",
      "8544/8544 [==============================] - 3s 374us/step - loss: 1.0334 - acc: 0.5989 - val_loss: 1.5736 - val_acc: 0.3642\n",
      "Epoch 7/8\n",
      "8544/8544 [==============================] - 3s 398us/step - loss: 0.9133 - acc: 0.6572 - val_loss: 1.6814 - val_acc: 0.3642\n",
      "Epoch 8/8\n",
      "8544/8544 [==============================] - 3s 377us/step - loss: 0.7946 - acc: 0.7168 - val_loss: 1.8009 - val_acc: 0.3669\n"
     ]
    }
   ],
   "source": [
    "# 6 - Train your model and find the best hyperparameters for your dev set\n",
    "#     you will be evaluated on the quality of your predictions on the test set\n",
    "\n",
    "# ADAPT CODE BELOW\n",
    "bs = 120\n",
    "n_epochs = 8\n",
    "\n",
    "history = model.fit(x_train, keras.utils.to_categorical(train_y), batch_size=bs, epochs=n_epochs, \n",
    "                    validation_data=(x_dev, keras.utils.to_categorical(dev_y)))"
   ]
  },
  {
   "cell_type": "markdown",
   "metadata": {},
   "source": [
    "We have an overfitting problem as the training accuracy ends up much higher than the validation accuracy. On the graph below we can see that the network stops learning useful features and starts overfitting after 3 epochs.\n",
    "\n",
    "However regularization not only reduces learning rate but actually worsen the issue. Increasing dropout and decreasing the complexity of the model by reducing the number of hidden units don't seem to improve the results on the validation set either. After these infructuous attempts to reduce overfitting, we kept the overfitting model with the highest accuracy on validation set."
   ]
  },
  {
   "cell_type": "code",
   "execution_count": 218,
   "metadata": {},
   "outputs": [
    {
     "data": {
      "image/png": "[encoded data removed]",
      "text/plain": [
       "<Figure size 1152x576 with 1 Axes>"
      ]
     },
     "metadata": {},
     "output_type": "display_data"
    }
   ],
   "source": [
    "plt.plot(range(n_epochs), history.history[\"acc\"], \"--o\", label=\"Accuracy history\")\n",
    "plt.plot(range(n_epochs), history.history[\"val_acc\"], \"--o\", label=\"Validation accuracy history\")\n",
    "plt.legend()\n",
    "plt.show()"
   ]
  },
  {
   "cell_type": "code",
   "execution_count": 215,
   "metadata": {},
   "outputs": [],
   "source": [
    "# 7 - Generate your predictions on the test set using model.predict(x_test)\n",
    "#     https://keras.io/models/model/\n",
    "#     Log your predictions in a file (one line = one integer: 0,1,2,3,4)\n",
    "#     Attach the output file \"logreg_lstm_y_test_sst.txt\" to your deliverable.\n",
    "\n",
    "# TYPE CODE HERE\n",
    "enc_test = [keras.preprocessing.text.one_hot(s, split=' ', n=19600) for s in test_x]\n",
    "x_test = keras.preprocessing.sequence.pad_sequences(enc_test, padding='pre', maxlen=maxlen)\n",
    "y_test = np.argmax(model.predict(x_test), axis=1)\n",
    "np.savetxt(\"logreg_lstm_y_test_sst.txt\", y_test.astype('int'), encoding='utf-8', fmt='%d')"
   ]
  },
  {
   "cell_type": "markdown",
   "metadata": {},
   "source": [
    "## 4.3 -- innovate !"
   ]
  },
  {
   "cell_type": "code",
   "execution_count": 217,
   "metadata": {},
   "outputs": [
    {
     "name": "stdout",
     "output_type": "stream",
     "text": [
      "_________________________________________________________________\n",
      "Layer (type)                 Output Shape              Param #   \n",
      "=================================================================\n",
      "embedding_31 (Embedding)     (None, None, 56)          1097600   \n",
      "_________________________________________________________________\n",
      "bidirectional_2 (Bidirection (None, 120)               56160     \n",
      "_________________________________________________________________\n",
      "dense_30 (Dense)             (None, 5)                 605       \n",
      "=================================================================\n",
      "Total params: 1,154,365\n",
      "Trainable params: 1,154,365\n",
      "Non-trainable params: 0\n",
      "_________________________________________________________________\n",
      "None\n",
      "Train on 8544 samples, validate on 1101 samples\n",
      "Epoch 1/8\n",
      "8544/8544 [==============================] - 10s 1ms/step - loss: 1.5752 - acc: 0.2690 - val_loss: 1.5723 - val_acc: 0.2534\n",
      "Epoch 2/8\n",
      "8544/8544 [==============================] - 7s 794us/step - loss: 1.5588 - acc: 0.2924 - val_loss: 1.5417 - val_acc: 0.3206\n",
      "Epoch 3/8\n",
      "8544/8544 [==============================] - 8s 934us/step - loss: 1.4560 - acc: 0.3706 - val_loss: 1.4146 - val_acc: 0.3815\n",
      "Epoch 4/8\n",
      "8544/8544 [==============================] - 7s 826us/step - loss: 1.2682 - acc: 0.4551 - val_loss: 1.3802 - val_acc: 0.4124\n",
      "Epoch 5/8\n",
      "8544/8544 [==============================] - 6s 741us/step - loss: 1.0941 - acc: 0.5490 - val_loss: 1.4685 - val_acc: 0.3815\n",
      "Epoch 6/8\n",
      "8544/8544 [==============================] - 6s 713us/step - loss: 0.9432 - acc: 0.6244 - val_loss: 1.5140 - val_acc: 0.3688\n",
      "Epoch 7/8\n",
      "8544/8544 [==============================] - 6s 718us/step - loss: 0.8060 - acc: 0.6985 - val_loss: 1.6427 - val_acc: 0.3715\n",
      "Epoch 8/8\n",
      "8544/8544 [==============================] - 7s 797us/step - loss: 0.6944 - acc: 0.7422 - val_loss: 1.7603 - val_acc: 0.3660\n"
     ]
    }
   ],
   "source": [
    "# 8 - Open question: find a model that is better on your dev set\n",
    "#     (e.g: use a 1D ConvNet, use a better classifier, pretrain your lookup tables ..)\n",
    "#     you will get point if the results on the test set are better: be careful of not overfitting your dev set too much..\n",
    "#     Attach the output file \"XXX_XXX_y_test_sst.txt\" to your deliverable.\n",
    "\n",
    "embed_dim  = x_train.shape[1]\n",
    "nhid       = 60  # number of hidden units in the LSTM\n",
    "vocab_size = 19600  # size of the vocabulary\n",
    "n_classes  = 5\n",
    "\n",
    "model_2 = Sequential()\n",
    "model_2.add(Embedding(vocab_size, embed_dim))\n",
    "# model.add(LSTM(nhid, dropout=0.4, recurrent_dropout=0.4))\n",
    "model_2.add(Bidirectional(LSTM(nhid, dropout=0.5, recurrent_dropout=0.5), merge_mode='concat'))\n",
    "model_2.add(Dense(n_classes, activation='sigmoid'))\n",
    "\n",
    "loss_classif     =  'categorical_crossentropy' \n",
    "optimizer        =  'adam'\n",
    "metrics_classif  =  ['accuracy']\n",
    "\n",
    "model_2.compile(loss=loss_classif,\n",
    "                optimizer=optimizer,\n",
    "                metrics=metrics_classif)\n",
    "print(model_2.summary())\n",
    "\n",
    "bs = 120\n",
    "n_epochs = 8\n",
    "\n",
    "history_2 = model_2.fit(x_train, keras.utils.to_categorical(train_y), batch_size=bs, epochs=n_epochs, \n",
    "                        validation_data=(x_dev, keras.utils.to_categorical(dev_y)))"
   ]
  },
  {
   "cell_type": "code",
   "execution_count": 219,
   "metadata": {},
   "outputs": [
    {
     "data": {
      "image/png": "[encoded data removed]",
      "text/plain": [
       "<Figure size 1152x576 with 1 Axes>"
      ]
     },
     "metadata": {},
     "output_type": "display_data"
    }
   ],
   "source": [
    "plt.plot(range(n_epochs), history_2.history[\"acc\"], \"--o\", label=\"Accuracy history\")\n",
    "plt.plot(range(n_epochs), history_2.history[\"val_acc\"], \"--o\", label=\"Validation accuracy history\")\n",
    "plt.legend()\n",
    "plt.show()"
   ]
  },
  {
   "cell_type": "code",
   "execution_count": null,
   "metadata": {},
   "outputs": [],
   "source": []
  }
 ],
 "metadata": {
  "kernelspec": {
   "display_name": "Python 3",
   "language": "python",
   "name": "python3"
  },
  "language_info": {
   "codemirror_mode": {
    "name": "ipython",
    "version": 3
   },
   "file_extension": ".py",
   "mimetype": "text/x-python",
   "name": "python",
   "nbconvert_exporter": "python",
   "pygments_lexer": "ipython3",
   "version": "3.6.6"
  }
 },
 "nbformat": 4,
 "nbformat_minor": 1
}
