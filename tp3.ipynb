{
 "cells": [
  {
   "cell_type": "markdown",
   "metadata": {},
   "source": [
    "**You may need to install [OpenCV](https://pypi.python.org/pypi/opencv-python) and [scikit-video](http://www.scikit-video.org/stable/).**"
   ]
  },
  {
   "cell_type": "code",
   "execution_count": 1,
   "metadata": {},
   "outputs": [
    {
     "name": "stderr",
     "output_type": "stream",
     "text": [
      "Using TensorFlow backend.\n"
     ]
    }
   ],
   "source": [
    "import keras\n",
    "import numpy as np\n",
    "import io\n",
    "import base64\n",
    "from IPython.display import HTML\n",
    "import skvideo.io\n",
    "import cv2\n",
    "import json\n",
    "\n",
    "from keras.models import Sequential,model_from_json\n",
    "from keras.layers.core import Dense\n",
    "from keras.optimizers import sgd\n",
    "from keras.layers import Conv2D, MaxPooling2D, Activation, AveragePooling2D,Reshape,BatchNormalization"
   ]
  },
  {
   "cell_type": "code",
   "execution_count": 3,
   "metadata": {},
   "outputs": [],
   "source": [
    "import pandas as pd\n",
    "import numpy as np\n",
    "import matplotlib.pyplot as plt\n",
    "import matplotlib.patches as mpatches\n",
    "import seaborn as sns\n",
    "import pylab\n",
    "import re\n",
    "import csv\n",
    "from IPython.display import display, HTML  # To display correct tables\n",
    "from pprint import pprint\n",
    "plt.style.use('ggplot')\n",
    "pylab.rcParams['figure.figsize'] = (16.0, 8.0)\n",
    "cp = sns.color_palette()\n",
    "\n",
    "def figsize(width, height):\n",
    "    pylab.rcParams['figure.figsize'] = (width, height)\n"
   ]
  },
  {
   "cell_type": "markdown",
   "metadata": {},
   "source": [
    "# MiniProject #3: Deep Reinforcement Learning"
   ]
  },
  {
   "cell_type": "markdown",
   "metadata": {},
   "source": [
    "__Notations__: $E_p$ is the expectation under probability $p$. Please justify each of your answer and widely comment your code."
   ]
  },
  {
   "cell_type": "markdown",
   "metadata": {},
   "source": [
    "# Context"
   ]
  },
  {
   "cell_type": "markdown",
   "metadata": {},
   "source": [
    "In a reinforcement learning algorithm, we modelize each step $t$ as an action $a_t$ obtained from a state $s_t$, i.e. $\\{(a_{t},s_{t})_{t\\leq T}\\}$ having the Markov property. We consider a discount factor $\\gamma \\in [0,1]$ that ensures convergence. The goal is to find among all the policies $\\pi$, one that maximizes the expected reward:\n",
    "\n",
    "\\begin{equation*}\n",
    "R(\\pi)=\\sum_{t\\leq T}E_{p^{\\pi}}[\\gamma^t r(s_{t},a_{t})] \\> ,\n",
    "\\end{equation*}\n",
    "\n",
    "where: \n",
    "\\begin{equation*}p^{\\pi}(a_{0},a_{1},s_{1},...,a_{T},s_{T})=p(a_{0})\\prod_{t=1}^{T}\\pi(a_{t}|s_{t})p(s_{t+1}|s_{t},a_{t}) \\> .\n",
    "\\end{equation*}\n",
    "\n",
    "We note the $Q$-function:\n",
    "\n",
    "\\begin{equation*}Q^\\pi(s,a)=E_{p^{\\pi}}[\\sum_{t\\leq T}\\gamma^{t}r(s_{t},a_{t})|s_{0}=s,a_{0}=a] \\> .\n",
    "\\end{equation*}\n",
    "\n",
    "Thus, the optimal Q function is:\n",
    "\\begin{equation*}\n",
    "Q^*(s,a)=\\max_{\\pi}Q^\\pi(s,a) \\> .\n",
    "\\end{equation*}\n",
    "\n",
    "In this project, we will apply the deep reinforcement learning techniques to a simple game: an agent will have to learn from scratch a policy that will permit it maximizing a reward."
   ]
  },
  {
   "cell_type": "markdown",
   "metadata": {},
   "source": [
    "## The environment, the agent and the game"
   ]
  },
  {
   "cell_type": "markdown",
   "metadata": {},
   "source": [
    "### The environment"
   ]
  },
  {
   "cell_type": "markdown",
   "metadata": {},
   "source": [
    "```Environment``` is an abstract class that represents the states, rewards, and actions to obtain the new state."
   ]
  },
  {
   "cell_type": "code",
   "execution_count": 4,
   "metadata": {},
   "outputs": [],
   "source": [
    "class Environment(object):\n",
    "    def __init__(self):\n",
    "        pass\n",
    "\n",
    "    def act(self, act):\n",
    "        \"\"\"\n",
    "        One can act on the environment and obtain its reaction:\n",
    "        - the new state\n",
    "        - the reward of the new state\n",
    "        - should we continue the game?\n",
    "\n",
    "        :return: state, reward, game_over\n",
    "        \"\"\"\n",
    "        pass\n",
    "\n",
    "\n",
    "    def reset(self):\n",
    "        \"\"\"\n",
    "        Reinitialize the environment to a random state and returns\n",
    "        the original state\n",
    "\n",
    "        :return: state\n",
    "        \"\"\"\n",
    "        pass\n",
    "    \n",
    "    def draw(self):\n",
    "        \"\"\"\n",
    "        Visualize in the console or graphically the current state\n",
    "        \"\"\"\n",
    "        pass"
   ]
  },
  {
   "cell_type": "markdown",
   "metadata": {},
   "source": [
    "The method ```act``` allows to act on the environment at a given state $s_t$ (stored internally), via action $a_t$. The method will return the new state $s_{t+1}$, the reward $r(s_{t},a_{t})$ and determines if $t\\leq T$ (*game_over*).\n",
    "\n",
    "The method ```reset``` simply reinitializes the environment to a random state $s_0$.\n",
    "\n",
    "The method ```draw``` displays the current state $s_t$ (this is useful to check the behavior of the Agent).\n",
    "\n",
    "We modelize $s_t$ as a tensor, while $a_t$ is an integer."
   ]
  },
  {
   "cell_type": "markdown",
   "metadata": {},
   "source": [
    "### The Agent"
   ]
  },
  {
   "cell_type": "markdown",
   "metadata": {},
   "source": [
    "The goal of the ```Agent``` is to interact with the ```Environment``` by proposing actions $a_t$ obtained from a given state $s_t$ to attempt to maximize its __reward__ $r(s_t,a_t)$. We propose the following abstract class:"
   ]
  },
  {
   "cell_type": "code",
   "execution_count": 5,
   "metadata": {},
   "outputs": [],
   "source": [
    "class Agent(object):\n",
    "    def __init__(self, epsilon=0.1, n_action=4):\n",
    "        self.epsilon = epsilon\n",
    "        self.n_action = n_action\n",
    "    \n",
    "    def set_epsilon(self,e):\n",
    "        self.epsilon = e\n",
    "\n",
    "    def act(self,s,train=True):\n",
    "        \"\"\" This function should return the next action to do:\n",
    "        an integer between 0 and 4 (not included) with a random exploration of epsilon\"\"\"\n",
    "        if train:\n",
    "            if np.random.rand() <= self.epsilon:\n",
    "                a = np.random.randint(0, self.n_action, size=1)[0]\n",
    "            else:\n",
    "                a = self.learned_act(s)\n",
    "        else: # in some cases, this can improve the performance.. remove it if poor performances\n",
    "            a = self.learned_act(s)\n",
    "\n",
    "        return a\n",
    "\n",
    "    def learned_act(self,s):\n",
    "        \"\"\" Act via the policy of the agent, from a given state s\n",
    "        it proposes an action a\"\"\"\n",
    "        pass\n",
    "\n",
    "    def reinforce(self, s, n_s, a, r, game_over_):\n",
    "        \"\"\" This function is the core of the learning algorithm. \n",
    "        It takes as an input the current state s_, the next state n_s_\n",
    "        the action a_ used to move from s_ to n_s_ and the reward r_.\n",
    "        \n",
    "        Its goal is to learn a policy.\n",
    "        \"\"\"\n",
    "        pass\n",
    "\n",
    "    def save(self):\n",
    "        \"\"\" This function returns basic stats if applicable: the\n",
    "        loss and/or the model\"\"\"\n",
    "        pass\n",
    "\n",
    "    def load(self):\n",
    "        \"\"\" This function allows to restore a model\"\"\"\n",
    "        pass"
   ]
  },
  {
   "cell_type": "markdown",
   "metadata": {},
   "source": [
    "***\n",
    "__Question 1__:\n",
    "Explain the function act. Why is ```epsilon``` essential?"
   ]
  },
  {
   "cell_type": "markdown",
   "metadata": {},
   "source": [
    "> `epsilon` is essential because it dictates the balance between exploitation and exploration. If it is too large, the agent will explore all the possibilities without exploiting the information it has gathered so while the policy might improve, it will not be used to its full potential. On the other hand if `epsilon` is too little, not exploration will be performed and the agent will get stucked in a sub-optimal policy."
   ]
  },
  {
   "cell_type": "markdown",
   "metadata": {},
   "source": [
    "***\n",
    "### The Game"
   ]
  },
  {
   "cell_type": "markdown",
   "metadata": {},
   "source": [
    "The ```Agent``` and the ```Environment``` work in an interlaced way as in the following (take some time to understand this code as it is the core of the project)\n",
    "\n",
    "```python\n",
    "\n",
    "epoch = 300\n",
    "env = Environment()\n",
    "agent = Agent()\n",
    "\n",
    "\n",
    "# Number of won games\n",
    "score = 0\n",
    "loss = 0\n",
    "\n",
    "\n",
    "for e in range(epoch):\n",
    "    # At each epoch, we restart to a fresh game and get the initial state\n",
    "    state = env.reset()\n",
    "    # This assumes that the games will end\n",
    "    game_over = False\n",
    "\n",
    "    win = 0\n",
    "    lose = 0\n",
    "    \n",
    "    while not game_over:\n",
    "        # The agent performs an action\n",
    "        action = agent.act(state)\n",
    "\n",
    "        # Apply an action to the environment, get the next state, the reward\n",
    "        # and if the games end\n",
    "        prev_state = state\n",
    "        state, reward, game_over = env.act(action)\n",
    "\n",
    "        # Update the counters\n",
    "        if reward > 0:\n",
    "            win = win + reward\n",
    "        if reward < 0:\n",
    "            lose = lose -reward\n",
    "\n",
    "        # Apply the reinforcement strategy\n",
    "        loss = agent.reinforce(prev_state, state,  action, reward, game_over)\n",
    "\n",
    "    # Save as a mp4\n",
    "    if e % 10 == 0:\n",
    "        env.draw(e)\n",
    "\n",
    "    # Update stats\n",
    "    score += win-lose\n",
    "\n",
    "    print(\"Epoch {:03d}/{:03d} | Loss {:.4f} | Win/lose count {}/{} ({})\"\n",
    "          .format(e, epoch, loss, win, lose, win-lose))\n",
    "    agent.save()\n",
    "```"
   ]
  },
  {
   "cell_type": "markdown",
   "metadata": {},
   "source": [
    "# The game, *eat cheese*"
   ]
  },
  {
   "cell_type": "markdown",
   "metadata": {},
   "source": [
    "A rat runs on an island and tries to eat as much as possible. The island is subdivided into $N\\times N$ cells, in which there are cheese (+0.5) and poisonous cells (-1). The rat has a visibility of 2 cells (thus it can see $5^2$ cells). The rat is given a time $T$ to accumulate as much food as possible. It can perform 4 actions: going up, down, left, right. \n",
    "\n",
    "The goal is to code an agent to solve this task that will learn by trial and error. We propose the following environment:"
   ]
  },
  {
   "cell_type": "code",
   "execution_count": 6,
   "metadata": {},
   "outputs": [],
   "source": [
    "class Environment(object):\n",
    "    def __init__(self, grid_size=10, max_time=500, temperature=0.1):\n",
    "        grid_size = grid_size + 4\n",
    "        self.grid_size = grid_size\n",
    "        self.max_time = max_time\n",
    "        self.temperature = temperature\n",
    "\n",
    "        #board on which one plays\n",
    "        self.board = np.zeros((grid_size,grid_size))\n",
    "        self.position = np.zeros((grid_size,grid_size))\n",
    "\n",
    "        # coordinate of the cat\n",
    "        self.x = 0\n",
    "        self.y = 1\n",
    "\n",
    "        # self time\n",
    "        self.t = 0\n",
    "\n",
    "        self.scale=16\n",
    "\n",
    "        self.to_draw = np.zeros((max_time + 2, grid_size*self.scale, grid_size * self.scale, 3))\n",
    "\n",
    "\n",
    "    def draw(self,e):\n",
    "        skvideo.io.vwrite(str(e) + '.mp4', self.to_draw)\n",
    "\n",
    "    def get_frame(self,t):\n",
    "        b = np.zeros((self.grid_size, self.grid_size,3)) + 128\n",
    "        b[self.board > 0, 0] = 256\n",
    "        b[self.board < 0, 2] = 256\n",
    "        b[self.x,self.y,:] = 256\n",
    "        b[-2:, :, :] = 0\n",
    "        b[:, -2:, :] = 0\n",
    "        b[:2, :, :] = 0\n",
    "        b[:, :2, :] = 0\n",
    "        \n",
    "        b =  cv2.resize(b, None, fx=self.scale, fy=self.scale, interpolation=cv2.INTER_NEAREST)\n",
    "\n",
    "        self.to_draw[t, :, :, :]=b\n",
    "\n",
    "\n",
    "    def act(self, action):\n",
    "        \"\"\"This function returns the new state, reward and decides if the\n",
    "        game ends.\"\"\"\n",
    "\n",
    "        self.get_frame(int(self.t))\n",
    "\n",
    "        self.position = np.zeros((self.grid_size, self.grid_size))\n",
    "\n",
    "        self.position[0:2, :]= -1\n",
    "        self.position[:, 0:2] = -1\n",
    "        self.position[-2:, :] = -1\n",
    "        self.position[:, -2:] = -1  # Has been modified from self.position[-2:, :] = -1\n",
    "\n",
    "        self.position[self.x, self.y] = 1\n",
    "        if action == 0:\n",
    "            if self.x == self.grid_size - 3:\n",
    "                self.x = self.x - 1\n",
    "            else:\n",
    "                self.x = self.x + 1\n",
    "        elif action == 1:\n",
    "            if self.x == 2:\n",
    "                self.x = self.x + 1\n",
    "            else:\n",
    "                self.x = self.x - 1\n",
    "        elif action == 2:\n",
    "            if self.y == self.grid_size - 3:\n",
    "                self.y = self.y - 1\n",
    "            else:\n",
    "                self.y = self.y + 1\n",
    "        elif action == 3:\n",
    "            if self.y == 2:\n",
    "                self.y = self.y + 1\n",
    "            else:\n",
    "                self.y = self.y - 1\n",
    "        else:\n",
    "            RuntimeError('Error: action not recognized')\n",
    "\n",
    "        self.t = self.t + 1\n",
    "        reward = self.board[self.x, self.y]\n",
    "        self.board[self.x, self.y] = 0\n",
    "        game_over = self.t > self.max_time\n",
    "        state = np.concatenate((self.board.reshape(self.grid_size, self.grid_size,1),\n",
    "                                self.position.reshape(self.grid_size, self.grid_size,1)),axis=2)\n",
    "        state = state[self.x-2:self.x+3,self.y-2:self.y+3,:]\n",
    "\n",
    "        return state, reward, game_over\n",
    "\n",
    "    def reset(self):\n",
    "        \"\"\"This function resets the game and returns the initial state\"\"\"\n",
    "\n",
    "        self.x = np.random.randint(3, self.grid_size-3, size=1)[0]\n",
    "        self.y = np.random.randint(3, self.grid_size-3, size=1)[0]\n",
    "\n",
    "\n",
    "        bonus = 0.5 * np.random.binomial(1, self.temperature, size=self.grid_size**2)\n",
    "        bonus = bonus.reshape(self.grid_size, self.grid_size)\n",
    "\n",
    "        malus = -1.0 * np.random.binomial(1, self.temperature, size=self.grid_size**2)\n",
    "        malus = malus.reshape(self.grid_size, self.grid_size)\n",
    "\n",
    "        self.to_draw = np.zeros((self.max_time+2, self.grid_size*self.scale, self.grid_size*self.scale, 3))\n",
    "\n",
    "\n",
    "        malus[bonus > 0] = 0\n",
    "\n",
    "        self.board = bonus + malus\n",
    "\n",
    "        self.position = np.zeros((self.grid_size, self.grid_size))\n",
    "        self.position[0:2, :]= -1\n",
    "        self.position[:, 0:2] = -1\n",
    "        self.position[-2:, :] = -1\n",
    "        self.position[:, -2:] = -1  # Has been modified from self.position[-2:, :] = -1\n",
    "        self.board[self.x, self.y] = 0\n",
    "        self.t = 0\n",
    "\n",
    "        state = np.concatenate((\n",
    "                               self.board.reshape(self.grid_size, self.grid_size,1),\n",
    "                        self.position.reshape(self.grid_size, self.grid_size,1)),axis=2)\n",
    "\n",
    "        state = state[self.x - 2:self.x + 3, self.y - 2:self.y + 3, :]\n",
    "        return state"
   ]
  },
  {
   "cell_type": "markdown",
   "metadata": {},
   "source": [
    "The following elements are important because they correspond to the hyper parameters for this project:"
   ]
  },
  {
   "cell_type": "code",
   "execution_count": 7,
   "metadata": {},
   "outputs": [],
   "source": [
    "# parameters\n",
    "size = 13\n",
    "T = 200\n",
    "temperature = 0.3\n",
    "epochs_train = 5 # set small when debugging\n",
    "epochs_test = 2 # set small when debugging\n",
    "\n",
    "# display videos\n",
    "def display_videos(name):\n",
    "    video = io.open(name, 'r+b').read()\n",
    "    encoded = base64.b64encode(video)\n",
    "    return '''<video alt=\"test\" controls>\n",
    "                <source src=\"data:video/mp4;base64,{0}\" type=\"video/mp4\" />\n",
    "             </video>'''.format(encoded.decode('ascii'))"
   ]
  },
  {
   "cell_type": "markdown",
   "metadata": {},
   "source": [
    "__Question 2__ Explain the use of the arrays ```position``` and ```board```."
   ]
  },
  {
   "cell_type": "markdown",
   "metadata": {},
   "source": [
    "> The `position` is a `N + 4` by `N + 4` array (where `N` is the real grid size) containing: \n",
    "> - 1 where the rat is\n",
    "> - -1 outside the real board (on the border of width 2)\n",
    "> - 0 on the other squares\n",
    ">\n",
    "> The -1 squares on the board allows the mouse to detect the borders of the board. This is usually used because the neural network will always chose between the 4 actions so it has to learn not to go off-board. In this case though if the rat tries to go off-board, it will go in the opposite direction.\n",
    ">\n",
    "> The `board` contains the information about the cheese and poisonous cells positions. If a cell contains a cheese its value is 0.5, if it contains poison its value is -1.0 and otherwise it's 0 (during initialization if there is cheese in a cell, there cannot be poison in the same cell)."
   ]
  },
  {
   "cell_type": "markdown",
   "metadata": {},
   "source": [
    "## Random Agent"
   ]
  },
  {
   "cell_type": "markdown",
   "metadata": {},
   "source": [
    "***\n",
    "__Question 3__ Implement a random Agent (only ```learned_act``` needs to be implemented):"
   ]
  },
  {
   "cell_type": "code",
   "execution_count": 8,
   "metadata": {},
   "outputs": [],
   "source": [
    "class RandomAgent(Agent):\n",
    "    def __init__(self):\n",
    "        super(RandomAgent, self).__init__()\n",
    "        pass\n",
    "\n",
    "    def learned_act(self, s):\n",
    "        return np.random.choice(range(self.n_action))"
   ]
  },
  {
   "cell_type": "markdown",
   "metadata": {},
   "source": [
    "***\n",
    "***\n",
    "__Question 4__ Visualize the game moves. You need to fill in the following function for the evaluation:"
   ]
  },
  {
   "cell_type": "code",
   "execution_count": 9,
   "metadata": {},
   "outputs": [],
   "source": [
    "def test(agent, env, epochs, prefix=''):\n",
    "    # Number of won games\n",
    "    score = 0\n",
    "        \n",
    "    for e in range(epochs):\n",
    "        state = env.reset()\n",
    "        game_over = False\n",
    "        \n",
    "        win = 0\n",
    "        lose = 0\n",
    "        \n",
    "        while not game_over:\n",
    "            action = agent.act(state)\n",
    "            \n",
    "            prev_state = state\n",
    "            state, reward, game_over = env.act(action)\n",
    "            \n",
    "            if reward > 0:\n",
    "                win = win + reward\n",
    "            else:\n",
    "                lose = lose - reward\n",
    "                \n",
    "            loss = agent.reinforce(prev_state, state, action, reward, game_over)\n",
    "        \n",
    "        # Save as a mp4\n",
    "        env.draw(prefix + str(e))\n",
    "\n",
    "        # Update stats\n",
    "        score += win - lose\n",
    "\n",
    "        print(\"Win/lose count {}/{}. Average score ({})\"\n",
    "              .format(win, lose, score / (1 + e)))\n",
    "    print('Final score: ' + str(score / epochs))"
   ]
  },
  {
   "cell_type": "code",
   "execution_count": 10,
   "metadata": {},
   "outputs": [
    {
     "name": "stdout",
     "output_type": "stream",
     "text": [
      "Win/lose count 12.5/18.0. Average score (-5.5)\n",
      "Win/lose count 7.0/24.0. Average score (-11.25)\n",
      "Final score: -11.25\n"
     ]
    },
    {
     "data": {
      "text/html": [
       "<video alt=\"test\" controls>\n",
       "                <source src=\"data:video/mp4;base64,AAAAHGZ0eXBpc29tAAACAGlzb21pc28ybXA0MQAAAAhmcmVlAAChlG1kYXQAAAGzABAHAAABthBgUYI9t/G238bbfxtt/G238bbfxtt/G238bbfxtt/G238bbfxtt/G238bbfxtt/G238bbfxtt/G236G239huDXI22/7DcGsbbfkbbf9huDWNtvyNtv+w3BqRtt/2G4NY22/jbb8jbb/sNwaxtt+Rtt/2G4NY22/jbb+Ntv422/jB3Nv0M42wdysNwrFiMatsC1Awe03RrGF5thmCORhhbYWA7lYbhWRhebYZgkdhuDUjDC2wsB3Kw3CtjbbvYbgxdlYbhXGF5thkCQRtt/2G4NSMMLbCwHcrDcK4wvNsMwSCMMLbCwHjtN0axgXBthmCPG234AAIzEjBHtv422/Iwdzb/sNwaobbfyGoNMjDC2wsB45TVGiGF5thn2G4NQRyNtv+Q1BoRhhbYWA8dpujUjC82wzBH5DUGjGcbYO5WG4Vi6xIFUZNtgkDBGGFthYDuVhuFZGF5thmCRyGoNI22/IwwtsLAeOU1RpGBcG2GYI8bbfxtt/G237GGFthb2G4MXA7lYbhXGF5thkCQRhebYZgkFQbBUhnG2DuVhuFYtGTbYJAyxtt3sNwYu+U1RoRtt/2G4NUMm2wSSoNgqGCNtv+w3BqRhebYZgkchqDSNtv422/YwvNsM+ksGoI/Iag0jbb+Ntv422/jbb9jFTbAySsNwrBAWJAqjbbBIGGMMLbC3sNwYuB2Kw3CtjC82wSOEkGgJHYbg1I22/7DcGrGKm2BklYbhWBfrEgVEYYW2Bag/lYbhWxiptgZRWG4VggLEgVEY1bYFqBgdpujUjC82wzBH7DcGsbbfobbf2G4NdDONsHcrDcKxaNtsEgZjbb+Ntv422/QybbBI5DUGgxG237GKm2BldpujF4F/yGoNCMMLbAtAMHtN0akbbf9pujVDC82wSSoNgqBHIwvNsMwSOQ1BoxhhbYFtyGoMHA/lYbhWRtt/ymqNGMMLbC3sNwYuB3Kw3CuMLzbDIEhDONsHcrDcKxZDJtsEkqDYKhmNtv422/cAAJ3EjBHtv422/Iwdzb/sNwakbbf9huDWM42weBaMatsC0AwSNtv+U1RohiptgZRWG4VgXxGTbYJAz2G4NWNtv6Swa/Iag0I22/5DUGjGcbYO5WG4Vi6xIFUZNtgkDCG23SoNgq0M42wd+03RqLRghW2COMxtt/G238bbfkYYW2FgPHabo1I22+FYbhWhipt/Kao0AvyNtv+U1RoRhebYZgj8hqDRjbbBI4SQaDPYbg1YwwtsLew3Bi4HcrDcK0MVNsDJKw3CsC/jJtsEgZQybbBJKg2CoYI22/7DcGqGcbYOxWG4ViyG238pqjTjbb+Ntv422/jbb+NtvyMLzbDMEkqDYKmMHa2wR+EkGgz2G4NSMEk2wzBIKg2CqNtvyMMLbCwHjtN0asYqbYGX2m6MXgX3Iag0QybbBH5DUGgzG236GcbYO/abo1FiMatsC0AwCsNwrQwvNsEkqDYKgSENtuchqDTjbb+Ntv0AAKqEjBHtv422/IwMe2wsB45TVGhG23/abo1I22/7TdGpG23wrDcK0MLzbDPsNwagkRhhbYWA8MYqbYGXymqMHgX3Ybg1QybbBH7DcGozG236GcbYPHKao0FmMm2wR+ksGozyGoNEM42wdysNwrFoybbBIGYwSLb+Ntv422/jbb9jC82wz6Swagj8hqDQjDC2wsB45TVGkbbfkYXm2GYJJUGwVIZxtg7lYbhWLEbbYFr8pqjRjGrbAtSoFQDBUBgFYbhWxiptgZJWG4VggLEgVIZNtgkdhuDUYQybbBH5DUGgyxnG2DuVhuFYusSBUxk22CRwkg0Gew3BrG238bbfxtt/G238bbfsZxtg7lYbhWLrEgVEYXm2CQCPyGoNIwwtsLAeCMMLbCwHftN0asYXm2CRwkg0BH7DcGrGF5thn0lg1BH5DUGjGcbYO5WG4Vi6xIFTGNW2BbFQKgGCoH8rDcK0MVNsDK7TdGoF+Rk22COM9huDVjGrbAtuQ1Bg4DA7TdGpG23IVhuFZGF5thmCR2G4NY22/jbb+Ntv422/Yxq2wLbkNQYOAwO03RqRhebYZAj9huDVjbbvYbgxd8pqjQjbbnymqNCMMLbCwHcrDcK0MVNsDL7TdGoF+hk22CPyGoNBljFTbAySsNwrBAWJAqY22/lNUYP+w3BqRhhbYWA8dpujWNtvyMLzbDMEjkNQaEYYW2FgO5WG4VxtthmCRG237wAAu4SMEe2/jbb8jAx7bCwHjlNUaEbbfCsNwrYxU2wMorDcKwQFiQKiMm2wSBjkNQaEbbf8hqDRDONsHjlNUaC0ZNtgjjKG238hqDTYwwtsLeQ1Bg4HcrDcKyNtuXlNUaEbbf8pqjSMLzbDMEcjbb/kNQaRgkW38bbfxtt/G235GBcG2GYI/Iag0I22/5DUGiG22CRyGoNBiNtv422/Q22wR+Q1BoMxtt/G235G22GQJHIag0I22/5DUGhG23/Iag0jbb+Ntv422/jbb+Ntv422/jbb+Ntv422/jbb+Ntv422/jbb+Ntv422/jbb+Ntv422/jbb+Ntv422/fwAAAbZQ8CP////////fAACMxP///xe///////+/AACdxP/////8LgBYyo7Jf/0AAKqE8XACjP//x+M////xe/8Xvi9//78AALuE////////7wAAAbZRYCP////////fAACMxP//////////9wAAncT//////H4Uj+nf/gAAqoTxcAKDDMMYOtt///4/p3///////gAAu4T////////vAAABtlHwI////////98AAIzE///////////3AACdxP///////+8AAKqE+PACwp//8CDB1tv+w3Br///////3AAC7hP///////+8AAAG2UmAj////////3wAAjMT///////////cAAJ3E////////7wAAqoT///3gBf//eAF//8f3U9Qv/+8AALuE////////7wAAAbZS8CP////////fAACMxP//////////9wAAncT////////vAACqhP/////+8AKBjB1tv4SQafYbg1////4AALuE////////7wAAAbZTYCP////////fAACMxP//////////9wAAncT////////vAACqhP//////FgBfEwyC4AWOwLgwzHQFgYZf///7AAC7hP///////+8AAAG2U/Aj////////3wAAjMT///////////cAAJ3E////////7wAAqoT+Pxn//4EGDrbf8hqDT//xYAWOwLwa////7wAAu4T////////vAAABtlRgI////////98AAIzE///////////3AACdxP///////+8AAKqE/x+FX//Ag5bf8hqDQLgBcHQFhl2r0a//+P3////3AAC7hP///////+8AAAG2VPAj////////3wAAjMT///////////cAAJ3E////////7wAAqoT/H/CQX8q1Gn//C4AXB0BYZdq9GoXAC6OwLjMZf/+L6Nf///0AALuE////////7wAAAbZVYCP////////fAACMxP//////////9wAAncT////////vAACqhP///4DGDrbdKg2CrC4AXR2BcZjL//////4AALuE////////7wAAAbZV8CP////////fAACMxP//////////9wAAncT////////vAACqhP///4XACxl2r0a//+LgBaOyX//xf2r0a/4AALuE////////7wAAAbMAEAcAAAG2FmBRgj238bbfxtt/G238bbfxtt/G238bbfxtt/G238bbfxtt/G238bbfxtt/G238bbfxtt/G238bbfobbf2G4Ncjbb/sNwaxtt+Rtt/2G4NY22/I22/7DcGpG23/Ybg1jbb+NtvyNtv+w3BrG235G23/Ybg1jbb+Ntv422/jbb+MHc2/QzjbB3Kw3CsWIxq2wLUDB7TdGsYXm2GYI5GGFthYDuVhuFZGF5thmCR2G4NSMMLbCwHcrDcK2Ntu9huDF2VhuFcYXm2GQJBG23/Ybg1IwwtsLAdysNwrjC82wzBIIwwtsLAeO03RrGBcG2GYI8bbfgAAjMSMEe2/jbb8jB3Nv+w3Bqhtt/Iag0yMMLbCwHjlNUaIYXm2GfYbg1BHI22/5DUGhGGFthYDx2m6NSMLzbDMEfkNQaMZxtg7lYbhWLrEgVRk22CQMEYYW2FgO5WG4VkYXm2GYJHIag0jbb8jDC2wsB45TVGkYFwbYZgjxtt/G238bbfsYYW2FvYbgxcDuVhuFcYXm2GQJBGF5thmCQVBsFSGcbYO5WG4Vi0ZNtgkDLG23ew3Bi75TVGhG23/Ybg1QybbBJKg2CoYI22/7DcGpGF5thmCRyGoNI22/jbb9jC82wz6Swagj8hqDSNtv422/jbb+Ntv2MVNsDJKw3CsEBYkCqNtsEgYYwwtsLew3Bi4HYrDcK2MLzbBI4SQaAkdhuDUjbb/sNwasYqbYGSVhuFYF+sSBURhhbYFqD+VhuFbGKm2BlFYbhWCAsSBURjVtgWoGB2m6NSMLzbDMEfsNwaxtt+htt/Ybg10M42wdysNwrFo22wSBmNtv422/jbb9DJtsEjkNQaDEbbfsYqbYGV2m6MXgX/Iag0IwwtsC0Awe03RqRtt/2m6NUMLzbBJKg2CoEcjC82wzBI5DUGjGGFtgW3IagwcD+VhuFZG23/Kao0YwwtsLew3Bi4HcrDcK4wvNsMgSEM42wdysNwrFkMm2wSSoNgqGY22/jbb9wAAncSMEe2/jbb8jB3Nv+w3BqRtt/2G4NYzjbB4Foxq2wLQDBI22/5TVGiGKm2BlFYbhWBfEZNtgkDPYbg1Y22/pLBr8hqDQjbb/kNQaMZxtg7lYbhWLrEgVRk22CQMIbbdKg2CrQzjbB37TdGotGCFbYI4zG238bbfxtt+RhhbYWA8dpujUjbb4VhuFaGKm38pqjQC/I22/5TVGhGF5thmCPyGoNGNtsEjhJBoM9huDVjDC2wt7DcGLgdysNwrQxU2wMkrDcKwL+Mm2wSBlDJtsEkqDYKhgjbb/sNwaoZxtg7FYbhWLIbbfymqNONtv422/jbb+Ntv422/IwvNsMwSSoNgqQ22wR+Q1BoMkYXm2GYI/Iag0jbb8jDC2wsB47TdGrGKm2Bl9pujF4F9yGoNEMm2wR+Q1BoMxtt+hnG2Dv2m6NRYjGrbAtAMArDcK0MLzbBJKg2CoEhDbbnIag0422/jbb9/AACqhIwR7b+NtvyMDHtsLAeOU1RoRtt/2m6NSMLzbDMEfsNwaxtt+htt/Ybg1yMMLbCwHjlNUaIYqbYGXymqNAL6Mm2wRxmNtv0M42weOU1RoLMZNtgj9JYNRnkNQaIZxtg7lYbhWLRk22CQMxgkW38bbfxtt/G237GF5thn0lg1BH5DUGhGGFthYDxymqNCMMLbCwHjtN0axhebYZgjoZxtg7lYbhWLEYXm2CQCPyGoNENtsEfkNQaDJG23/Ybg1Q22/sNwa6GTbYI/Iag0GWM42wdysNwrF1iQKmMm2wSOEkGgz2G4NY22/jbb+Ntv422/jbb9jONsHcrDcKxdYkCojC82wSAR+Q1BpGGFthYDwRtt/2G4NWMm2wSOEkGgz2G4NUMHa2/sNwa8YJJt+xhhbYW9huDFwO5WG4VoYqbYGV2m6NQL8jJtsEcZ7DcGrGNW2BbchqDBwGB2m6NSNtuQrDcKyMLzbDMEjsNwaxtt/G238bbfxtt+xjVtgW3IagwcBgdpujUjC82wyBH7DcGrG23ew3Bi75TVGhGGFthYDuVhuFZG235WG4VoYJ5tgZfabo1Av422wRxljFTbAySsNwrBAWJAqY22/lNUYP+w3BqRhhbYWA8dpujWNtvyMLzbDMEjkNQaEYYW2FgO5WG4VxtthmCRG237AAC7hIwR7b+NtvyMDHtsLAeOU1RoRtt8Kw3CtjFTbAyisNwrBAWJAqIybbBIGOQ1BoRtt/yGoNEM42weOU1RoLRk22COMobbfyGoNNjDC2wt5DUGDgdysNwrI225eU1RoRtt/ymqNIwvNsMwRyNtv+Q1BpGCRbfxtt/G238bbfkYFwbYZgj8hqDQjbb/kNQaIbbYJHIag0GI22/jbb9DbbBH5DUGgzG238bbfkbbYZAkchqDQjbb/kNQaEbbf8hqDSNtv422/jbb+Ntv422/jbb+Ntv422/jbb+Ntv422/jbb+Ntv422/jbb+Ntv422/jbb+Ntv422/jbb9/AAABtlbwJf///////98AAEZif///i9///////98AAE7if///////9wAAVUJ//////4XAxjoCwMMhkLAxjLxe/8Xvi9//7wAAXcJ////////3AAABtldgI////////98AAIzE///////////3AACdxP///////+8AAKqE//////8Bjlt/Iag0///C8AK2SjP/3wAAu4T8f9q9Gv//////+wAAAbZX8CP////////fAACMxP//////////9wAAncT////////vAACqhP////////+LgBe1ejX/3wAAu4T94AX///////cAAAG2WGAj////////3wAAjMT///////////cAAJ3E////////7wAAqoT///////////cAALuE+BBg623/Iag0eAF///////0AAAG2WPAj////////3wAAjMT///////////cAAJ3E////////7wAAqoT///////////cAALuE+BBy2/5DUGgYwdrb////////fwAAAbZZYCP////////fAACMxP//////////9wAAncT////////vAACqhP////////+GMHW2//9/AAC7hPx4AX2r0a///////78AAAG2WfAj////////3wAAjMT///////////cAAJ3E////////7wAAqoT/////////i4AXtXo1/98AALuE/eAF///////3AAABtlpgI////////98AAIzE///////////3AACdxP///////+8AAKqE///////////3AAC7hPgQYOtt/yGoNHgBf//////9AAABtlrwJf///////98AAEZif//////////7AABO4n////////cAAFVCf/////8f8q1Gn//j4GPavRr/9wAAXcJ8fAC+VajT///////vAAABtltgI////////98AAIzE///////////3AACdxP///////+8AAKqE/////////wxy2//+AAC7hPvAC///////9wAAAbZb8CP////////fAACMxP//////////9wAAncT////////vAACqhP////////8MYOtt//9/AAC7hPvAC///////9wAAAbMAEAcAAAG2HGBRgj238bbfxtt/G238bbfxtt/G238bbfxtt/G238bbfxtt/G238bbfxtt/G238bbfxtt/G238bbfobbf2G4Ncjbb/sNwaxtt+Rtt/2G4NY22/I22/7DcGpG23/Ybg1jbb+NtvyNtv+w3BrG235G23/Ybg1jbb+Ntv422/jbb+MHc2/QzjbB3Kw3CsWIxq2wLUDB7TdGsYXm2GYI5GGFthYDuVhuFZGF5thmCR2G4NSMMLbCwHcrDcK2Ntu9huDF2VhuFcYXm2GQJBG23/Ybg1IwwtsLAdysNwrjC82wzBIIwwtsLAeO03RrGBcG2GYI8bbfgAAjMSMEe2/jbb8jB3Nv+w3Bqhtt/Iag0yMMLbCwHjlNUaIYXm2GfYbg1BHI22/5DUGhGGFthYDx2m6NSMLzbDMEfkNQaMZxtg7lYbhWLrEgVRk22CQMEYYW2FgO5WG4VkYXm2GYJHIag0jbb8jDC2wsB45TVGkYFwbYZgjxtt/G238bbfsYYW2FvYbgxcDuVhuFcYXm2GQJBGF5thmCQVBsFSGcbYO5WG4Vi0ZNtgkDLG23ew3Bi75TVGhG23/Ybg1QybbBJKg2CoYI22/7DcGpGF5thmCRyGoNI22/jbb9jC82wz6Swagj8hqDSNtv422/jbb+Ntv2MVNsDJKw3CsEBYkCqNtsEgYYwwtsLew3Bi4HYrDcK2MLzbBI4SQaAkdhuDUjbb/sNwasYqbYGSVhuFYF+sSBURhhbYFqD+VhuFbGKm2BlFYbhWCAsSBURjVtgWoGB2m6NSMLzbDMEfsNwaxtt+htt/Ybg10M42wdysNwrFo22wSBmNtv422/jbb9DJtsEjkNQaDEbbfsYqbYGV2m6MXgX/Iag0IwwtsC0Awe03RqRtt/2m6NUMLzbBJKg2CoEcjC82wzBI5DUGjGGFtgW3IagwcD+VhuFZG23/Kao0YwwtsLew3Bi4HcrDcK4wvNsMgSEM42wdysNwrFkMm2wSSoNgqGY22/jbb9wAAncSMEe2/jbb8jB3Nv+w3BqRtt/2G4NYzjbB4Foxq2wLQDBI22/5TVGiGKm2BlFYbhWBfEZNtgkDPYbg1Y22/pLBr8hqDQjbb/kNQaMZxtg7lYbhWLrEgVRk22CQMIbbdKg2CrQzjbB37TdGotGCFbYI4zG238bbfxtt+RhhbYWA8dpujUjbb4VhuFaGKm38pqjQC/I22/5TVGhGF5thmCPyGoNGNtsEjhJBoM9huDVjDC2wt7DcGLgdysNwrQxU2wMkrDcKwL+Mm2wSBlDJtsEkqDYKhgjbb/sNwaoZxtg7FYbhWLIbbfymqNONtv422/jbb+Ntv422/IwvNsMwSSoNgqQ22wR+Q1BoMkYXm2GYI/Iag0jbb8jDC2wsB47TdGrGKm2Bl9pujF4F9yGoNEMm2wR+Q1BoMxtt+hnG2Dv2m6NRYjGrbAtAMArDcK0MLzbBJKg2CoEhDbbnIag0422/jbb9/AACqhIwR7b+NtvyMDHtsLAeOU1RoRtt/2m6NSMLzbDMEfsNwaxtt+htt/Ybg1yMMLbCwHjlNUaIYqbYGXymqNAL6Mm2wRxmNtv0M42weOU1RoLMZNtgj9JYNRnkNQaIZxtg7lYbhWLRk22CQMxgkW38bbfxtt/G237GF5thn0lg1BH5DUGhGGFthYDxymqNCMMLbCwHjtN0axhebYZgjoZxtg7lYbhWLEYXm2CQCPyGoNENtsEfkNQaDJG23/Ybg1Q22/sNwa6GTbYI/Iag0GWM42wdysNwrF1iQKmMm2wSOEkGgz2G4NY22/jbb+Ntv422/jbb9jONsHcrDcKxdYkCojC82wSAR+Q1BpGGFthYDxG236GTbYJHIag0GUNtv7DcGvG237GGFthb2G4MXA7lYbhWhiptgZXabo1AvyMm2wRxnsNwasY1bYFtyGoMHAYHabo1I225CsNwrIwvNsMwSOw3BrG238bbfxtt/G237GNW2BbchqDBwGB2m6NSMLzbDIEfsNwasbbd7DcGLvlNUaRtt/GDtbfoYJ5tg8dpujUWjJtsEcZYxU2wMkrDcKwQFiQKmNtv5TVGD/sNwakYYW2FgPHabo1jbb8jC82wzBI5DUGhGGFthYDuVhuFcbbYZgkRtt+8AALuEjBHtv422/IwMe2wsB45TVGhG23wrDcK2MVNsDKKw3CsEBYkCqMm2wSBiNtv0M42weOU1RoLRk22COMobbfyGoNNjDC2wt5DUGDgdysNwrI225eU1RoRtt/ymqNIwvNsMwRyNtv+Q1BpGCRbfxtt/G238bbfkYFwbYZgj8hqDQjbb/kNQaIbbYJHIag0GI22/jbb9DbbBH5DUGgzG238bbfkbbYZAkchqDQjbb/kNQaEbbf8hqDSNtv422/jbb+Ntv422/jbb+Ntv422/jbb+Ntv422/jbb+Ntv422/jbb+Ntv422/jbb+Ntv422/jbb9AAABtmg4Ef///////+8AAIzE////F7///////78AAJ3E////////7wAAqoT///////xe/8Xvi98XAC9q9Gv/vwAAu4T94AX///////cAAAG2UOAj////////3wAAjMT///////////cAAJ3E////////7wAAqoT/////////hjB1tv//fwAAu4T94AX///////cAAAG2UXAj////////3wAAjMT///////////cAAJ3E////////7wAAqoT/////////DGDrbfhjBJNv//cAALuE////////7wAAAbZR4CP////////fAACMxP//////////9wAAncT////////vAACqhP////////94AX/7AAC7hPvAC///////9wAAAbZScCP////////fAACMxP//////////9wAAncT////////vAACqhP//////////9wAAu4TwIMHW2/5DUGjwAv//F/avRr////9/AAABtlLgI////////98AAIzE///////////3AACdxP///////+8AAKqE///////////3AAC7hPAg5bf8hqDQeAF9q9Gv///////fAAABtlNwI////////98AAIzE///////////3AACdxP///////+8AAKqE///////////3AAC7hPjwAvtXo1f///////0AAAG2U+Aj////////3wAAjMT///////////cAAJ3E////////7wAAqoT/////////hjB1tv//fwAAu4T9wAv///////cAAAG2VHAj////////3wAAjMT///////////cAAJ3E////////7wAAqoT/////////DGDrbfhjBJNv//cAALuE////////7wAAAbZU4CP////////fAACMxP//////////9wAAncT////////vAACqhP////////94AVwAv/0AALuE////////7wAAAbZVcCP////////fAACMxP//////////9wAAncT////////vAACqhP//////AYwdbb+Q1Bp//+4AX/4AALuE////////7wAAAbMAEEcAAAG2FeBRgj238bbfxtt/G238bbfxtt/G238bbfxtt/G238bbfxtt/G238bbfxtt/G238bbfxtt/G238bbfobbf2G4Ncjbb/sNwaxtt+Rtt/2G4NY22/I22/7DcGpG23/Ybg1jbb+NtvyNtv+w3BrG235G23/Ybg1jbb+Ntv422/jbb+MHc2/QzjbB3Kw3CsWIxq2wLUDB7TdGsYXm2GYI5GGFthYDuVhuFZGF5thmCR2G4NSMMLbCwHcrDcK2Ntu9huDF2VhuFcYXm2GQJBG23/Ybg1IwwtsLAdysNwrjC82wzBIIwwtsLAeO03RrGBcG2GYI8bbfgAAjMSMEe2/jbb8jB3Nv+w3Bqhtt/Iag0yMMLbCwHjlNUaIYXm2GfYbg1BHI22/5DUGhGGFthYDx2m6NSMLzbDMEfkNQaMZxtg7lYbhWLrEgVRk22CQMEYYW2FgO5WG4VkYXm2GYJHIag0jbb8jDC2wsB45TVGkYFwbYZgjxtt/G238bbfsYYW2FvYbgxcDuVhuFcYXm2GQJBGF5thmCQVBsFSGcbYO5WG4Vi0ZNtgkDLG23ew3Bi75TVGhG23/Ybg1QybbBJKg2CoYI22/7DcGpGF5thmCRyGoNI22/jbb9jC82wz6Swagj8hqDSNtv422/jbb+Ntv2MVNsDJKw3CsEBYkCqNtsEgYYwwtsLew3Bi4HYrDcK2MLzbBI4SQaAkdhuDUjbb/sNwasYqbYGSVhuFYF+sSBURhhbYFqD+VhuFbGKm2BlFYbhWCAsSBURjVtgWoGB2m6NSMLzbDMEfsNwaxtt+htt/Ybg10M42wdysNwrFo22wSBmNtv422/jbb9DJtsEjkNQaDEbbfsYqbYGV2m6MXgX/Iag0IwwtsC0Awe03RqRtt/2m6NUMLzbBJKg2CoEcjC82wzBI5DUGjGGFtgW3IagwcD+VhuFZG23/Kao0YwwtsLew3Bi4HcrDcK4wvNsMgSEM42wdysNwrFkMm2wSSoNgqGY22/jbb9wAAncSMEe2/jbb8jB3Nv+w3BqRtt/2G4NYzjbB4Foxq2wLQDBI22/5TVGiGKm2BlFYbhWBfEZNtgkDPYbg1Y22/pLBr8hqDQjbb/kNQaMZxtg7lYbhWLrEgVRk22CQMIbbdKg2CrQzjbB37TdGotGCFbYI4zG238bbfxtt+RhhbYWA8dpujUjbb4VhuFaGKm38pqjQC/I22/5TVGhGF5thmCPyGoNGNtsEjhJBoM9huDVjDC2wt7DcGLgdysNwrQxU2wMkrDcKwL+Mm2wSBlDJtsEkqDYKhgjbb/sNwaoZxtg7FYbhWLIbbfymqNONtv422/jbb+Ntv422/IwvNsMwSSoNgqQ22wR+Q1BoMkYXm2GYI/Iag0jbb8jDC2wsB47TdGrGKm2Bl9pujF4F9yGoNEMm2wR+Q1BoMxtt+hnG2Dv2m6NRYjGrbAtAMArDcK0MLzbBJKg2CoEhDbbnIag0422/jbb9/AACqhIwR7b+NtvyMDHtsLAeOU1RoRtt/2m6NSMLzbDMEfsNwaxtt/G235GGFthYDxymqNEMVNsDL5TVGgF9GTbYI4zG236GcbYPHKao0FmMm2wR+ksGozyGoNEM42wdysNwrFoybbBIGYwSLb+Ntv422/jbb9jC82wz6Swagj8hqDQjDC2wsB45TVGhGGFthYDx2m6NYwvNsMwR4wdrb8jBJNsMwR+Q1Bohttgj8hqDQZI22/7DcGqG239huDXQybbBH5DUGgyxnG2DuVhuFYusSBUxk22CRwkg0Gew3BrG238bbfxtt/G238bbfsZxtg7lYbhWLrEgVEYXm2CQCPyGoNIwwtsLAeI22/jBJNv0Ntv7DcGvG237GGFthb2G4MXA7lYbhWhiptgZXabo1AvyMm2wRxnsNwasY1bYFtyGoMHAYHabo1I225CsNwrIwvNsMwSOw3BrG238bbfxtt/G237GNW2BbchqDBwGB2m6NSMLzbDIEfsNwakbbf8pqjSNtv422/QzjbB47TdGotGTbYI4yxiptgZJWG4VggLEgVMbbfymqMH/Ybg1IwwtsLAeO03RrG235GF5thmCRyGoNCMMLbCwHcrDcK422wzBIjbb9AAC7hIwR7b+NtvyMDHtsLAeOU1RoRtt8Kw3CsjC82wzBI5DUGkbbfxtt+hnG2DxymqNBaMm2wRxlDbb+Q1BpsYYW2FvIagwcDuVhuFZG23LymqNCNtv+U1RpGF5thmCORtt/yGoNIwSLb+Ntv422/jbb8jAuDbDMEfkNQaEbbf8hqDSNtv422/jbb9DbbBH5DUGgzG238bbfkbbYZAkchqDQjbb/kNQaEbbf8hqDSNtv422/jbb+Ntv422/jbb+Ntv422/jbb+Ntv422/jbb+Ntv422/jbb+Ntv422/jbb+Ntv422/jbb98AAAG2VnAl////////3wAARmJ///+L3///////3wAATuJ////////3AABVQn7wMf//eBj///4vf+L3//4AAF3Cf///////9wAAAbZW4CP////////fAACMxP//////////9wAAncT////////vAACqhPwxy2///94AX///////fwAAu4T////////vAAABtldwI////////98AAIzE///////////3AACdxP///////+8AAKqE///+8AKBBg623/Iag0///////gAAu4T////////vAAABtlfgJf///////98AAEZif//////////7AABO4n//////x/cTVA//vwAAVUJ/eBj//4uBjyrUaf//////3wAAXcJ////////3AAABtlhwI////////98AAIzE///////////3AACdxP//////wv3pK7/fAACqhP4EHLb/kNQaAMYO1t/Iag0///F/avRr//////+/AAC7hP///////+8AAAG2WOAj////////3wAAjMT///////////cAAJ3E////i+nv//Agwdbb/kNQaf4AAKqE/x4AX2r0a//////////fAAC7hP///////+8AAAG2WXAl////////3wAARmJ///////////sAAE7if4/5VqNP//HwMe1ejX//3gY/7wAAVUJ///////////sAAF3Cf///////9wAAAbZZ4CX////////fAABGYn//////////+wAATuJ/vAx//94GP///9wAAVUJ///////////sAAF3Cf///////9wAAAbZacCX////////fAABGYn/////////x8DEZf78AAE7if7wMf//////3AABVQn//////////+wAAXcJ////////3AAABtlrgJf///////98AAEZif///x/yrUaf/+PgYjP//3gY/7wAATuJ////////3AABVQn//////////+wAAXcJ////////3AAABtltwI////////98AAIzE////xfTv//DHLb8CDB2tv+w3Br//4vp/+wAAncT////////vAACqhP//////////9wAAu4T////////vAAABswAQRwAAAbYb4FGCPbfxtt/G238bbfxtt/G238bbfxtt/G238bbfxtt/G238bbfxtt/G238bbfxtt/G238bbfxtt+htt/Ybg1yNtv+w3BrG235G23/Ybg1jbb8jbb/sNwakbbf9huDWNtv422/I22/7DcGsbbfkbbf9huDWNtv422/jbb+Ntv4wdzb9DONsHcrDcKxYjGrbAtQMHtN0axhebYZgjkYYW2FgO5WG4VkYXm2GYJHYbg1IwwtsLAdysNwrY2272G4MXZWG4VxhebYZAkEbbf9huDUjDC2wsB3Kw3CuMLzbDMEgjDC2wsB47TdGsYFwbYZgjxtt+AACMxIwR7b+NtvyMHc2/7DcGqG238hqDTIwwtsLAeOU1RohhebYZ9huDUEcjbb/kNQaEYYW2FgPHabo1IwvNsMwR+Q1BoxnG2DuVhuFYusSBVGTbYJAwRhhbYWA7lYbhWRhebYZgkchqDSNtvyMMLbCwHjlNUaRgXBthmCPG238bbfxtt+xhhbYW9huDFwO5WG4VxhebYZAkEYXm2GYJBUGwVIZxtg7lYbhWLRk22CQMsbbd7DcGLvlNUaRtt+hg4W2CRyGoNBgjBJNv+w3BqRhebYZgkchqDSNtv422/YwvNsM+ksGoI/Iag0jbb+Ntv422/jbb9jFTbAySsNwrBAWJAqjbbBIGGMMLbC3sNwYuB2Kw3CtjC82wSOEkGgJHYbg1I22/7DcGrGKm2BklYbhWBfrEgVRttgkDBGCSbf9huDUjDC2wsB47TdGpGF5thmCP2G4NY22/Q22/sNwa6GcbYO5WG4Vi0bbYJAzG238bbfxtt+hk22CRyGoNBiNtv2MVNsDK7TdGLwL/kNQaEYYW2BaAYPabo1I22/7TdGqGF5tgklQbBUCPG235GGFthYDuVhuFZG23/Kao0YwwtsLew3Bi4HcrDcK4wvNsMgSEM42wdysNwrFkMm2wSSoNgqGY22/jbb9/AACdxIwR7b+NtvyMHc2/7DcGpG23/Ybg1jONsHgWjGrbAtAMEjbb/lNUaIYqbYGUVhuFYF9GTbYJAyxtt/SWDX5DUGhG23/Iag0YzjbB3Kw3CsXWJAqjJtsEgYQ226VBsFWhnG2Dv2m6NRaMEK2wRxmNtv422/jbb8jDC2wsB47TdGpG23wrDcK0MVNv5TVGgF+Rtt/ymqNCMLzbDMEfkNQaMbbYJHCSDQZ7DcGsbbfoZxtg7lYbhWLRk22CQMoZNtgklQbBUMEbbf9huDVDONsHYrDcKxZDbb+U1Rpxtt/G238bbfxtt/G235GF5thmCSVBsFSG22CPyGoNBkjC82wzBH5DUGkbbfkYYW2FgO5WG4VxhebYZgkIZNtgkchqDQZjbb9DONsHftN0aixGNW2BaAYBWG4VoYXm2CSVBsFQJCG23OQ1Bpxtt/G2378AAKqEjBHtv422/IwMe2wsB45TVGhG23/abo1IwvNsMwR+w3BrG238bbfkbbf8hqDSNtv422/jbb9DONsHjlNUaCzGTbYI/SWDUZ5DUGiGcbYO5WG4Vi0ZNtgkDMYJFt/G238bbfxtt+xhebYZ9JYNQR+Q1BoRhhbYWA8cpqjQjDC2wsB47TdGsYXm2GYI8bbfxtt/G235G23/Ybg1Q22/sNwa6GTbYI/Iag0GWM42wdysNwrF1iQKmMm2wSOEkGgz2G4NY22/jbb+Ntv422/jbb9jONsHcrDcKxdYkCojC82wSAR+Q1BpGGFthYDxG238bbfobbf2G4NeNtv2MMLbC3sNwYuB3Kw3CtDFTbAyu03RqBfkZNtgjjPYbg1Yxq2wLbkNQYOAwO03RqRttyFYbhWRhebYZgkdhuDWNtv422/jbb+Ntv2MatsC25DUGDgMDtN0akYXm2GQI/Ybg1I22/5TVGkbbfxtt+hnG2Dx2m6NRaMm2wRxljFTbAySsNwrBAWJAqY22/lNUYP+w3BqRhhbYWA8dpujWNtvyMLzbDMEjkNQaEYYW2FgO5WG4VxtthmCRG237wAAu4SMEe2/jbb8jAx7bCwHjlNUaEbbfCsNwrIwvNsMwSOQ1BpG238bbfoZxtg8cpqjQWjJtsEcZQ22/kNQabGGFthbyGoMHA7lYbhWRtty8pqjQjbb/lNUaRhebYZgjkbbf8hqDSMEi2/jbb+Ntv422/IwLg2wzBH5DUGhG23/Iag0jbb+Ntv422/Q22wR+Q1BoMxtt/G235G22GQJHIag0I22/5DUGhG23/Iag0jbb+Ntv422/jbb+Ntv422/jbb+Ntv422/jbb+Ntv422/jbb+Ntv422/jbb+Ntv422/jbb+Ntv422/fAAABtlxwI////////98AAIzE////F74DHLb+Q1BpgQYO1t/2G4Nf//////cAAJ3E////////7wAAqoT///////xe/8Xv//0AALuE////////7wAAAbZoMBH////////vAACMxP/DGDrbf//+BBgkm3/Ybg1//////98AAJ3E////////7wAAqoT///////////cAALuE////////7wAAAbZQ8CX//////8X09/cAAEZif8eBjGQ+BnyrUaf/8WBn7V6Nf//////vAABO4n////////cAAFVCf//////////7AABdwn////////cAAAG2UWAj///////F40/vAACMxP+BBy2/5DUGgYwdrb//////////vwAAncT////////vAACqhP//////////9wAAu4T////////vAAABtlHwI////////98AAIzE/8eAF9q9Gv//j4AUZf/////+AACdxP///////+8AAKqE///////////3AAC7hP///////+8AAAG2UmAj////////3wAAjMT////j4AUZAQYOtt/yGoNP/////+8AAJ3E////////7wAAqoT///////////cAALuE////////7wAAAbZS8CP////////fAACMxP////Ag5bf8hqDT//wIMHa2/7DcGv///gAAncT////////vAACqhP//////////9wAAu4T////////vAAABtlNgI////////98AAIzE///////4+AF7V6Nf//C8AKMuVajT7wAAncT/4/f//////38AAKqE///////////3AAC7hP///////+8AAAG2U/Aj////////3wAAjMT///////H9xNUD///Agwdbb/kNQaC4AUZffwAAncT/x/2r0a//////+wAAqoT///////////cAALuE////////7wAAAbZUYCX////////fAABGYn//////8f8q1Gn//jwMfavRqFwMYMMxl+8AAE7if8f9q9Gv//////0AAFVCf//////////7AABdwn////////cAAAG2VPAj////////3wAAjMT/////////8Mctvx4AWMv3AACdxP///////+8AAKqE///////////3AAC7hP///////+8AAAGzABCHAAABthVgUYI9t/G238bbfxtt/G238bbfxtt/G238bbfxtt/G238bbfxtt/G238bbfxtt/G238bbfxtt/G236G239huDXI22/7DcGsbbfkbbf9huDWNtvyNtv+w3BqRtt/2G4NY22/jbb8jbb/sNwaxtt+Rtt/2G4NY22/jbb+Ntv422/jB3Nv0M42wdysNwrFiMatsC1Awe03RrGF5thmCORhhbYWA7lYbhWRhebYZgkdhuDUjDC2wsB3Kw3Csjbb8rDcK4wvNsMwSCNtv+w3BqRhhbYWA7lYbhXGF5thmCQRhhbYWA8dpujWMC4NsMwR422/QAAjMSMEe2/jbb8jB3Nv+w3Bqhtt/Iag0yMMLbCwHjlNUaIYXm2GfYbg1BHI22/5DUGhGGFthYDx2m6NSMLzbDMEfkNQaEbbf8hqDSNtvyMMLbCwHcrDcKyMLzbDMEjkNQaRtt+RhhbYWA8cpqjSMC4NsMwR422/jbb+Ntv2MMLbC3sNwYuB3Kw3CuMLzbDIEgjC82wzBIKg2CpDONsHcrDcKxaMm2wSBljbbvYbgxd8pqjSNtv422/I22/7DcGpGF5thmCRyGoNI22/jbb9jC82wz6Swagj8hqDSNtv422/jbb+Ntv2MVNsDJKw3CsEBYkCqNtsEgYYwwtsLew3Bi4HYrDcK2MLzbBI4SQaAkdhuDUjbb/sNwasYqbYGSVhuFYF+sSBVG22CQMRtt+RhhbYWA7lYbhXGF5thmCRG236G239huDXQzjbB3Kw3CsWjbbBIGY22/jbb+Ntv0Mm2wSOQ1BoMRtt+xiptgZXaboxeBf8hqDQjDC2wLQDB7TdGpG23/abo1QwvNsEkqDYKgR422/jbb8jC82wzBI5DUGiG239huDXjbb9DONsHcrDcKxZDJtsEkqDYKhmNtv422/fwAAncSMEe2/jbb8jB3Nv+w3BqRtt/2G4NYzjbB4Foxq2wLQDBI22/5TVGiGKm2BlFYbhWBfRk22CQMobbf2G4NeMHa2/QwTzbB3Kw3CsWjJtsEgZQ226VBsFWhnG2Dv2m6NRaMEK2wRxmNtv422/jbb8jDC2wsB47TdGpG23wrDcK0MVNv5TVGgF+Rtt/ymqNCMLzbDMEfkNQaMbbYJHCSDQZ7DcGsbbfoZxtg7lYbhWLRgkm2CQMobbYJJUGwVDJG23/Ybg1QzjbB2Kw3CsWQ22/lNUacbbfxtt/G238bbfxtt+RhebYZgklQbBUhttgj8hqDQZIwvNsMwR+Q1BpG235GGFthYDuVhuFcYXm2GYJCGTbYJHIag0GY22/QzjbB37TdGosRjVtgWgGAVhuFaGF5tgklQbBUCQhttzkNQacbbfxtt+wAAqoSMEe2/jbb8jAx7bCwHjlNUaEbbf9pujUjC82wzBH7DcGsbbfxtt+Rtt/yGoNI22/jbb+Ntv0M42weOU1RoLMZNtgj9JYNRnkNQaIZxtg7lYbhWLRk22CQMxgkW38bbfxtt/G237GF5thn0lg1BH5DUGhGGFthYDxymqNCMMLbCwHjtN0axhebYZgjxtt/G238bbfkbbf9huDVDbb+w3BroZNtgj8hqDQZYzjbB3Kw3CsXWJAqYybbBI4SQaDPYbg1jbb+Ntv422/jbb+Ntv2M42wdysNwrF1iQKiMLzbBIBH5DUGkYYW2FgPEbbfxtt+htt/Ybg1422/YwwtsLew3Bi4HcrDcK0MVNsDK7TdGoF+Rk22COM9huDVjGrbAtuQ1Bg4DA7TdGpG23IVhuFZGF5thmCR2G4NY22/jbb+Ntv422/Yxq2wLbkNQYOAwO03RqRhebYZAj9huDUjbb/lNUaRtt/G236GcbYPHabo1FoybbBHGWMVNsDJKw3CsEBYkCpjbb+U1Rg/7DcGpGGFthYDx2m6NY22/IwvNsMwSOQ1BoRhhbYWA7lYbhXG22GYJEbbfvAAC7hIwR7b+NtvyMDHtsLAeOU1RoRtt8Kw3CsjC82wzBI5DUGkbbfxtt+hnG2DxymqNBaMm2wRxlDbb+Q1BpsYYW2FvIagwcDuVhuFZG23LymqNCNtv+U1RpGF5thmCORtt/yGoNIwSLb+Ntv422/jbb8jAuDbDMEfkNQaEbbf8hqDSNtv422/jbb9DbbBH5DUGgzG238bbfkbbYZAkchqDQjbb/kNQaEbbf8hqDSNtv422/jbb+Ntv422/jbb+Ntv422/jbb+Ntv422/jbb+Ntv422/jbb+Ntv422/jbb+Ntv422/jbb98AAAG2VfAj////////3wAAjMT///8Xv///////vwAAncT/xYAXyrUaf/+GMHW2////+wAAqoT///////xe/8Xv//0AALuE////////7wAAAbZWYCX////////fAABGYn//////////+wAATuJ/xfyrUaf/+4GMWBjo7Jf/+LAz9q9Gv98AAFVCf//////////7AABdwn////////cAAAG2VvAl////////3wAARmJ///////////sAAE7if///3AxiwMYUi8Kf///vAABVQn//////////+wAAXcJ////////3AAABtldgJf///////98AAEZif//////////7AABO4n///4XAx8TDIZOBj////gAAVUJ///////////sAAF3Cf///////9wAAAbZX8CP////////fAACMxP//////////9wAAncT///8Bjlt/Iag0///HwAoz/78AAKqE/j/tXo1//////////QAAu4T////////vAAABtlhgI////////98AAIzE///////////3AACdxP///wGMHW2/kNQaf//i4AXtXo1/7wAAqoT///////////cAALuE////////7wAAAbZY8CX////////fAABGYn//////////+wAATuJ///8LgY+1ejUZOBj////3AABVQn//////////+wAAXcJ////////3AAABtllgI////////98AAIzE///////////3AACdxP///gQctv+Q1BoFwAsZDP////cAAKqE///////////3AAC7hP///////+8AAAG2WfAj////////3wAAjMT/////////xfTv/QAAncT+GMHW2///8eAF9q9Gv///+wAAqoT///////////cAALuE////////7wAAAbZaYCP////////fAACMxP//////////9wAAncT+GOW34Ywdrb///////98AAKqE///////////3AAC7hP///////+8AAAG2WvAl////////3wAARmJ///////////sAAE7if3Axv///////vwAAVUJ///////////sAAF3Cf///////9wAAAbMAEIcAAAG2G2BRgj238bbfxtt/G238bbfxtt/G238bbfxtt/G238bbfxtt/G238bbfxtt/G238bbfxtt/G238bbfobbf2G4Ncjbb/sNwaxtt+Rtt/2G4NY22/I22/7DcGpG23/Ybg1jbb+NtvyNtv+w3BrG235G23/Ybg1jbb+Ntv422/jbb+MHc2/QzjbB3Kw3CsWIxq2wLUDB7TdGsYXm2GYI5GGFthYDuVhuFZGF5thmCR2G4NSMMLbCwHcrDcKyNtvysNwrjC82wzBII22/7DcGpGGFthYDuVhuFcYXm2GYJBGGFthYDx2m6NYwLg2wzBHjbb9AACMxIwR7b+NtvyMHc2/7DcGqG238hqDTIwwtsLAeOU1RohhebYZ9huDUEcjbb/kNQaEYYW2FgPHabo1IwvNsMwR+Q1BoRtt/yGoNI22/IwwtsLAdysNwrIwvNsMwSOQ1BpG235GGFthYDxymqNIwLg2wzBHjbb+Ntv422/YwwtsLew3Bi4HcrDcK4wvNsMgSCMLzbDMEgqDYKkM42wdysNwrFoybbBIGWNtu9huDF3ymqNI22/jbb8jbb/sNwakYXm2GYJHIag0jbb+Ntv2MLzbDPpLBqCPyGoNI22/jbb+Ntv422/YxU2wMkrDcKwQFiQKo22wSBhjDC2wt7DcGLgdisNwrYwvNsEjhJBoCR2G4NSNtv+w3BqxiptgZJWG4VgX6xIFUbbYJAxG235GGFthYDuVhuFcYXm2GYJEbbfobbf2G4NdDONsHcrDcKxaNtsEgZjbb+Ntv422/QybbBI5DUGgxG237GKm2BldpujF4F/yGoNCMMLbAtAMHtN0akbbf9pujVDC82wSOQ1BoCPG238bbfkYXm2GYJHIag0Q22/sNwa8bbfoZxtg7lYbhWLIZNtgklQbBUMxtt/G234AAJ3EjBHtv422/Iwdzb/sNwakbbf9huDWM42weBaMatsC0AwSNtv+U1RpGF5thmCPGDtbfxgkm38bbfoZxtg7lYbhWLRk22CQMobbdKg2CrQzjbB37TdGotGCFbYI4zG238bbfxtt+RhhbYWA8dpujUjbb4VhuFaGKm38pqjQC/I22/5TVGhGF5thmCPyGoNI22/jBJNv422/jbb9DJtsEkqDYKhkjbb/sNwaoZxtg7FYbhWLIbbfymqNONtv422/jbb+Ntv422/IwvNsMwSSoNgqQ22wR+Q1BoMkYXm2GYI/Iag0jbb+Ntv422/jbb+Ntv0M42wd+03RqLEY1bYFoBgFYbhWhhebYJJUGwVAkIbbc5DUGnG238bbfgAAqoSMEe2/jbb8jAx7bCwHjlNUaEbbf9pujUjC82wzBH7DcGsbbfxtt/G238bbfxtt/G236GcbYPHKao0FmMm2wR+ksGozyGoNEM42wdysNwrFoybbBIGYwSLb+Ntv422/jbb9jC82wz6Swagj8hqDQjDC2wsB45TVGhGGFthYDx2m6NYwvNsMwR422/jbb+NtvyNtv+w3Bqhtt/Ybg10Mm2wR+Q1BoMsZxtg7lYbhWLrEgVMZNtgkcJINBnsNwaxtt/G238bbfxtt/G237GcbYO5WG4Vi6xIFRGF5tgkAj8hqDSMMLbCwHiNtv422/Q22/sNwa8bbfsYYW2FvYbgxcDuVhuFaGKm2BldpujUC/IybbBHGew3BqxjVtgW3IagwcBgdpujUjbbkKw3CsjC82wzBI7DcGsbbfxtt/G238bbfsY1bYFtyGoMHAYHabo1IwvNsMgR+w3BqRtt/ymqNI22/jbb9DONsHjtN0ai0ZNtgjjLGKm2BklYbhWCAsSBUxtt/Kaowf9huDUjDC2wsB47TdGsbbfkYXm2GYJHIag0IwwtsLAdysNwrjbbDMEiNtv0AALuEjBHtv422/IwMe2wsB45TVGhG23wrDcKyMLzbDMEjkNQaRtt/G236GcbYPHKao0FoybbBHGUNtv5DUGmxhhbYW8hqDBwO5WG4VkbbcvKao0I22/5TVGkYXm2GYI5G23/Iag0jBItv422/jbb+NtvyMC4NsMwR+Q1BoRtt/yGoNI22/jbb+Ntv0NtsEfkNQaDMbbfxtt+RtthkCRyGoNCNtv+Q1BoRtt/yGoNI22/jbb+Ntv422/jbb+Ntv422/jbb+Ntv422/jbb+Ntv422/jbb+Ntv422/jbb+Ntv422/jbb+Ntv3wAAAbZb8CX////////fAABGYn///4vf///////fAABO4n9wMb///////78AAFVCf//////+L3/i9//+AABdwn////////cAAAG2XGAj////////3wAAjMT///////////cAAJ3E/hjlt///7wAv///+AACqhP//////////9wAAu4T////////vAAABtmg4Ef///////+8AAIzE///////////3AACdxP///3gBf//eAF/7AACqhP//////////9wAAu4T////////vAAABtlDgI////////98AAIzE///////////3AACdxP//////DGDrbfvAC/9/AACqhP//////////9wAAu4T////////vAAABtlFwI////////98AAIzE///////////3AACdxP//////HwAvavRr/78AAKqE/eAF//////////sAALuE////////7wAAAbZR4CP////////fAACMxP//////////9wAAncT////////vAACqhP3gBQxg623//////////78AALuE////////7wAAAbZScCP////////fAACMxP//////////9wAAncT////////vAACqhP7gBb//////////3wAAu4T////////vAAABtlLgI////////98AAIzE///////////3AACdxP///////+8AAKqE/3AC3//////////fAAC7hP///////+8AAAG2U3Aj////////3wAAjMT///////////cAAJ3E////////7wAAqoT/uAFv/////////98AALuE////////7wAAAbZT4CP////////fAACMxP//////////9wAAncT////////vAACqhP/cAL//8XACjL//////3wAAu4T////////vAAABtlRwI////////98AAIzE///////////3AACdxP///////+8AAKqE////7wAv//vAC//+F+9JXfsAALuE////////7wAAAbMAEMcAAAG2FOBRgj238bbfxtt/G238bbfxtt/G238bbfxtt/G238bbfxtt/G238bbfxtt/G238bbfxtt/G238bbfobbf2G4Ncjbb/sNwaxtt+Rtt/2G4NY22/I22/7DcGpG23/Ybg1jbb+NtvyNtv+w3BrG235G23/Ybg1jbb+Ntv422/jbb+MHc2/QzjbB3Kw3CsWIxq2wLUDB7TdGsYXm2GYI5GGFthYDuVhuFZGF5thmCR2G4NSMMLbCwHcrDcKyNtvysNwrjC82wzBII22/7DcGpGGFthYDuVhuFcYXm2GYJBGGFthYDx2m6NYwLg2wzBHjbb9AACMxIwR7b+NtvyMHc2/7DcGqG238hqDTIwwtsLAeOU1RohhebYZ9huDUEcjbb/kNQaEYYW2FgPHabo1IwvNsMwR+Q1BoRtt/yGoNI22/IwwtsLAdysNwrIwvNsMwSOQ1BpG235GGFthYDxymqNIwLg2wzBHjbb+Ntv422/YwwtsLew3Bi4HcrDcK4wvNsMgSCMLzbDMEgqDYKkM42wdysNwrFoybbBIGWNtu9huDF3ymqNI22/jbb8jbb/sNwakYXm2GYJHIag0jbb+Ntv2MLzbDPpLBqCPyGoNI22/jbb+Ntv422/YxU2wMkrDcKwQFiQKo22wSBhjDC2wt7DcGLgdisNwrYwvNsEjhJBoCR2G4NSNtv+w3BqxiptgZJWG4VgX6xIFUbbYJAxG235GGFthYDuVhuFcYXm2GYJEbbfobbf2G4NdDONsHcrDcKxaNtsEgZjbb+Ntv422/QybbBI5DUGgxG237GKm2BldpujF4F/yGoNCMMLbAtAMHtN0akbbf9pujVDC82wSOQ1BoCPG238bbfkYXm2GYJHIag0Q22/sNwa8bbfoZxtg7lYbhWLIZNtgklQbBUMxtt/G234AAJ3EjBHtv422/Iwdzb/sNwakbbf9huDWM42weBaMatsC0AwSNtv+U1RpGF5thmCPG238bbfxtt+hnG2DuVhuFYtGTbYJAyhtt0qDYKtDONsHftN0ai0YIVtgjjMbbfxtt/G235GGFthYDx2m6NSNtvhWG4VoYqbfymqNAL8jbb/lNUaEYXm2GYI/Iag0jbb+Ntv422/jbb9DJtsEkqDYKhkjbb/sNwaoZxtg7FYbhWLIbbfymqNONtv422/jbb+Ntv422/IwvNsMwSSoNgqQ22wR+Q1BoMkYXm2GYI/Iag0jbb+Ntv422/jbb+Ntv0M42wd+03RqLEY1bYFoBgFYbhWhhebYJJUGwVAkIbbc5DUGnG238bbfvwAAqoSMEe2/jbb8jAx7bCwHjlNUaEbbf9pujUjC82wzBH7DcGsbbfxtt/G238bbfxtt/G236GcbYPHKao0FmMm2wR+ksGozyGoNEM42wdysNwrFoybbBIGYwSLb+Ntv422/jbb9jC82wz6Swagj8hqDQjDC2wsB45TVGhGGFthYDx2m6NYwvNsMwR422/jbb+NtvyNtv+w3BrG236GTbYI/Iag0GWM42wdysNwrF1iQKmMm2wSOEkGgz2G4NY22/jbb+Ntv422/jbb9jONsHcrDcKxdYkCojC82wSAR+Q1BpGGFthYDxG238bbfobbf2G4NeNtv2MMLbC3sNwYuB3Kw3CuMLzbDIEgjbb/sNwasY1bYFtyGoMHAYHabo1I225CsNwrIwvNsMwSOw3BrG238bbfxtt/G237GNW2BbchqDBwGB2m6NSMLzbDIEfsNwakbbf8pqjSNtv422/QzjbB47TdGotGTbYI4yxiptgZJWG4VggLEgVEYO1tgkDHYbg1IwWbbCwHjtN0axtt+RhebYZgkchqDQjDC2wsB3Kw3CuNtsMwSI22/fwAAu4SMEe2/jbb8jAx7bCwHjlNUaEbbfCsNwrIwvNsMwSOQ1BpG238bbfoZxtg8cpqjQWjJtsEcZQ22/kNQaZGGFthYDuVhuFZG233lNUaEbbf8pqjSMLzbDMEcjbb/kNQaRgkW38bbfxtt/G235GBcG2GYI/Iag0I22/5DUGkbbfxtt/G236G22CPyGoNBmNtv422/I22wzBI5DUGhG23/Iag0I22/5DUGkbbfxtt/G238bbfxtt/G238bbfxtt/G238bbfxtt/G238bbfxtt/G238bbfxtt/G238bbfxtt/G2378AAAG2VXAj////////3wAAjMT///8Xv///////vwAAncT////////vAACqhP///////F7/xe/+8AL+AAC7hP/HwAvKtRp//4/7V6Nf///vAAABtlXgI////////98AAIzE///////////3AACdxP///////+8AAKqE//////////hjB1tv/38AALuE/94AX//////3AAABtlZwJf///////98AAEZif//////////7AABO4n////////cAAFVCf//////7wMf//eBj+wAAXcJ////////3AAABtlbgI////////98AAIzE///////////3AACdxP///////+8AAKqE///////wxy2/Agwdrb/sNwa///+/AAC7hP///////+8AAAG2V3Aj////////3wAAjMT///////////cAAJ3E////////7wAAqoT///////i4AXtXo1//94AX7wAAu4T/4/up6hf//////38AAAG2V+Aj////////3wAAjMT///////////cAAJ3E////////7wAAqoT///////x/cTVA///j4AUZDwAuYmiB3gAAu4T/8f3U9Qv//////38AAAG2WHAj////////3wAAjMT///////////cAAJ3E////////7wAAqoT//////////uAF+wAAu4T/8fACtgXGf//j/tXo1///7wAAAbZY4CP////////fAACMxP//////////9wAAncT////////vAACqhP/////////+BBg623/Iag09AAC7hP/x8AKM//////9/AAABtllwJf///////98AAEZif//////////7AABO4n////////cAAFVCf////H7///C8DEZdq9Gv//vAx98AAF3Cf///////9wAAAbZZ4CP////////fAACMxP//////////9wAAncT////////vAACqhP///////AY5bfyGoNP//xcAKM/fAAC7hP///////+8AAAG2WnAj////////3wAAjMT///////////cAAJ3E////////7wAAqoT//////////Agwdbb/sNwai4AXtXo19wAAu4T////////vAAABswAQxwAAAbYa4FGCPbfxtt/G238bbfxtt/G238bbfxtt/G238bbfxtt/G238bbfxtt/G238bbfxtt/G238bbfxtt+htt/Ybg1yNtv+w3BrG235G23/Ybg1jbb8jbb/sNwakbbf9huDWNtv422/I22/7DcGsbbfkbbf9huDWNtv422/jbb+Ntv4wdzb9DONsHcrDcKxYjGrbAtQMHtN0axhebYZgjkYYW2FgO5WG4VkYXm2GYJHYbg1IwwtsLAdysNwrI22/Kw3CuMLzbDMEgjbb/sNwakYYW2FgO5WG4VxhebYZgkEYYW2FgPHabo1jAuDbDMEeNtv0AAIzEjBHtv422/Iwdzb/sNwaobbfyGoNMjDC2wsB45TVGiGF5thn2G4NQRyNtv+Q1BoRhhbYWA8dpujUjC82wzBH5DUGhG23/Iag0jbb8jDC2wsB3Kw3CsjC82wzBI5DUGkbbfkYYW2FgPHKao0jAuDbDMEeNtv422/jbb9jDC2wt7DcGLgdysNwrjC82wyBIIwvNsMwSCoNgqQzjbB3Kw3CsWjJtsEgZY2272G4MXfKao0jbb+NtvyNtv+w3BqRhebYZgkchqDSNtv422/YwvNsM+ksGoI/Iag0jbb+Ntv422/jbb9jFTbAySsNwrBAWJAqjbbBIGGMMLbC3sNwYuB2Kw3CtjC82wSOEkGgJHYbg1I22/7DcGrGKm2BklYbhWBfrEgVRttgkDEbbfkYYW2FgO5WG4VxhebYZgkRtt+htt/Ybg10M42wdysNwrFo22wSBmNtv422/jbb9DJtsEjkNQaDEbbfsYqbYGV2m6MXgX/Iag0IwwtsC0Awe03RqRtt/2m6NUMLzbBI5DUGgI8bbfxtt+RhebYZgkchqDRDbb+w3Brxtt+hnG2DuVhuFYshk22CSVBsFQzG238bbfgAAncSMEe2/jbb8jB3Nv+w3BqRtt/2G4NYzjbB4Foxq2wLQDBI22/5TVGkYXm2GYI8bbfxtt/G236GcbYO5WG4Vi0ZNtgkDKG23SoNgq0M42wd+03RqLRghW2COMxtt/G238bbfkYYW2FgPHabo1I22+FYbhWhipt/Kao0AvyNtv+U1RoRhebYZgj8hqDSNtv422/jbb+Ntv0Mm2wSSoNgqGSNtv+w3BqhnG2DsVhuFYshtt/Kao0422/jbb+Ntv422/jbb8jC82wzBJKg2CpDbbBH5DUGgyRhebYZgj8hqDSNtv422/jbb+Ntv422/QzjbB37TdGosRjVtgWgGAVhuFaGF5tgklQbBUCQhttzkNQacbbfxtt+/AACqhIwR7b+NtvyMDHtsLAeOU1RoRtt/2m6NSMLzbDMEfsNwaxtt/G238bbfxtt/G238bbfoZxtg8cpqjQWYybbBH6SwajPIag0QzjbB3Kw3CsWjJtsEgZjBItv422/jbb+Ntv2MLzbDPpLBqCPyGoNCMMLbCwHjlNUaEYYW2FgPHabo1jC82wzBHjbb+Ntv422/I22/7DcGsbbfoZNtgj8hqDQZQzjbB3Kw3CsWYybbBI4SQaDPYbg1jbb+Ntv422/jbb+Ntv2M42wdysNwrF1iQKiMLzbBIBH5DUGkYYW2FgPEbbfxtt+htt/Ybg1422/YwwtsLew3Bi4HcrDcK4wvNsMgSIwdrb9DBJNsEjkNQaDJGGFthYDuVhuFZGF5thmCR2G4NY22/jbb+Ntv422/Yxq2wLbkNQYOAwO03RqRhebYZAj9huDUjbb/lNUaRtt/G236GcbYPHabo1FoybbBHGWMVNsDJKw3CsEBYkCqNtsEgYIwSTb/sNwaxtt+RhebYZgkchqDQjDC2wsB3Kw3CuNtsMwSI22/fwAAu4SMEe2/jbb8jAx7bCwHjlNUaEbbfCsNwrIwvNsMwSOQ1BpG238bbfoZxtg8cpqjQWjJtsEcZQ22/kNQacbbfkYYW2FgO5WG4VxhebYZgkRtt+Rtt/yGoNIwSLb+Ntv422/jbb8jAuDbDMEfkNQaEbbf8hqDSNtv422/jbb9DbbBH5DUGgzG238bbfxtt+RtthmCRyGoNI22/jbb+Ntv422/jbb+Ntv422/jbb+Ntv422/jbb+Ntv422/jbb+Ntv422/jbb+Ntv422/jbb+Ntv422/cAAAG2W3Aj////////3wAAjMT///8Xv///////vwAAncT////////vAACqhP//////+LgBe1ejX+L3/4+AFGX3AAC7hP///////+8AAAG2W+Aj////////3wAAjMT///////////cAAJ3E////////7wAAqoT//////////eAF+wAAu4T/4+AFGf//j/tXo1///98AAAG2XHAj////////3wAAjMT///////////cAAJ3E////////7wAAqoT//////////DGDrbf/fwAAu4T/7wAv//////cAAAG2aDAS////////7wAARmJ///////////sAAE7if///////9wAAVUJ///////3gY//+8DH7AABdwn////////cAAAG2UPAj////////3wAAjMT///////////cAAJ3E////////7wAAqoT///////hjlt+LACxl///3AAC7hP///////+8AAAG2UWAj////////3wAAjMT///////////cAAJ3E////////7wAAqoT///////xYAWMv//FwAoz9AAC7hP///////+8AAAG2UfAj////////3wAAjMT///////////cAAJ3E////////7wAAqoT///////wGMHW2/kNQaf//i4AUZ+8AALuE////////7wAAAbZSYCP////////fAACMxP//////////9wAAncT////////vAACqhP////x/yrUaf/8Bjlt/Iag0xYAX2r0a//+P+1ejXgAAu4T////////vAAABtlLwI////////98AAIzE///////////3AACdxP///////+8AAKqE/////AYwdbb+Q1Bp//+LAC+1ejX///cAALuE////////7wAAAbZTYCX////////fAABGYn//////////+wAATuJ///////8X070AAFVCf/xcDHtXo1//94GP/////98AAF3Cf///////9wAAAbZT8CP////////fAACMxP//////////9wAAncT////////vAACqhP/4Y5bfhjB2tv/////////vAAC7hP///////+8AAAGzABEHAAABthRgUYI9t/G238bbfxtt/G238bbfxtt/G238bbfxtt/G238bbfxtt/G238bbfxtt/G238bbfxtt/G236G239huDXI22/7DcGsbbfkbbf9huDWNtvyNtv+w3BqRtt/2G4NY22/jbb8jbb/sNwaxtt+Rtt/2G4NY22/jbb+Ntv422/jB3Nv0M42wdysNwrFiMatsC1Awe03RrGF5thmCORhhbYWA7lYbhWRhebYZgkdhuDUjDC2wsB3Kw3Csjbb8rDcK4wvNsMwSCNtv+w3BqRhhbYWA7lYbhXGF5thmCQRhhbYWA8dpujWMC4NsMwR422/QAAjMSMEe2/jbb8jB3Nv+w3Bqhtt/Iag0yMMLbCwHjlNUaIYXm2GfYbg1BHI22/5DUGhGGFthYDx2m6NSMLzbDMEfkNQaEbbf8hqDSNtvyMMLbCwHcrDcKyMLzbDMEjkNQaRtt+RhhbYWA8cpqjSMC4NsMwR422/jbb+Ntv2MMLbC3sNwYuB3Kw3CuMLzbDIEgjC82wzBIKg2CpDONsHcrDcKxaMm2wSBljbbvYbgxd8pqjSNtv422/I22/7DcGpGF5thmCRyGoNI22/jbb9jC82wz6Swagj8hqDSNtv422/jbb+Ntv2MVNsDJKw3CsEBYkCqNtsEgYYwwtsLew3Bi4HYrDcK2MLzbBI4SQaAkdhuDUjbb/sNwasYqbYGSVhuFYF+sSBVG22CQMRtt+RhhbYWA7lYbhXGF5thmCRG236G239huDXQzjbB3Kw3CsWjbbBIGY22/jbb+Ntv0Mm2wSOQ1BoMRtt+xiptgZXaboxeBf8hqDQjDC2wLQDB7TdGpG23/abo1QwvNsEjkNQaAjxtt/G235GF5thmCRyGoNENtv7DcGvG236GcbYO5WG4ViyGTbYJJUGwVDMbbfxtt+AACdxIwR7b+NtvyMHc2/7DcGpG23/Ybg1jONsHgWjGrbAtAMEjbb/lNUaRhebYZgjxtt/G238bbfoZxtg7lYbhWLRk22CQMobbdKg2CrQzjbB37TdGotGCFbYI4zG238bbfxtt+RhhbYWA8dpujUjbb4VhuFaGKm38pqjQC/I22/5TVGhGF5thmCPyGoNI22/jbb+Ntv422/QybbBJKg2CoZI22/7DcGqGcbYOxWG4ViyG238pqjTjbb+Ntv422/jbb+NtvyMLzbDMEkqDYKkNtsEfkNQaDJGF5thmCPyGoNI22/jbb+Ntv422/jbb9DONsHftN0aixGNW2BaAYBWG4VoYXm2CRyGoNASENtv5DUGnG238bbfgAAqoSMEe2/jbb8jAx7bCwHjlNUaEbbf9pujUjC82wzBH7DcGsbbfxtt/G238bbfxtt/G236GcbYPHKao0FmMm2wR+ksGozyGoNIwdrb+MEk2/jBItv422/jbb+Ntv2MLzbDPpLBqCPyGoNCMMLbCwHjlNUaEYYW2FgPHabo1jC82wzBHjbb+Ntv422/I22/7DcGsbbfoZNtgj8hqDQZQzjbB3Kw3CsWjBJNsEgZjbb+Ntv422/jbb+Ntv2M42wdysNwrF1iQKiMLzbBIBH5DUGkYYW2FgPEbbfxtt+htt/Ybg1422/YwwtsLew3Bi4HcrDcK4wvNsMgSI22/QybbBI5DUGgzG235G23/Ybg1jbb+Ntv422/jbb9jGrbAtuQ1Bg4DA7TdGpGF5thkCP2G4NSNtv+U1RpG238bbfoZxtg8dpujUWjJtsEcZYxU2wMkrDcKwQFiQKo22wSBiNtv422/jbb8jDC2wsB3Kw3CuNtsMwSI22/QAAu4SMEe2/jbb8jAx7bCwHjlNUaEbbfCsNwrIwvNsMwSOQ1BpG238bbfoZxtg8cpqjQWjJtsEcZQ22/kNQacbbfxtt/G238bbfkbbf8hqDSMEi2/jbb+Ntv422/IwLg2wzBH5DUGhG23/Iag0jbb+Ntv422/Q22wR+Q1BoMxtt/G238bbfxtt/G238bbfxtt/G238bbfxtt/G238bbfxtt/G238bbfxtt/G238bbfxtt/G238bbfxtt/G238bbfxtt/G237wAAAbZU8CP////////fAACMxP///xe///////+/AACdxP///////gMYOtt/Iag0+wAAqoT/+FwAtBRp2r0a//////8Xv//3AAC7hP///////+8AAAG2VWAl////////3wAARmJ///////////sAAE7if/xfTv//i4GPavRr//7wMe8AAFVCf//////////7AABdwn////////cAAAG2VfAj////////3wAAjMT///////////cAAJ3E/////DHLb///3gBeAACqhP//////////9wAAu4T////////vAAABtlZgI////////98AAIzE///////////3AACdxP////wxg623///vAC9/AACqhP//////////9wAAu4T////////vAAABtlbwI////////98AAIzE///////////3AACdxP/8X3E1QP//4uAFbTjMWAFjL//xf2r0a78AAKqE///////////3AAC7hP///////+8AAAG2V2Aj////////3wAAjMT//////////4vp3QAAncT//DGDrbf//+4AX///fwAAqoT///////////cAALuE////////7wAAAbZX8CX////////fAABGYn//////////+wAATuJ//FgYxkLACLacZ//////vAABVQn//////////+wAAXcJ////////3AAABtlhgI////////98AAIzE///////////3AACdxP/4DHLb+Q1BpiwAsZ//////vwAAqoT///////////cAALuE////////7wAAAbZY8CX////////fAABGYn//////////+wAATuJ//FgYxkLACPauM//////3AABVQn//////////+wAAXcJ////////3AAABtllgJf///////98AAEZif//////////7AABO4n/4sDGMxfCD/////+8AAFVCf//////////7AABdwn////////cAAAG2WfAl////////3wAARmJ//////////i/lWo0+AABO4n/3Axv//8WBnp3///0AAFVCf//////////7AABdwn////////cAAAGzABEHAAABthpgUYI9t/G238bbfxtt/G238bbfxtt/G238bbfxtt/G238bbfxtt/G238bbfxtt/G238bbfxtt/G236G239huDXI22/7DcGsbbfkbbf9huDWNtvyNtv+w3BqRtt/2G4NY22/jbb8jbb/sNwaxtt+Rtt/2G4NY22/jbb+Ntv422/jB3Nv0M42wdysNwrFiMatsC1Awe03RrGF5thmCORhhbYWA7lYbhWRhebYZgkdhuDUjDC2wsB3Kw3Csjbb8rDcK4wvNsMwSCNtv+w3BqRhhbYWA7lYbhXGF5thmCQRhhbYWA8dpujWMC4NsMwR422/QAAjMSMEe2/jbb8jB3Nv+w3Bqhtt/Iag0yMMLbCwHjlNUaIYXm2GfYbg1BHI22/5DUGhGGFthYDx2m6NSMLzbDMEfkNQaEbbf8hqDSNtvyMMLbCwHcrDcKyMLzbDMEjkNQaRtt+RhhbYWA8cpqjSMC4NsMwR422/jbb+Ntv2MMLbC3sNwYuB3Kw3CuMLzbDIEgjC82wzBIKg2CpDONsHcrDcKxaMm2wSBljbbvYbgxd8pqjSNtv422/I22/7DcGpGF5thmCRyGoNI22/jbb9jC82wz6Swagj8hqDSNtv422/jbb+Ntv2MVNsDJKw3CsEBYkCqNtsEgYYwwtsLew3Bi4HYrDcK2MLzbBI4SQaAkdhuDUjbb/sNwasYqbYGSVhuFYF+sSBVG22CQMRtt+RhhbYWA7lYbhXGF5thmCRG236G239huDXQzjbB3Kw3CsWjbbBIGY22/jbb+Ntv0Mm2wSOQ1BoMRtt+xiptgZXaboxeBf8hqDQjDC2wLQDB7TdGpG23/abo1QwvNsEjkNQaAjxtt/G235GF5thmCRyGoNI22/jbb9DONsHcrDcKxZDJtsEjkNQaDMbbfxtt+/AACdxIwR7b+NtvyMHc2/7DcGpG23/Ybg1jONsHgWjGrbAtAMEjbb/lNUaRhebYZgjxtt/G238bbfxtt/GDtbfoYJJt/Iag0422/jBItv422/jbb+NtvyMMLbCwHjtN0akbbfCsNwrQxU2/lNUaAX5G23/Kao0IwvNsMwR+Q1BpG238bbfxtt/G236G239huDXIwSTb/sNwaxtt/G238bbfxtt/G238bbfxtt+RhebYZgklQbBUhttgj8hqDQZIwvNsMwR+Q1BpG238bbfxtt/G238bbfoZxtg8dpujUWIxq2wLQDAKw3CuMLzbDMEiNtv422/jbb9wAAqoSMEe2/jbb8jAx7bCwHjlNUaEbbf9pujUjC82wzBH7DcGsbbfxtt/G238bbfxtt/G236GcbYPHKao0FmMm2wR+ksGozyGoNI22/jbb+MEi2/jbb+Ntv422/YwvNsM+ksGoI/Iag0IwwtsLAeOU1RoRhhbYWA8dpujWMLzbDMEeNtv422/jbb8jbb/sNwaxtt+hk22CPyGoNBlDONsHcrDcKxaMm2wSBmNtv422/jbb+Ntv422/YzjbB3Kw3CsXWJAqIwvNsEgEfkNQaRhhbYWA8Rtt/G236G239huDXjbb9jDC2wt7DcGLgdysNwrjC82wyBIjbb9DJtsEjkNQaDMbbfkbbf9huDWNtv422/jbb+Ntv2MatsC25DUGDgMDtN0akYXm2GQI/Ybg1I22/5TVGkbbfxtt+hnG2Dx2m6NRaMm2wRxljFTbAySsNwrBAWJAqjbbBIGI22/jbb+NtvyMMLbCwHcrDcK422wzBIjbb9wAAu4SMEe2/jbb8jAx7bCwHjlNUaEbbfCsNwrIwvNsMwSOQ1BpG238bbfoZxtg8cpqjQWjJtsEcZQ22/kNQacbbfxtt/G238bbfkbbf8hqDSMEi2/jbb+Ntv422/IwLg2wzBH5DUGhG23/Iag0jbb+Ntv422/Q22wR+Q1BoMxtt/G238bbfxtt/G238bbfxtt/G238bbfxtt/G238bbfxtt/G238bbfxtt/G238bbfxtt/G238bbfxtt/G238bbfxtt/G237wAAAbZa8CX////////fAABGYn///4vf///////fAABO4n/3Axi/tXo1//////0AAFVCf////////F7//98AAF3Cf///////9wAAAbZbYCP////////fAACMxP//////////9wAAncT/4Y5bfuAF//////4AAKqE///////////3AAC7hP///////+8AAAG2W/Aj////////3wAAjMT//////////hjB1tv/fwAAncT/9wAv//////cAAKqE///////////3AAC7hP///////+8AAAG2XGAj////////3wAAjMT//////////DGDrbfhjBJNv/cAAJ3E////////7wAAqoT///////////cAALuE////////7wAAAbZoOBL////////vAABGYn/////////8eBjGTgY/vwAATuJ////////3AABVQn//////////+wAAXcJ////////3AAABtlDgJf///////98AAEZif/////////jwMYzHgYxl+wAATuJ////////3AABVQn//////////+wAAXcJ////////3AAABtlFwI////////98AAIzE//////////DHLb8eAFjL9wAAncT////////vAACqhP//////////9wAAu4T////////vAAABtlHgI////////98AAIzE//////////DGDrbfjwAsZfsAAJ3E////////7wAAqoT///////////cAALuE////////7wAAAbZScCP////////fAACMxP/////////3ACx4AWMv3wAAncT////////vAACqhP//////////9wAAu4T////////vAAABtlLgI////////98AAIzE//////////DGDrbfjwAsZfsAAJ3E////////7wAAqoT///////////cAALuE////////7wAAAbZTcCP////////fAACMxP/////////3ACx4AWMv3wAAncT////////vAACqhP//////////9wAAu4T////////vAAABswARRwAAAbYT4FGCPbfxtt/G238bbfxtt/G238bbfxtt/G238bbfxtt/G238bbfxtt/G238bbfxtt/G238bbfxtt+htt/Ybg1yNtv+w3BrG235G23/Ybg1jbb8jbb/sNwakbbf9huDWNtv422/I22/7DcGsbbfkbbf9huDWNtv422/jbb+Ntv4wdzb9DONsHcrDcKxYjGrbAtQMHtN0axhebYZgjkYYW2FgO5WG4VkYXm2GYJHYbg1IwwtsLAdysNwrI22/Kw3CuMLzbDMEgjbb/sNwakYYW2FgO5WG4VxhebYZgkEYYW2FgPHabo1jAuDbDMEeNtv0AAIzEjBHtv422/Iwdzb/sNwaobbfyGoNMjDC2wsB45TVGiGF5thn2G4NQRyNtv+Q1BoRhhbYWA8dpujUjC82wzBH5DUGhG23/Iag0jbb8jDC2wsB3Kw3CsjC82wzBI5DUGkbbfkYYW2FgPHKao0jAuDbDMEeNtv422/jbb9jDC2wt7DcGLgdysNwrjC82wyBIIwvNsMwSCoNgqQzjbB3Kw3CsWjJtsEgZY2272G4MXfKao0jbb+Ntv422/IwvNsMwSOQ1BpG238bbfsYXm2GfSWDUEfkNQaRtt/G238bbfxtt+xiptgZJWG4VggLEgVRttgkDDGGFthb2G4MXA7FYbhWxhebYJHCSDQEjsNwakbbf9huDVjFTbAySsNwrAv1iQKo22wSBiNtv4wdrb+MEk2/jbb9Dbb+w3BroZxtg7lYbhWLRttgkDMbbfxtt/G236GTbYJHIag0GI22/YxU2wMrtN0YvAv+Q1BoRhhbYFoBg9pujUjbb/tN0aoYXm2CRyGoNAR422/jbb+MEk2/jbb+Ntv0M42wdysNwrFkMm2wSOQ1BoMxtt/G2378AAJ3EjBHtv422/Iwdzb/sNwakbbf9huDWM42weBaMatsC0AwSNtv+U1RpGF5thmCPG238bbfxtt/G238bbfobbfyGoNONtv4wSLb+Ntv422/jbb8jDC2wsB47TdGpG23wrDcK0MVNv5TVGgF+Rtt/ymqNCMLzbDMEfkNQaRtt/G238bbfxtt+htt/Ybg1yNtv+w3BrG238bbfxtt/G238bbfxtt/G235GF5thmCSVBsFSG22CPyGoNBkjC82wzBH5DUGkbbfxtt/G238bbfxtt+hnG2Dx2m6NRYjGrbAtAMArDcK4wvNsMwSI22/jbb+Ntv0AAKqEjBHtv422/IwMe2wsB45TVGhG23/abo1IwvNsMwR+w3BrG238bbfxtt/G238bbfxtt+hnG2DxymqNBZjJtsEfpLBqM8hqDSNtv422/jBItv422/jbb+Ntv2MLzbDPpLBqCPyGoNCMMLbCwHjlNUaEYYW2FgPHabo1jC82wzBHjbb+Ntv422/I22/7DcGsbbfoZNtgj8hqDQZQzjbB3Kw3CsWjJtsEgZjbb+Ntv422/jbb+Ntv2M42wdysNwrF1iQKiMLzbBIBH5DUGkYYW2FgPEbbfxtt+htt/Ybg1422/YwwtsLew3Bi4HcrDcK4wvNsMgSI22/QybbBI5DUGgzG235G23/Ybg1jbb+Ntv422/jbb9jGrbAtuQ1Bg4DA7TdGpGF5thkCP2G4NSNtv+U1RpG238bbfoZxtg8dpujUWjJtsEcZYxU2wMkrDcKwQFiQKo22wSBiNtv422/jbb8jDC2wsB3Kw3CuNtsMwSI22/cAALuEjBHtv422/IwMe2wsB45TVGhG23wrDcKyMLzbDMEjkNQaRtt/G236GcbYPHKao0FoybbBHGUNtv5DUGnG238bbfxtt/G235G23/Iag0jBItv422/jbb+NtvyMC4NsMwR+Q1BoRtt/yGoNI22/jbb+Ntv0NtsEfkNQaDMbbfxtt/G238bbfxtt/G238bbfxtt/G238bbfxtt/G238bbfxtt/G238bbfxtt/G238bbfxtt/G238bbfxtt/G238bbfxtt+8AAAG2VHAl////////3wAARmJ///+L3///uBjcDH///98AAE7if///////9wAAVUJ////////8Xv//3wAAXcJ////////3AAABtlTgI////////98AAIzE///////hjlt///7wAv9/AACdxP///////+8AAKqE///////////3AAC7hP///////+8AAAG2VXAj////////3wAAjMT/////////4Ywdbb94AX+/AACdxP///////+8AAKqE///////////3AAC7hP///////+8AAAG2VeAl////////3wAARmJ//////+8DH//3gY/7AABO4n////////cAAFVCf//////////7AABdwn////////cAAAG2VnAj////////3wAAjMT//////8Mctv3AC////38AAJ3E////////7wAAqoT///////////cAALuE////////7wAAAbZW4CP////////fAACMxP///8MYOtt///7gBf///78AAJ3E////////7wAAqoT///////////cAALuE////////7wAAAbZXcCP////////fAACMxP///9wAtwAv//////0AAJ3E////////7wAAqoT///////////cAALuE////////7wAAAbZX4CP////////fAACMxP/DGDrbf//+4AX//////78AAJ3E////////7wAAqoT///////////cAALuE////////7wAAAbZYcCP///////H/KtRp9wAAjMT/x4AX2r0av//+P+1ejX//////vwAAncT////////vAACqhP//////////9wAAu4T////////vAAABtljgI////////98AAIzE/+4AX//7wAv//////QAAncT////////vAACqhP//////////9wAAu4T////////vAAABtllwI////////98AAIzE////94AX//3gBf///QAAncT////////vAACqhP//////////9wAAu4T////////vAAABswARRwAAAbYZ4FGCPbfxtt/G238bbfxtt/G238bbfxtt/G238bbfxtt/G238bbfxtt/G238bbfxtt/G238bbfxtt+htt/Ybg1yNtv+w3BrG235G23/Ybg1jbb8jbb/sNwakbbf9huDWNtv422/I22/7DcGsbbfkbbf9huDWNtv422/jbb+Ntv4wdzb9DONsHcrDcKxYjGrbAtQMHtN0axhebYZgjkYYW2FgO5WG4VkYXm2GYJHYbg1IwwtsLAdysNwrI22/Kw3CuMLzbDMEiNtvyMMLbCwHcrDcK4wvNsMwSCMMLbCwHjtN0axgXBthmCPG2378AAIzEjBHtv422/Iwdzb/sNwaobbfyGoNMjDC2wsB45TVGiGF5thn2G4NQRyNtv+Q1BoRhhbYWA8dpujUjC82wzBH5DUGhG23/Iag0jbb+NtvyNtv+Q1BpG235GGFthYDxymqNIwLg2wzBHjbb+Ntv422/YwwtsLew3Bi4HcrDcK4wvNsMgSCMLzbDMEgqDYKkM42wdysNwrFoybbBIGWNtu9huDF3ymqNI22/jbb+Ntv422/jbb+Ntv2MLzbDPpLBqCPyGoNI22/jbb+Ntv422/YxU2wMkrDcKwQFiQKo22wSBhjDC2wt7DcGLgdisNwrYwvNsEjhJBoCR2G4NSNtv+w3BqxiptgZJWG4VgX6xIFUbbYJAxG238bbfxtt/GDtbfoYJJt/Ybg10M42wdysNwrFo22wSBmNtv422/jbb9DJtsEjkNQaDEbbfsYqbYGV2m6MXgX/Iag0IwwtsC0Awe03RqRtt/2m6NUMLzbBI5DUGgI8bbfxtt/G238bbfxgkm36GcbYO5WG4ViyGTbYJHIag0GY22/jbb9/AACdxIwR7b+NtvyMHc2/7DcGpG23/Ybg1jONsHgWjGrbAtAMEjbb/lNUaRhebYZgjxtt/G238bbfxtt/G236G238hqDTjbb+MEi2/jbb+Ntv422/IwwtsLAeO03RqRtt8Kw3CtDFTb+U1RoBfkbbf8pqjQjC82wzBH5DUGkbbfxtt/G238bbfobbf2G4Ncjbb/sNwaxtt/G238bbfxtt/G238bbfxtt+RhebYZgklQbBUhttgj8hqDQZIwvNsMwR+Q1BpG238bbfxtt/G238bbfoZxtg8dpujUWIxq2wLQDAKw3CuMLzbDMEiNtv422/jbb9AACqhIwR7b+NtvyMDHtsLAeOU1RoRtt/2m6NSMLzbDMEfsNwaxtt/G238bbfxtt/G238bbfoZxtg8cpqjQWYybbBH6SwajPIag0jbb+Ntv4wSLb+Ntv422/jbb9jC82wz6Swagj8hqDQjDC2wsB45TVGhGGFthYDx2m6NYwvNsMwR422/jbb+NtvyNtv+w3BrG236GTbYI/Iag0GUM42wdysNwrFoybbBIGY22/jbb+Ntv422/jbb9jONsHcrDcKxdYkCojC82wSAR+Q1BpGGFthYDxG238bbfobbf2G4NeNtv2MMLbC3sNwYuB3Kw3CuMLzbDIEiNtv0Mm2wSOQ1BoMxtt+Rtt/2G4NY22/jbb+Ntv422/Yxq2wLbkNQYOAwO03RqRhebYZAj9huDUjbb/lNUaRtt/G236GcbYPHabo1FoybbBHGWMVNsDJKw3CsEBYkCqNtsEgYjbb+Ntv422/IwwtsLAdysNwrjbbDMEiNtv3AAC7hIwR7b+NtvyMDHtsLAeOU1RoRtt8Kw3CsjC82wzBI5DUGkbbfxtt+hnG2DxymqNBaMm2wRxlDbb+Q1Bpxtt/G238bbfxtt+Rtt/yGoNIwSLb+Ntv422/jbb8jAuDbDMEfkNQaEbbf8hqDSNtv422/jbb9DbbBH5DUGgzG238bbfxtt/G238bbfxtt/G238bbfxtt/G238bbfxtt/G238bbfxtt/G238bbfxtt/G238bbfxtt/G238bbfxtt/G238bbfvAAABtlpwI////////98AAIzE////F7///+8AL//7wAvvAACdxP///////+8AAKqE////////+L3//78AALuE////////7wAAAbZa4CP////////fAACMxP///////i/lWo0//7wArgBffwAAncT/+L+1ejX/////+wAAqoT///////////cAALuE////////7wAAAbZbcCP////////fAACMxP//////////cALFgBYy3wAAncT////////vAACqhP//////////9wAAu4T////////vAAABtlvgI////////98AAIzE//////////+LACxlvwAAncT//FwAoz//////fwAAqoT///////////cAALuE////////7wAAAbZccCP////////fAACMxP//////////9wAAncT/+GMHW2/DGCSbf//////vAACqhP//////////9wAAu4T////////vAAABtmgwEv///////+8AAEZif//////////7AABO4n/7gY3//////78AAFVCf//////////7AABdwn////////cAAAG2UPAj////////3wAAjMT///////////cAAJ3E//DHLb///x8AKMv//+8AAKqE///////////3AAC7hP///////+8AAAG2UWAj////////3wAAjMT///////////cAAJ3E////+8AL//4+AFGfvwAAqoT/8f9q9Gv////////9AAC7hP///////+8AAAG2UfAj////////3wAAjMT///////////cAAJ3E///////94AVwAvsAAKqE///////////3AAC7hP///////+8AAAG2UmAj////////3wAAjMT///////////cAAJ3E/////DGDrbf//+4AX38AAKqE///////////3AAC7hP///////+8AAAG2UvAl////////3wAARmJ///////////sAAE7if////cDG4GP///cAAFVCf//////////7AABdwn////////cAAAGzABGHAAABthNgUYI9t/G238bbfxtt/G238bbfxtt/G238bbfxtt/G238bbfxtt/G238bbfxtt/G238bbfxtt/G236G239huDXI22/7DcGsbbfkbbf9huDWNtvyNtv+w3BqRtt/2G4NY22/jbb8jbb/sNwaxtt+Rtt/2G4NY22/jbb+Ntv422/jB3Nv0M42wdysNwrFiMatsC1Awe03RrGF5thmCORhhbYWA7lYbhWRhebYZgkdhuDUjDC2wsB3Kw3Csjbb8rDcK4wvNsMwSI22/IwwtsLAdysNwrjC82wzBIIwwtsLAeO03RrGBcG2GYI8bbfvwAAjMSMEe2/jbb8jB3Nv+w3Bqhtt/Iag0yMMLbCwHjlNUaIYXm2GfYbg1BHI22/5DUGhGGFthYDx2m6NSMLzbDMEfkNQaEbbf8hqDSNtv422/I22/5DUGkbbfkYYW2FgPHKao0jAuDbDMEeNtv422/jbb9jDC2wt7DcGLgdysNwrjC82wyBIIwvNsMwSCoNgqQzjbB3Kw3CsWjJtsEgZY2272G4MXfKao0jbb+Ntv422/jbb+Ntv422/YwvNsM+ksGoI/Iag0jbb+Ntv422/jbb9jFTbAySsNwrBAWJAqjbbBIGGMMLbC3sNwYuB2Kw3CtjC82wSOEkGgJHYbg1I22/7DcGrGKm2BklYbhWBfrEgVRttgkDEbbfxtt/G238bbfxtt+hnG2DuVhuFYtG22CQMxtt/G238bbfoZNtgkchqDQYjbb9jFTbAyu03Ri8C/5DUGhGGFtgWgGD2m6NSNtv+03RqhhebYJHIag0BHjbb+Ntv422/jbb+Ntv422/QybbBI5DUGgzG238bbfvAACdxIwR7b+NtvyMHc2/7DcGpG23/Ybg1jONsHgWjGrbAtAMEjbb/lNUaRhebYZgjxtt/G238bbfxtt/GDtbfxgkm38bbfxgkW38bbfxtt/G235GGFthYDx2m6NSNtvhWG4VoYqbfymqNAL8jbb/lNUaEYXm2GYI/Iag0jbb+Ntv422/jbb9Dbb+w3Brxgkm38bbfxtt/G238bbfxtt/G238bbfkYXm2GYJJUGwVIbbYI/Iag0GSMLzbDMEfkNQaRtt/G238bbfxtt/G236GcbYPHabo1FoybbBHGY22/jbb+Ntv422/fwAAqoSMEe2/jbb8jAx7bCwHjlNUaEbbf9pujUjC82wzBH7DcGsbbfxtt/G238bbfxtt/G236GcbYPHKao0FkMm2wR+w3BqMxtt/G238YJFt/G238bbfxtt+xhebYZ9JYNQR+Q1BoRhhbYWA8cpqjQjDC2wsB47TdGsYXm2GYI8bbfxtt/G235G23/Ybg1jbb9DJtsEfkNQaDKGcbYO5WG4Vi0ZNtgkDMbbfxtt/G238bbfxtt+xnG2DuVhuFYusSBURhebYJAI/Iag0jDC2wsB4jbb+Ntv0Ntv7DcGvG237GGFthb2G4MXA7lYbhXGF5thkCRG236GTbYJHIag0GY22/I22/7DcGsbbfxtt/G238bbfsY1bYFtyGoMHAYHabo1IwvNsMgR+w3BqRtt/ymqNI22/jbb9DONsHjtN0ai0ZNtgjjLGKm2BklYbhWCAsSBVG22CQMRtt/G238bbfkYYW2FgO5WG4VxtthmCRG237wAAu4SMEe2/jbb8jAx7bCwHjlNUaEbbfCsNwrIwvNsMwSOQ1BpG238bbfoZxtg8cpqjQWjJtsEcZQ22/kNQacbbfxtt/G238bbfkbbf8hqDSMEi2/jbb+Ntv422/IwLg2wzBH5DUGhG23/Iag0jbb+Ntv422/Q22wR+Q1BoMxtt/G238bbfxtt/G238bbfxtt/G238bbfxtt/G238bbfxtt/G238bbfxtt/G238bbfxtt/G238bbfxtt/G238bbfxtt/G237wAAAbZT8CX////////fAABGYn///4vf///////fAABO4n/3Axv//////78AAFVCf////////F7//98AAF3Cf///////9wAAAbZUYCX////////fAABGYn//////////+wAATuJ/7gY3//////+/AABVQn//////////+wAAXcJ////////3AAABtlTwJf///////98AAEZif/////////3gY/sAAE7if+4GP//////3AABVQn//////////+wAAXcJ////////3AAABtlVgI////////98AAIzE//////////hjlt+4AX9/AACdxP///////+8AAKqE///////////3AAC7hP///////+8AAAG2VfAj////////3wAAjMT//////////cALcAL9AACdxP///////+8AAKqE///////////3AAC7hP///////+8AAAG2VmAj////////3wAAjMT//////////DGDrbfuAF+/AACdxP///////+8AAKqE///////////3AAC7hP///////+8AAAG2VvAj////////3wAAjMT//////////cALcAL9AACdxP///////+8AAKqE///////////3AAC7hP///////+8AAAG2V2Aj////////3wAAjMT//////////DGDrbfuAF+/AACdxP///////+8AAKqE///////////3AAC7hP///////+8AAAG2V/Aj////////3wAAjMT//////////cALcAL9AACdxP///////+8AAKqE///////////3AAC7hP///////+8AAAG2WGAj////////3wAAjMT//////////uAFuAF9AACdxP///////+8AAKqE///////////3AAC7hP///////+8AAAG2WPAj////////3wAAjMT///////4Ywdbb///3AC+/AACdxP///////+8AAKqE///////////3AAC7hP///////+8AAAGzABGHAAABthlgUYI9t/G238bbfxtt/G238bbfxtt/G238bbfxtt/G238bbfxtt/G238bbfxtt/G238bbfxtt/G236G239huDXI22/7DcGsbbfkbbf9huDWNtvyNtv+w3BqRtt/2G4NY22/jbb8jbb/sNwaxtt+Rtt/2G4NY22/jbb+Ntv422/jB3Nv0M42wdysNwrFiMatsC1Awe03RrGF5thmCORhhbYWA7lYbhWRhebYZgkdhuDUjDC2wsB3Kw3Csjbb8rDcK4wvNsMwSI22/IwwtsLAdysNwrjC82wzBIIwwtsLAeO03RrGBcG2GYI8bbfvwAAjMSMEe2/jbb8jB3Nv+w3Bqhtt/Iag0yMMLbCwHjlNUaIYXm2GfYbg1BHI22/5DUGhGGFthYDx2m6NSMLzbDMEfkNQaEbbf8hqDSNtv422/I22/5DUGkbbfkYYW2FgPHKao0jAuDbDMEeNtv422/jbb9jDC2wt7DcGLgdysNwrjC82wyBIIwvNsMwSCoNgqQzjbB3Kw3CsWjJtsEgZY2272G4MXfKao0jbb+Ntv422/jbb+Ntv422/YwvNsM+ksGoI/Iag0jbb+Ntv422/jbb9jFTbAySsNwrBAWJAqjbbBIGGMMLbC3sNwYuB2Kw3CtjC82wSOEkGgJHYbg1I22/7DcGrGKm2BklYbhWBfrEgVRttgkDEbbfxtt/G238YO1t/GCSbfoZxtg7lYbhWLRttgkDMbbfxtt/G236GTbYJHIag0GI22/YxU2wMrtN0YvAv+Q1BoRhhbYFoBg9pujUjbb/tN0aoYXm2CRyGoNAR422/jbb+Ntv422/jBJNv422/QybbBI5DUGgzG238bbfvwAAncSMEe2/jbb8jB3Nv+w3BqRtt/2G4NYzjbB4Foxq2wLQDBI22/5TVGkYXm2GYI8bbfxtt/G238bbfxtt/G238bbfxgkW38bbfxtt/G235GGFthYDx2m6NSNtvhWG4VoYqbfymqNAL8jbb/lNUaEYXm2GYI/Iag0jbb+Ntv422/jbb9Dbb+w3Brxtt/G238bbfxtt/G238bbfxtt/G235GF5thmCSVBsFSG22CPyGoNBkjC82wzBH5DUGkbbfxtt/G238bbfxtt+hnG2Dx2m6NRaMm2wRxmNtv422/jbb+Ntv3wAAqoSMEe2/jbb8jAx7bCwHjlNUaEbbf9pujUjC82wzBH7DcGsbbfxtt/G238bbfxtt/G236GcbYPHKao0FkMm2wR+w3BqMxtt/G238YJFt/G238bbfxtt+xhebYZ9JYNQR+Q1BoRhhbYWA8cpqjQjDC2wsB47TdGsYXm2GYI8bbfxtt/G235G23/Ybg1jbb9DJtsEfkNQaDKGcbYO5WG4Vi0ZNtgkDMbbfxtt/G238bbfxtt+xnG2DuVhuFYusSBURhebYJAI/Iag0jDC2wsB4jbb+Ntv0Ntv7DcGvG237GGFthb2G4MXA7lYbhXGF5thkCRG236GTbYJHIag0GY22/I22/7DcGsbbfxtt/G238bbfsY1bYFtyGoMHAYHabo1IwvNsMgR+w3BqRtt/ymqNI22/jbb9DONsHjtN0ai0ZNtgjjLGKm2BklYbhWCAsSBVG22CQMRtt/G238bbfkYYW2FgO5WG4VxtthmCRG237wAAu4SMEe2/jbb8jAx7bCwHjlNUaEbbfCsNwrIwvNsMwSOQ1BpG238bbfoZxtg8cpqjQWjJtsEcZQ22/kNQacbbfxtt/G238bbfkbbf8hqDSMEi2/jbb+Ntv422/IwLg2wzBH5DUGhG23/Iag0jbb+Ntv422/Q22wR+Q1BoMxtt/G238bbfxtt/G238bbfxtt/G238bbfxtt/G238bbfxtt/G238bbfxtt/G238bbfxtt/G238bbfxtt/G238bbfxtt/G237wAAAbZZ8CP////////fAACMxP///xe////vACuAF///7wAAncT////////vAACqhP////////i9//+/AAC7hP///////+8AAAG2WmAj////////3wAAjMT///////wxg6237gBf//+/AACdxP///////+8AAKqE///////////3AAC7hP///////+8AAAG2WvAj////////3wAAjMT///////3AC///eAF9AACdxP///////+8AAKqE///////////3AAC7hP///////+8AAAG2W2Aj////////3wAAjMT//////////DGDrbfvAC+/AACdxP///////+8AAKqE///////////3AAC7hP///////+8AAAG2W/Al////////3wAARmJ//////////cDG4GP7AABO4n////////cAAFVCf//////////7AABdwn////////cAAAG2XGAj////////3wAAjMT/////////+GOW3/4AAJ3E/94AX//////3AACqhP//////////9wAAu4T////////vAAABtmg4Ef///////+8AAIzE///////////3AACdxP/eAFDGDrbf//////9/AACqhP//////////9wAAu4T////////vAAABtlDgI////////98AAIzE///////////3AACdxP/uAF//+LgBRl///78AAKqE///////////3AAC7hP///////+8AAAG2UXAj////////3wAAjMT///////////cAAJ3E////4Ywdbb8XACjL///3AACqhP//////////9wAAu4T////////vAAABtlHgI////////98AAIzE///////////3AACdxP///+8AL//7wAv7AACqhP//////////9wAAu4T////////vAAABtlJwI////////98AAIzE///////////3AACdxP//////94AX9wAAqoT/3gBf////////+wAAu4T////////vAAABswARxwAAAbYS4FGCPbfxtt/G238bbfxtt/G238bbfxtt/G238bbfxtt/G238bbfxtt/G238bbfxtt/G238bbfxtt+htt/Ybg1yNtv+w3BrG235G23/Ybg1jbb8jbb/sNwakbbf9huDWNtv422/I22/7DcGsbbfkbbf9huDWNtv422/jbb+Ntv4wdzb9DONsHcrDcKxYjGrbAtQMHtN0axhebYZgjkYYW2FgO5WG4VkYXm2GYJHYbg1IwwtsLAdysNwrI22/Kw3CuMLzbDMEiNtvyMMLbCwHcrDcK4wvNsMwSCMMLbCwHjtN0axgXBthmCPG2378AAIzEjBHtv422/Iwdzb/sNwaobbfyGoNMjDC2wsB45TVGiGF5thn2G4NQRyNtv+Q1BoRhhbYWA8dpujUjC82wzBH5DUGhG23/Iag0jbb+NtvyNtv+Q1BpG235GGFthYDxymqNIwLg2wzBHjbb+Ntv422/YwwtsLew3Bi4HcrDcK4wvNsMgSCMLzbDMEgqDYKkM42wdysNwrFoybbBIGWNtu9huDF3ymqNI22/jbb+Ntv422/jbb+Ntv2MLzbDPpLBqCPyGoNI22/jbb+Ntv422/YxU2wMkrDcKwQFiQKo22wSBhjDC2wt7DcGLgdisNwrYwvNsEjhJBoCR2G4NSNtv+w3BqxiptgZJWG4VgX6xIFUbbYJAxG238bbfxtt/G238bbfoZxtg7lYbhWLRttgkDMbbfxtt/G236GTbYJHIag0GI22/YxU2wMrtN0YvAv+Q1BoRhhbYFoBg9pujUjbb/tN0aoYXm2CRyGoNAR422/jbb+Ntv422/jbb+Ntv0Mm2wSOQ1BoMxtt/G237wAAncSMEe2/jbb8jB3Nv+w3BqRtt/2G4NYzjbB4Foxq2wLQDBI22/5TVGkYXm2GYI8bbfxtt/G238bbfxtt/G238bbfxgkW38bbfxtt/G235GGFthYDx2m6NSNtvhWG4VoYqbfymqNAL8jbb/lNUaEYXm2GYI/Iag0jbb+Ntv422/jbb9Dbb+w3Brxtt/G238bbfxtt/G238bbfxtt/G235GF5thmCSVBsFSG22CPyGoNBkjC82wzBH5DUGkbbfxtt/G238bbfxtt+hnG2Dx2m6NRaMm2wRxmNtv422/jbb+Ntv3wAAqoSMEe2/jbb8jAx7bCwHjlNUaEbbf9pujUjC82wzBH7DcGsbbfxtt/G238bbfxg7W38YJJt+hnG2DxymqNBZDJtsEfsNwajMbbfxtt/GCRbfxtt/G238bbfsYXm2GfSWDUEfkNQaEYYW2FgPHKao0IwwtsLAeO03RrGF5thmCPG238bbfxtt+Rgkm3/Ybg1jbb9DJtsEfkNQaDKGcbYO5WG4Vi0ZNtgkDMbbfxtt/G238bbfxtt+xnG2DuVhuFYusSBURhebYJAI/Iag0jDC2wsB4jbb+Ntv0Ntv7DcGvG237GGFthb2G4MXA7lYbhXGF5thkCRG236GTbYJHIag0GY22/I22/7DcGsbbfxtt/G238bbfsY1bYFtyGoMHAYHabo1IwvNsMgR+w3BqRtt/ymqNI22/jbb9DONsHjtN0ai0ZNtgjjLGKm2BklYbhWCAsSBVG22CQMRtt/G238bbfkYYW2FgO5WG4VxtthmCRG2378AALuEjBHtv422/IwMe2wsB45TVGhG23wrDcKyMLzbDMEjkNQaRtt/G236GcbYPHKao0FoybbBHGUNtv5DUGnG238bbfxtt/G235G23/Iag0jBItv422/jbb+NtvyMC4NsMwR+Q1BoRtt/yGoNI22/jbb+Ntv0NtsEfkNQaDMbbfxtt/G238bbfxtt/G238bbfxtt/G238bbfxtt/G238bbfxtt/G238bbfxtt/G238bbfxtt/G238bbfxtt/G238bbfxtt+8AAAG2U3Aj////////3wAAjMT///8Xv///////vwAAncT//////+GMHW2//gAAqoT/uAF///////xe///fAAC7hP///////+8AAAG2U+Al////////3wAARmJ///////////sAAE7if//////uBjcDH/cAAFVCf//////////7AABdwn////////cAAAG2VHAj////////3wAAjMT///////////cAAJ3E///////DHLb//QAAqoT/eAF/////////+wAAu4T////////vAAABtlTgI////////98AAIzE///////////3AACdxP//////wxg623/+AACqhP94AX/////////7AAC7hP///////+8AAAG2VXAj////////3wAAjMT///////////cAAJ3E///////eAF/3AACqhP94AX/////////7AAC7hP///////+8AAAG2VeAj////////3wAAjMT///////////cAAJ3E////////7wAAqoT/eAFDGDrbf/////////+/AAC7hP///////+8AAAG2VnAl////////3wAARmJ///////////sAAE7if///////9wAAVUJ/uBjf/////////98AAF3Cf///////9wAAAbZW4CP////////fAACMxP//////////9wAAncT////////vAACqhP8Mctv///eAF///////fwAAu4T////////vAAABtldwI////////98AAIzE///////////3AACdxP///////+8AAKqE////vACjwAsZf//////fAAC7hP///////+8AAAG2V+Aj////////3wAAjMT///////////cAAJ3E////////7wAAqoT////cAL//8LwAoyGf//j9/98AALuE////////7wAAAbZYcCP////////fAACMxP//////////9wAAncT////////vAACqhP//////4uAFGQsALGf///0AALuE////////7wAAAbMAEccAAAG2GOBRgj238bbfxtt/G238bbfxtt/G238bbfxtt/G238bbfxtt/G238bbfxtt/G238bbfxtt/G238bbfobbf2G4Ncjbb/sNwaxtt+Rtt/2G4NY22/I22/7DcGpG23/Ybg1jbb+NtvyNtv+w3BrG235G23/Ybg1jbb+Ntv422/jbb+MHc2/QzjbB3Kw3CsWIxq2wLUDB7TdGsYXm2GYI5GGFthYDuVhuFZGF5thmCR2G4NSMMLbCwHcrDcKyNtvysNwrjC82wzBIjbb8jDC2wsB3Kw3CuMLzbDMEgjDC2wsB47TdGsYFwbYZgjxtt+/AACMxIwR7b+NtvyMHc2/7DcGqG238hqDTIwwtsLAeOU1RohhebYZ9huDUEcjbb/kNQaEYYW2FgPHabo1IwvNsMwR+Q1BoRtt/yGoNI22/jbb8jbb/kNQaRtt+RhhbYWA8cpqjSMC4NsMwR422/jbb+Ntv2MMLbC3sNwYuB3Kw3CuMLzbDIEgjC82wzBIKg2CpDONsHcrDcKxaMm2wSBljbbvYbgxd8pqjSNtv422/jbb+Ntv422/jbb9jC82wz6Swagj8hqDSNtv422/jbb+Ntv2MVNsDJKw3CsEBYkCqNtsEgYYwwtsLew3Bi4HYrDcK2MLzbBI4SQaAkdhuDUjbb/sNwasYqbYGSVhuFYF+sSBVG22CQMRtt/G238bbfxtt/G236GcbYO5WG4Vi0bbYJAzG238bbfxtt+hk22CRyGoNBiNtv2MVNsDK7TdGLwL/kNQaEYYW2BaAYPabo1I22/7TdGqGF5tgkchqDQEeNtv422/jbb+Ntv422/jbb9DJtsEjkNQaDMbbfxtt+8AAJ3EjBHtv422/Iwdzb/sNwakbbf9huDWM42weBaMatsC0AwSNtv+U1RpGF5thmCPG238bbfxtt/G238bbfxtt/G238YJFt/G238bbfxtt+RhhbYWA8dpujUjbb4VhuFaGKm38pqjQC/I22/5TVGhGF5thmCPyGoNI22/jbb+Ntv422/Q22/sNwa8bbfxtt/G238bbfxtt/G238bbfxtt+RhebYZgklQbBUhttgj8hqDQZIwvNsMwR+Q1BpG238bbfxtt/G238bbfoZxtg8dpujUWjJtsEcZjbb+Ntv422/jbb98AAKqEjBHtv422/IwMe2wsB45TVGhG23/abo1IwvNsMwR+w3BrG238bbfxtt/G238bbfxtt+hnG2DxymqNBZDJtsEfsNwajMbbfxtt/GCRbfxtt/G238bbfsYXm2GfSWDUEfkNQaEYYW2FgPHKao0IwwtsLAeO03RrGF5thmCPG238bbfxtt/G238bbfoZNtgj8hqDQZQzjbB3Kw3CsWjJtsEgZjbb+Ntv422/jbb+Ntv2M42wdysNwrF1iQKiMLzbBIBH5DUGkYYW2FgPEbbfxtt+htt/Ybg1422/Q22/sNwa8bbfxg7W36GCSbYJHIag0GY22/I22/7DcGsbbfxtt/G238bbfsY1bYFtyGoMHAYHabo1IwvNsMgR+w3BqRtt/ymqNI22/jbb9DONsHjtN0ai0ZNtgjjKGcbYO5WG4Vi0ZNtgkDMYJJt/G238bbfkYYW2FgO5WG4VxtthmCRG234AALuEjBHtv422/IwMe2wsB45TVGhG23wrDcKyMLzbDMEjkNQaRtt/G236GcbYPHKao0FoybbBHGUNtv5DUGnG238bbfxtt/G235G23/Iag0jBItv422/jbb+NtvyMC4NsMwR+Q1BoRtt/yGoNI22/jbb+Ntv0NtsEfkNQaDMbbfxtt/G238bbfxtt/G238bbfxtt/G238bbfxtt/G238bbfxtt/G238bbfxtt/G238bbfxtt/G238bbfxtt/G238bbfxtt+8AAAG2WXAj////////3wAAjMT///8Xv///////vwAAncT////////vAACqhP//////+LgBe1ejX+L3/7wAv38AALuE////////7wAAAbZZ4CP////////fAACMxP//////////9wAAncT////////vAACqhP/////////94AVwAv0AALuE////////7wAAAbZacCP////////fAACMxP//////////9wAAncT////////vAACqhP/////////+4AX7AAC7hP/3gBf/////9wAAAbZa4CX////////fAABGYn//////////+wAATuJ////////3AABVQn//////////+wAAXcJ/9wMb//////+/AAABtltwJf///////98AAEZif//////////7AABO4n////////cAAFVCf/////////7wMfsAAF3Cf/cDH//////3AAABtlvgI////////98AAIzE///////////3AACdxP///////+8AAKqE//////////wxy2/cAL9/AAC7hP///////+8AAAG2XHAj////////3wAAjMT///////////cAAJ3E////////7wAAqoT//////////uAF+wAAu4T/94AX//////cAAAG2aDAR////////7wAAjMT///////////cAAJ3E////////7wAAqoT///////////cAALuE//eAFDGDrbf//////38AAAG2UPAn///i/lWo0H/KtRpH/KtRpH/KtRoP+VajTH/KtRpH/KtRp7wXxcF/lWo0HwX+VajR4L4+C/yrUaPBfHwX+VajQfBf5VqNHgvvBfHwX+VajR4L4+C/yrUabwAAIzE3BfhjBHtvwxtt+GNtvwxtt+GNtvwxtt+GNtvwxtt+GNtvwxtt+GNtv3Bb+4L8Mbbfhjbb8Mbbfhjbb8Mbbfhjbb8Mbbfhjbb8Mbbfhjbb8MbbfuC39wX4Y22/DG234Y22/DG234Y22/DG234Y22/DG234Y22/DG234Y22/cFv7gvwxtt+GNtvwxtt+GNtvwxtt+GNtvwxtt+GNtvwxtt+GNtvwxtt+4LffwAAJ3E3BfhjBHtvwxtt+GNtvwxtt+GNtvwxtt+GNtvwxtt+GNtvwxtt+GNtv3Bb+4L9wM8MYI9t+GNtvwxtt+GNtvwxtt+GNtvwxtt+GNtvwxtt+GNtv3Bb++4L8Mbbfhjbb8Mbbfhjbb8Mbbfhjbb8Mbbfhjbb8Mbbfhjbb9wW+wAAKqE3BfhjBHtvwxtt+GNtvwxtt+GNtvwxtt+GNtvwxtt+GNtvwxtt+GNtv3Bb+4L9wM9wE8MYI9t+GNtvwxtt+GNtvwxtt+GNtvwxtt+GNtvwxtt+4Lf333Bfhjbb8Mbbfhjbb8Mbbfhjbb8Mbbfhjbb8Mbbfhjbb9wW/vvuC/DG234Y22/DG234Y22/DG234Y22/DG234Y22/DG237gt9wAALuE3BfhjBHtv3aC2++L+1cZvvvvvvv+P+1ejUf9q9GvFpBf7V6Nf///9AAAGmW1vb3YAAABsbXZoZAAAAAAAAAAAAAAAAAAAA+gAAB+QAAEAAAEAAAAAAAAAAAAAAAABAAAAAAAAAAAAAAAAAAAAAQAAAAAAAAAAAAAAAAAAQAAAAAAAAAAAAAAAAAAAAAAAAAAAAAAAAAAAAAAAAAIAAAXDdHJhawAAAFx0a2hkAAAAAwAAAAAAAAAAAAAAAQAAAAAAAB+QAAAAAAAAAAAAAAAAAAAAAAABAAAAAAAAAAAAAAAAAAAAAQAAAAAAAAAAAAAAAAAAQAAAAAEQAAABEAAAAAAAJGVkdHMAAAAcZWxzdAAAAAAAAAABAAAfkAAAAAAAAQAAAAAFO21kaWEAAAAgbWRoZAAAAAAAAAAAAAAAAAAAMgAAAZQAVcQAAAAAAC1oZGxyAAAAAAAAAAB2aWRlAAAAAAAAAAAAAAAAVmlkZW9IYW5kbGVyAAAABOZtaW5mAAAAFHZtaGQAAAABAAAAAAAAAAAAAAAkZGluZgAAABxkcmVmAAAAAAAAAAEAAAAMdXJsIAAAAAEAAASmc3RibAAAAMZzdHNkAAAAAAAAAAEAAAC2bXA0dgAAAAAAAAABAAAAAAAAAAAAAAAAAAAAAAEQARAASAAAAEgAAAAAAAAAAQAAAAAAAAAAAAAAAAAAAAAAAAAAAAAAAAAAAAAAAAAAABj//wAAAGBlc2RzAAAAAAOAgIBPAAEABICAgEEgEQAAAAADDUAAAJ/yBYCAgC8AAAGwAQAAAbWJEwAAAQAAAAEgAMSNiADNCIQiFEMAAAGyTGF2YzU4LjE4LjEwMAaAgIABAgAAABhzdHRzAAAAAAAAAAEAAADKAAACAAAAAFRzdHNzAAAAAAAAABEAAAABAAAADQAAABkAAAAlAAAAMQAAAD0AAABJAAAAVQAAAGEAAABtAAAAeQAAAIUAAACRAAAAnQAAAKkAAAC1AAAAwQAAABxzdHNjAAAAAAAAAAEAAAABAAAAygAAAAEAAAM8c3RzegAAAAAAAAAAAAAAygAAB4sAAABRAAAATQAAAEoAAABHAAAASwAAAE8AAABPAAAAUwAAAFkAAABOAAAATgAAB14AAABRAAAATwAAAEYAAABIAAAASgAAAEkAAABGAAAASAAAAE4AAABDAAAARQAAB0MAAABNAAAARQAAAEcAAABCAAAATQAAAEsAAABEAAAARQAAAEcAAABCAAAASAAAByQAAABHAAAARAAAAEgAAABLAAAAVgAAAE4AAABKAAAAQgAAAEQAAABIAAAATgAABtgAAABSAAAASwAAAE8AAABMAAAARwAAAEoAAABNAAAATQAAAFMAAABSAAAARQAABqUAAABNAAAATwAAAEYAAABGAAAATQAAAEwAAABHAAAASgAAAEoAAABGAAAAQQAABnUAAABGAAAAQwAAAEIAAABFAAAARgAAAEUAAABBAAAAQQAAAEEAAABEAAAARgAABmQAAABPAAAARQAAAEIAAABKAAAASwAAAFEAAABKAAAASgAAAEkAAABJAAAATAAABkcAAABLAAAASAAAAEUAAABCAAAARQAAAEUAAABKAAAAUwAAAEwAAABIAAAARgAABhEAAABSAAAASAAAAEMAAABFAAAAUAAAAEcAAABHAAAASQAAAEcAAABEAAAASAAABeoAAABIAAAAQwAAAEUAAABHAAAARAAAAEUAAABFAAAARgAAAEQAAABGAAAARAAABdUAAABGAAAARAAAAEUAAABCAAAARAAAAEUAAABCAAAARQAAAE0AAABCAAAAQgAABcEAAABGAAAASwAAAEQAAABGAAAARwAAAEEAAABFAAAASAAAAEIAAABFAAAAQgAABaUAAABFAAAAQQAAAEIAAABEAAAAQgAAAEUAAABCAAAARQAAAEIAAABCAAAARQAABaUAAABGAAAARQAAAEIAAABFAAAAQgAAAEMAAABFAAAARAAAAEYAAABCAAAAQgAABaUAAABIAAAAQgAAAEMAAABEAAAAQgAAAEUAAABBAAAARAAAAEQAAABHAAAARQAABZIAAABKAAAAQgAAAEIAAABBAAAAQgAAAEQAAABCAAAARQAAAlwAAAAUc3RjbwAAAAAAAAABAAAALAAAAGJ1ZHRhAAAAWm1ldGEAAAAAAAAAIWhkbHIAAAAAAAAAAG1kaXJhcHBsAAAAAAAAAAAAAAAALWlsc3QAAAAlqXRvbwAAAB1kYXRhAAAAAQAAAABMYXZmNTguMTIuMTAw\" type=\"video/mp4\" />\n",
       "             </video>"
      ],
      "text/plain": [
       "<IPython.core.display.HTML object>"
      ]
     },
     "execution_count": 10,
     "metadata": {},
     "output_type": "execute_result"
    }
   ],
   "source": [
    "# Initialize the game\n",
    "env = Environment(grid_size=size, max_time=T, temperature=temperature)\n",
    "\n",
    "# Initialize the agent!\n",
    "agent = RandomAgent()\n",
    "\n",
    "test(agent, env, epochs_test, prefix='random')\n",
    "HTML(display_videos('random0.mp4'))"
   ]
  },
  {
   "cell_type": "markdown",
   "metadata": {},
   "source": [
    "***\n",
    "## DQN"
   ]
  },
  {
   "cell_type": "markdown",
   "metadata": {},
   "source": [
    "Let us assume here that $T=\\infty$.\n",
    "\n",
    "***\n",
    "__Question 5__ Let $\\pi$ be a policy, show that:\n",
    "\n",
    "\\begin{equation*}\n",
    "Q^{\\pi}(s,a)=E_{(s',a')\\sim p(.|s,a)}[r(s,a)+\\gamma Q^{\\pi}(s',a')]\n",
    "\\end{equation*}\n",
    "\n",
    "Then, show that for the optimal policy $\\pi^*$ (we assume its existence), the following holds: \n",
    "\n",
    "\\begin{equation*}\n",
    "Q^{*}(s,a)=E_{s'\\sim \\pi^*(.|s,a)}[r(s,a)+\\gamma\\max_{a'}Q^{*}(s',a')].\n",
    "\\end{equation*}\n",
    "Finally, deduce that a plausible objective is:\n",
    "\n",
    "\\begin{equation*}\n",
    "\\mathcal{L}(\\theta)=E_{s' \\sim \\pi^*(.|s,a)}\\Vert r+\\gamma\\max\\max_{a'}Q(s',a',\\theta)-Q(s,a,\\theta)\\Vert^{2}.\n",
    "\\end{equation*}\n",
    "\n",
    "\n"
   ]
  },
  {
   "cell_type": "markdown",
   "metadata": {},
   "source": [
    "**Answer**\n",
    "\n",
    "Let us show that $Q^{\\pi}(s,a)=E_{(s',a')\\sim p(.|s,a)}[r(s,a)+\\gamma Q^{\\pi}(s',a')]$.\n",
    "\n",
    "\\begin{align}\n",
    "Q^{\\pi}(s,a) &= E_{p^{\\pi}}\\left[\\sum_{t \\geq 0}\\gamma^{t}r(s_{t},a_{t})|s_{0}=s,a_{0}=a \\right] \\\\\n",
    "&= E_{p^{\\pi}} \\left[ r(s, a) + \\sum_{t \\geq 1} \\gamma^t r(s_t, a_t) | s_0 = s, a_0 = a \\right] \\\\\n",
    "&= r(s, a) + \\gamma E_{p^{\\pi}} \\left[ E_{(s_1, d_1) \\sim p( . | s, a)} \\left[ \\sum_{t \\geq 1} \\gamma^{t - 1} r(s_t, a_t) \\right] | s_0 = s, a_0 = a \\right] \\\\ \n",
    "&= r(s, a) + E_{(s',a')\\sim p(.|s,a)} \\left[ E_{p^{\\pi}} \\left[\\sum_{t \\geq 0}\\gamma^{t}r(s_{t},a_{t})|s_{0}=s',a_{0}=a' \\right] \\right] \\\\ \n",
    "&= E_{(s',a')\\sim p(.|s,a)}[r(s,a)+\\gamma Q^{\\pi}(s',a')]\n",
    "\\end{align}\n",
    "\n",
    "Let us show that $Q^{*}(s,a)=E_{s'\\sim \\pi^*(.|s,a)}[r(s,a)+\\gamma\\max_{a'}Q^{*}(s',a')]$. We not $a^*$ the action chosen using the optimal policy $\\pi^*$. We consider the policies $\\pi^{a'}$ as chosing the action $a'$. By definition of the optimal policy, we have $\\forall s', a', $Q^{\\pi^*}(s, a) = Q^*(s, a) \\geq Q$"
   ]
  },
  {
   "cell_type": "markdown",
   "metadata": {},
   "source": [
    "***\n",
    "The DQN-learning algorithm relies on these derivations to train the parameters $\\theta$ of a Deep Neural Network:\n",
    "\n",
    "1. At the state $s_t$, select the action $a_t$ with best reward using $Q_t$ and store the results;\n",
    "\n",
    "2. Obtain the new state $s_{t+1}$ from the environment $p$;\n",
    "\n",
    "3. Store $(s_t,a_t,s_{t+1})$;\n",
    "\n",
    "4. Obtain $Q_{t+1}$ by minimizing  $\\mathcal{L}$ from a recovered batch from the previously stored results.\n",
    "\n",
    "***\n",
    "__Question 6__ Implement the class ```Memory``` that stores moves (in a replay buffer) via ```remember``` and provides a ```random_access``` to these. Specify a maximum memory size to avoid side effects. You can for example use a ```list()``` and set by default ```max_memory=100```."
   ]
  },
  {
   "cell_type": "code",
   "execution_count": 26,
   "metadata": {},
   "outputs": [],
   "source": [
    "class Memory(object):\n",
    "    def __init__(self, max_memory=100):\n",
    "        self.max_memory = max_memory\n",
    "        self.memory = list()\n",
    "\n",
    "    def remember(self, m):\n",
    "        self.memory = self.memory[-99:] + [m]\n",
    "\n",
    "    def random_access(self):\n",
    "        return self.memory[np.random.randint(0, len(self.memory))]"
   ]
  },
  {
   "cell_type": "markdown",
   "metadata": {},
   "source": [
    "***\n",
    "The pipeline we will use for training is given below:"
   ]
  },
  {
   "cell_type": "code",
   "execution_count": 27,
   "metadata": {},
   "outputs": [],
   "source": [
    "def train(agent, env, epoch, prefix=''):\n",
    "    # Number of won games\n",
    "    score = 0\n",
    "    loss = 0\n",
    "\n",
    "    for e in range(epoch):\n",
    "        # At each epoch, we restart to a fresh game and get the initial state\n",
    "        state = env.reset()\n",
    "        # This assumes that the games will terminate\n",
    "        game_over = False\n",
    "\n",
    "        win = 0\n",
    "        lose = 0\n",
    "\n",
    "        while not game_over:\n",
    "            # The agent performs an action\n",
    "            action = agent.act(state)\n",
    "\n",
    "            # Apply an action to the environment, get the next state, the reward\n",
    "            # and if the games end\n",
    "            prev_state = state\n",
    "            state, reward, game_over = env.act(action)\n",
    "\n",
    "            # Update the counters\n",
    "            if reward > 0:\n",
    "                win = win + reward\n",
    "            if reward < 0:\n",
    "                lose = lose - reward\n",
    "\n",
    "            # Apply the reinforcement strategy\n",
    "            loss = agent.reinforce(prev_state, state,  action, reward, game_over)\n",
    "\n",
    "        # Save as a mp4\n",
    "        if e % 10 == 0:\n",
    "            env.draw(prefix+str(e))\n",
    "\n",
    "        # Update stats\n",
    "        score += win - lose\n",
    "\n",
    "        print(\"Epoch {:03d}/{:03d} | Loss {:.4f} | Win/lose count {}/{} ({})\"\n",
    "              .format(e, epoch, loss, win, lose, win-lose))\n",
    "        agent.save(name_weights=prefix+'model.h5',name_model=prefix+'model.json')"
   ]
  },
  {
   "cell_type": "markdown",
   "metadata": {},
   "source": [
    "***\n",
    "__Question 7__ Implement the DQN training algorithm using a cascade of fully connected layers. You can use different learning rate, batch size or memory size parameters. In particular, the loss might oscillate while the player will start to win the games. You have to find a good criterium."
   ]
  },
  {
   "cell_type": "code",
   "execution_count": 63,
   "metadata": {},
   "outputs": [],
   "source": [
    "class DQN(Agent):\n",
    "    def __init__(self, grid_size, epsilon = 0.1, memory_size=100, batch_size=16, n_state=2):\n",
    "        super(DQN, self).__init__(epsilon = epsilon)\n",
    "\n",
    "        # Discount for Q learning\n",
    "        self.discount = 0.99  # Initial value 0.99\n",
    "        \n",
    "        self.grid_size = grid_size\n",
    "        \n",
    "        # number of state\n",
    "        self.n_state = n_state\n",
    "\n",
    "        # Memory\n",
    "        self.memory = Memory(memory_size)\n",
    "        \n",
    "        # Batch size when learning\n",
    "        self.batch_size = batch_size\n",
    "\n",
    "    def learned_act(self, s):\n",
    "        sample = np.zeros((1, 5, 5, self.n_state))\n",
    "        sample[0, :, :, :] = s\n",
    "        return np.argmax(self.model.predict(sample)[0])\n",
    "\n",
    "    def reinforce(self, s_, n_s_, a_, r_, game_over_):\n",
    "        # Memorize current step\n",
    "        self.memory.remember([s_, n_s_, a_, r_, game_over_])\n",
    "        \n",
    "        # Learn from pool of states\n",
    "        input_states = np.zeros((self.batch_size, 5, 5, self.n_state))  # (5x5) for the known cells\n",
    "        target_q = np.zeros((self.batch_size, 4))  # 4 is the number of actions\n",
    "        \n",
    "        for i in range(self.batch_size):\n",
    "            s_, n_s_, a_, r_, game_over_ = self.memory.random_access()\n",
    "            \n",
    "#             if game_over_:\n",
    "#                 target_q[i, :] = r_\n",
    "#             else:\n",
    "            sample = np.zeros((1, 5, 5, self.n_state))\n",
    "            sample[0, :, :, :] = n_s_\n",
    "            input_states[i, :, :, :] = s_\n",
    "            target_q[i, :] = r_ + self.discount * self.model.predict(sample)[0]\n",
    "        # HINT: Clip the target to avoid exploiding gradients.. -- clipping is a bit tighter\n",
    "        target_q = np.clip(target_q, -3, 3)\n",
    "\n",
    "        l = self.model.train_on_batch(input_states, target_q)\n",
    "        return l\n",
    "\n",
    "    def save(self,name_weights='model.h5', name_model='model.json'):\n",
    "        self.model.save_weights(name_weights, overwrite=True)\n",
    "        with open(name_model, \"w\") as outfile:\n",
    "            json.dump(self.model.to_json(), outfile)\n",
    "            \n",
    "    def load(self,name_weights='model.h5',name_model='model.json'):\n",
    "        with open(name_model, \"r\") as jfile:\n",
    "            model = model_from_json(json.load(jfile))\n",
    "        model.load_weights(name_weights)\n",
    "        model.compile(\"sgd\", \"mse\")\n",
    "        self.model = model\n",
    "\n",
    "            \n",
    "class DQN_FC(DQN):\n",
    "    def __init__(self, *args, lr=0.1,**kwargs):\n",
    "        super(DQN_FC, self).__init__( *args,**kwargs)\n",
    "        \n",
    "        # NN Model\n",
    "        model = Sequential()\n",
    "        model.add(keras.layers.Flatten(input_shape=(5, 5, 2)))\n",
    "        model.add(Dense(64, activation=\"relu\")) # , kernel_regularizer=\"l1\"))\n",
    "        model.add(Dense(64, activation=\"relu\")) # , kernel_regularizer=\"l1\"))\n",
    "        model.add(Dense(self.n_action, activation=\"linear\"))\n",
    "        \n",
    "        model.compile(sgd(lr=lr, decay=1e-4, momentum=0.0), \"mse\")\n",
    "        self.model = model\n",
    "        "
   ]
  },
  {
   "cell_type": "code",
   "execution_count": 64,
   "metadata": {},
   "outputs": [
    {
     "name": "stdout",
     "output_type": "stream",
     "text": [
      "Epoch 000/021 | Loss 0.0039 | Win/lose count 3.0/4.0 (-1.0)\n",
      "Epoch 001/021 | Loss 0.0056 | Win/lose count 3.0/4.0 (-1.0)\n",
      "Epoch 002/021 | Loss 0.0873 | Win/lose count 3.0/9.0 (-6.0)\n",
      "Epoch 003/021 | Loss 0.0124 | Win/lose count 5.0/4.0 (1.0)\n",
      "Epoch 004/021 | Loss 0.0095 | Win/lose count 5.0/3.0 (2.0)\n",
      "Epoch 005/021 | Loss 0.0725 | Win/lose count 6.5/7.0 (-0.5)\n",
      "Epoch 006/021 | Loss 0.0107 | Win/lose count 6.0/6.0 (0.0)\n",
      "Epoch 007/021 | Loss 0.0441 | Win/lose count 4.0/12.0 (-8.0)\n",
      "Epoch 008/021 | Loss 0.0616 | Win/lose count 9.0/19.0 (-10.0)\n",
      "Epoch 009/021 | Loss 0.0391 | Win/lose count 4.5/8.0 (-3.5)\n",
      "Epoch 010/021 | Loss 0.0496 | Win/lose count 4.5/6.0 (-1.5)\n",
      "Epoch 011/021 | Loss 0.0077 | Win/lose count 4.0/5.0 (-1.0)\n",
      "Epoch 012/021 | Loss 0.0210 | Win/lose count 6.5/7.0 (-0.5)\n",
      "Epoch 013/021 | Loss 0.0264 | Win/lose count 11.5/16.0 (-4.5)\n",
      "Epoch 014/021 | Loss 0.1646 | Win/lose count 13.0/10.0 (3.0)\n",
      "Epoch 015/021 | Loss 0.0300 | Win/lose count 4.5/6.0 (-1.5)\n",
      "Epoch 016/021 | Loss 0.0488 | Win/lose count 7.5/11.0 (-3.5)\n",
      "Epoch 017/021 | Loss 0.0035 | Win/lose count 4.5/5.0 (-0.5)\n",
      "Epoch 018/021 | Loss 0.0146 | Win/lose count 4.0/8.0 (-4.0)\n",
      "Epoch 019/021 | Loss 0.0046 | Win/lose count 2.5/8.0 (-5.5)\n",
      "Epoch 020/021 | Loss 0.0015 | Win/lose count 3.5/6.0 (-2.5)\n"
     ]
    },
    {
     "data": {
      "text/html": [
       "<video alt=\"test\" controls>\n",
       "                <source src=\"data:video/mp4;base64,AAAAHGZ0eXBpc29tAAACAGlzb21pc28ybXA0MQAAAAhmcmVlAACziW1kYXQAAAGzABAHAAABthBgUYI9t/G238bbfxtt/G238bbfxtt/G238bbfxtt/G238bbfxtt/G238bbfxtt/G238bbfxtt/G238bbfxtt/G235G23/Ybg1I22/7DcGsbbfkbbf9huDVDbb+w3Brkbbf9huDUjbb/sNwaxtt+Rtt/2G4NY22/jbb+Ntv422/jB3Nv422/jbb+NtvyMMLbCwHjtN0akbbf9pujWMLzbDMEdjDC2wt7DcGLgdysNwrQxU2wMkrDcKwL8jGrbAtQMArDcKyNtvysNwrjC82wzBIIwwtsLAdysNwrjAuDbDMEiNtv38AAIzEjBHtv422/Iwdzb/sNwakbbf9huDWNtvyNtv+w3BqxhhbYW9huDFwPHKao0jbbnGF5thmCOxnG2DuVhuFYusSBUhk22CRyGoNBgjbb6VBsFRG23zkNQaRtt+Rtt/yGoNIwSLb+Ntv422/jbb8jDC2wsB3Kw3Csjbb72m6NSMLzbDMEfsNwakYYW2FgPHabo1YxU2wMorBUgwVgX5UGwVRjVtgWoGARtt/2G4NUMm2wSSoNgqGENtv7DcGuRhhbYWA7FYbhWRhebYZgkdhuDVDbb+w3Brkbbf9huDWNtv422/jbb+Ntv2MLzbDPpLBqCRyGoNCMMLbCwHjlNUaEYYW2FgPHabo1Y2272G4MXfKao0Yxq2wLbkNQYOB/Kw3CtjbbvYbgxd8pqjRjDC2wt7DcGLgdysNwrYxU2wMkrDcKwQFiQKmNtvKw3CvWJAqIwvNsEgEkqDYKmMMLbC3sNwYuB3Kw3CtDFTbAySsNwrAvyMatsC1Awe03RrG22GYI8bbfxtt/G236GcbYO5WG4VixGF5tgkAj8hqDRjDC2wt7DcGLgeOU1RoxiptgZJWG4VgX6xIFRGTbYJAyVBsFTGcbYPHaboxeK8hqDRjbbhWCpBgrpUGwVMY1bYFtyGoMHAYHabo1Y22/kNQYOhWG4Vkbbcvabo1YxU2wMorDcKwL9YkCpDJtsEkqDYKhkjbb/lNUaRtt/G2378AAJ3EjBHtv422/Qwdzb+Q1Bpxtt+xnG2DuVgqQYKxcqDYKkMm2wSOQ1BoMEYYW2FgPHabo1YxU2wMvlNUYPAvuw3BqxjVtgWvIagwcBgFYbhWRtty8pqjQjC82wzBIKg2CojDC2wsB35TVGiGF5thoVBsFQI7GcbYOxWG4Vi6xIFRGTbYJAyVBsFUYJFt8jbb+Ntv422/I22/7DcGsbbfsY1bYFtyGoMHAYHabo1QwvNsMuw3BqCPG237GNW2Ba8hqDBwGAVhuFZGF5thkCSVBsFRG23zkNQaEYYW2FgO5WG4VkYXm2GYI/Iag0QzjbB2Kw3CsWYxq2wLbkNQYOAwCsNwrI225lYbhXG22GYJEbbfxtt/G235GGFthYDuVhuFaGF5thn2G4NQSI225oZxtg7lYbhWLEbbYFr8pqjQjC82wyBI5DUGhGGFthYDx2m6NUMLzbDPsNwagjkYXm2GYJHIag0jbb9DJtsEjkNQaDJGF5thkCRyGoNCNtv+Q1BpG238bbfvAACqhIwR7b+NtvyMHc2/5DUGjGcbYO5WG4Vi6xIFRGNW2BagYHKao0QwvNsNCoNgqBHY2250lg1+Q1BoRtt/2G4NYwwtsLAeEMVNsDKKw3CsC+jBwtsEgZjBJNv0Ntv7DcGuRtt/2G4NY22/jBItv422/jbb+Ntv422/Yxq2wLYqBUAwVA/lYbhWRhebYZgkFQbBUxnG2DsVhuFYusSBUhtt5WG4VwjGrbAtQMArDcK2Ntu9huDF3ymqNGMm2wSOEkGgz2G4NSMEk2/7DcGpG23/Ybg1YzjbB3Kw3CsXWJAqYxq2wLbsNwYuB/Kw3CuMLzbDIEiNtv422/jbb+NtvyNtv+w3BqxiptgZJWCpBgrBAKg2CojDC2wLUDA7TdGrG22BbchqDB32m6NUMLzbDLkNQaAjsYXm2GfSWDUEjkNQaMZxtg7lYKkGCsXKg2CpjDC2wLbsNwYuB/Kw3CsjbbmVhuFZG233tN0asbbYFtyGoMHQrDcK2MVNsDJKw3CsEBYkCpDbbBI7DcGoxG238bbfxtt/G235GGFthYDuVhuFbG22BbchqDB2VhuFZG23/Kao0Y22/sNwYu+U1RpG236GcbYPHabo1FmMatsC1KgVAMFQGAVhuFbGKm2BklYbhWCAsSBURk22CQMlQbBVGGFthYDuRhebYZAklQbBUxttgkcJINBjsNwasZxtg7lYbhWLrEgVRttgkDEbbfsAALuEjBHtv422/Iwdzb/kNQaEbbf8hqDQjbb/kNQaMZxtg7lYbhWLrEgVRk22CQMIZxtg8cpqjQWY224VhuFdWJAqQybbBI5DUGgwRhhbYWA7lYbhWRtt95TVGhG23wrDcKyNtvysNwrY227yGoMHZWG4VxgXBthkCRG238bbfxtt/GCRbfxtt/G236G22CRyGoNBiNtv0NtsEfkNQaDKG238hqDTjbb8jbbDMEjkNQaEbbf8hqDQjbb/kNQaEbbf8hqDQjbb/kNQaRtt/G238bbfxtt/G238bbfxtt/G238bbfxtt/G238bbfxtt/G238bbfxtt/G238bbfxtt+/AAABtlDwI////////98AAIzE/F7/////8Xvi9//8Xv8Xv/sAAJ3E///4vf///4EGDrbf8hqDT98AAKqE/8fAC9q9Gv/+L3//xe///xe//78AALuE////////7wAAAbZRYCP////////fAACMxP//////////9wAAncT///////Ag5bf8hqDT9wAAqoT/x8AL2r0a/////////98AALuE////////7wAAAbZR8CP////////fAACMxP//////////9wAAncT////////vAACqhP/HwAvavRr//4+AFGX//////gAAu4T////////vAAABtlJgI////////98AAIzE///////////3AACdxP///////+8AAKqE////7wAv//j4AUZ//+P6d/cAALuE////////7wAAAbZS8CP////////fAACMxP//////////9wAAncT////////vAACqhP//////94AX//x8AKMv3wAAu4T////////vAAABtlNgI////////98AAIzE///////////3AACdxP///////+8AAKqE//////////vAC/sAALuE/8fACjP//x/2r0a////fAAABtlPwI////////98AAIzE///////////3AACdxP///////+8AAKqE///////////3AAC7hP+Axg6238hqDTDGCSbf//////+/AAABtlRgJf///////98AAEZif//////////7AABO4n////////cAAFVCf/////////F9Gv+/AABdwn+FwMfavRqMheMv/+LAz9q9Gv///98AAAG2VPAl////////3wAARmJ///////////sAAE7if///////9wAAVUJ/////////4vuJqgf/3wAAXcJ/C4GMZDML4MMxl//xYGftXo1////3AAABtlVgJf///////98AAEZif//////////7AABO4n////////cAAFVCf//////////7AABdwn4sDGMwvjIZ///////3AAABtlXwJf///////98AAEZif//////////7AABO4n////////cAAFVCf////////94GP/sAAF3CfiwMYz///////38AAAGzABAHAAABthZgUYI9t/G238bbfxtt/G238bbfxtt/G238bbfxtt/G238bbfxtt/G238bbfxtt/G238bbfxtt/G238bbfxtt/G235G23/Ybg1I22/7DcGsbbfkbbf9huDVDbb+w3Brkbbf9huDUjbb/sNwaxtt+Rtt/2G4NY22/jbb+Ntv422/jB3Nv422/jbb+NtvyMMLbCwHjtN0akbbf9pujWMLzbDMEdjDC2wt7DcGLgdysNwrQxU2wMkrDcKwL8jGrbAtQMArDcKyNtvysNwrjC82wzBIIwwtsLAdysNwrjAuDbDMEiNtv38AAIzEjBHtv422/Iwdzb/sNwakbbf9huDWNtvyNtv+w3BqxhhbYW9huDFwPHKao0jbbnGF5thmCOxnG2DuVhuFYusSBUhk22CRyGoNBgjbb6VBsFRG23zkNQaRtt+Rtt/yGoNIwSLb+Ntv422/jbb8jDC2wsB3Kw3Csjbb72m6NSMLzbDMEfsNwakYYW2FgPHabo1YxU2wMorBUgwVgX5UGwVRjVtgWoGARtt/2G4NUMm2wSSoNgqGENtv7DcGuRhhbYWA7FYbhWRhebYZgkdhuDVDbb+w3Brkbbf9huDWNtv422/jbb+Ntv2MLzbDPpLBqCRyGoNCMMLbCwHjlNUaEYYW2FgPHabo1Y2272G4MXfKao0Yxq2wLbkNQYOB/Kw3CtjbbvYbgxd8pqjRjDC2wt7DcGLgdysNwrYxU2wMkrDcKwQFiQKmNtvKw3CvWJAqIwvNsEgEkqDYKmMMLbC3sNwYuB3Kw3CtDFTbAySsNwrAvyMatsC1Awe03RrG22GYI8bbfxtt/G236GcbYO5WG4VixGF5tgkAj8hqDRjDC2wt7DcGLgeOU1RoxiptgZJWG4VgX6xIFRGTbYJAyVBsFTGcbYPHaboxeK8hqDRjbbhWCpBgrpUGwVMY1bYFtyGoMHAYHabo1Y22/kNQYOhWG4Vkbbcvabo1YxU2wMorDcKwL9YkCpDJtsEkqDYKhkjbb/lNUaRtt/G2378AAJ3EjBHtv422/Qwdzb+Q1Bpxtt+xnG2DuVgqQYKxcqDYKkMm2wSOQ1BoMEYYW2FgPHabo1YxU2wMvlNUYPAvuw3BqxjVtgWvIagwcBgFYbhWRtty8pqjQjC82wzBIKg2CojDC2wsB35TVGiGF5thoVBsFQI7GcbYOxWG4Vi6xIFRGTbYJAyVBsFUYJFt8jbb+Ntv422/I22/7DcGsbbfsY1bYFtyGoMHAYHabo1QwvNsMuw3BqCPG237GNW2Ba8hqDBwGAVhuFZGF5thkCSVBsFRG23zkNQaEYYW2FgO5WG4VkYXm2GYI/Iag0QzjbB2Kw3CsWYxq2wLbkNQYOAwCsNwrI225lYbhXG22GYJEbbfxtt/G235GGFthYDuVhuFaGF5thn2G4NQSI225oZxtg7lYbhWLEbbYFr8pqjQjC82wyBI5DUGhGGFthYDx2m6NUMLzbDPsNwagjkYXm2GYJHIag0jbb9DJtsEjkNQaDJGF5thkCRyGoNCNtv+Q1BpG238bbfvAACqhIwR7b+NtvyMHc2/5DUGjGcbYO5WG4Vi6xIFRGNW2BagYHKao0QwvNsNCoNgqBHY2250lg1+Q1BoRtt/2G4NYwwtsLAeEMVNsDKKw3CsC+jJtsEgZjbb9Dbb+w3Brkbbf9huDWNtv4wSLb+Ntv422/jbb+Ntv2MatsC2KgVAMFQP5WG4VkYXm2GYJBUGwVMZxtg7FYbhWLrEgVIbbeVhuFcIxq2wLUDAKw3CtjbbvYbgxd8pqjRjJtsEjhJBoM9huDWNtvyNtv+w3BqxnG2DuVhuFYusSBUxjVtgW3YbgxcD+VhuFcYXm2GQJEbbfxtt/G238bbfkbbf9huDVjFTbAySsFSDBWCAVBsFRGGFtgWoGB2m6NWNtsC25DUGDvtN0aoYMxthlyGoNAR2MEk2wz6SwagkchqDRjONsHcrBUgwVi5UGwVMYYW2BbdhuDFwP5WG4VxhebYZAkEYYW2FgPHabo1Y22wLbkNQYOhWG4VsYqbYGSVhuFYICxIFSG22CR2G4NRiNtv422/jbb+NtvyMMLbCwHcrDcK2NtsC25DUGDsrDcKyNtv+U1Roxtt/Ybgxd8pqjSMEk2/QzjbB3Kw3CsWYxq2wLbkNQYOAwCsNwrYxU2wMkrDcKwQFiQKo22wSBiNtvyMLzbDIEkqDYKmNtsEjhJBoMdhuDVjONsHcrDcKxdYkCqNtsEgYjbb9AAC7hIwR7b+NtvyMHc2/5DUGhG23/Iag0I22/5DUGjGcbYO5WG4Vi6xIFUZNtgkDCG238hqDTI22/5DUGiG238hqDTjbb8jDC2wsB45TVGhG23wrDcKyNtvysNwrY227yGoMHZWG4VxgXBthkCRG238bbfxtt/GCRbfxtt/G236G22CRyGoNBiNtv422/jbb+Ntv422/I22wzBH5DUGhG23/Iag0I22/5DUGhG23/Iag0jbb+Ntv422/jbb+Ntv422/jbb+Ntv422/jbb+Ntv422/jbb+Ntv422/jbb+Ntv422/jbb9/AAABtlbwI////////98AAIzE/F7/////8Xvi9//8Xv8Xv/sAAJ3E///4vf////9/AACqhP///4vf//F7wGOW38hqDT//4veLgBe1ejX/3wAAu4T////////vAAABtldgI////////98AAIzE///////////3AACdxP///////+8AAKqE//////8BjB1tv5DUGn//4uAF7V6Nf/cAALuE////////7wAAAbZX8CP////////fAACMxP//////////9wAAncT////////vAACqhP//////AY5bfyGoNP//xcAL2r0a/+8AALuE////////7wAAAbZYYCP////////fAACMxP//////////9wAAncT////////vAACqhP//////AYwdbb+Q1Bp//+LgBe1ejX/3AAC7hP///////+8AAAG2WPAj////////3wAAjMT///////////cAAJ3E////////7wAAqoT//////wGOW38hqDTC4AWOwLgwzGX///+/AAC7hP///////+8AAAG2WWAj////////3wAAjMT///////////cAAJ3E////////7wAAqoT+P+VajT//wxg623///iwAsdgXBhn////vAAC7hP///////+8AAAG2WfAj////////3wAAjMT///////////cAAJ3E////////7wAAqoT///8Mctv///FwAoy////3AAC7hP///////+8AAAG2WmAj////////3wAAjMT///////////cAAJ3E////////7wAAqoT//////4uAFGQEGDrbfSoNgq//8X0//gAAu4T////////vAAABtlrwI////////98AAIzE///////////3AACdxP///////+8AAKqE//////+Axg6239huDXAgwSTb6VBsFX//i8a/7wAAu4T////////vAAABtltgI////////98AAIzE///////////3AACdxP///////+8AAKqE//////+LgBRkBBg6230qDYKv///7AAC7hP///////+8AAAG2W/Aj////////3wAAjMT///////////cAAJ3E////////7wAAqoT//////4DGDrbf2G4NcCDBJNvpUGwVf///3wAAu4T////////vAAABswAQBwAAAbYcYFGCPbfxtt/G238bbfxtt/G238bbfxtt/G238bbfxtt/G238bbfxtt/G238bbfxtt/G238bbfxtt/G238bbfxtt+Rtt/2G4NSNtv+w3BrG235G23/Ybg1Q22/sNwa5G23/Ybg1I22/7DcGsbbfkbbf9huDWNtv422/jbb+Ntv4wdzb+Ntv422/jbb8jDC2wsB47TdGpG23/abo1jC82wzBHYwwtsLew3Bi4HcrDcK0MVNsDJKw3CsC/Ixq2wLUDAKw3Csjbb8rDcK4wvNsMwSCMMLbCwHcrDcK4wLg2wzBIjbb9/AACMxIwR7b+NtvyMHc2/7DcGpG23/Ybg1jbb8jbb/sNwasYYW2FvYbgxcDxymqNI225xhebYZgjsZxtg7lYbhWLrEgVIZNtgkchqDQYI22+lQbBURtt85DUGkbbfkbbf8hqDSMEi2/jbb+Ntv422/IwwtsLAdysNwrI22+9pujUjC82wzBH7DcGpGGFthYDx2m6NWMVNsDKKwVIMFYF+VBsFUY1bYFqBgEbbf9huDVDJtsEkqDYKhhDbb+w3BrkYYW2FgOxWG4VkYXm2GYJHYbg1Q22/sNwa5G23/Ybg1jbb+Ntv422/jbb9jC82wz6SwagkchqDQjDC2wsB45TVGhGGFthYDx2m6NWNtu9huDF3ymqNGMatsC25DUGDgfysNwrY2272G4MXfKao0YwwtsLew3Bi4HcrDcK2MVNsDJKw3CsEBYkCpjbbysNwr1iQKiMLzbBIBJKg2CpjDC2wt7DcGLgdysNwrQxU2wMkrDcKwL8jGrbAtQMHtN0axtthmCPG238bbfxtt+hnG2DuVhuFYsRhebYJAI/Iag0YwwtsLew3Bi4HjlNUaMYqbYGSVhuFYF+sSBURk22CQMlQbBUxnG2Dx2m6MXivIag0Y224VgqQYK6VBsFTGNW2BbchqDBwGB2m6NWNtv5DUGDoVhuFZG23L2m6NWMVNsDKKw3CsC/WJAqQybbBJKg2CoZI22/5TVGkbbfxtt+/AACdxIwR7b+Ntv0MHc2/kNQacbbfsZxtg7lYKkGCsXKg2CpDJtsEjkNQaDBGGFthYDx2m6NWMVNsDL5TVGDwL7sNwasY1bYFryGoMHAYBWG4VkbbcvKao0IwvNsMwSCoNgqIwwtsLAd+U1RohhebYaFQbBUCOxnG2DsVhuFYusSBURk22CQMlQbBVGCRbfI22/jbb+NtvyNtv+w3BrG237GNW2BbchqDBwGB2m6NUMLzbDLsNwagjxtt+xjVtgWvIagwcBgFYbhWRhebYZAklQbBURtt85DUGhGGFthYDuVhuFZGF5thmCPyGoNEM42wdisNwrFmMatsC25DUGDgMArDcKyNtuZWG4VxtthmCRG238bbfxtt+RhhbYWA7lYbhWhhebYZ9huDUEiNtuaGcbYO5WG4VixG22Ba/Kao0IwvNsMgSOQ1BoRhhbYWA8dpujVDC82wz7DcGoI5GF5thmCRyGoNI22/QybbBI5DUGgyRhebYZAkchqDQjbb/kNQaRtt/G237wAAqoSMEe2/jbb8jB3Nv+Q1BoxnG2DuVhuFYusSBURjVtgWoGBymqNEMLzbDQqDYKgR2NtudJYNfkNQaRtt/GGFthYDwhiptgZRWG4VgX0ZNtgkDMbbfobbf2G4Ncjbb/sNwaxtt/GCRbfxtt/G238bbfxtt+xjVtgWxUCoBgqB/Kw3CsjC82wzBIKg2CpjONsHYrDcKxdYkCpDbbysNwrkZNtgkDJG23/Kao0YybbBI4SQaDPYbg1jbb8jbb/sNwasZxtg7lYbhWLrEgVMY1bYFt2G4MXA/lYbhXGF5thkCRG238bbfxtt/G235G23/Ybg1YxU2wMkrBUgwVggFQbBURhhbYFqBgdpujVjbbAtuQ1Bg77TdGqGF5thlyGoNAR0Ntv7DcGuRgzG2GYJBUGwVMYLNthb2G4MXA7lYbhXGF5thkCQRhhbYWA8dpujVjbbAtuQ1Bg6FYbhWxiptgZJWG4VggLEgVIbbYJHYbg1GI22/jbb+Ntv422/IwwtsLAdysNwrY22wLbkNQYOysNwrI22/5TVGjG239huDF3ymqNI22/QzjbB3Kw3CsWIwWbbAtQMArDcK2MVNsDKKw3CsEBYkCqNtsEgYjbb8jC82wyBJKg2CpjbbBI4SQaDHYbg1YzjbB3Kw3CsXWJAqjbbBIGI22/fAAC7hIwR7b+NtvyMHc2/5DUGhG23/Iag0I22/5DUGjGcbYO5WG4Vi6xIFUZNtgkDCG238hqDTI22/5DUGiG238hqDTjbb8jDC2wsB45TVGhG23wrDcKyNtvysNwrY227yGoMHZWG4VxgXBthkCRG238bbfxtt/GCRbfxtt/G236G22CRyGoNBiNtv422/jbb+Ntv422/I22wzBH5DUGhG23/Iag0I22/5DUGhG23/Iag0jbb+Ntv422/jbb+Ntv422/jbb+Ntv422/jbb+Ntv422/jbb+Ntv422/jbb+Ntv422/jbb9/AAABtmg4Ef///////+8AAIzE/F7/////8Xvi9//8Xv8Xv/sAAJ3E///4vf////9/AACqhP/////+L3wGMHW2/sNwa4EGCSbfSoNgq//i9//3AAC7hP///////+8AAAG2UOAj////////3wAAjMT///////////cAAJ3E////////7wAAqoT//////4uAFGQEGDrbfSoNgq////sAALuE////////7wAAAbZRcCP////////fAACMxP//////////9wAAncT////////vAACqhP//////gMYOtt/Ybg1wIMEk2+lQbBV////fAAC7hP///////+8AAAG2UeAj////////3wAAjMT///////////cAAJ3E////////7wAAqoT//////4uAFGQEGDrbfSoNgq////sAALuE////////7wAAAbZScCP////////fAACMxP//////////9wAAncT////////vAACqhP8fjP//wIMHW2/5DUGn//gQYJJt/2G4Nf///78AALuE////////7wAAAbZS4CP////////fAACMxP//////////9wAAncT////////vAACqhP///4EHLb/kNQaf/+BBg7W3/Ybg1////gAAu4T////////vAAABtlNwI////////98AAIzE///////////3AACdxP///////+8AAKqE////gQYOtt/yGoNP//AgwSTb/sNwa////38AALuE////////7wAAAbZT4CP////////fAACMxP//////////9wAAncT////////vAACqhP///4EHLb/kNQaf/+BBg7W3/Ybg1////gAAu4T////////vAAABtlRwI////////98AAIzE///////////3AACdxP///////+8AAKqE////gQYOtt/yGoNP//AgwSTb/sNwa////38AALuE////////7wAAAbZU4CP////////fAACMxP//////////9wAAncT////////vAACqhP///4EHLb/kNQaf/+BBg7W3/Ybg1////gAAu4T////////vAAABtlVwI////////98AAIzE///////////3AACdxP///////+8AAKqE////gQYOtt/yGoNP//AgwSTb/sNwa////38AALuE////////7wAAAbMAEEcAAAG2FeBRgj238bbfxtt/G238bbfxtt/G238bbfxtt/G238bbfxtt/G238bbfxtt/G238bbfxtt/G238bbfxtt/G238bbfkbbf9huDUjbb/sNwaxtt+Rtt/2G4NUNtv7DcGuRtt/2G4NSNtv+w3BrG235G23/Ybg1jbb+Ntv422/jbb+MHc2/jbb+Ntv422/IwwtsLAeO03RqRtt/2m6NYwvNsMwR2MMLbC3sNwYuB3Kw3CtDFTbAySsNwrAvyMatsC1AwCsNwrI22/Kw3CuMLzbDMEgjDC2wsB3Kw3CuMC4NsMwSI22/fwAAjMSMEe2/jbb8jB3Nv+w3BqRtt/2G4NY22/I22/7DcGrGGFthb2G4MXA8cpqjSNtucYXm2GYI7GcbYO5WG4Vi6xIFSGTbYJHIag0GCNtvpUGwVEbbfOQ1BpG235G23/Iag0jBItv422/jbb+NtvyMMLbCwHcrDcKyNtvvabo1IwvNsMwR+w3BqRhhbYWA8dpujVjFTbAyisFSDBWBflQbBVGNW2BagYBG23/Ybg1QybbBJKg2CoYQ22/sNwa5GGFthYDsVhuFZGF5thmCR2G4NUNtv7DcGuRtt/2G4NY22/jbb+Ntv422/YwvNsM+ksGoJHIag0IwwtsLAeOU1RoRhhbYWA8dpujVjbbvYbgxd8pqjRjGrbAtuQ1Bg4H8rDcK2Ntu9huDF3ymqNGMMLbC3sNwYuB3Kw3CtjFTbAySsNwrBAWJAqY228rDcK9YkCojC82wSASSoNgqYwwtsLew3Bi4HcrDcK0MVNsDJKw3CsC/Ixq2wLUDB7TdGsbbYZgjxtt/G238bbfoZxtg7lYbhWLEYXm2CQCPyGoNGMMLbC3sNwYuB45TVGjGKm2BklYbhWBfrEgVEZNtgkDJUGwVMZxtg8dpujF4ryGoNGNtuFYKkGCulQbBUxjVtgW3IagwcBgdpujVjbb+Q1Bg6FYbhWRtty9pujVjFTbAyisNwrAv1iQKkMm2wSSoNgqGSNtv+U1RpG238bbfvwAAncSMEe2/jbb9DB3Nv5DUGnG237GcbYO5WCpBgrFyoNgqQybbBI5DUGgwRhhbYWA8dpujVjFTbAy+U1Rg8C+7DcGrGNW2Ba8hqDBwGAVhuFZG23LymqNCMLzbDMEgqDYKiMMLbCwHflNUaIYXm2GhUGwVAjsZxtg7FYbhWLrEgVEZNtgkDJUGwVRgkW3yNtv422/jbb8jbb/sNwaxtt+xjVtgW3IagwcBgdpujVDC82wy7DcGoI8bbfsY1bYFryGoMHAYBWG4VkYXm2GQJJUGwVEbbfOQ1BoRhhbYWA7lYbhWRhebYZgj8hqDRDONsHYrDcKxZjGrbAtuQ1Bg4DAKw3CsjbbmVhuFcbbYZgkRtt/G238bbfkYYW2FgO5WG4VoYXm2GfYbg1BIjbbmhnG2DuVhuFYsRttgWvymqNCMLzbDIEjkNQaEYYW2FgPHabo1QwvNsM+w3BqCORhebYZgkchqDSNtv0Mm2wSOQ1BoMkYXm2GQJHIag0I22/5DUGkbbfxtt+8AAKqEjBHtv422/Iwdzb/kNQaMZxtg7lYbhWLrEgVEY1bYFqBgcpqjRDC82w0Kg2CoEdjbbnSWDX5DUGkbbfkYYW2FgPHKao0QxU2wMorDcKwL6Mm2wSBmNtv0Ntv7DcGuRtt/2G4NY22/jBItv422/jbb+Ntv422/Yxq2wLYqBUAwVA/lYbhWRhebYZgkFQbBUxnG2DsVhuFYusSBUhtt5WG4VyMm2wSBkjC82wzBH5DUGjG22CRwkg0Gew3BrG235G23/Ybg1YzjbB3Kw3CsXWJAqYxq2wLbsNwYuB/Kw3CuMLzbDIEiNtv422/jbb+NtvyNtv+w3BqxiptgZJWCpBgrBAKg2CojDC2wLUDA7TdGrG22BbchqDB32m6NUMLzbDLkNQaAjobbf2G4NcjB2tv+w3Bqxgs22FvYbgxcDuVhuFcYXm2GQJBGGFthYDx2m6NWNtsC25DUGDoVhuFbGKm2BklYbhWCAsSBUhttgkdhuDUYjbb+Ntv422/jbb8jDC2wsB3Kw3CtjbbAtuQ1Bg7Kw3Csjbb/lNUaMbbf2G4MXfKao0jbb9DONsHcrDcKxYjBZtsC1AwCsNwrYxU2wMorDcKwQFiQKo22wSBiNtvyMLzbDIEkqDYKmNtsEjhJBoMdhuDVjONsHcrDcKxdYkCqNtsEgYjbb98AALuEjBHtv422/Iwdzb/kNQaEbbf8hqDQjbb/kNQaMZxtg7lYbhWLrEgVRk22CQMIbbfyGoNMjbb/kNQaIbbfyGoNONtvyMMLbCwHjlNUaEbbfCsNwrI22/Kw3CtjbbvIagwdlYbhXGBcG2GQJEbbfxtt/G238YJFt/G238bbfobbYJHIag0GI22/jbb+Ntv422/jbb8jbbDMEfkNQaEbbf8hqDQjbb/kNQaEbbf8hqDSNtv422/jbb+Ntv422/jbb+Ntv422/jbb+Ntv422/jbb+Ntv422/jbb+Ntv422/jbb+Ntv38AAAG2VnAj////////3wAAjMT8Xv/////xe+L3//xe/xe/+wAAncT///i9/////38AAKqE////gQYOtt/yGoNP/4vfgQYJJt/2G4Nf/4vf/98AALuE////////7wAAAbZW4CP////////fAACMxP//////////9wAAncT////////vAACqhP///4EHLb/kNQaf/+BBg7W3/Ybg1////gAAu4T////////vAAABtldwI////////98AAIzE///////////3AACdxP///////+8AAKqE////gQYOtt/yGoNP//AgwSTb/sNwa////38AALuE////////7wAAAbZX4CP////////fAACMxP//////////9wAAncT////////vAACqhP///4EHLb/kNQaf/+BBg7W3/Ybg1////gAAu4T////////vAAABtlhwI////////98AAIzE///////////3AACdxP///////+8AAKqE////gQYOtt/yGoNP//AgwSTb/sNwa////38AALuE////////7wAAAbZY4CP////////fAACMxP//////////9wAAncT////////vAACqhP///4EHLb/kNQaf/+BBg7W3/Ybg1////gAAu4T////////vAAABtllwI////////98AAIzE///////////3AACdxP///////+8AAKqE////gQYOtt/yGoNP//AgwSTb/sNwa////38AALuE////////7wAAAbZZ4CP////////fAACMxP//////////9wAAncT////////vAACqhP///4EHLb/kNQaf/+BBg7W3/Ybg1////gAAu4T////////vAAABtlpwI////////98AAIzE///////////3AACdxP///////+8AAKqE////gQYOtt/yGoNP//AgwSTb/sNwa////38AALuE////////7wAAAbZa4CP////////fAACMxP//////////9wAAncT////////vAACqhP///4EHLb/kNQaf/+BBg7W3/Ybg1////gAAu4T////////vAAABtltwI////////98AAIzE///////////3AACdxP///////+8AAKqE////gQYOtt/yGoNP//AgwSTb/sNwa////38AALuE////////7wAAAbMAEEcAAAG2G+BRgj238bbfxtt/G238bbfxtt/G238bbfxtt/G238bbfxtt/G238bbfxtt/G238bbfxtt/G238bbfxtt/G238bbfkbbf9huDUjbb/sNwaxtt+Rtt/2G4NUNtv7DcGuRtt/2G4NSNtv+w3BrG235G23/Ybg1jbb+Ntv422/jbb+MHc2/jbb+Ntv422/IwwtsLAeO03RqRtt/2m6NYwvNsMwR2MMLbC3sNwYuB3Kw3CtDFTbAySsNwrAvyMatsC1AwCsNwrI22/Kw3CuMLzbDMEgjDC2wsB3Kw3CuMC4NsMwSI22/fwAAjMSMEe2/jbb8jB3Nv+w3BqRtt/2G4NY22/I22/7DcGrGGFthb2G4MXA8cpqjSNtucYXm2GYI7GcbYO5WG4Vi6xIFSGTbYJHIag0GCNtvpUGwVEbbfOQ1BpG235G23/Iag0jBItv422/jbb+NtvyMMLbCwHcrDcKyNtvvabo1IwvNsMwR+w3BqRhhbYWA8dpujVjFTbAyisFSDBWBflQbBVGNW2BagYBG23/Ybg1QybbBJKg2CoYQ22/sNwa5GGFthYDsVhuFZGF5thmCR2G4NUNtv7DcGuRtt/2G4NY22/jbb+Ntv422/YwvNsM+ksGoJHIag0IwwtsLAeOU1RoRhhbYWA8dpujVjbbvYbgxd8pqjRjGrbAtuQ1Bg4H8rDcK2Ntu9huDF3ymqNGMMLbC3sNwYuB3Kw3CtjFTbAySsNwrBAWJAqY228rDcK9YkCojC82wSASSoNgqYwwtsLew3Bi4HcrDcK0MVNsDJKw3CsC/Ixq2wLUDB7TdGsbbYZgjxtt/G238bbfoZxtg7lYbhWLEYXm2CQCPyGoNGMMLbC3sNwYuB45TVGjGKm2BklYbhWBfrEgVEZNtgkDJUGwVMZxtg8dpujF4ryGoNGNtuFYKkGCulQbBUxjVtgW3IagwcBgdpujVjbb+Q1Bg6FYbhWRtty9pujVjFTbAyisNwrAv1iQKkMm2wSSoNgqGSNtv+U1RpG238bbfvwAAncSMEe2/jbb9DB3Nv5DUGnG237GcbYO5WCpBgrFyoNgqQybbBI5DUGgwRhhbYWA8dpujVjFTbAy+U1Rg8C+7DcGrGNW2Ba8hqDBwGAVhuFZG23LymqNCMLzbDMEgqDYKiMMLbCwHflNUaIYXm2GhUGwVAjsZxtg7FYbhWLrEgVEZNtgkDJUGwVRgkW3yNtv422/jbb8jbb/sNwaxtt+xjVtgW3IagwcBgdpujVDC82wy7DcGoI8bbfsY1bYFryGoMHAYBWG4VkYXm2GQJJUGwVEbbfOQ1BoRhhbYWA7lYbhWRhebYZgj8hqDRDONsHYrDcKxZjGrbAtuQ1Bg4DAKw3CsjbbmVhuFcbbYZgkRtt/G238bbfkYYW2FgO5WG4VoYXm2GfYbg1BIjbbmhnG2DuVhuFYsRttgWvymqNCMLzbDIEjkNQaEYYW2FgPHabo1QwvNsM+w3BqCORhebYZgkchqDSNtv0Mm2wSOQ1BoMkYXm2GQJHIag0I22/5DUGkbbfxtt+8AAKqEjBHtv422/Iwdzb/kNQaMZxtg7lYbhWLrEgVEY1bYFqBgcpqjRDC82w0Kg2CoEdjbbnSWDX5DUGkbbfkYYW2FgPHKao0QxU2wMorDcKwL6Mm2wSBmNtv0Ntv7DcGuRtt/2G4NY22/jBItv422/jbb+Ntv422/Yxq2wLYqBUAwVA/lYbhWRhebYZgkFQbBUxnG2DsVhuFYusSBUhtt5WG4VyMm2wSBkjC82wzBH5DUGjG22CRwkg0Gew3BrG235G23/Ybg1YzjbB3Kw3CsXWJAqYxq2wLbsNwYuB/Kw3CuMLzbDIEiNtv422/jbb+NtvyNtv+w3BqxiptgZJWCpBgrBAKg2CojDC2wLUDA7TdGrG22BbchqDB32m6NUMLzbDLkNQaAjobbf2G4NcjB2tv+w3Bqxgs22FvYbgxcDuVhuFcYXm2GQJBGGFthYDx2m6NWNtsC25DUGDoVhuFbGKm2BklYbhWCAsSBUhttgkdhuDUYjbb+Ntv422/jbb8jDC2wsB3Kw3CtjbbAtuQ1Bg7Kw3Csjbb/lNUaMbbf2G4MXfKao0jbb9DONsHcrDcKxYjBZtsC1AwCsNwrYxU2wMorDcKwQFiQKo22wSBiNtvyMLzbDIEkqDYKmNtsEjhJBoMdhuDVjONsHcrDcKxdYkCqNtsEgYjbb98AALuEjBHtv422/Iwdzb/kNQaEbbf8hqDQjbb/kNQaMZxtg7lYbhWLrEgVRk22CQMIbbfyGoNMjbb/kNQaIbbfyGoNONtvyMMLbCwHjlNUaEbbfCsNwrI22/Kw3CtjbbvIagwdlYbhXGBcG2GQJEbbfxtt/G238YJFt/G238bbfobbYJHIag0GI22/jbb+Ntv422/jbb8jbbDMEfkNQaEbbf8hqDQjbb/kNQaEbbf8hqDSNtv422/jbb+Ntv422/jbb+Ntv422/jbb+Ntv422/jbb+Ntv422/jbb+Ntv422/jbb+Ntv38AAAG2XHAj////////3wAAjMT8Xv/////xe+L3//xe/xe/+wAAncT///i9/////38AAKqE////gQYOtt/yGoNP/4vfgQYJJt/2G4Nf/4vf/98AALuE////////7wAAAbZoMBH////////vAACMxP//////////9wAAncT////////vAACqhP///4EHLb/kNQaf/+BBg7W3/Ybg1////gAAu4T////////vAAABtlDwI////////98AAIzE///////////3AACdxP///////+8AAKqE////gQYOtt/yGoNP//AgwSTb/sNwa////38AALuE////////7wAAAbZRYCP////////fAACMxP//////////9wAAncT////////vAACqhP///4EHLb/kNQaf/+BBg7W3/Ybg1////gAAu4T////////vAAABtlHwI////////98AAIzE///////////3AACdxP///////+8AAKqE////gQYOtt/yGoNP//AgwSTb/sNwa////38AALuE////////7wAAAbZSYCX////////fAABGYn//////////+wAATuJ//////+P7iaoH/78AAFVCf7wMf//HwMeVajT//////98AAF3Cf///////9wAAAbZS8CP////////fAACMxP//////////9wAAncT////////vAACqhP8CDlt/yGoNP//HwAvavRr//////+8AALuE////////7wAAAbZTYCP////////fAACMxP//////////9wAAncT////////vAACqhP///4+AF7V6Nf//HwAoy////gAAu4T////////vAAABtlPwI////////98AAIzE///////////3AACdxP///////+8AAKqE////hjB1tv///HwAoy////sAALuE////////7wAAAbZUYCX////////fAABGYn//////////+wAATuJ////////3AABVQn///7gYwuBjQ0a8q1Gn//////4AAF3Cf///////9wAAAbZU8CX////////fAABGYn//////////+wAATuJ////////3AABVQn4vGf//uBjcDH//xYGftXo1////7wAAXcJ////////3AAABswAQhwAAAbYVYFGCPbfxtt/G238bbfxtt/G238bbfxtt/G238bbfxtt/G238bbfxtt/G238bbfxtt/G238bbfxtt/G238bbfxtt+Rtt/2G4NSNtv+w3BrG235G23/Ybg1Q22/sNwa5G23/Ybg1I22/7DcGsbbfkbbf9huDWNtv422/jbb+Ntv4wdzb+Ntv422/jbb8jDC2wsB47TdGpG23/abo1jC82wzBHYwwtsLew3Bi4HcrDcK0MVNsDJKw3CsC/Ixq2wLUDAKw3Csjbb8rDcK4wvNsMwSCMMLbCwHcrDcK4wLg2wzBIjbb9/AACMxIwR7b+NtvyMHc2/7DcGpG23/Ybg1jbb8jbb/sNwasYYW2FvYbgxcDxymqNI225xhebYZgjsZxtg7lYbhWLrEgVIZNtgkchqDQYI22+lQbBURtt85DUGkbbfkbbf8hqDSMEi2/jbb+Ntv422/IwwtsLAdysNwrI22+9pujUjC82wzBH7DcGpGGFthYDx2m6NWMVNsDKKwVIMFYF+VBsFUY1bYFqBgEbbf9huDVDJtsEkqDYKhhDbb+w3BrkYYW2FgOxWG4VkYXm2GYJHYbg1Q22/sNwa5G23/Ybg1jbb+Ntv422/jbb9jC82wz6SwagkchqDQjDC2wsB45TVGhGGFthYDx2m6NWNtu9huDF3ymqNGMatsC25DUGDgfysNwrY2272G4MXfKao0YwwtsLew3Bi4HcrDcK2MVNsDJKw3CsEBYkCpjbbysNwr1iQKiMLzbBIBJKg2CpjDC2wt7DcGLgdysNwrQxU2wMkrDcKwL8jGrbAtQMHtN0axtthmCPG238bbfxtt+hnG2DuVhuFYsRhebYJAI/Iag0YwwtsLew3Bi4HjlNUaMYqbYGSVhuFYF+sSBURk22CQMlQbBUxnG2Dx2m6MXivIag0Y224VgqQYK6VBsFTGNW2BbchqDBwGB2m6NWNtv5DUGDoVhuFZG23L2m6NWMVNsDKKw3CsC/WJAqQybbBJKg2CoZI22/5TVGkbbfxtt+/AACdxIwR7b+Ntv0MHc2/kNQacbbfsZxtg7lYKkGCsXKg2CpDJtsEjkNQaDBGGFthYDx2m6NWMVNsDL5TVGDwL7sNwasY1bYFryGoMHAYBWG4VkbbcvKao0IwvNsMwSCoNgqIwwtsLAd+U1RohhebYaFQbBUCOxnG2DsVhuFYusSBURk22CQMlQbBVGCRbfI22/jbb+NtvyNtv+w3BrG237GNW2BbchqDBwGB2m6NUMLzbDLsNwagjxtt+xjVtgWvIagwcBgFYbhWRhebYZAklQbBURtt85DUGhGGFthYDuVhuFZGF5thmCPyGoNEM42wdisNwrFmMatsC25DUGDgMArDcKyNtuZWG4VxtthmCRG238bbfxtt+RhhbYWA7lYbhWhhebYZ9huDUEiNtuaGcbYO5WG4VixG22Ba/Kao0IwvNsMgSOQ1BoRhhbYWA7lYbhWhhebYZ9huDUEgjC82wzBI5DUGkbbfoZNtgkchqDQZIwvNsMgSOQ1BoRtt/yGoNI22/jbb9wAAqoSMEe2/jbb8jB3Nv+Q1BoxnG2DuVhuFYusSBURjVtgWoGBymqNEMLzbDQqDYKgRyNtufIag0jbb8jbb/kNQaIZxtg7lYbhWLRk22CQMxtt+htt/Ybg1yNtv+w3BrG238YJFt/G238bbfxtt/G237GNW2BbFQKgGCoH8rDcKyMLzbDMEgqDYKmM42wdisNwrF1iQKoybbBIGI22/jbb9jJtsEjhJBoM9huDWNtvyNtv+w3BqxnG2DuVhuFYusSBUxjVtgW3YbgxcD+VhuFcYXm2GQJEbbfxtt/G238bbfkbbf9huDVjFTbAySsFSDBWCAVBsFRGGFtgWoGB2m6NWNtsC25DUGDvtN0axgzG2GQI6GCSbf2G4Ncjbb/sNwasYYW2FvYbgxcDuVhuFcYXm2GQJBGGFthYDx2m6NWNtsC25DUGDoVhuFbGKm2BklYbhWCAsSBUhttgkdhuDUYjbb+Ntv422/jbb8jDC2wsB3Kw3CtjbbAtuQ1Bg7Kw3Csjbb/lNUaMbbf2G4MXfKao0jBJNv0M42wdysNwrFiMatsC1AwCsNwrYxU2wMorDcKwQFiQKo22wSBiNtvyMLzbDIEkqDYKmNtsEjhJBoMdhuDVjONsHcrDcKxdYkCqNtsEgYjbb9wAAu4SMEe2/jbb8jB3Nv+Q1BoRtt/yGoNCNtv+Q1BoxnG2DuVhuFYusSBVGTbYJAwhtt/Iag0yNtv+Q1Bohtt/Iag0422/IwwtsLAeOU1RoRtt8Kw3Csjbb8rDcK2Ntu8hqDB2VhuFcYFwbYZAkRtt/G238bbfxgkW38bbfxtt+httgkchqDQYjbb+Ntv422/jbb+NtvyNtsMwR+Q1BoRtt/yGoNCNtv+Q1BoRtt/yGoNI22/jbb+Ntv422/jbb+Ntv422/jbb+Ntv422/jbb+Ntv422/jbb+Ntv422/jbb+Ntv422/fwAAAbZV8CP////////fAACMxPxe//////F74vf//F7/F7/7AACdxP//+L3/////fwAAqoT//////i97wAv//F73gBf/fwAAu4T////////vAAABtlZgI////////98AAIzE///////////3AACdxP///////+8AAKqE//////8MYOtt///7wAv/vwAAu4T////////vAAABtlbwI////////98AAIzE///////////3AACdxP///////+8AAKqE//////94AX//3gBf/QAAu4T////////vAAABtldgI////////98AAIzE///////////3AACdxP///////+8AAKqE//////8MYOtt///7wAv/vwAAu4T////////vAAABtlfwI////////98AAIzE///////////3AACdxP///////+8AAKqE//////94AX//3gBf/QAAu4T////////vAAABtlhgI////////98AAIzE///////////3AACdxP///////+8AAKqE//////8MYOtt///7wAv/vwAAu4T////////vAAABtljwI////////98AAIzE///////////3AACdxP///////+8AAKqE//////94AX//3gBf/QAAu4T////////vAAABtllgI////////98AAIzE///////////3AACdxP///////+8AAKqE//////8MYOtt///7wAv/vwAAu4T////////vAAABtlnwI////////98AAIzE///////////3AACdxP///////+8AAKqE//////94AX//3gBf/QAAu4T////////vAAABtlpgI////////98AAIzE///////////3AACdxP///////+8AAKqE//////8MYOtt///7wAv/vwAAu4T////////vAAABtlrwI////////98AAIzE///////////3AACdxP///////+8AAKqE//////94AX//3gBf/QAAu4T////////vAAABswAQhwAAAbYbYFGCPbfxtt/G238bbfxtt/G238bbfxtt/G238bbfxtt/G238bbfxtt/G238bbfxtt/G238bbfxtt/G238bbfxtt+Rtt/2G4NSNtv+w3BrG235G23/Ybg1Q22/sNwa5G23/Ybg1I22/7DcGsbbfkbbf9huDWNtv422/jbb+Ntv4wdzb+Ntv422/jbb8jDC2wsB47TdGpG23/abo1jC82wzBHYwwtsLew3Bi4HcrDcK0MVNsDJKw3CsC/Ixq2wLUDAKw3Csjbb8rDcK4wvNsMwSCMMLbCwHcrDcK4wLg2wzBIjbb9/AACMxIwR7b+NtvyMHc2/7DcGpG23/Ybg1jbb8jbb/sNwasYYW2FvYbgxcDxymqNI225xhebYZgjsZxtg7lYbhWLrEgVIZNtgkchqDQYI22+lQbBURtt85DUGkbbfkbbf8hqDSMEi2/jbb+Ntv422/IwwtsLAdysNwrI22+9pujUjC82wzBH7DcGpGGFthYDx2m6NWMVNsDKKwVIMFYF+VBsFUY1bYFqBgEbbf9huDVDJtsEkqDYKhhDbb+w3BrkYYW2FgOxWG4VkYXm2GYJHYbg1Q22/sNwa5G23/Ybg1jbb+Ntv422/jbb9jC82wz6SwagkchqDQjDC2wsB45TVGhGGFthYDx2m6NWNtu9huDF3ymqNGMatsC25DUGDgfysNwrY2272G4MXfKao0YwwtsLew3Bi4HcrDcK2MVNsDJKw3CsEBYkCpjbbysNwr1iQKiMLzbBIBJKg2CpjDC2wt7DcGLgdysNwrQxU2wMkrDcKwL8jGrbAtQMHtN0axtthmCPG238bbfxtt+hnG2DuVhuFYsRhebYJAI/Iag0YwwtsLew3Bi4HjlNUaMYqbYGSVhuFYF+sSBURk22CQMlQbBUxnG2Dx2m6MXivIag0Y224VgqQYK6VBsFTGNW2BbchqDBwGB2m6NWNtv5DUGDoVhuFZG23L2m6NWMVNsDKKw3CsC/WJAqQybbBJKg2CoZI22/5TVGkbbfxtt+/AACdxIwR7b+Ntv0MHc2/kNQacbbfsZxtg7lYKkGCsXKg2CpDJtsEjkNQaDBGGFthYDx2m6NWMVNsDL5TVGDwL7sNwasY1bYFryGoMHAYBWG4VkbbcvKao0IwvNsMwSCoNgqIwwtsLAd+U1RohhebYaFQbBUCOxnG2DsVhuFYusSBURk22CQMlQbBVGCRbfI22/jbb+NtvyNtv+w3BrG237GNW2BbchqDBwGB2m6NUMLzbDLsNwagjxtt+xjVtgWvIagwcBgFYbhWRhebYZAklQbBURtt85DUGhGGFthYDuVhuFZGF5thmCPyGoNEM42wdisNwrFmMatsC25DUGDgMArDcKyNtuZWG4VxtthmCRG238bbfxtt+RhhbYWA7lYbhWhhebYZ9huDUEiNtuaGcbYO5WG4VixG22Ba/Kao0IwvNsMgSOQ1BoRhhbYWA7lYbhWhhebYZ9huDUEgjC82wzBI5DUGkbbfoZNtgkchqDQZIwvNsMgSOQ1BoRtt/yGoNI22/jbb9wAAqoSMEe2/jbb8jB3Nv+Q1BoxnG2DuVhuFYusSBURjVtgWoGBymqNEMLzbDQqDYKgRyNtufIag0jbb8jbb/kNQaIZxtg7lYbhWLRk22CQMxtt+htt/Ybg1yNtv+w3BrG238YJFt/G238bbfxtt/G237GNW2BbFQKgGCoH8rDcKyMLzbDMEgqDYKmM42wdisNwrF1iQKoybbBIGI22/jbb9jJtsEjhJBoM9huDWNtvyNtv+w3BqxnG2DuVhuFYusSBUxjVtgW3YbgxcD+VhuFcYXm2GQJEbbfxtt/G238bbfkbbf9huDVjFTbAySsFSDBWCAVBsFRGGFtgWoGB2m6NWNtsC25DUGDvtN0axhebYZAjobbf2G4Ncjbb/sNwasYYW2FvYbgxcDuVhuFcYXm2GQJBGGFthYDx2m6NWNtsC25DUGDoVhuFbGKm2BklYbhWCAsSBUhttgkdhuDUYjbb+Ntv422/jbb8jDC2wsB3Kw3CtjbbAtuQ1Bg7Kw3Csjbb/lNUaMbbf2G4MXfKao0jbb9DONsHcrDcKxYjGrbAtQMArDcK2MVNsDKKw3CsEBYkCqNtsEgYjbb8jC82wyBJKg2CpjbbBI4SQaDHYbg1YzjbB3Kw3CsXWJAqjbbBIGI22/QAAu4SMEe2/jbb8jB3Nv+Q1BoRtt/yGoNCNtv+Q1BoxnG2DuVhuFYusSBVGDhbYJAwhgkm38hqDTI22/5DUGiG238hqDTjbb8jDC2wsB45TVGhG23wrDcKyNtvysNwrY227yGoMHZWG4VxgXBthkCRG238bbfxtt/GCRbfxtt/G236G22CRyGoNBiNtv422/jbb+Ntv422/I22wzBH5DUGhG23/Iag0I22/5DUGhG23/Iag0jbb+Ntv422/jbb+Ntv422/jbb+Ntv422/jbb+Ntv422/jbb+Ntv422/jbb+Ntv422/jbb9/AAABtlvwJf///////98AAEZifi9/////+L3xe//+L3+L3/0AAE7if//8Xv////+/AABVQn//////F7///F7//gAAXcJ8eBjGQv7V6Nf/+LAz9q9Gv////gAAAbZcYCP////////fAACMxP//////////9wAAncT////////vAACqhP//////////9wAAu4T4EHLb/kNQaDwAsZ///////78AAAG2aDgR////////7wAAjMT///////////cAAJ3E////////7wAAqoT/////////hjB1tv//fwAAu4T8eAF9q9Gv//////+/AAABtlDgI////////98AAIzE///////////3AACdxP///////+8AAKqE//////4/uJqgf//4EGDrbf8hqDQMYJJt//4AALuE+P+1ejX///////sAAAG2UXAj////////3wAAjMT///////////cAAJ3E////////7wAAqoT/////////Ag5bf8hqDT/7AAC7hPj4AXtXo1///////78AAAG2UeAj////////3wAAjMT///////////cAAJ3E////////7wAAqoT/////////Agwdbb/kNQaf/QAAu4T4+AF7V6Nf//////+/AAABtlJwI////////98AAIzE///////////3AACdxP///////+8AAKqE/////////wIOW3/Iag0HgBfavRr/7wAAu4T////////vAAABtlLgI////////98AAIzE///////////3AACdxP///////+8AAKqE/////////48AL7V6Nf/fAAC7hP3gBf//////9wAAAbZTcCP////////fAACMxP//////////9wAAncT////////vAACqhP////////+GMHW2//9/AAC7hP3gBf//////9wAAAbZT4CP////////fAACMxP//////////9wAAncT////////vAACqhP////////8CDB1tv+Q1BoGMEk2//98AALuE////////7wAAAbZUcCP////////fAACMxP//////////9wAAncT////////vAACqhP////////8CDlt/yGoNP/sAALuE+PgBe1ejX///////vwAAAbMAEMcAAAG2FOBRgj238bbfxtt/G238bbfxtt/G238bbfxtt/G238bbfxtt/G238bbfxtt/G238bbfxtt/G238bbfxtt/G238bbfkbbf9huDUjbb/sNwaxtt+Rtt/2G4NUNtv7DcGuRtt/2G4NSNtv+w3BrG235G23/Ybg1jbb+Ntv422/jbb+MHc2/jbb+Ntv422/IwwtsLAeO03RqRtt/2m6NYwvNsMwR2MMLbC3sNwYuB3Kw3CtDFTbAySsNwrAvyMatsC1AwCsNwrI22/Kw3CuMLzbDMEgjDC2wsB3Kw3CuMC4NsMwSI22/fwAAjMSMEe2/jbb8jB3Nv+w3BqRtt/2G4NY22/I22/7DcGrGGFthb2G4MXA8cpqjSNtucYXm2GYI7GcbYO5WG4Vi6xIFSGTbYJHIag0GCNtvpUGwVEbbfOQ1BpG235G23/Iag0jBItv422/jbb+NtvyMMLbCwHcrDcKyNtvvabo1IwvNsMwR+w3BqRhhbYWA8dpujVjFTbAyisFSDBWBflQbBVGNW2BagYBG23/Ybg1QybbBJKg2CoYQ22/sNwa5GGFthYDsVhuFZGF5thmCR2G4NUNtv7DcGuRtt/2G4NY22/jbb+Ntv422/YwvNsM+ksGoJHIag0IwwtsLAeOU1RoRhhbYWA8dpujVjbbvYbgxd8pqjRjGrbAtuQ1Bg4H8rDcK2Ntu9huDF3ymqNGMMLbC3sNwYuB3Kw3CtjFTbAySsNwrBAWJAqY228rDcK9YkCojC82wSASSoNgqYwwtsLew3Bi4HcrDcK0MVNsDJKw3CsC/Ixq2wLUDB7TdGsbbYZgjxtt/G238bbfoZxtg7lYbhWLEYXm2CQCPyGoNGMMLbC3sNwYuB45TVGjGKm2BklYbhWBfrEgVEZNtgkDJUGwVMZxtg8dpujF4ryGoNGNtuFYKkGCulQbBUxjVtgW3IagwcBgdpujVjbb+Q1Bg6FYbhWRtty9pujVjFTbAyisNwrAv1iQKkMm2wSSoNgqGSNtv+U1RpG238bbfvwAAncSMEe2/jbb9DB3Nv5DUGnG237GcbYO5WCpBgrFyoNgqQybbBI5DUGgwRhhbYWA8dpujVjFTbAy+U1Rg8C+7DcGrGNW2Ba8hqDBwGAVhuFZG23LymqNCMLzbDMEgqDYKiMMLbCwHflNUaIYXm2GhUGwVAjsZxtg7FYbhWLrEgVEZNtgkDJUGwVRgkW3yNtv422/jbb8jbb/sNwaxtt+xjVtgW3IagwcBgdpujVDC82wy7DcGoI8bbfsY1bYFryGoMHAYBWG4VkYXm2GQJJUGwVEbbfOQ1BoRhhbYWA7lYbhWRhebYZgj8hqDRDONsHYrDcKxZjGrbAtuQ1Bg4DAKw3CsjbbmVhuFcbbYZgkRtt/G238bbfkYYW2FgO5WG4VoYXm2GfYbg1BIjbbmhnG2DuVhuFYsRttgWvymqNCMLzbDIEjkNQaEYYW2FgO5WG4VoYXm2GfYbg1BIIwvNsMwSOQ1BpG236GTbYJHIag0GSMLzbDIEjkNQaEbbf8hqDSNtv422/cAAKqEjBHtv422/Iwdzb/kNQaMZxtg7lYbhWLrEgVEY1bYFqBgcpqjRDC82w0Kg2CoEcjbbnyGoNI22/I22/5DUGiGcbYO5WG4Vi0ZNtgkDMbbfobbf2G4Ncjbb/sNwaxtt/GCRbfxtt/G238bbfxtt+xjVtgWxUCoBgqB/Kw3CsjC82wzBIKg2CpjONsHYrDcKxdYkCqMm2wSBiNtv422/YybbBI4SQaDPYbg1jbb8jbb/sNwasZxtg7lYbhWLrEgVMY1bYFt2G4MXA/lYbhXGF5thkCRG238bbfxtt/G235G23/Ybg1YxU2wMkrBUgwVggFQbBURhhbYFqBgdpujVjbbAtuQ1Bg6FYbhXGF5thkCQhtt/Ybg1yNtv+w3BqxhhbYW9huDFwO5WG4VxhebYZAkEYYW2FgPHabo1Y22wLbkNQYOhWG4VsYqbYGSVhuFYICxIFSG22CR2G4NRiNtv422/jbb+NtvyMMLbCwHcrDcK2NtsC25DUGDsrDcKyNtv+U1RoRgzG2GQJHIag0jBJNv0M42wdysNwrFiMatsC1AwCsNwrYxU2wMorDcKwQFiQKo22wSBiNtvyMLzbDIEkqDYKmNtsEjhJBoMdhuDVjONsHcrDcKxdYkCqNtsEgYjbb9AAC7hIwR7b+NtvyMHc2/5DUGhG23/Iag0I22/5DUGkbbfxtt+htt/Iag0yNtv+Q1Bohtt/Iag0422/IwwtsLAeOU1RoRtt8Kw3Csjbb8rDcK2Ntu8hqDB2VhuFcYFwbYZAkRtt/G238bbfxgkW38bbfxtt/G238bbfxtt/G238bbfxtt+RtthmCPyGoNCNtv+Q1BoRtt/yGoNCNtv+Q1BpG238bbfxtt/G238bbfxtt/G238bbfxtt/G238bbfxtt/G238bbfxtt/G238bbfxtt/G237AAABtlVwI////////98AAIzE/F7/////8Xvi9//8Xv8Xv/sAAJ3E///4vf////9/AACqhP////////8CDlt/yGoNB4AX2r0a/+8AALuE////////7wAAAbZV4CP////////fAACMxP//////////9wAAncT////////vAACqhP////////+PAC+1ejX/3wAAu4T94AX///////cAAAG2VnAj////////3wAAjMT///////////cAAJ3E////////7wAAqoT/////////hjB1tv//fwAAu4T94AX///////cAAAG2VuAj////////3wAAjMT///////////cAAJ3E////////7wAAqoT/////////Agwdbb/kNQaBjBJNv//fAAC7hP///////+8AAAG2V3Al////////3wAARmJ///////////sAAE7if///////9wAAVUJ//////j+4mqB///uBjHgYxl/9AABdwnj/tXo1///////9AAABtlfgI////////98AAIzE///////////3AACdxP///////+8AAKqE/////////gQctv+Q1Bp/+wAAu4Tx8AL2r0a///////+/AAABtlhwI////////98AAIzE///////////3AACdxP///////+8AAKqE/////////gQYOtt/yGoNP/0AALuE8fAC9q9Gv///////vwAAAbZY4CP////////fAACMxP//////////9wAAncT////////vAACqhP////////4EHLb/kNQaf/sAALuE8fAC9q9Gv///////vwAAAbZZcCP////////fAACMxP//////////9wAAncT////////vAACqhP//////////9wAAu4TgQYOtt/yGoNB8AL2r0a///////+8AAAG2WeAj////////3wAAjMT///////////cAAJ3E////////7wAAqoT////////8BjB1tv5DUGn//QAAu4Thjlt////////9AAABtlpwI////////98AAIzE///////////3AACdxP///////+8AAKqE/////////AY5bfyGoNP/+wAAu4Ti4AXtXo1///////+/AAABswAQxwAAAbYa4FGCPbfxtt/G238bbfxtt/G238bbfxtt/G238bbfxtt/G238bbfxtt/G238bbfxtt/G238bbfxtt/G238bbfxtt+Rtt/2G4NSNtv+w3BrG235G23/Ybg1Q22/sNwa5G23/Ybg1I22/7DcGsbbfkbbf9huDWNtv422/jbb+Ntv4wdzb+Ntv422/jbb8jDC2wsB47TdGpG23/abo1jC82wzBHYwwtsLew3Bi4HcrDcK0MVNsDJKw3CsC/Ixq2wLUDAKw3Csjbb8rDcK4wvNsMwSCMMLbCwHcrDcK4wLg2wzBIjbb9/AACMxIwR7b+NtvyMHc2/7DcGpG23/Ybg1jbb8jbb/sNwasYYW2FvYbgxcDxymqNI225xhebYZgjsZxtg7lYbhWLrEgVIZNtgkchqDQYI22+lQbBURtt85DUGkbbfkbbf8hqDSMEi2/jbb+Ntv422/IwwtsLAdysNwrI22+9pujUjC82wzBH7DcGpGGFthYDx2m6NWMVNsDKKwVIMFYF+VBsFUY1bYFqBgEbbf9huDVDJtsEkqDYKhhDbb+w3BrkYYW2FgOxWG4VkYXm2GYJHYbg1Q22/sNwa5G23/Ybg1jbb+Ntv422/jbb9jC82wz6SwagkchqDQjDC2wsB45TVGhGGFthYDx2m6NWNtu9huDF3ymqNGMatsC25DUGDgfysNwrY2272G4MXfKao0YwwtsLew3Bi4HcrDcK2MVNsDJKw3CsEBYkCpjbbysNwr1iQKiMLzbBIBJKg2CpjDC2wt7DcGLgdysNwrQxU2wMkrDcKwL8jGrbAtQMHtN0axtthmCPG238bbfxtt+hnG2DuVhuFYsRhebYJAI/Iag0YwwtsLew3Bi4HjlNUaMYqbYGSVhuFYF+sSBURk22CQMlQbBUxnG2Dx2m6MXivIag0Y224VgqQYK6VBsFTGNW2BbchqDBwGB2m6NWNtv5DUGDoVhuFZG23L2m6NWMVNsDKKw3CsC/WJAqQybbBJKg2CoZI22/5TVGkbbfxtt+/AACdxIwR7b+Ntv0MHc2/kNQacbbfsZxtg7lYKkGCsXKg2CpDJtsEjkNQaDBGGFthYDx2m6NWMVNsDL5TVGDwL7sNwasY1bYFryGoMHAYBWG4VkbbcvKao0IwvNsMwSCoNgqIwwtsLAd+U1RohhebYaFQbBUCOxnG2DsVhuFYusSBURk22CQMlQbBVGCRbfI22/jbb+NtvyNtv+w3BrG237GNW2BbchqDBwGB2m6NUMLzbDLsNwagjxtt+xjVtgWvIagwcBgFYbhWRhebYZAklQbBURtt85DUGhGGFthYDuVhuFZGF5thmCPyGoNEM42wdisNwrFmMatsC25DUGDgMArDcKyNtuZWG4VxtthmCRG238bbfxtt+RhhbYWA7lYbhWhhebYZ9huDUEiNtuaGcbYO5WG4VixG22Ba/Kao0IwvNsMgSOQ1BoRhhbYWA7lYbhWhhebYZ9huDUEgjC82wzBI5DUGkbbfoZNtgkchqDQZIwvNsMgSOQ1BoRtt/yGoNI22/jbb9wAAqoSMEe2/jbb8jB3Nv+Q1BoxnG2DuVhuFYusSBURjVtgWoGBymqNEMLzbDQqDYKgRyNtufIag0jbb8jbb/kNQaIZxtg7lYbhWLRk22CQMxtt+htt/Ybg1yNtv+w3BrG238YJFt/G238bbfxtt/G237GNW2BbFQKgGCoH8rDcKyMLzbDMEgqDYKmM42wdisNwrF1iQKoybbBIGI22/jbb9jJtsEjhJBoM9huDWNtvyNtv+w3BqxnG2DuVhuFYusSBUxjVtgW3YbgxcD+VhuFcYXm2GQJEbbfxtt/G238bbfkbbf9huDVjFTbAySsNwrBAWJAqIwwtsC1B/Kw3CtjbbAtuQ1Bg7Kw3CuMLzbDIEhDbb+w3Brkbbf9huDVjDC2wt7DcGLgdysNwrjC82wyBIIwwtsLAeO03RqxttgW3IagwdCsNwrYxU2wMkrDcKwQFiQKkNtsEjsNwajEbbfxtt/G238bbfkYYW2FgO5WG4VoYMxtgkchqDQEgjBJNsMwSOQ1BoRtt/yGoNI22/QzjbB3Kw3CsWIxq2wLUDAKw3CtjFTbAyisNwrBAWJAqjbbBIGI22/IwvNsMgSSoNgqY22wSOEkGgx2G4NWM42wdysNwrF1iQKo22wSBiNtv3AAC7hIwR7b+NtvyMHc2/5DUGkbbfxtt/G238bbfobbfyGoNMjbb/kNQaIbbfyGoNONtvyMMLbCwHjlNUaEbbfCsNwrI22/Kw3CtjbbvIagwdlYbhXGBcG2GQJEbbfxtt/G238YJFt/G238bbfxtt/G238bbfxtt/G238bbfkbbYZgj8hqDQjbb/kNQaEbbf8hqDQjbb/kNQaRtt/G238bbfxtt/G238bbfxtt/G238bbfxtt/G238bbfxtt/G238bbfxtt/G238bbfxtt+8AAAG2W3Aj////////3wAAjMT8Xv/////xe+L3//xe/xe/+wAAncT///i9/////38AAKqE/////////AY5bfyGoNP/+wAAu4Ti4AXtXo1///////+/AAABtlvgI////////98AAIzE///////////3AACdxP///////+8AAKqE/////////AYwdbb+Q1Bp//0AALuE4uAF7V6Nf///////vwAAAbZccCP////////fAACMxP//////////9wAAncT////////vAACqhP////////wGOW38hqDT//sAALuE4uAF7V6Nf///////vwAAAbZoMBH////////vAACMxP//////////9wAAncT////////vAACqhP////////wGMHW2/kNQaf/9AAC7hOLgBe1ejX///////78AAAG2UPAl////////3wAARmJ///////////sAAE7if///////9wAAVUJ/////+P+VajT//xYGPtXo1C4GMZdq9Gv/9wAAXcJj/tXo1////////QAAAbZRYCP////////fAACMxP//////////9wAAncT////////vAACqhP////////hjlt///gAAu4TeAF////////cAAAG2UfAj////////3wAAjMT///////////cAAJ3E////////7wAAqoT////////4Ywdbb///fwAAu4TeAF////////cAAAG2UmAj////////3wAAjMT///////////cAAJ3E////////7wAAqoT////////7wAoDGDrbfyGoNP/+AAC7hP///////+8AAAG2UvAj////////3wAAjMT///////////cAAJ3E////////7wAAqoT////////8Bjlt/Iag0//7AAC7hOLgBe1ejX///////78AAAG2U2Aj////////3wAAjMT///////////cAAJ3E////////7wAAqoT////////8BjB1tv5DUGn//QAAu4Ti4AXtXo1///////+/AAABtlPwI////////98AAIzE///////////3AACdxP///////+8AAKqE/////////AY5bfyGoNP/+wAAu4Ti4AXtXo1///////+/AAABswARBwAAAbYUYFGCPbfxtt/G238bbfxtt/G238bbfxtt/G238bbfxtt/G238bbfxtt/G238bbfxtt/G238bbfxtt/G238bbfxtt+Rtt/2G4NSNtv+w3BrG235G23/Ybg1Q22/sNwa5G23/Ybg1I22/7DcGsbbfkbbf9huDWNtv422/jbb+Ntv4wdzb+Ntv422/jbb8jDC2wsB47TdGpG23/abo1jC82wzBHYwwtsLew3Bi4HcrDcK0MVNsDJKw3CsC/Ixq2wLUDAKw3Csjbb8rDcK4wvNsMwSCMMLbCwHcrDcK4wLg2wzBIjbb9/AACMxIwR7b+NtvyMHc2/7DcGpG23/Ybg1jbb8jbb/sNwasYYW2FvYbgxcDxymqNI225xhebYZgjsZxtg7lYbhWLrEgVIZNtgkchqDQYI22+lQbBURtt85DUGkbbfkbbf8hqDSMEi2/jbb+Ntv422/IwwtsLAdysNwrI22+9pujUjC82wzBH7DcGpGGFthYDx2m6NWMVNsDKKwVIMFYF+VBsFUY1bYFqBgEbbf9huDVDJtsEkqDYKhhDbb+w3BrkYYW2FgOxWG4VkYXm2GYJHYbg1Q22/sNwa5G23/Ybg1jbb+Ntv422/jbb9jC82wz6SwagkchqDQjDC2wsB45TVGhGGFthYDx2m6NWNtu9huDF3ymqNGMatsC25DUGDgfysNwrY2272G4MXfKao0YwwtsLew3Bi4HcrDcK2MVNsDJKw3CsEBYkCpjbbysNwr1iQKiMLzbBIBJKg2CpjDC2wt7DcGLgdysNwrQxU2wMkrDcKwL8jGrbAtQMHtN0axtthmCPG238bbfxtt+hnG2DuVhuFYsRhebYJAI/Iag0YwwtsLew3Bi4HjlNUaMYqbYGSVhuFYF+sSBURk22CQMlQbBUxnG2Dx2m6MXivIag0Y224VgqQYK6VBsFTGNW2BbchqDBwGB2m6NWNtv5DUGDoVhuFZG23L2m6NWMVNsDKKw3CsC/WJAqQybbBJKg2CoZI22/5TVGkbbfxtt+/AACdxIwR7b+Ntv0MHc2/kNQacbbfsZxtg7lYKkGCsXKg2CpDJtsEjkNQaDBGGFthYDx2m6NWMVNsDL5TVGDwL7sNwasY1bYFryGoMHAYBWG4VkbbcvKao0IwvNsMwSCoNgqIwwtsLAd+U1RohhebYaFQbBUCOxnG2DsVhuFYusSBURk22CQMlQbBVGCRbfI22/jbb+NtvyNtv+w3BrG237GNW2BbchqDBwGB2m6NUMLzbDLsNwagjxtt+xjVtgWvIagwcBgFYbhWRhebYZAklQbBURtt85DUGhGGFthYDuVhuFZGF5thmCPyGoNEM42wdisNwrFmMatsC25DUGDgMArDcKyNtuZWG4VxtthmCRG238bbfxtt+RhhbYWA7lYbhWhhebYZ9huDUEiNtuaGcbYO5WG4VixG22Ba/Kao0IwvNsMgSOQ1BoRhhbYWA7lYbhWhhebYZ9huDUEgjC82wzBI5DUGkbbfoZNtgkchqDQZIwvNsMgSOQ1BoRtt/yGoNI22/jbb9wAAqoSMEe2/jbb8jB3Nv+Q1BoxnG2DuVhuFYusSBURjVtgWoGBymqNEMLzbDQqDYKgRyNtufIag0jbb8jbb/kNQaIZxtg7lYbhWLRk22CQMxtt+htt/Ybg1yNtv+w3BrG238YJFt/G238bbfxtt/G237GNW2BbFQKgGCoH8rDcKyMLzbDMEgqDYKmM42wdisNwrF1iQKoybbBIGI22/jbb9jJtsEjhJBoM9huDWNtvyNtv+w3BqxnG2DuVhuFYusSBUxjVtgW3YbgxcD+VhuFcYXm2GQJEbbfxtt/G238bbfxtt+xiptgZJWG4VggLEgVEYYW2Bag/lYbhWxttgW3IagwdlYbhXGF5thkCQhtt/Ybg1yNtv+w3BqxhhbYW9huDFwO5WG4VxhebYZAkEYYW2FgPHabo1Y22wLbkNQYOhWG4VsYqbYGSVhuFYICxIFSG22CR2G4NRiNtv422/jbb+Ntv422/QwcLbBI5DUGgwRgkm2GYJHIag0I22/5DUGkbbfoZxtg7lYbhWLEY1bYFqBgFYbhWxiptgZRWG4VggLEgVRttgkDEbbfkYXm2GQJJUGwVMbbYJHCSDQY7DcGrGcbYO5WG4Vi6xIFUbbYJAxG237wAAu4SMEe2/jbb+MHc2/jbb+Ntv422/jbb9Dbb+Q1Bpkbbf8hqDRDbb+Q1Bpxtt+RhhbYWA8cpqjQjbb4VhuFZG235WG4Vsbbd5DUGDsrDcK4wLg2wyBIjbb+Ntv422/jBItv422/jbb+Ntv422/jbb+Ntv422/jbb8jbbDMEfkNQaEbbf8hqDQjbb/kNQaEbbf8hqDSNtv422/jbb+Ntv422/jbb+Ntv422/jbb+Ntv422/jbb+Ntv422/jbb+Ntv422/jbb+Ntv0AAAG2VPAj////////3wAAjMT8Xv/////xe+L3//xe/xe/+wAAncT///i9/////38AAKqE/////////AY5bfyGoNP/+wAAu4Ti4AXtXo1///////+/AAABtlVgI////////98AAIzE///////////3AACdxP///////+8AAKqE/////////AYwdbb+Q1Bp//0AALuE4uAF7V6Nf///////vwAAAbZV8CP////////fAACMxP//////////9wAAncT////////vAACqhP////////wGOW38hqDT//sAALuE4uAF7V6Nf///////vwAAAbZWYCP////////fAACMxP//////////9wAAncT////////vAACqhP////////wGMHW2/kNQaf/9AAC7hOLgBe1ejX///////78AAAG2VvAj////////3wAAjMT///////////cAAJ3E////////7wAAqoT////////8Bjlt/Iag0//7AAC7hOLgBe1ejX///////78AAAG2V2Aj////////3wAAjMT///////////cAAJ3E////////7wAAqoT////////8BjB1tv5DUGn//QAAu4Ti4AXtXo1///////+/AAABtlfwI////////98AAIzE///////////3AACdxP///////+8AAKqE/////////AY5bfyGoNP/+wAAu4Ti4AXtXo1///////+/AAABtlhgI////////98AAIzE///////////3AACdxP///////+8AAKqE///////////3AAC7hOLgBe1ejUMYOtt////////7AAABtljwI////////98AAIzE///////////3AACdxP///////+8AAKqE/////////gQYOtt/yGoNP/0AALuE9wAv///////3AAABtllgI////////98AAIzE///////////3AACdxP///////+8AAKqE/////////gQctv+Q1Bp/+wAAu4Tx8AL2r0a///////+/AAABtlnwI////////98AAIzE///////////3AACdxP///////+8AAKqE/////////gQYOtt/yGoNP/0AALuE8fAC9q9Gv///////vwAAAbMAEQcAAAG2GmBRgj238bbfxtt/G238bbfxtt/G238bbfxtt/G238bbfxtt/G238bbfxtt/G238bbfxtt/G238bbfxtt/G238bbfkbbf9huDUjbb/sNwaxtt+Rtt/2G4NUNtv7DcGuRtt/2G4NSNtv+w3BrG235G23/Ybg1jbb+Ntv422/jbb+MHc2/jbb+Ntv422/IwwtsLAeO03RqRtt/2m6NYwvNsMwR2MMLbC3sNwYuB3Kw3CtDFTbAySsNwrAvyMatsC1AwCsNwrI22/Kw3CuMLzbDMEgjDC2wsB3Kw3CuMC4NsMwSI22/fwAAjMSMEe2/jbb8jB3Nv+w3BqRtt/2G4NY22/I22/7DcGrGGFthb2G4MXA8cpqjSNtucYXm2GYI7GcbYO5WG4Vi6xIFSGTbYJHIag0GCNtvpUGwVEbbfOQ1BpG235G23/Iag0jBItv422/jbb+NtvyMMLbCwHcrDcKyNtvvabo1IwvNsMwR+w3BqRhhbYWA8dpujVjFTbAyisFSDBWBflQbBVGNW2BagYBG23/Ybg1QybbBJKg2CoYQ22/sNwa5GGFthYDsVhuFZGF5thmCR2G4NUNtv7DcGuRtt/2G4NY22/jbb+Ntv422/YwvNsM+ksGoJHIag0IwwtsLAeOU1RoRhhbYWA8dpujVjbbvYbgxd8pqjRjGrbAtuQ1Bg4H8rDcK2Ntu9huDF3ymqNGMMLbC3sNwYuB3Kw3CtjFTbAySsNwrBAWJAqY228rDcK9YkCojC82wSASSoNgqYwwtsLew3Bi4HcrDcK0MVNsDJKw3CsC/Ixq2wLUDB7TdGsbbYZgjxtt/G238bbfoZxtg7lYbhWLEYXm2CQCPyGoNGMMLbC3sNwYuB45TVGjGKm2BklYbhWBfrEgVEZNtgkDJUGwVMZxtg8dpujF4ryGoNGNtuFYKkGCulQbBUxjVtgW3IagwcBgdpujVjbb+Q1Bg6FYbhWRtty9pujVjFTbAyisNwrAv1iQKkMm2wSSoNgqGSNtv+U1RpG238bbfvwAAncSMEe2/jbb9DB3Nv5DUGnG237GcbYO5WCpBgrFyoNgqQybbBI5DUGgwRhhbYWA8dpujVjFTbAy+U1Rg8C+7DcGrGNW2Ba8hqDBwGAVhuFZG23LymqNCMLzbDMEgqDYKiMMLbCwHflNUaIYXm2GhUGwVAjsZxtg7FYbhWLrEgVEZNtgkDJUGwVRgkW3yNtv422/jbb8jbb/sNwaxtt+xjVtgW3IagwcBgdpujVDC82wy7DcGoI8bbfsY1bYFryGoMHAYBWG4VkYXm2GQJJUGwVEbbfOQ1BoRhhbYWA7lYbhWRhebYZgj8hqDRDONsHYrDcKxZjGrbAtuQ1Bg4DAKw3CsjbbmVhuFcbbYZgkRtt/G238bbfkYYW2FgO5WG4VoYXm2GfYbg1BIjbbmhnG2DuVhuFYsRttgWvymqNCMLzbDIEjkNQaEYYW2FgO5WG4VoYXm2GfYbg1BIIwvNsMwSOQ1BpG236GTbYJHIag0GSMLzbDIEjkNQaEbbf8hqDSNtv422/cAAKqEjBHtv422/Iwdzb/kNQaMZxtg7lYbhWLrEgVEY1bYFqBgcpqjRDC82w0Kg2CoEcjbbnyGoNI22/I22/5DUGiGcbYO5WG4Vi0ZNtgkDMbbfobbf2G4Ncjbb/sNwaxtt/GCRbfxtt/G238bbfxtt+xjVtgWxUCoBgqB/Kw3CsjC82wzBIKg2CpjONsHYrDcKxdYkCqMm2wSBiNtv422/YybbBI4SQaDPYbg1jbb8jbb/sNwasZxtg7lYbhWLrEgVMY1bYFt2G4MXA/lYbhXGF5thkCRG238bbfxtt/G238bbfsYqbYGSVhuFYICxIFRGGFtgWoP5WG4VsbbYFtyGoMHZWG4VxhebYZAkIbbf2G4Ncjbb/sNwasYYW2FvYbgxcDuVhuFcYXm2GQJBGGFthYDx2m6NWNtsC25DUGDoVhuFbGKm2BklYbhWCAsSBUhttgkdhuDUYjbb+Ntv422/jbb+Ntv0Mm2wSOQ1BoMEYXm2GYJHIag0I22/5DUGkbbfoZxtg7lYbhWLEY1bYFqBgFYbhWxiptgZRWG4VggLEgVRttgkDEbbfkYXm2GQJJUGwVMbbYJHCSDQY7DcGrGcbYO5WG4Vi6xIFUbbYJAxG237wAAu4SMEe2/jbb+MHc2/jbb+MHa2/jBJNv422/Q22/kNQaZG23/Iag0Q22/kNQacbbfkYYW2FgPHKao0I22+FYbhWRtt+VhuFbG23eQ1Bg7Kw3CuMC4NsMgSI22/jbb+Ntv4wSLb+Ntv422/jbb+Ntv422/jbb+Ntv422/I22wzBH5DUGhG23/Iag0I22/5DUGhG23/Iag0jbb+Ntv422/jbb+Ntv422/jbb+Ntv422/jbb+Ntv422/jbb+Ntv422/jbb+Ntv422/jbb98AAAG2WvAj////////3wAAjMT8Xv/////xe+L3//xe/xe/+wAAncT///i9/////38AAKqE/////////gQYOtt/yGoNP/0AALuE9wAv///////3AAABtltgJf///////98AAEZif//////////7AABO4n////////cAAFVCf////////hcDGMu1ejVwMf/7AABdwn////////cAAAG2W/Aj////////3wAAjMT///////////cAAJ3E////////7wAAqoT////////8Bjlt/Iag0//7AAC7hOLgBRn///////9/AAABtlxgI////////98AAIzE///////////3AACdxP///////+8AAKqE/////////AYwdbb+Q1Bp//0AALuE4uAF7V6Nf///////vwAAAbZoOBH////////vAACMxP//////////9wAAncT////////vAACqhP////////wGOW38hqDT//sAALuE4uAF7V6Nf///////vwAAAbZQ4CP////////fAACMxP//////////9wAAncT////////vAACqhP////////wGMHW2/kNQaf/9AAC7hOLgBe1ejX///////78AAAG2UXAj////////3wAAjMT///////////cAAJ3E////////7wAAqoT////////8Bjlt/Iag0//7AAC7hOLgBe1ejX///////78AAAG2UeAj////////3wAAjMT///////////cAAJ3E////////7wAAqoT///////////cAALuE4uAF7V6NQxg623////////sAAAG2UnAj////////3wAAjMT///////////cAAJ3E////////7wAAqoT////////+BBg623/Iag0//QAAu4T3AC////////cAAAG2UuAj////////3wAAjMT///////////cAAJ3E////////7wAAqoT////////+BBy2/5DUGn/7AAC7hPHwAvavRr///////78AAAG2U3Aj////////3wAAjMT///////////cAAJ3E////////7wAAqoT////////+BBg623/Iag0//QAAu4Tx8AL2r0a///////+/AAABswARRwAAAbYT4FGCPbfxtt/G238bbfxtt/G238bbfxtt/G238bbfxtt/G238bbfxtt/G238bbfxtt/G238bbfxtt/G238bbfxtt+Rtt/2G4NSNtv+w3BrG235G23/Ybg1Q22/sNwa5G23/Ybg1I22/7DcGsbbfkbbf9huDWNtv422/jbb+Ntv4wdzb+Ntv422/jbb8jDC2wsB47TdGpG23/abo1jC82wzBHYwwtsLew3Bi4HcrDcK0MVNsDJKw3CsC/Ixq2wLUDAKw3Csjbb8rDcK4wvNsMwSCMMLbCwHcrDcK4wLg2wzBIjbb9/AACMxIwR7b+NtvyMHc2/7DcGpG23/Ybg1jbb8jbb/sNwasYYW2FvYbgxcDxymqNI225xhebYZgjsZxtg7lYbhWLrEgVIZNtgkchqDQYI22+lQbBURtt85DUGkbbfkbbf8hqDSMEi2/jbb+Ntv422/IwwtsLAdysNwrI22+9pujUjC82wzBH7DcGpGGFthYDx2m6NWMVNsDKKwVIMFYF+VBsFUY1bYFqBgEbbf9huDVDJtsEkqDYKhhDbb+w3BrkYYW2FgOxWG4VkYXm2GYJHYbg1Q22/sNwa5G23/Ybg1jbb+Ntv422/jbb9jC82wz6SwagkchqDQjDC2wsB45TVGhGGFthYDx2m6NWNtu9huDF3ymqNGMatsC25DUGDgfysNwrY2272G4MXfKao0YwwtsLew3Bi4HcrDcK2MVNsDJKw3CsEBYkCpjbbysNwr1iQKiMLzbBIBJKg2CpjDC2wt7DcGLgdysNwrQxU2wMkrDcKwL8jGrbAtQMHtN0axtthmCPG238bbfxtt+hnG2DuVhuFYsRhebYJAI/Iag0YwwtsLew3Bi4HjlNUaMYqbYGSVhuFYF+sSBURk22CQMlQbBUxnG2Dx2m6MXivIag0Y224VgqQYK6VBsFTGNW2BbchqDBwGB2m6NWNtv5DUGDoVhuFZG23L2m6NWMVNsDKKw3CsC/WJAqQybbBJKg2CoZI22/5TVGkbbfxtt+/AACdxIwR7b+Ntv0MHc2/kNQacbbfsZxtg7lYKkGCsXKg2CpDJtsEjkNQaDBGGFthYDx2m6NWMVNsDL5TVGDwL7sNwasY1bYFryGoMHAYBWG4VkbbcvKao0IwvNsMwSCoNgqIwwtsLAd+U1RohhebYaFQbBUCOxnG2DsVhuFYusSBURk22CQMlQbBVGCRbfI22/jbb+NtvyNtv+w3BrG237GNW2BbchqDBwGB2m6NUMLzbDLsNwagjxtt+xjVtgWvIagwcBgFYbhWRhebYZAklQbBURtt85DUGhGGFthYDuVhuFZGF5thmCPyGoNEM42wdisNwrFmMatsC25DUGDgMArDcKyNtuZWG4VxtthmCRG238bbfxtt+RhhbYWA7lYbhWhhebYZ9huDUEiNtuaGcbYO5WG4VixG22Ba/Kao0IwvNsMgSOQ1BoRhhbYWA7lYbhWhhebYZ9huDUEgjC82wzBI5DUGkbbfoZNtgkchqDQZIwvNsMgSOQ1BoRtt/yGoNI22/jbb9wAAqoSMEe2/jbb8jB3Nv+Q1BoxnG2DuVhuFYusSBURjVtgWoGBymqNEMLzbDQqDYKgRyNtufIag0jbb8jbb/kNQaIZxtg7lYbhWLRk22CQMxtt+htt/Ybg1yNtv+w3BrG238YJFt/G238bbfxtt/G237GNW2BbFQKgGCoH8rDcKyMLzbDMEgqDYKmM42wdisNwrF1iQKoybbBIGI22/jbb9jJtsEjhJBoM9huDWNtvyNtv+w3BqxnG2DuVhuFYusSBUxjVtgW3YbgxcD+VhuFcYXm2GQJEbbfxtt/G238bbfxtt+xiptgZJWG4VggLEgVEYYW2Bag/lYbhWxttgW3IagwdlYbhXGF5thkCQhtt/Ybg1yNtv+w3BqxhhbYW9huDFwO5WG4VxhebYZAkEYYW2FgPHabo1Y22wLbkNQYOhWG4VsYqbYGSVhuFYICxIFSG22CR2G4NRiNtv422/jbb+Ntv422/QybbBI5DUGgwRhebYZgkchqDQjbb/kNQaRtt+hnG2DuVhuFYsRjVtgWoGAVhuFbGKm2BlFYbhWCAsSBVG22CQMRtt+RhebYZAklQbBUxttgkcJINBjsNwasZxtg7lYbhWLrEgVRttgkDEbbfvAAC7hIwR7b+Ntv4wdzb+Ntv4wdrb+MEk2/jbb9Dbb+Q1Bpkbbf8hqDRDbb+Q1Bpxtt+RhhbYWA8cpqjQjbb4VhuFZG235WG4Vsbbd5DUGDsrDcK4wLg2wyBIjbb+Ntv422/jBItv422/jbb+Ntv422/jbb+Ntv422/jbb8jbbDMEfkNQaEbbf8hqDQjbb/kNQaEbbf8hqDSNtv422/jbb+Ntv422/jbb+Ntv422/jbb+Ntv422/jbb+Ntv422/jbb+Ntv422/jbb+Ntv3wAAAbZUcCP////////fAACMxPxe//////F74vf//F7/F7/7AACdxP//+L3/////fwAAqoT////////+BBg623/Iag0//QAAu4T3AC////////cAAAG2VOAj////////3wAAjMT///////////cAAJ3E////////7wAAqoT////////+BBy2/5DUGn/7AAC7hPHwAvavRr///////78AAAG2VXAj////////3wAAjMT///////////cAAJ3E////////7wAAqoT////////+BBg623/Iag0//QAAu4Tx8AL2r0a///////+/AAABtlXgI////////98AAIzE///////////3AACdxP///////+8AAKqE/////////gQctv+Q1Bp/+wAAu4Tx8AL2r0a///////+/AAABtlZwJf///////98AAEZif//////////7AABO4n////////cAAFVCf//////////7AABdwncDG////////78AAAG2VuAj////////3wAAjMT///////////cAAJ3E////////7wAAqoT///////////cAALuE4Y5bfuAF///////+AAABtldwI////////98AAIzE///////////3AACdxP///////+8AAKqE///////////3AAC7hPcALf///////78AAAG2V+Aj////////3wAAjMT///////////cAAJ3E////////7wAAqoT/////////Agwdbb/kNQaf/QAAu4T7gBf///////cAAAG2WHAj////////3wAAjMT///////////cAAJ3E////////7wAAqoT/////////Ag5bf8hqDQeAF9q9Gv/vAAC7hP///////+8AAAG2WOAj////////3wAAjMT///////////cAAJ3E////////7wAAqoT//////4v5VqNP/+PAC+1ejVwAv/sAALuE/i/tXo1///////sAAAG2WXAj////////3wAAjMT///////////cAAJ3E////////7wAAqoT//////4Ywdbb///3AC/+/AAC7hP///////+8AAAGzABFHAAABthngUYI9t/G238bbfxtt/G238bbfxtt/G238bbfxtt/G238bbfxtt/G238bbfxtt/G238bbfxtt/G238bbfxtt/G235G23/Ybg1I22/7DcGsbbfkbbf9huDVDbb+w3Brkbbf9huDUjbb/sNwaxtt+Rtt/2G4NY22/jbb+Ntv422/jB3Nv422/jbb+NtvyMMLbCwHjtN0akbbf9pujWMLzbDMEdjDC2wt7DcGLgdysNwrQxU2wMkrDcKwL8jGrbAtQMArDcKyNtvysNwrjC82wzBIIwwtsLAdysNwrjAuDbDMEiNtv38AAIzEjBHtv422/Iwdzb/sNwakbbf9huDWNtvyNtv+w3BqxhhbYW9huDFwPHKao0jbbnGF5thmCOxnG2DuVhuFYusSBUhk22CRyGoNBgjbb6VBsFRG23zkNQaRtt+Rtt/yGoNIwSLb+Ntv422/jbb8jDC2wsB3Kw3Csjbb72m6NSMLzbDMEfsNwakYYW2FgPHabo1YxU2wMorBUgwVgX5UGwVRjVtgWoGARtt/2G4NUMm2wSSoNgqGENtv7DcGuRhhbYWA7FYbhWRhebYZgkdhuDVDbb+w3Brkbbf9huDWNtv422/jbb+Ntv2MLzbDPpLBqCRyGoNCMMLbCwHjlNUaEYYW2FgPHabo1Y2272G4MXfKao0Yxq2wLbkNQYOB/Kw3CtjbbvYbgxd8pqjRjDC2wt7DcGLgdysNwrYxU2wMkrDcKwQFiQKmNtvKw3CvWJAqIwvNsEgEkqDYKmMMLbC3sNwYuB3Kw3CtDFTbAySsNwrAvyMatsC1Awe03RrG22GYI8bbfxtt/G236GcbYO5WG4VixGF5tgkAj8hqDRjDC2wt7DcGLgeOU1RoxiptgZJWG4VgX6xIFRGTbYJAyVBsFTGcbYPHaboxeK8hqDRjbbhWCpBgrpUGwVMY1bYFtyGoMHAYHabo1Y22/kNQYOhWG4Vkbbcvabo1YxU2wMorDcKwL9YkCpDJtsEkqDYKhkjbb/lNUaRtt/G2378AAJ3EjBHtv422/Qwdzb+Q1Bpxtt+xnG2DuVgqQYKxcqDYKkMm2wSOQ1BoMEYYW2FgPHabo1YxU2wMvlNUYPAvuw3BqxjVtgWvIagwcBgFYbhWRtty8pqjQjC82wzBIKg2CojDC2wsB35TVGiGF5thoVBsFQI7GcbYOxWG4Vi6xIFRGTbYJAyVBsFUYJFt8jbb+Ntv422/I22/7DcGsbbfsY1bYFtyGoMHAYHabo1QwvNsMuw3BqCPG237GNW2Ba8hqDBwGAVhuFZGF5thkCSVBsFRG23zkNQaEYYW2FgO5WG4VkYXm2GYI/Iag0QzjbB2Kw3CsWYxq2wLbkNQYOAwCsNwrI225lYbhXG22GYJEbbfxtt/G235GGFthYDuVhuFaGF5thn2G4NQSI225oZxtg7lYbhWLEbbYFr8pqjQjC82wyBI5DUGhGGFthYDuVhuFaGF5thn2G4NQSCMLzbDMEjkNQaRtt+hk22CRyGoNBkjC82wyBI5DUGhG23/Iag0jbb+Ntv3AACqhIwR7b+NtvyMHc2/5DUGjGcbYO5WG4Vi6xIFRGNW2BagYHKao0QwvNsNCoNgqBHI2258hqDSNtvyNtv+Q1BohnG2DuVhuFYtGTbYJAzG236G239huDXI22/7DcGsbbfxgkW38bbfxtt/G238bbfsY1bYFsVAqAYKgfysNwrIwvNsMwSCoNgqYzjbB2Kw3CsXWJAqjJtsEgYjbb+Ntv2Mm2wSOEkGgz2G4NY22/I22/7DcGrGcbYO5WG4Vi6xIFTGNW2BbdhuDFwP5WG4VxhebYZAkRtt/G238bbfxtt/G237GKm2BklYbhWCAsSBURhhbYFqD+VhuFbG22BbchqDB2VhuFcYXm2GQJEbbfkbbf9huDVjDC2wt7DcGLgdysNwrjC82wyBIIwwtsLAeO03RqxttgW3IagwdCsNwrYxU2wMkrDcKwQFiQKkNtsEjsNwajEbbfxtt/G238bbfxtt+hk22CRyGoNBgjC82wzBI5DUGhG23/Iag0jbb+MHa2/IwWbbCwHcrDcK2MVNsDKKw3CsEBYkCqNtsEgYjbb8jC82wyBJKg2CpjbbBI4SQaDHYbg1YzjbB3Kw3CsXWJAqjbbBIGI22/cAALuEjBHtv422/jB3Nv422/jbb+Ntv422/jbb8jbb/kNQaIbbfyGoNONtvyMMLbCwHjlNUaEbbfCsNwrI22/Kw3CtjbbvIagwdlYbhXGBcG2GQJEbbfxtt/G238YJFt/G238bbfxtt/G238bbfxtt/G238bbfkbbYZgj8hqDQjbb/kNQaEbbf8hqDQjbb/kNQaRtt/G238bbfxtt/G238bbfxtt/G238bbfxtt/G238bbfxtt/G238bbfxtt/G238bbfxtt+/AAABtlpwI////////98AAIzE/F7/////8Xvi9//8Xv8Xv/sAAJ3E///4vf////9/AACqhP/////////eAF/7AAC7hP7wAv//////9wAAAbZa4CP////////fAACMxP//////////9wAAncT////////vAACqhP/////////DGDrbf/9/AAC7hP7wAv//////9wAAAbZbcCP////////fAACMxP//////////9wAAncT////////vAACqhP////////+GMHW2/DGCSbf/9wAAu4T////////vAAABtlvgI////////98AAIzE///////////3AACdxP///////+8AAKqE/////////7wAv/sAALuE/eAF///////3AAABtlxwI////////98AAIzE///////////3AACdxP///////+8AAKqE/////////4Ywdbb//38AALuE/eAF///////3AAABtmgwEf///////+8AAIzE///////////3AACdxP///////+8AAKqE/////////7wAv/sAALuE/eAF///////3AAABtlDwI////////98AAIzE///////////3AACdxP///////+8AAKqE/////////4Ywdbb//38AALuE/eAF///////3AAABtlFgI////////98AAIzE///////////3AACdxP///////+8AAKqE/////////7wAv/sAALuE/eAF///////3AAABtlHwI////////98AAIzE///////////3AACdxP///////+8AAKqE/////////4Ywdbb//38AALuE/eAF///////3AAABtlJgJf///////98AAEZif//////////7AABO4n////////cAAFVCf////////48DGMnAx/+/AABdwn////////cAAAG2UvAj////////3wAAjMT///////////cAAJ3E////////7wAAqoT/////////Ag5bf8hqDT/7AAC7hPj4AUZ///////9/AAABswARhwAAAbYTYFGCPbfxtt/G238bbfxtt/G238bbfxtt/G238bbfxtt/G238bbfxtt/G238bbfxtt/G238bbfxtt/G238bbfxtt+Rtt/2G4NSNtv+w3BrG235G23/Ybg1Q22/sNwa5G23/Ybg1I22/7DcGsbbfkbbf9huDWNtv422/jbb+Ntv4wdzb+Ntv422/jbb8jDC2wsB47TdGpG23/abo1jC82wzBHYwwtsLew3Bi4HcrDcK0MVNsDJKw3CsC/Ixq2wLUDAKw3Csjbb8rDcK4wvNsMwSCMMLbCwHcrDcK4wLg2wzBIjbb9/AACMxIwR7b+NtvyMHc2/7DcGpG23/Ybg1jbb8jbb/sNwasYYW2FvYbgxcDxymqNI225xhebYZgjsZxtg7lYbhWLrEgVIZNtgkchqDQYI22+lQbBURtt85DUGkbbfkbbf8hqDSMEi2/jbb+Ntv422/IwwtsLAdysNwrI22+9pujUjC82wzBH7DcGpGGFthYDx2m6NWMVNsDKKwVIMFYF+VBsFUY1bYFqBgEbbf9huDVDJtsEkqDYKhhDbb+w3BrkYYW2FgOxWG4VkYXm2GYJHYbg1Q22/sNwa5G23/Ybg1jbb+Ntv422/jbb9jC82wz6SwagkchqDQjDC2wsB45TVGhGGFthYDx2m6NWNtu9huDF3ymqNGMatsC25DUGDgfysNwrY2272G4MXfKao0YwwtsLew3Bi4HcrDcK2MVNsDJKw3CsEBYkCpjbbysNwr1iQKiMLzbBIBJKg2CpjDC2wt7DcGLgdysNwrQxU2wMkrDcKwL8jGrbAtQMHtN0axtthmCPG238bbfxtt+hnG2DuVhuFYsRhebYJAI/Iag0YwwtsLew3Bi4HjlNUaMYqbYGSVhuFYF+sSBURk22CQMlQbBUxnG2Dx2m6MXivIag0Y224VgqQYK6VBsFTGNW2BbchqDBwGB2m6NWNtv5DUGDoVhuFZG23L2m6NWMVNsDKKw3CsC/WJAqQybbBJKg2CoZI22/5TVGkbbfxtt+/AACdxIwR7b+Ntv0MHc2/kNQacbbfsZxtg7lYKkGCsXKg2CpDJtsEjkNQaDBGGFthYDx2m6NWMVNsDL5TVGDwL7sNwasY1bYFryGoMHAYBWG4VkbbcvKao0IwvNsMwSCoNgqIwwtsLAd+U1RohhebYaFQbBUCOxnG2DsVhuFYusSBURk22CQMlQbBVGCRbfI22/jbb+NtvyNtv+w3BrG237GNW2BbchqDBwGB2m6NUMLzbDLsNwagjxtt+xjVtgWvIagwcBgFYbhWRhebYZAklQbBURtt85DUGhGGFthYDuVhuFZGF5thmCPyGoNEM42wdisNwrFmMatsC25DUGDgMArDcKyNtuZWG4VxtthmCRG238bbfxtt+RhhbYWA7lYbhWhhebYZ9huDUEiNtuaGcbYO5WG4VixG22Ba/Kao0IwvNsMgSOQ1BoRhhbYWA7lYbhWhhebYZ9huDUEgjC82wzBI5DUGkbbfoZNtgkchqDQZIwvNsMgSOQ1BoRtt/yGoNI22/jbb9wAAqoSMEe2/jbb8jB3Nv+Q1BoxnG2DuVhuFYusSBURjVtgWoGBymqNEMLzbDQqDYKgRyNtufIag0jbb8jbb/kNQaIZxtg7lYbhWLRk22CQMxtt+htt/Ybg1yNtv+w3BrG238YJFt/G238bbfxtt/G237GNW2BbFQKgGCoH8rDcKyMLzbDMEgqDYKmM42wdisNwrF1iQKoybbBIGI22/jbb9jJtsEjhJBoM9huDWNtvyNtv+w3BqxnG2DuVhuFYusSBUxjVtgW3YbgxcD+VhuFcYXm2GQJEbbfxtt/G238bbfxtt+xiptgZJWG4VggLEgVEYYW2Bag/lYbhWxttgW3IagwdlYbhXGF5thkCRG235G23/Ybg1YwwtsLew3Bi4HcrDcK4wvNsMgSCMMLbCwHjtN0asbbYFtyGoMHQrDcK2MVNsDJKw3CsEBYkCpDbbBI7DcGoxG238bbfxtt/G238bbfoZNtgkchqDQYIwvNsMwSOQ1BoRg7W3/Iag0jBJNv422/IwwtsLAdysNwrYxU2wMorDcKwQFiQKo22wSBiNtvyMLzbDIEkqDYKmNtsEjhJBoMdhuDVjONsHcrDcKxdYkCqNtsEgYjbb9wAAu4SMEe2/jbb+MHc2/jbb+Ntv422/jbb+NtvyNtv+Q1Bohtt/Iag0422/IwwtsLAeOU1RoRtt8Kw3Csjbb8rDcK2Ntu8hqDB2VhuFcYFwbYZAkRtt/G238bbfxgkW38bbfxtt/G238bbfxtt/G238bbfxtt+RtthmCPyGoNCNtv+Q1BoRtt/yGoNCNtv+Q1BpG238bbfxtt/G238bbfxtt/G238bbfxtt/G238bbfxtt/G238bbfxtt/G238bbfxtt/G2378AAAG2U/Aj////////3wAAjMT8Xv/////xe+L3//xe/xe/+wAAncT///i9/////38AAKqE/////////wIOW3/Iag0HgBfavRr/7wAAu4T////////vAAABtlRgI////////98AAIzE///////////3AACdxP///////+8AAKqE/////////48AL7V6Nf/fAAC7hP3gBf//////9wAAAbZU8CP////////fAACMxP//////////9wAAncT////////vAACqhP////////+GMHW2//9/AAC7hP3gBf//////9wAAAbZVYCP////////fAACMxP//////////9wAAncT////////vAACqhP////////+8AL/7AAC7hP3gBf//////9wAAAbZV8CP////////fAACMxP//////////9wAAncT////////vAACqhP////////+GMHW2//9/AAC7hP3gBf//////9wAAAbZWYCP////////fAACMxP//////////9wAAncT////////vAACqhP////////+8AL/7AAC7hP3gBf//////9wAAAbZW8CP////////fAACMxP//////////9wAAncT////////vAACqhP////////+GMHW2//9/AAC7hP3gBf//////9wAAAbZXYCP////////fAACMxP//////////9wAAncT////////vAACqhP////////+8AL/7AAC7hP3gBf//////9wAAAbZX8CP////////fAACMxP//////////9wAAncT////////vAACqhP////////+GMHW2//9/AAC7hP3gBf//////9wAAAbZYYCP////////fAACMxP//////////9wAAncT////////vAACqhP////////+8AL/7AAC7hP3gBf//////9wAAAbZY8CP////////fAACMxP//////////9wAAncT////////vAACqhP////////+GMHW2//9/AAC7hP3gBf//////9wAAAbMAEYcAAAG2GWBRgj238bbfxtt/G238bbfxtt/G238bbfxtt/G238bbfxtt/G238bbfxtt/G238bbfxtt/G238bbfxtt/G238bbfkbbf9huDUjbb/sNwaxtt+Rtt/2G4NUNtv7DcGuRtt/2G4NSNtv+w3BrG235G23/Ybg1jbb+Ntv422/jbb+MHc2/jbb+Ntv422/IwwtsLAeO03RqRtt/2m6NYwvNsMwR2MMLbC3sNwYuB3Kw3CtDFTbAySsNwrAvyMatsC1AwCsNwrI22/Kw3CuMLzbDMEgjDC2wsB3Kw3CuMC4NsMwSI22/fwAAjMSMEe2/jbb8jB3Nv+w3BqRtt/2G4NY22/I22/7DcGrGGFthb2G4MXA8cpqjSNtucYXm2GYI7GcbYO5WG4Vi6xIFSGTbYJHIag0GCNtvpUGwVEbbfOQ1BpG235G23/Iag0jBItv422/jbb+NtvyMMLbCwHcrDcKyNtvvabo1IwvNsMwR+w3BqRhhbYWA8dpujVjFTbAyisFSDBWBflQbBVGNW2BagYBG23/Ybg1QybbBJKg2CoYQ22/sNwa5GGFthYDsVhuFZGF5thmCR2G4NUNtv7DcGuRtt/2G4NY22/jbb+Ntv422/YwvNsM+ksGoJHIag0IwwtsLAeOU1RoRhhbYWA8dpujVjbbvYbgxd8pqjRjGrbAtuQ1Bg4H8rDcK2Ntu9huDF3ymqNGMMLbC3sNwYuB3Kw3CtjFTbAySsNwrBAWJAqY228rDcK9YkCojC82wSASSoNgqYwwtsLew3Bi4HcrDcK0MVNsDJKw3CsC/Ixq2wLUDB7TdGsbbYZgjxtt/G238bbfoZxtg7lYbhWLEYXm2CQCPyGoNGMMLbC3sNwYuB45TVGjGKm2BklYbhWBfrEgVEZNtgkDJUGwVMZxtg8dpujF4ryGoNGNtuFYKkGCulQbBUxjVtgW3IagwcBgdpujVjbb+Q1Bg6FYbhWRtty9pujVjFTbAyisNwrAv1iQKkMm2wSSoNgqGSNtv+U1RpG238bbfvwAAncSMEe2/jbb9DB3Nv5DUGnG237GcbYO5WCpBgrFyoNgqQybbBI5DUGgwRhhbYWA8dpujVjFTbAy+U1Rg8C+7DcGrGNW2Ba8hqDBwGAVhuFZG23LymqNCMLzbDMEgqDYKiMMLbCwHflNUaIYXm2GhUGwVAjsZxtg7FYbhWLrEgVEZNtgkDJUGwVRgkW3yNtv422/jbb8jbb/sNwaxtt+xjVtgW3IagwcBgdpujVDC82wy7DcGoI8bbfsY1bYFryGoMHAYBWG4VkYXm2GQJJUGwVEbbfOQ1BoRhhbYWA7lYbhWRhebYZgj8hqDRDONsHYrDcKxZjGrbAtuQ1Bg4DAKw3CsjbbmVhuFcbbYZgkRtt/G238bbfkYYW2FgO5WG4VoYXm2GfYbg1BIjbbmhnG2DuVhuFYsRttgWvymqNCMLzbDIEjkNQaEYYW2FgO5WG4VoYXm2GfYbg1BIIwvNsMwSOQ1BpG236GTbYJHIag0GSMLzbDIEjkNQaEbbf8hqDSNtv422/cAAKqEjBHtv422/Iwdzb/kNQaMZxtg7lYbhWLrEgVEY1bYFqBgcpqjRDC82w0Kg2CoEcjbbnyGoNI22/I22/5DUGiGcbYO5WG4Vi0ZNtgkDMbbfobbf2G4Ncjbb/sNwaxtt/GCRbfxtt/G238bbfxtt+xjVtgWxUCoBgqB/Kw3CsjC82wzBIKg2CpjONsHYrDcKxdYkCqMm2wSBiNtv422/YybbBI4SQaDPYbg1jbb8jbb/sNwasZxtg7lYbhWLrEgVMY1bYFt2G4MXA/lYbhXGF5thkCRG238bbfxtt/G238bbfsYqbYGSVhuFYICxIFRGGFtgWoP5WG4VsbbYFtyGoMHZWG4VxhebYZAkRtt+Rtt/2G4NWMMLbC3sNwYuB3Kw3CuMLzbDIEgjDC2wsB47TdGrG22BbchqDB0Kw3CtjFTbAySsNwrBAWJAqQ22wSOw3BqMRtt/G238bbfxtt/G236GTbYJHIag0GCMLzbDMEjkNQaEbbf8hqDSNtv422/IwwtsLAdysNwrYxU2wMorDcKwQFiQKo22wSBiNtvyMLzbDIEkqDYKmNtsEjhJBoMdhuDVjONsHcrDcKxdYkCqNtsEgYjbb9/AAC7hIwR7b+Ntv4wdzb+Ntv422/jbb+MHa2/jBJNvyNtv+Q1Bohtt/Iag0422/IwwtsLAeOU1RoRtt8Kw3Csjbb8rDcK2Ntu8hqDB2VhuFcYFwbYZAkRtt/G238bbfxgkW38bbfxtt/G238bbfxtt/G238bbfxtt+RtthmCPyGoNCNtv+Q1BoRtt/yGoNCNtv+Q1BpG238bbfxtt/G238bbfxtt/G238bbfxtt/G238bbfxtt/G238bbfxtt/G238bbfxtt/G237AAABtlnwI////////98AAIzE/F7/////8Xvi9//8Xv8Xv/sAAJ3E///4vf////9/AACqhP////////+GMHW2//9/AAC7hP3AC///////9wAAAbZaYCP////////fAACMxP//////////9wAAncT////////vAACqhP////////+8AL/7AAC7hP3gBf//////9wAAAbZa8CP////////fAACMxP//////////9wAAncT////////vAACqhP////////+GMHW2//9/AAC7hP3gBf//////9wAAAbZbYCP////////fAACMxP//////////9wAAncT////////vAACqhP////////+8AL/7AAC7hP3gBf//////9wAAAbZb8CP////////fAACMxP//////////9wAAncT////////vAACqhP////////+GMHW2//9/AAC7hP3gBf//////9wAAAbZcYCP////////fAACMxP//////////9wAAncT////////vAACqhP////////+8AL/7AAC7hP3gBf//////9wAAAbZoOBH////////vAACMxP//////////9wAAncT////////vAACqhP////////+GMHW2//9/AAC7hP3gBf//////9wAAAbZQ4CP////////fAACMxP//////////9wAAncT////////vAACqhP////////+8AL/7AAC7hP3gBf//////9wAAAbZRcCP////////fAACMxP//////////9wAAncT////////vAACqhP////////+GMHW2//9/AAC7hP3gBf//////9wAAAbZR4CP////////fAACMxP//////////9wAAncT////////vAACqhP////////+8AL/7AAC7hP3gBf//////9wAAAbZScCP////////fAACMxP//////////9wAAncT////////vAACqhP////////+GMHW2//9/AAC7hP3gBf//////9wAAAbMAEccAAAG2EuBRgj238bbfxtt/G238bbfxtt/G238bbfxtt/G238bbfxtt/G238bbfxtt/G238bbfxtt/G238bbfxtt/G238bbfkbbf9huDUjbb/sNwaxtt+Rtt/2G4NUNtv7DcGuRtt/2G4NSNtv+w3BrG235G23/Ybg1jbb+Ntv422/jbb+MHc2/jbb+Ntv422/IwwtsLAeO03RqRtt/2m6NYwvNsMwR2MMLbC3sNwYuB3Kw3CtDFTbAySsNwrAvyMatsC1AwCsNwrI22/Kw3CuMLzbDMEgjDC2wsB3Kw3CuMC4NsMwSI22/fwAAjMSMEe2/jbb8jB3Nv+w3BqRtt/2G4NY22/I22/7DcGrGGFthb2G4MXA8cpqjSNtucYXm2GYI7GcbYO5WG4Vi6xIFSGTbYJHIag0GCNtvpUGwVEbbfOQ1BpG235G23/Iag0jBItv422/jbb+NtvyMMLbCwHcrDcKyNtvvabo1IwvNsMwR+w3BqRhhbYWA8dpujVjFTbAyisFSDBWBflQbBVGNW2BagYBG23/Ybg1QybbBJKg2CoYQ22/sNwa5GGFthYDsVhuFZGF5thmCR2G4NUNtv7DcGuRtt/2G4NY22/jbb+Ntv422/YwvNsM+ksGoJHIag0IwwtsLAeOU1RoRhhbYWA8dpujVjbbvYbgxd8pqjRjGrbAtuQ1Bg4H8rDcK2Ntu9huDF3ymqNGMMLbC3sNwYuB3Kw3CtjFTbAySsNwrBAWJAqY228rDcK9YkCojC82wSASSoNgqYwwtsLew3Bi4HcrDcK0MVNsDJKw3CsC/Ixq2wLUDB7TdGsbbYZgjxtt/G238bbfoZxtg7lYbhWLEYXm2CQCPyGoNGMMLbC3sNwYuB45TVGjGKm2BklYbhWBfrEgVEZNtgkDJUGwVMZxtg8dpujF4ryGoNGNtuFYKkGCulQbBUxjVtgW3IagwcBgdpujVjbb+Q1Bg6FYbhWRtty9pujVjFTbAyisNwrAv1iQKkMm2wSSoNgqGSNtv+U1RpG238bbfvwAAncSMEe2/jbb9DB3Nv5DUGnG237GcbYO5WCpBgrFyoNgqQybbBI5DUGgwRhhbYWA8dpujVjFTbAy+U1Rg8C+7DcGrGNW2Ba8hqDBwGAVhuFZG23LymqNCMLzbDMEgqDYKiMMLbCwHflNUaIYXm2GhUGwVAjsZxtg7FYbhWLrEgVEZNtgkDJUGwVRgkW3yNtv422/jbb8jbb/sNwaxtt+xjVtgW3IagwcBgdpujVDC82wy7DcGoI8bbfsY1bYFryGoMHAYBWG4VkYXm2GQJJUGwVEbbfOQ1BoRhhbYWA7lYbhWRhebYZgj8hqDRDONsHYrDcKxZjGrbAtuQ1Bg4DAKw3CsjbbmVhuFcbbYZgkRtt/G238bbfkYYW2FgO5WG4VoYXm2GfYbg1BIjbbmhnG2DuVhuFYsRttgWvymqNCMLzbDIEjkNQaEYYW2FgO5WG4VoYXm2GfYbg1BIIwvNsMwSOQ1BpG236GTbYJHIag0GSMLzbDIEjkNQaEbbf8hqDSNtv422/cAAKqEjBHtv422/Iwdzb/kNQaMZxtg7lYbhWLrEgVEY1bYFqBgcpqjRDC82w0Kg2CoEcjbbnyGoNI22/I22/5DUGiGcbYO5WG4Vi0ZNtgkDMbbfobbf2G4Ncjbb/sNwaxtt/GCRbfxtt/G238bbfxtt+xjVtgWxUCoBgqB/Kw3CsjC82wzBIKg2CpjONsHYrDcKxdYkCqMm2wSBiNtv422/YybbBI4SQaDPYbg1jbb8jbb/sNwasZxtg7lYbhWLrEgVMY1bYFt2G4MXA/lYbhXGF5thkCRG238bbfxtt/G238bbfsYqbYGSVhuFYICxIFRGGFtgWoP5WG4VsbbYFtyGoMHZWG4VxhebYZAkRtt+Rtt/2G4NWMMLbC3sNwYuB3Kw3CuMLzbDIEgjDC2wsB47TdGrG22BbchqDB0Kw3CtjFTbAySsNwrBAWJAqQ22wSOw3BqMRtt/G238bbfxtt/G236GTbYJHIag0GCMLzbDMEjkNQaEbbf8hqDSNtv422/IwwtsLAdysNwrYxU2wMorDcKwQFiQKo22wSBiNtvyMLzbDIEkqDYKmNtsEjhJBoMdhuDVjONsHcrDcKxdYkCqNtsEgYjbb9/AAC7hIwR7b+Ntv4wdzb+Ntv422/jbb+MHa2/jBJNvyNtv+Q1Bohtt/Iag0422/IwwtsLAeOU1RoRtt8Kw3Csjbb8rDcK2Ntu8hqDB2VhuFcYFwbYZAkRtt/G238bbfxgkW38bbfxtt/G238bbfxtt/G238bbfxtt+RtthmCPyGoNCNtv+Q1BoRtt/yGoNCNtv+Q1BpG238bbfxtt/G238bbfxtt/G238bbfxtt/G238bbfxtt/G238bbfxtt/G238bbfxtt/G237AAABtlNwI////////98AAIzE/F7/////8Xvi9//8Xv8Xv/sAAJ3E///4vf////9/AACqhP////////+GMHW2//9/AAC7hP3AC///////9wAAAbZT4CP////////fAACMxP//////////9wAAncT////////vAACqhP////////+8AL/7AAC7hP3gBf//////9wAAAbZUcCP////////fAACMxP//////////9wAAncT////////vAACqhP////////+GMHW2//9/AAC7hP3gBf//////9wAAAbZU4CP////////fAACMxP//////////9wAAncT////////vAACqhP////////+8AL/7AAC7hP3gBf//////9wAAAbZVcCP////////fAACMxP//////////9wAAncT////////vAACqhP////////+GMHW2//9/AAC7hP3gBf//////9wAAAbZV4CX////////fAABGYn//////////+wAATuJ////////3AABVQn////////+PAxjJwMf/vwAAXcJ////////3AAABtlZwI////////98AAIzE///////////3AACdxP///////+8AAKqE/////////wIOW3/Iag0/+wAAu4T4+AFGf///////fwAAAbZW4CP////////fAACMxP//////////9wAAncT////////vAACqhP////////8CDB1tv+Q1Bp/9AAC7hPj4AXtXo1///////78AAAG2V3Aj////////3wAAjMT///////////cAAJ3E////////7wAAqoT/////////Ag5bf8hqDQeAF9q9Gv/vAAC7hP///////+8AAAG2V+Aj////////3wAAjMT///////////cAAJ3E////////7wAAqoT/////////jwAvtXo1/98AALuE/eAF///////3AAABtlhwI////////98AAIzE///////////3AACdxP///////+8AAKqE/////////4Ywdbb//38AALuE/eAF///////3AAABswARxwAAAbYY4FGCPbfxtt/G238bbfxtt/G238bbfxtt/G238bbfxtt/G238bbfxtt/G238bbfxtt/G238bbfxtt/G238bbfxtt+Rtt/2G4NSNtv+w3BrG235G23/Ybg1Q22/sNwa5G23/Ybg1I22/7DcGsbbfkbbf9huDWNtv422/jbb+Ntv4wdzb+Ntv422/jbb8jDC2wsB47TdGpG23/abo1jC82wzBHYwwtsLew3Bi4HcrDcK0MVNsDJKw3CsC/Ixq2wLUDAKw3Csjbb8rDcK4wvNsMwSCMMLbCwHcrDcK4wLg2wzBIjbb9/AACMxIwR7b+NtvyMHc2/7DcGpG23/Ybg1jbb8jbb/sNwasYYW2FvYbgxcDxymqNI225xhebYZgjsZxtg7lYbhWLrEgVIZNtgkchqDQYI22+lQbBURtt85DUGkbbfkbbf8hqDSMEi2/jbb+Ntv422/IwwtsLAdysNwrI22+9pujUjC82wzBH7DcGpGGFthYDx2m6NWMVNsDKKwVIMFYF+VBsFUY1bYFqBgEbbf9huDVDJtsEkqDYKhhDbb+w3BrkYYW2FgOxWG4VkYXm2GYJHYbg1Q22/sNwa5G23/Ybg1jbb+Ntv422/jbb9jC82wz6SwagkchqDQjDC2wsB45TVGhGGFthYDx2m6NWNtu9huDF3ymqNGMatsC25DUGDgfysNwrY2272G4MXfKao0YwwtsLew3Bi4HcrDcK2MVNsDJKw3CsEBYkCpjbbysNwr1iQKiMLzbBIBJKg2CpjDC2wt7DcGLgdysNwrQxU2wMkrDcKwL8jGrbAtQMHtN0axtthmCPG238bbfxtt+hnG2DuVhuFYsRhebYJAI/Iag0YwwtsLew3Bi4HjlNUaMYqbYGSVhuFYF+sSBURk22CQMlQbBUxnG2Dx2m6MXivIag0Y224VgqQYK6VBsFTGNW2BbchqDBwGB2m6NWNtv5DUGDoVhuFZG23L2m6NWMVNsDKKw3CsC/WJAqQybbBJKg2CoZI22/5TVGkbbfxtt+/AACdxIwR7b+Ntv0MHc2/kNQacbbfsZxtg7lYKkGCsXKg2CpDJtsEjkNQaDBGGFthYDx2m6NWMVNsDL5TVGDwL7sNwasY1bYFryGoMHAYBWG4VkbbcvKao0IwvNsMwSCoNgqIwwtsLAd+U1RohhebYaFQbBUCOxnG2DsVhuFYusSBURk22CQMlQbBVGCRbfI22/jbb+NtvyNtv+w3BrG237GNW2BbchqDBwGB2m6NUMLzbDLsNwagjxtt+xjVtgWvIagwcBgFYbhWRhebYZAklQbBURtt85DUGhGGFthYDuVhuFZGF5thmCPyGoNEM42wdisNwrFmMatsC25DUGDgMArDcKyNtuZWG4VxtthmCRG238bbfxtt+RhhbYWA7lYbhWhhebYZ9huDUEiNtuaGcbYO5WG4VixG22Ba/Kao0IwvNsMgSOQ1BoRhhbYWA7lYbhWhhebYZ9huDUEgjC82wzBI5DUGkbbfoZNtgkchqDQZIwvNsMgSOQ1BoRtt/yGoNI22/jbb9wAAqoSMEe2/jbb8jB3Nv+Q1BoxnG2DuVhuFYusSBURjVtgWoGBymqNEMLzbDQqDYKgRyNtufIag0jbb8jbb/kNQaIZxtg7lYbhWLRk22CQMxtt+htt/Ybg1yNtv+w3BrG238YJFt/G238bbfxtt/G237GNW2BbFQKgGCoH8rDcKyMLzbDMEgqDYKmM42wdisNwrF1iQKoybbBIGI22/jbb9jJtsEjhJBoM9huDWNtvyNtv+w3BqxnG2DuVhuFYusSBUxjVtgW3YbgxcD+VhuFcYXm2GQJEbbfxtt/G238bbfxtt+xiptgZJWG4VggLEgVEYYW2Bag/lYbhWxttgW3IagwdlYbhXGF5thkCRG235G23/Ybg1YwwtsLew3Bi4HcrDcK4wvNsMgSCMMLbCwHjtN0asbbYFtyGoMHQrDcK2MVNsDJKw3CsEBYkCpDbbBI7DcGoxG238bbfxtt/G238bbfoZNtgkchqDQYIwvNsMwSOQ1BoRtt/yGoNI22/jbb8jDC2wsB3Kw3CtjFTbAyisNwrBAWJAqjbbBIGI22/IwvNsMgSSoNgqY22wSOEkGgx2G4NWM42wdysNwrF1iQKo22wSBiNtv38AALuEjBHtv422/jB3Nv422/jbb+Ntv4wdrb+MEk2/I22/5DUGiG238hqDTjbb8jDC2wsB45TVGhG23wrDcKyNtvysNwrY227yGoMHZWG4VxgXBthkCRG238bbfxtt/GCRbfxtt/G238bbfxtt/G238bbfxtt/G235G22GYI/Iag0I22/5DUGhG23/Iag0I22/5DUGkbbfxtt/G238bbfxtt/G238bbfxtt/G238bbfxtt/G238bbfxtt/G238bbfxtt/G238bbfsAAAG2WXAj////////3wAAjMT8Xv/////xe+L3//xe/xe/+wAAncT///i9/////38AAKqE/////////4Ywdbb//38AALuE/cAL///////3AAABtlngI////////98AAIzE///////////3AACdxP///////+8AAKqE/////////7wAv/sAALuE/eAF///////3AAABtlpwI////////98AAIzE///////////3AACdxP///////+8AAKqE/////////4Ywdbb//38AALuE/eAF///////3AAABtlrgI////////98AAIzE///////////3AACdxP///////+8AAKqE/////////7wAv/sAALuE/eAF///////3AAABtltwI////////98AAIzE///////////3AACdxP///////+8AAKqE/////////4Ywdbb//38AALuE/eAF///////3AAABtlvgI////////98AAIzE///////////3AACdxP///////+8AAKqE/////////7wAv/sAALuE/eAF///////3AAABtlxwI////////98AAIzE///////////3AACdxP///////+8AAKqE/////////4Ywdbb//38AALuE/eAF///////3AAABtmgwEf///////+8AAIzE///////////3AACdxP///////+8AAKqE/////////7wAv/sAALuE/eAF///////3AAABtlDwKf///H/KtRoP+VajSP+VajQX8q1Gg/5VqNB/yrUaR/yrUae8P3h+8P3h+Ph/yrUaD4f8q1Gjw/Hw/5VqNBcP+VajQfD/lWo0Hw/5VqNHh+Ph/yrUab8AABGYm4fwxgj234Y22/DG234Y22/DG234Y22/DG234Y22/DG234Y22/DG237hv9w/hjbb8Mbbfhjbb8Mbbfhjbb8Mbbfhjbb8Mbbfhjbb8Mbbfhjbb9w3+4f3Bf3BD7gZ8MYI9t+GNtvwxtt+GNtvwxtt+GNtvwxtt+GNtv3Df7777h/cCPuAn3AJ9wAvhjBHtvwxtt+GNtvwxtt+4b9/AAATuJuH8MYI9t+GNtvwxtt+GNtvwxtt+GNtvwxtt+GNtvwxtt+GNtvwxtt+4bse4f3Bfwxgj234Y22/DG234Y22/DG234Y22/DG234Y22/DG234Y22/cN2ffcP4Y22/DG234Y22/DG234Y22/DG234Y22/DG234Y22/DG237hv3AAAVUJuH9w/uH8MYI9t+GNtvwxtt+GNtvwxtt+GNtvwxtt+GNtvwxtt+4b/ffcP4Y22/DG234Y22/DG234Y22/DG234Y22/DG234Y22/cN/vvuH9wM+GMEe2/DG234Y22/DG234Y22/DG234Y22/DG237hv9999w/hjbb8Mbbfhjbb94KB4LcfBQOHsAt+1ejUfBb9q9Grhv3wAAF3Cbh/DGCPbfuyG7777774/7VxmP+1ejUf9q9Go/7V6Nf/49EP+1ejUeiH/avRqPRD/tXo1H/avRr///fwAABpltb292AAAAbG12aGQAAAAAAAAAAAAAAAAAAAPoAAAfkAABAAABAAAAAAAAAAAAAAAAAQAAAAAAAAAAAAAAAAAAAAEAAAAAAAAAAAAAAAAAAEAAAAAAAAAAAAAAAAAAAAAAAAAAAAAAAAAAAAAAAAACAAAFw3RyYWsAAABcdGtoZAAAAAMAAAAAAAAAAAAAAAEAAAAAAAAfkAAAAAAAAAAAAAAAAAAAAAAAAQAAAAAAAAAAAAAAAAAAAAEAAAAAAAAAAAAAAAAAAEAAAAABEAAAARAAAAAAACRlZHRzAAAAHGVsc3QAAAAAAAAAAQAAH5AAAAAAAAEAAAAABTttZGlhAAAAIG1kaGQAAAAAAAAAAAAAAAAAADIAAAGUAFXEAAAAAAAtaGRscgAAAAAAAAAAdmlkZQAAAAAAAAAAAAAAAFZpZGVvSGFuZGxlcgAAAATmbWluZgAAABR2bWhkAAAAAQAAAAAAAAAAAAAAJGRpbmYAAAAcZHJlZgAAAAAAAAABAAAADHVybCAAAAABAAAEpnN0YmwAAADGc3RzZAAAAAAAAAABAAAAtm1wNHYAAAAAAAAAAQAAAAAAAAAAAAAAAAAAAAABEAEQAEgAAABIAAAAAAAAAAEAAAAAAAAAAAAAAAAAAAAAAAAAAAAAAAAAAAAAAAAAAAAY//8AAABgZXNkcwAAAAADgICATwABAASAgIBBIBEAAAAAAw1AAACxugWAgIAvAAABsAEAAAG1iRMAAAEAAAABIADEjYgAzQiEIhRDAAABskxhdmM1OC4xOC4xMDAGgICAAQIAAAAYc3R0cwAAAAAAAAABAAAAygAAAgAAAABUc3RzcwAAAAAAAAARAAAAAQAAAA0AAAAZAAAAJQAAADEAAAA9AAAASQAAAFUAAABhAAAAbQAAAHkAAACFAAAAkQAAAJ0AAACpAAAAtQAAAMEAAAAcc3RzYwAAAAAAAAABAAAAAQAAAMoAAAABAAADPHN0c3oAAAAAAAAAAAAAAMoAAAexAAAAWwAAAEsAAABHAAAARgAAAEQAAABIAAAASwAAAFAAAABSAAAARQAAAEQAAAeNAAAAWgAAAEwAAABLAAAATAAAAE4AAABOAAAARQAAAEwAAABRAAAASgAAAE8AAAdxAAAAXAAAAEoAAABPAAAASgAAAFEAAABNAAAATwAAAE0AAABPAAAATQAAAE8AAAd1AAAAXAAAAE0AAABPAAAATQAAAE8AAABNAAAATwAAAE0AAABPAAAATQAAAE8AAAd1AAAAXAAAAE0AAABPAAAATQAAAE8AAABLAAAASwAAAEcAAABGAAAASAAAAEoAAAdgAAAAUAAAAEUAAABCAAAARQAAAEIAAABFAAAAQgAAAEUAAABCAAAARQAAAEIAAAdfAAAAWAAAAEkAAABJAAAAUwAAAEsAAABMAAAASwAAAEYAAABFAAAASwAAAEsAAAdMAAAAVQAAAEYAAABFAAAASwAAAEwAAABLAAAATAAAAEsAAABMAAAASQAAAEsAAAdAAAAAVQAAAEwAAABLAAAATAAAAFMAAABDAAAARQAAAEgAAABLAAAATAAAAEsAAAcxAAAAVQAAAEwAAABLAAAATAAAAEsAAABMAAAASwAAAEgAAABIAAAASwAAAEwAAAczAAAAUgAAAEcAAABJAAAATAAAAEsAAABMAAAASwAAAEgAAABIAAAASwAAAEwAAAczAAAAUgAAAEsAAABMAAAASwAAAEEAAABDAAAAQQAAAEgAAABLAAAATgAAAEUAAAckAAAATAAAAEUAAABHAAAAQgAAAEUAAABCAAAARQAAAEIAAABFAAAARAAAAEkAAAclAAAAVQAAAEYAAABFAAAAQgAAAEUAAABCAAAARQAAAEIAAABFAAAAQgAAAEUAAAclAAAATwAAAEIAAABFAAAAQgAAAEUAAABCAAAARQAAAEIAAABFAAAAQgAAAEUAAAclAAAATwAAAEIAAABFAAAAQgAAAEUAAABEAAAASQAAAEwAAABLAAAARgAAAEUAAAclAAAATwAAAEIAAABFAAAAQgAAAEUAAABCAAAARQAAAEIAAAJWAAAAFHN0Y28AAAAAAAAAAQAAACwAAABidWR0YQAAAFptZXRhAAAAAAAAACFoZGxyAAAAAAAAAABtZGlyYXBwbAAAAAAAAAAAAAAAAC1pbHN0AAAAJal0b28AAAAdZGF0YQAAAAEAAAAATGF2ZjU4LjEyLjEwMA==\" type=\"video/mp4\" />\n",
       "             </video>"
      ],
      "text/plain": [
       "<IPython.core.display.HTML object>"
      ]
     },
     "execution_count": 64,
     "metadata": {},
     "output_type": "execute_result"
    }
   ],
   "source": [
    "# parameters\n",
    "size = 13\n",
    "T = 200\n",
    "temperature = 0.3\n",
    "epochs_train = 21 # set small when debugging\n",
    "epochs_test = 2 # set small when debugging\n",
    "\n",
    "env = Environment(grid_size=size, max_time=T, temperature=0.3)\n",
    "agent = DQN_FC(size, lr=.1, epsilon = 0.2, memory_size=2000, batch_size = 32)\n",
    "train(agent, env, epochs_train, prefix='fc_train')\n",
    "HTML(display_videos('fc_train10.mp4'))"
   ]
  },
  {
   "cell_type": "markdown",
   "metadata": {},
   "source": [
    "***\n",
    "***\n",
    "__Question 8__ Implement the DQN training algorithm using a CNN (for example, 2 convolutional layers and one final fully connected layer)."
   ]
  },
  {
   "cell_type": "code",
   "execution_count": 65,
   "metadata": {},
   "outputs": [],
   "source": [
    "class DQN_CNN(DQN):\n",
    "    def __init__(self, *args,lr=0.1,**kwargs):\n",
    "        super(DQN_CNN, self).__init__(*args,**kwargs)\n",
    "        \n",
    "        model = Sequential()\n",
    "        model.add(Conv2D(16, 2, padding=\"same\", activation=\"relu\"))\n",
    "        model.add(Conv2D(16, 2, padding=\"same\", activation=\"relu\"))\n",
    "        model.add(keras.layers.Flatten())\n",
    "        model.add(Dense(self.n_action, activation=\"linear\"))\n",
    "        \n",
    "        model.compile(sgd(lr=lr, decay=1e-4, momentum=0.0), \"mse\")\n",
    "        self.model = model"
   ]
  },
  {
   "cell_type": "code",
   "execution_count": 66,
   "metadata": {},
   "outputs": [
    {
     "name": "stdout",
     "output_type": "stream",
     "text": [
      "Epoch 000/021 | Loss 0.0279 | Win/lose count 2.5/6.0 (-3.5)\n",
      "Epoch 001/021 | Loss 0.0016 | Win/lose count 1.5/3.0 (-1.5)\n",
      "Epoch 002/021 | Loss 0.0057 | Win/lose count 2.0/4.0 (-2.0)\n",
      "Epoch 003/021 | Loss 0.0499 | Win/lose count 8.5/6.0 (2.5)\n",
      "Epoch 004/021 | Loss 0.0672 | Win/lose count 5.0/8.0 (-3.0)\n",
      "Epoch 005/021 | Loss 0.1090 | Win/lose count 4.5/9.0 (-4.5)\n",
      "Epoch 006/021 | Loss 0.0005 | Win/lose count 3.0/3.0 (0.0)\n",
      "Epoch 007/021 | Loss 0.0037 | Win/lose count 1.5/1.0 (0.5)\n",
      "Epoch 008/021 | Loss 0.0016 | Win/lose count 5.0/1.0 (4.0)\n",
      "Epoch 009/021 | Loss 0.0038 | Win/lose count 2.5/5.0 (-2.5)\n",
      "Epoch 010/021 | Loss 0.0522 | Win/lose count 9.0/8.0 (1.0)\n",
      "Epoch 011/021 | Loss 0.0839 | Win/lose count 8.5/7.0 (1.5)\n",
      "Epoch 012/021 | Loss 0.0029 | Win/lose count 3.0/3.0 (0.0)\n",
      "Epoch 013/021 | Loss 0.0668 | Win/lose count 9.0/11.0 (-2.0)\n",
      "Epoch 014/021 | Loss 0.0193 | Win/lose count 5.5/6.0 (-0.5)\n",
      "Epoch 015/021 | Loss 0.0027 | Win/lose count 1.5/2.0 (-0.5)\n",
      "Epoch 016/021 | Loss 0.0206 | Win/lose count 3.0/6.0 (-3.0)\n",
      "Epoch 017/021 | Loss 0.0036 | Win/lose count 5.0/6.0 (-1.0)\n",
      "Epoch 018/021 | Loss 0.0067 | Win/lose count 5.5/6.0 (-0.5)\n",
      "Epoch 019/021 | Loss 0.0281 | Win/lose count 6.5/7.0 (-0.5)\n",
      "Epoch 020/021 | Loss 0.0112 | Win/lose count 4.0/4.0 (0.0)\n"
     ]
    },
    {
     "data": {
      "text/html": [
       "<video alt=\"test\" controls>\n",
       "                <source src=\"data:video/mp4;base64,AAAAHGZ0eXBpc29tAAACAGlzb21pc28ybXA0MQAAAAhmcmVlAACxRW1kYXQAAAGzABAHAAABthBgUYI9t/G238bbfxtt/G238bbfxtt/G238bbfxtt/G238bbfxtt/G238bbfxtt/G238bbfxtt+htt/Ybg1422/jbb+Ntv422/Q22/sNwa8bbfkbbf9huDVDbb+w3Brxtt+htt/Ybg1422/I22/7DcGsbbfxtt/G238bbfoYPptg7lYbhWLRk22CQMkbbf9huDVDbb+w3Brxtt+hnG2DuVhuFYtGTbYJAyRhhbYWA8dpujVjFTbAyisNwrAv1iQKiMm2wSBjsNwaoZxtg7lYbhWLRk22CQMsYYW2FvYbgxcDuVhuFcYFwbYZAkRtt+/AACMxIwR7b+Ntv2MHc2/hJBp9huDWNtv2MMLbC3sNwYuB3Kw3CtDFTbAySsNwrAvyMm2wSBnsNwaobbfyGoNMjbb/sNwasYYW2FvYbgxcDxymqNGNtvKgVAMFUKw3Csjbbl7TdGqGF5thnyGoNAR422/YzjbB3Kw3CsXWJAqjBCtsEgYjbb+Ntv422/IwwtsLAeO03RqhhebYZ9huDUEdjFTbAySsFSDBWCAVBsFTGTbYJHCSDQZ7DcGrGGFthb2G4MXA7lYbhWRhebYZAkdhuDUjDC2wsB47TdGrGKm2BlFYKkGCsC/Kg2CpjbbysFSDBXlQbBVGNW2BagYEbbfkbbf9huDVjJtsEjhJBoMdhuDWNtv422/jbb+NtvyNtv+U1RohnG2DuVhuFYsxjVtgW3IagwcBg9pujUjbbn2m6NWMVNsDKKwVIMFYF+VBsFRGGFtgWoGB2m6NWNtu9huDF3ymqNGMatsC2KgVAMFQP5WG4VsbbfyGoMHZWG4Vxtt/G235GGFthYDuVhuFZG233tN0axtthmCPG238bbfxtt+RhebYZgj8hqDRDbbBJKg2CoZI2258pqjSNtv2MatsC2KgVAMFQP5WG4Vkbbf8pqjRjFTbAySsFSDBWBflQbBUxtt5WG4V6xIFRGTbYJAxyGoNCMMLbCwHjlNUaEbbf9huDUjC82wzBI5DUGkYYW2FgPEbbfxtt+/AACdxIwR7b+Ntv4wdzb9jONsHcrDcKxdYkCpjJtsEjpLBqMchqDQjDC2wsB45TVGjGKm2Bl9pujF4F9yGoNCMm2wRxoqDYKmMMLbC0qBUAwVA7FYbhWxhebYZcJINASOw3BrG235G230qDYKiMMLbCwHYrDcKyMLzbDMEjsNwaxhhbYWA8RgXBthmCPG238bbfxtt/G237GNW2BbFQKgGCoH8rDcK0MVNsDJKw3CsC/IwvNsEgEgqDYKmM42/lNUYP+w3BqRhhbYWA7FYbhWxiptgZRWCpBgrBAKg2CojDC2wLUH8rDcK0MLzbDPsNwagkEYYW2FgOxWG4VkYXm2GYJHIag0IwwtsLAeO03Rqxtt3sNwYu+U1RpG238bbfxtt/G238bbfsYqbYGV2m6MXgX/Iag0YybbBH4SQaDPYbg1IwwtsLAdisNwrY22wLXkNQYOysNwrYwvNsM+ksGoJHIag0YwwtsC25DUGDgfysNwrYwvNsM+ksGoJHIag0YzjbB3Kw3CsXWJAqIwvNsEgEjkNQaRtt+xtt3sNwYu+U1RoxiptgZJWCpBgrAvyoNgqjbbBIGI22/fAACqhIwR7b+NtvyMHc2/7DcGqGcbYPHKao0FiMatsC0Awe03RqRhebYZgj8hqDQjbb/kNQaMZxtg7lYbhWLrEgVMZNtgkdJYNRjkNQaIZxtg7lYbhWLMY1bYFtyGoMHAYPabo1jC82wyBHQ22/sNwa7GcbYO5WG4Vi6xIFTGNW2BbchqDBwP5WG4VxgXBthkCRG238bbfxtt+RhhbYWA7lYbhWxgzG2CPwkg0BI7DcGpGCzbf8pqjSNtvyNtv+w3BqxjVtgW3IagwcD+VhuFaGKm2BklYbhWBfoZNtgkchqDQZY22/sNwYu+U1Rohtt/Ybg10M42wdysNwrFkMm2wSSoNgqGWMLzbDLpLBqCRyGoNI22/jbb+Ntv422/IwvNsMwSOQ1BoRgs22FgO5WG4VkYXm2GYI/Iag0jbb8jDC2wsB3Kw3CtjC82wz6SwagkchqDRDbbBI5DUGgzG237GKm2BklYbhWBfrEgVIZxt3tN0axjJtsEfhJBoM9huDVDONsHcrDcKxZDbbysNwr422wSBmNtv422/jbb9Dbb+w3BrkYXm2GYJJUGwVEbbf9huDWNtvyMLzbDMEkqDYKkM42wdysNwrFkMm2wSOw3BqMxtt+hk22CRyGoNBhjONsHjlNUYPFuw3BqRhhbYWA8dpujVDC82wSOQ1BoCOhtt0qDYKuNtv422/cAALuEjBHtv422/QwfTbB3Kw3CsWIxq2wLUDAKw3Csjbb8rDcK4wvNsMwSCMMLbCwHcrDcK0MLzbDPkNQaAkIZxtg7lYbhWLRk22CQMxtt+xhhbYW8hqDBwO5WG4VkbbcvKao0jC82wzBHQzjbB3Kw3CsWjBCtsEgZjbb+Ntv422/QwQrbBI5DUGgyRtthmCRyGoNCNtv+Q1BpG235G22GYJHIag0jbb9DbbBI5DUGgzG238bbfkbbYZAkchqDQjbb/kNQaRtt+httgkchqDQZjbb+Ntv422/jbb+Ntv422/jbb+Ntv422/jbb+Ntv422/jbb+Ntv422/jbb+Ntv422/jbb98AAAG2UPAj////////3wAAjMT/i9/////i9/F7////7wAAncT////+L3//8Xv7AACqhPH9xNUD/i9//Axy2/hJBp9huDULgBfU9Go6AsDDL4vf/4/7V6Nf////vwAAu4T////////vAAABtlFgI////////98AAIzE///////////3AACdxP///////+8AAKqE///4XAC+p6NR0BYGGQ8ALbJf//////+/AAC7hP///////+8AAAG2UfAj////////3wAAjMT///////////cAAJ3E////////7wAAqoT///x4AW2SjwAvqcGGf//////+AAC7hP///////+8AAAG2UmAj////////3wAAjMT///////////cAAJ3E////////7wAAqoT+P3//8eAF9TgwzFgBYy//8f9q9Gv///+/AAC7hP///////+8AAAG2UvAj////////3wAAjMT///////////cAAJ3E////////7wAAqoT///8WAFjL//wGMHW2/sNwa////+8AALuE////////7wAAAbZTYCP////////fAACMxP//////////9wAAncT////////vAACqhP//////vACgMYOtt/Iag0////4AALuE////////7wAAAbZT8CX////////fAABGYn//////////+wAATuJ////////3AABVQn+Lxn//4uBj2r0a//+LgY8q1Gn///9/AABdwn////////cAAAG2VGAj////////3wAAjMT///////////cAAJ3E////////7wAAqoT///+GOW34sALGX//////3AAC7hP///////+8AAAG2VPAj////////3wAAjMT///////////cAAJ3E///////i8Z/3AACqhP+GMHW2///9wAv//////78AALuE////////7wAAAbZVYCP////////fAACMxP//////////9wAAncT///////H7/38AAKqE/4XAC0Ay7V6NQv8TDIZf/+P7qeoX//////+/AAC7hP///////+8AAAG2VfAj////////3wAAjMT///////////cAAJ3E////////7wAAqoT/i84LACx0mg0//8LwAo7AvBqM///H7////gAAu4T////////vAAABswAQBwAAAbYWYFGCPbfxtt/G238bbfxtt/G238bbfxtt/G238bbfxtt/G238bbfxtt/G238bbfxtt/G238bbfobbf2G4NeNtv422/jbb+Ntv0Ntv7DcGvG235G23/Ybg1Q22/sNwa8bbfobbf2G4NeNtvyNtv+w3BrG238bbfxtt/G236GD6bYO5WG4Vi0ZNtgkDJG23/Ybg1Q22/sNwa8bbfoZxtg7lYbhWLRk22CQMkYYW2FgPHabo1YxU2wMorDcKwL9YkCojJtsEgY7DcGqGcbYO5WG4Vi0ZNtgkDLGGFthb2G4MXA7lYbhXGBcG2GQJEbbfvwAAjMSMEe2/jbb9jB3Nv4SQafYbg1jbb9jDC2wt7DcGLgdysNwrQxU2wMkrDcKwL8jJtsEgZ7DcGqG238hqDTI22/7DcGrGGFthb2G4MXA8cpqjRjbbyoFQDBVCsNwrI225e03RqhhebYZ8hqDQEeNtv2M42wdysNwrF1iQKowQrbBIGI22/jbb+NtvyMMLbCwHjtN0aoYXm2GfYbg1BHYxU2wMkrBUgwVggFQbBUxk22CRwkg0Gew3BqxhhbYW9huDFwO5WG4VkYXm2GQJHYbg1IwwtsLAeO03RqxiptgZRWCpBgrAvyoNgqY228rBUgwV5UGwVRjVtgWoGBG235G23/Ybg1YybbBI4SQaDHYbg1jbb+Ntv422/jbb8jbb/lNUaIZxtg7lYbhWLMY1bYFtyGoMHAYPabo1I2259pujVjFTbAyisFSDBWBflQbBURhhbYFqBgdpujVjbbvYbgxd8pqjRjGrbAtioFQDBUD+VhuFbG238hqDB2VhuFcbbfxtt+RhhbYWA7lYbhWRtt97TdGsbbYZgjxtt/G238bbfkYXm2GYI/Iag0Q22wSSoNgqGSNtufKao0jbb9jGrbAtioFQDBUD+VhuFZG23/Kao0YxU2wMkrBUgwVgX5UGwVMbbeVhuFesSBURk22CQMchqDQjDC2wsB45TVGhG23/Ybg1IwvNsMwSOQ1BpGGFthYDxG238bbfvwAAncSMEe2/jbb+MHc2/YzjbB3Kw3CsXWJAqYybbBI6SwajHIag0IwwtsLAeOU1RoxiptgZfaboxeBfchqDQjJtsEcaKg2CpjDC2wtKgVAMFQOxWG4VsYXm2GXCSDQEjsNwaxtt+Rtt9Kg2CojDC2wsB2Kw3CsjC82wzBI7DcGsYYW2FgPEYFwbYZgjxtt/G238bbfxtt+xjVtgWxUCoBgqB/Kw3CtDFTbAySsNwrAvyMLzbBIBIKg2CpjONv5TVGD/sNwakYYW2FgOxWG4VsYqbYGUVgqQYKwQCoNgqIwwtsC1B/Kw3CtDC82wz7DcGoJBGGFthYDsVhuFZGF5thmCRyGoNCMMLbCwHjtN0asbbd7DcGLvlNUaRtt/G238bbfxtt/G237GKm2BldpujF4F/yGoNGMm2wR+EkGgz2G4NSMMLbCwHYrDcK2NtsC15DUGDsrDcK2MLzbDPpLBqCRyGoNGMMLbAtuQ1Bg4H8rDcKyMLzbDMEjkNQaIZxtg7lYbhWLEYXm2CQCRyGoNI22/Y2272G4MXfKao0YxU2wMkrBUgwVgX5UGwVRttgkDEbbfvwAAqoSMEe2/jbb8jB3Nv+w3BqhnG2DxymqNBYjGrbAtAMArDcKyMLzbDMEjkNQaEbbf8hqDRDONsHcrDcKxYjJtsEgZ5DUGkbbfobbfyGoNONtv0Ntv7DcGuxnG2DuVhuFYusSBUxjVtgW3IagwcD+VhuFcYFwbYZAkRtt/G238bbfkYYW2FgO5WG4VsYXm2CPwkg0BI7DcGpGF5thmCRyGoNI22/I22/7DcGqGTbYJHIag0GY22/jbb9Dbb+w3BroYO1t/Ybg10ME82wdysNwrFkMm2wSSoNgqGWMLzbDLpLBqCRyGoNI22/jbb+Ntv422/IwvNsMwSOQ1BoRhhbYWA7lYbhXGF5thmCRG235GGFthYDuVhuFaGF5thn2G4NQSI22/jbb9DONsHcrDcKxZDBPNu9pujXYybbBH4SQaDPYbg1QzjbB3Kw3CsWQ228rDcK+NtsEgZjbb+Ntv422/Q22/sNwa5GF5thmCSVBsFRG23/Ybg1jbb8jC82wzBJKg2CpDONsHcrDcKxZDJtsEjsNwajMbbfoZNtgkchqDQZYzjbB45TVGDxbsNwakYYW2FgPHabo1QwvNsEjkNQaAjobbdKg2Crjbb+Ntv38AALuEjBHtv422/QwfTbB3Kw3CsWIxq2wLUDAKw3Csjbb8rDcK4wvNsMwSCMMLbCwHcrDcK0MLzbDPkNQaAkIZxtg7lYbhWLRk22CQMxtt+xhhbYW8hqDBwO5WG4VkbbcvKao0jC82wzBHQzjbB3Kw3CsWjBCtsEgZjbb+Ntv422/QwQrbBI5DUGgyRtthmCRyGoNCNtv+Q1BpG235G22GYJHIag0jbb9DbbBI5DUGgzG238bbfkbbYZAkchqDQjbb/kNQaRtt+httgkchqDQZjbb+Ntv422/jbb+Ntv422/jbb+Ntv422/jbb+Ntv422/jbb+Ntv422/jbb+Ntv422/jbb98AAAG2VvAj////////3wAAjMT/i9/////i9/F7////7wAAncT////+L3//8Xv7AACqhP/hjB1tv///AYwSTb+w3Br//////98AALuE////////7wAAAbZXYCP////////fAACMxP//////////9wAAncT///////gQYOtt/yGoNPsAAKqE/+LAC+1ejX/////////fAAC7hP///////+8AAAG2V/Al////////3wAARmJ///////////sAAE7if/H9O//+PgY9q9Gv//vAx+8AAFVCf//////////7AABdwn////////cAAAG2WGAj////////3wAAjMT///////////cAAJ3E////8Mctvx4AWMv//+8AAKqE///////////3AAC7hP///////+8AAAG2WPAj////////3wAAjMT///////////cAAJ3E////+PACxl//4+AFGfsAAKqE///////////3AAC7hP///////+8AAAG2WWAj////////3wAAjMT///////////cAAJ3E///////8fACjP38AAKqE//FwAoy/////////vwAAu4T////////vAAABtlnwI////////98AAIzE///////////3AACdxP///////+8AAKqE//eAF//8XACjP//xeM///+8AALuE////////7wAAAbZaYCP////////fAACMxP//////////9wAAncT////////vAACqhP////vACgMYOtt0qDYKv/////+/AAC7hP///////+8AAAG2WvAj////////3wAAjMT///////////cAAJ3E////////7wAAqoT////8WAFwdAWGQXAC7tXGYy//////fwAAu4T////////vAAABtltgI////////98AAIzE///////////3AACdxP///////+8AAKqE/////AYwdbbpUGwVYXAC+1ejUZf/////vwAAu4T////////vAAABtlvwI////////98AAIzE///////////3AACdxP///////+8AAKqE/////FgBcHQFhkFwAu7VxmMv/////38AALuE////////7wAAAbMAEAcAAAG2HGBRgj238bbfxtt/G238bbfxtt/G238bbfxtt/G238bbfxtt/G238bbfxtt/G238bbfxtt/G236G239huDXjbb+Ntv422/jbb9Dbb+w3Brxtt+Rtt/2G4NUNtv7DcGvG236G239huDXjbb8jbb/sNwaxtt/G238bbfxtt+hg+m2DuVhuFYtGTbYJAyRtt/2G4NUNtv7DcGvG236GcbYO5WG4Vi0ZNtgkDJGGFthYDx2m6NWMVNsDKKw3CsC/WJAqIybbBIGOw3BqhnG2DuVhuFYtGTbYJAyxhhbYW9huDFwO5WG4VxgXBthkCRG2378AAIzEjBHtv422/Ywdzb+EkGn2G4NY22/YwwtsLew3Bi4HcrDcK0MVNsDJKw3CsC/IybbBIGew3Bqhtt/Iag0yNtv+w3BqxhhbYW9huDFwPHKao0Y228qBUAwVQrDcKyNtuXtN0aoYXm2GfIag0BHjbb9jONsHcrDcKxdYkCqMEK2wSBiNtv422/jbb8jDC2wsB47TdGqGF5thn2G4NQR2MVNsDJKwVIMFYIBUGwVMZNtgkcJINBnsNwasYYW2FvYbgxcDuVhuFZGF5thkCR2G4NSMMLbCwHjtN0asYqbYGUVgqQYKwL8qDYKmNtvKwVIMFeVBsFUY1bYFqBgRtt+Rtt/2G4NWMm2wSOEkGgx2G4NY22/jbb+Ntv422/I22/5TVGiGcbYO5WG4VizGNW2BbchqDBwGD2m6NSNtufabo1YxU2wMorBUgwVgX5UGwVEYYW2BagYHabo1Y2272G4MXfKao0Yxq2wLYqBUAwVA/lYbhWxtt/IagwdlYbhXG238bbfkYYW2FgO5WG4Vkbbfe03RrG22GYI8bbfxtt/G235GF5thmCPyGoNENtsEkqDYKhkjbbnymqNI22/Yxq2wLYqBUAwVA/lYbhWRtt/ymqNGMVNsDJKwVIMFYF+VBsFTG23lYbhXrEgVEZNtgkDHIag0IwwtsLAeOU1RoRtt/2G4NSMLzbDMEjkNQaRhhbYWA8Rtt/G2378AAJ3EjBHtv422/jB3Nv2M42wdysNwrF1iQKmMm2wSOksGoxyGoNCMMLbCwHjlNUaMYqbYGX2m6MXgX3Iag0IybbBHGioNgqYwwtsLSoFQDBUDsVhuFbGF5thlwkg0BI7DcGsbbfkbbf8hqDQjDC2wsB3Kw3CsjC82wzBI7DcGsYYW2FgPEYFwbYZgjxtt/G238bbfxtt+xjVtgWxUCoBgqB/Kw3CtDFTbAySsNwrAvyMLzbBIBIKg2CpjONv5TVGD/sNwakYYW2FgOxWG4VsYqbYGUVgqQYKwQCoNgqIwwtsC1B/Kw3CtDC82wz7DcGoJEbbfkYXm2GYJHIag0IwwtsLAeO03Rqxtt3sNwYu+U1RpG238bbfxtt/G238bbfsYqbYGV2m6MXgX/Iag0YybbBH4SQaDPYbg1IwwtsLAdisNwrY22wLXkNQYOysNwrYwvNsM+ksGoJHIag0YwwtsC25DUGDgfysNwrIwvNsMwSOQ1BohnG2DuVhuFYtGTbYJAzG237G23ew3Bi75TVGjGKm2BklYKkGCsC/Kg2CqNtsEgYjbb98AAKqEjBHtv422/Iwdzb/sNwaoZxtg8cpqjQWIxq2wLQDAKw3CsjC82wzBI5DUGhG23/Iag0QzjbB3Kw3CsWIybbBIGeQ1BpG236G238hqDTjbb+Ntv2M42wdysNwrF1iQKmMatsC25DUGDgfysNwrjAuDbDIEiNtv422/jbb8jDC2wsB3Kw3CtjC82wR+EkGgJHYbg1IwvNsMwSOQ1BpG235G23/Ybg1QybbBI5DUGgzG238bbfobbf2G4NdDbb+w3Brxtt+hg4W2CSVBsFQwxgkm2GXSWDUEjkNQaRtt/G238bbfxtt+RhebYZgkchqDQjDC2wsB3Kw3CuMLzbDMEiNtvyMMLbCwHcrDcK0MLzbDPsNwagkRtt/G236GcbYO5WG4ViyG23e03RrkZNtgjjPYbg1QwTzbB2Kw3CsWQzjbysNwr422wSBmNtv422/jbb9Dbb+w3BrkYXm2GYJJUGwVEbbf9huDWNtvyMLzbDMEkqDYKkM42wdysNwrFkMm2wSOw3BqMxtt+hk22CRyGoNBljONsHjlNUYPFuw3BqRhhbYWA8dpujVDC82wSOQ1BoCOhtt0qDYKuNtv422/fwAAu4SMEe2/jbb9DB9NsHcrDcKxYjGrbAtQMArDcKyNtvysNwrjC82wzBIIwwtsLAdysNwrQwvNsM+Q1BoCQhnG2DuVhuFYtGTbYJAzG237GGFthbyGoMHA7lYbhWRtty8pqjSMLzbDMEdDONsHcrDcKxaMEK2wSBmNtv422/jbb9DBCtsEjkNQaDJG22GYJHIag0I22/5DUGkbbfkbbYZgkchqDSNtv0NtsEjkNQaDMbbfxtt+RtthkCRyGoNCNtv+Q1BpG236G22CRyGoNBmNtv422/jbb+Ntv422/jbb+Ntv422/jbb+Ntv422/jbb+Ntv422/jbb+Ntv422/jbb+Ntv3wAAAbZoOBH////////vAACMxP+L3////+L38Xv////vAACdxP////4vf//xe/sAAKqE/////FgBcHQFhkFwAu7VxmMv/////38AALuE////////7wAAAbZQ4CP////////fAACMxP//////////9wAAncT////////vAACqhP////wGMHW26VBsFWFwAvtXo1GX/////78AALuE////////7wAAAbZRcCP////////fAACMxP//////////9wAAncT////////vAACqhP////xYAXB0BYZBcALu1cZjL/////9/AAC7hP///////+8AAAG2UeAj////////3wAAjMT///////////cAAJ3E////////7wAAqoT////8BjB1tulQbBVhcAL7V6NRl/////+/AAC7hP///////+8AAAG2UnAj////////3wAAjMT///////////cAAJ3E////////7wAAqoT////8WAFwdAWGQXAC7tXGYy//////fwAAu4T////////vAAABtlLgI////////98AAIzE///////////3AACdxP///////+8AAKqE/////AYwdbbpUGwVYXAC+1ejUZf/////vwAAu4T////////vAAABtlNwI////////98AAIzE///////////3AACdxP///////+8AAKqE/////FgBcHQFhkFwAu7VxmMv/////38AALuE////////7wAAAbZT4CP////////fAACMxP//////////9wAAncT////////vAACqhP/8BjB1tv5DUGn//4sALGf/////7wAAu4T////////vAAABtlRwI////////98AAIzE///////////3AACdxP///////+8AAKqE//gQYOtt/yGoNAGMEk2/kNQaf//F4z//////vwAAu4T////////vAAABtlTgI////////98AAIzE///////////3AACdxP///////+8AAKqE//jwAsZBfGXavRr////////9AAC7hP///////+8AAAG2VXAl////////3wAARmJ///////////sAAE7if///////9wAAVUJ//C4GMGGYyC4ARGQz////////+wAAXcJ////////3AAABswAQRwAAAbYV4FGCPbfxtt/G238bbfxtt/G238bbfxtt/G238bbfxtt/G238bbfxtt/G238bbfxtt/G238bbfobbf2G4NeNtv422/jbb+Ntv0Ntv7DcGvG235G23/Ybg1Q22/sNwa8bbfobbf2G4NeNtvyNtv+w3BrG238bbfxtt/G236GD6bYO5WG4Vi0ZNtgkDJG23/Ybg1Q22/sNwa8bbfoZxtg7lYbhWLRk22CQMkYYW2FgPHabo1YxU2wMorDcKwL9YkCojJtsEgY7DcGqGcbYO5WG4Vi0ZNtgkDLGGFthb2G4MXA7lYbhXGBcG2GQJEbbfvwAAjMSMEe2/jbb9jB3Nv4SQafYbg1jbb9jDC2wt7DcGLgdysNwrQxU2wMkrDcKwL8jJtsEgZ7DcGqG238hqDTI22/7DcGrGGFthb2G4MXA8cpqjRjbbyoFQDBVCsNwrI225e03RqhhebYZ8hqDQEeNtv2M42wdysNwrF1iQKowQrbBIGI22/jbb+NtvyMMLbCwHjtN0aoYXm2GfYbg1BHYxU2wMkrBUgwVggFQbBUxk22CRwkg0Gew3BqxhhbYW9huDFwO5WG4VkYXm2GQJHYbg1IwwtsLAeO03RqxiptgZRWCpBgrAvyoNgqY228rBUgwV5UGwVRjVtgWoGBG235G23/Ybg1YybbBI4SQaDHYbg1jbb+Ntv422/jbb8jbb/lNUaIZxtg7lYbhWLMY1bYFtyGoMHAYPabo1I2259pujVjFTbAyisFSDBWBflQbBURhhbYFqBgdpujVjbbvYbgxd8pqjRjGrbAtioFQDBUD+VhuFbG238hqDB2VhuFcbbfxtt+RhhbYWA7lYbhWRtt97TdGsbbYZgjxtt/G238bbfkYXm2GYI/Iag0Q22wSSoNgqGSNtufKao0jbb9jGrbAtioFQDBUD+VhuFZG23/Kao0YxU2wMkrBUgwVgX5UGwVMbbeVhuFesSBURk22CQMchqDQjDC2wsB45TVGhG23/Ybg1IwvNsMwSOQ1BpGGFthYDxG238bbfvwAAncSMEe2/jbb+MHc2/YzjbB3Kw3CsXWJAqYybbBI6SwajHIag0IwwtsLAeOU1RoxiptgZfaboxeBfchqDQjJtsEcaKg2CpjDC2wtKgVAMFQOxWG4VsYXm2GXCSDQEjsNwaxtt+Rtt/yGoNCMMLbCwHcrDcKyMLzbDMEjsNwaxhhbYWA8RgXBthmCPG238bbfxtt/G237GNW2BbFQKgGCoH8rDcK0MVNsDJKw3CsC/IwvNsEgEgqDYKmM42/lNUYP+w3BqRhhbYWA7FYbhWxiptgZRWCpBgrBAKg2CojDC2wLUH8rDcK0MLzbDPsNwagkRtt+RhebYZgkchqDQjDC2wsB47TdGrG23ew3Bi75TVGkbbfxtt/G238bbfxtt+xiptgZXaboxeBf8hqDRjJtsEfhJBoM9huDUjDC2wsB2Kw3CtjbbAteQ1Bg7Kw3CtjC82wz6SwagkchqDRjDC2wLbkNQYOB/Kw3CsjC82wzBI5DUGiGcbYO5WG4Vi0ZNtgkDMbbfkbbf8pqjRjFTbAySsNwrAv1iQKo22wSBiNtv3wAAqoSMEe2/jbb8jB3Nv+w3BqhnG2DxymqNBYjGrbAtAMArDcKyMLzbDMEjkNQaEbbf8hqDRDONsHcrDcKxYjJtsEgZ5DUGkbbfobbfyGoNONtv422/I22/5DUGiGDtbfyGoNOMCSNv422/jbb+NtvyMMLbCwHcrDcK2MLzbBH4SQaAkdhuDUjC82wzBI5DUGkbbfkbbf9huDVDJtsEjkNQaDMbbfxtt+htt/Ybg10Ntv7DcGvG236G239huDXQwSTb+w3Brxtt/G238bbfxtt+RhebYZgkchqDQjDC2wsB3Kw3CuMLzbDMEiNtvyMMLbCwHcrDcK0MLzbDPsNwagkRtt/G236GcbYO5WG4ViyG23e03RrkZNtgjjPYbg1QzjbB3Kw3CsWQ228rDcK+NtsEgZjbb+Ntv422/Q22/sNwa5GF5thmCSVBsFRG23/Ybg1jbb8jC82wzBJKg2CpDONsHcrDcKxZDJtsEjsNwajMbbfoZNtgkchqDQZYzjbB45TVGDxbsNwakYYW2FgPHabo1QwvNsEjkNQaAjobbdKg2Crjbb+Ntv0AALuEjBHtv422/QwfTbB3Kw3CsWIxq2wLUDAKw3Csjbb8rDcK4wvNsMwSCMMLbCwHcrDcK0MLzbDPkNQaAkIZxtg7lYbhWLRk22CQMxtt+xhhbYW8hqDBwO5WG4VkbbcvKao0jC82wzBHQzjbB3Kw3CsWjBCtsEgZjbb+Ntv422/QwQrbBI5DUGgyRtthmCRyGoNCNtv+Q1BpG235G22GYJHIag0jbb9DbbBI5DUGgzG238bbfkbbYZAkchqDQjbb/kNQaRtt+httgkchqDQZjbb+Ntv422/jbb+Ntv422/jbb+Ntv422/jbb+Ntv422/jbb+Ntv422/jbb+Ntv422/jbb98AAAG2VnAl////////3wAARmJ/xe/////xe/i9////9wAATuJ/////F7///78AAFVCf/wuBj7V6NRkFwAiMu1cZ/////////cAAF3Cf///////9wAAAbZW4CP////////fAACMxP//////////9wAAncT////////vAACqhP/4EHLb/kNQaBcALGQz////////+wAAu4T////////vAAABtldwJf///////98AAEZif//////////7AABO4n////////cAAFVCf/wuBjBhmMguAERl2rjP////////7wAAXcJ////////3AAABtlfgI////////98AAIzE///////////3AACdxP///////+8AAKqE//gQctv+Q1BoFwAsZDP////////7AAC7hP///////+8AAAG2WHAj////////3wAAjMT///////////cAAJ3E////////Agwdbb/kNQabAACqhP/8eAF9q9Gv////////3wAAu4T////////vAAABtljgJf///////98AAEZif//////////7AABO4n////4/uJqgf//7gYx8DEZbAABVQn/8f9q9Gv////////4AAF3Cf///////9wAAAbZZcCP////////fAACMxP//////////9wAAncT///////4EHLb/kNQaOAF7AACqhP//////////9wAAu4T////////vAAABtlngI////////98AAIzE///////////3AACdxP///////gQYOtt/yGoNHAC9AACqhP//////////9wAAu4T////////vAAABtlpwI////////98AAIzE///////////3AACdxP///////jwAsZOAF78AAKqE///////////3AAC7hP///////+8AAAG2WuAj////////3wAAjMT///////////cAAJ3E///////+BBg623/Iag0cAL0AAKqE///////////3AAC7hP///////+8AAAG2W3Aj////////3wAAjMT///////////cAAJ3E///////+PACxk4AXvwAAqoT///////////cAALuE////////7wAAAbMAEEcAAAG2G+BRgj238bbfxtt/G238bbfxtt/G238bbfxtt/G238bbfxtt/G238bbfxtt/G238bbfxtt/G236G239huDXjbb+Ntv422/jbb9Dbb+w3Brxtt+Rtt/2G4NUNtv7DcGvG236G239huDXjbb8jbb/sNwaxtt/G238bbfxtt+hg+m2DuVhuFYtGTbYJAyRtt/2G4NUNtv7DcGvG236GcbYO5WG4Vi0ZNtgkDJGGFthYDx2m6NWMVNsDKKw3CsC/WJAqIybbBIGOw3BqhnG2DuVhuFYtGTbYJAyxhhbYW9huDFwO5WG4VxgXBthkCRG2378AAIzEjBHtv422/Ywdzb+EkGn2G4NY22/YwwtsLew3Bi4HcrDcK0MVNsDJKw3CsC/IybbBIGew3Bqhtt/Iag0yNtv+w3BqxhhbYW9huDFwPHKao0Y228qBUAwVQrDcKyNtuXtN0aoYXm2GfIag0BHjbb9jONsHcrDcKxdYkCqMEK2wSBiNtv422/jbb8jDC2wsB47TdGqGF5thn2G4NQR2MVNsDJKwVIMFYIBUGwVMZNtgkcJINBnsNwasYYW2FvYbgxcDuVhuFZGF5thkCR2G4NSMMLbCwHjtN0asYqbYGUVgqQYKwL8qDYKmNtvKwVIMFeVBsFUY1bYFqBgRtt+Rtt/2G4NWMm2wSOEkGgx2G4NY22/jbb+Ntv422/I22/5TVGiGcbYO5WG4VizGNW2BbchqDBwGD2m6NSNtufabo1YxU2wMorBUgwVgX5UGwVEYYW2BagYHabo1Y2272G4MXfKao0Yxq2wLYqBUAwVA/lYbhWxtt/IagwdlYbhXG238bbfkYYW2FgO5WG4Vkbbfe03RrG22GYI8bbfxtt/G235GF5thmCPyGoNENtsEkqDYKhkjbbnymqNI22/Yxq2wLYqBUAwVA/lYbhWRtt/ymqNGMVNsDJKwVIMFYF+VBsFTG23lYbhXrEgVEZNtgkDHIag0IwwtsLAeOU1RoRtt/2G4NSMLzbDMEjkNQaRhhbYWA8Rtt/G2378AAJ3EjBHtv422/jB3Nv2M42wdysNwrF1iQKmMm2wSOksGoxyGoNCMMLbCwHjlNUaMYqbYGX2m6MXgX3Iag0IybbBHGioNgqYwwtsLSoFQDBUDsVhuFbGF5thlwkg0BI7DcGsbbfkbbf8hqDQjDC2wsB3Kw3CsjC82wzBI7DcGsYYW2FgPEYFwbYZgjxtt/G238bbfxtt+xjVtgWxUCoBgqB/Kw3CtDFTbAySsNwrAvyMLzbBIBIKg2CpjONv5TVGD/sNwakYYW2FgOxWG4VsYqbYGUVgqQYKwQCoNgqIwwtsC1B/Kw3CtDC82wz7DcGoJEbbfkYXm2GYJHIag0IwwtsLAdysNwrI22/5TVGkbbfxtt/G238bbfxtt+xiptgZXaboxeBf8hqDRjJtsEfhJBoM9huDUjDC2wsB2Kw3CtjbbAteQ1Bg7Kw3CtjC82wz6SwagkchqDRjDC2wLbkNQYOB/Kw3CsjC82wzBI5DUGiGcbYO5WG4Vi0ZNtgkDMbbfkYMxthmCRyGoNCMEk2/5DUGkbbfxtt+/AACqhIwR7b+NtvyMHc2/7DcGqGcbYPHKao0FiMatsC0AwCsNwrIwvNsMwSOQ1BoRtt/yGoNEM42wdysNwrFiMm2wSBnkNQaRtt+htt/Iag0422/jbb+Ntv422/jBItv422/jbb+NtvyMMLbCwHcrDcK2MLzbBH4SQaAkdhuDUjC82wzBI5DUGkbbfkbbf9huDVDJtsEjkNQaDMbbfxtt+htt/Ybg10Ntv7DcGvG236G239huDXQ22/sNwa8bbfxtt/G238bbfkYXm2GYJHIag0IwwtsLAdysNwrjC82wzBIjbb8jDC2wsB3Kw3CtDC82wz7DcGoJEbbfxtt+hnG2DuVhuFYshtt3tN0a5GTbYI4z2G4NUM42wdysNwrFkNtvKw3CvjbbBIGY22/jbb+Ntv0Ntv7DcGuRhebYZgklQbBURtt/2G4NY22/IwvNsMwSSoNgqQzjbB3Kw3CsWQybbBI7DcGozG236GTbYJHIag0GWM42weOU1Rg8W7DcGpGGFthYDx2m6NUMLzbBI5DUGgI6G23SoNgq422/jbb9AAC7hIwR7b+Ntv0MH02wdysNwrFiMatsC1AwCsNwrI22/Kw3CuMLzbDMEgjDC2wsB3Kw3CtDC82wz5DUGgJCGcbYO5WG4Vi0ZNtgkDMbbfsYYW2FvIagwcDuVhuFZG23LymqNIwvNsMwR0M42wdysNwrFowQrbBIGY22/jbb+Ntv0MEK2wSOQ1BoMkbbYZgkchqDQjbb/kNQaRtt+RtthmCRyGoNI22/Q22wSOQ1BoMxtt/G235G22GQJHIag0I22/5DUGkbbfobbYJHIag0GY22/jbb+Ntv422/jbb+Ntv422/jbb+Ntv422/jbb+Ntv422/jbb+Ntv422/jbb+Ntv422/fAAABtlxwI////////98AAIzE/4vf////4vfxe////+8AAJ3E///////+BBy2/5DUGjgBewAAqoT///////////cAALuE////////7wAAAbZoMBH////////vAACMxP//////////9wAAncT///////4EGDrbf8hqDRwAvQAAqoT///////////cAALuE////////7wAAAbZQ8CP////////fAACMxP//////////9wAAncT///////48ALGTgBe/AACqhP//////////9wAAu4T////////vAAABtlFgI////////98AAIzE///////////3AACdxP///////gQYOtt/yGoNHAC9AACqhP//////////9wAAu4T////////vAAABtlHwI////////98AAIzE///////////3AACdxP///////jwAsZOAF78AAKqE///////////3AAC7hP///////+8AAAG2UmAj////////3wAAjMT///////////cAAJ3E///////+BBg623/Iag0cAL0AAKqE///////////3AAC7hP///////+8AAAG2UvAj////////3wAAjMT///////////cAAJ3E///////+PACxk4AXvwAAqoT///////////cAALuE////////7wAAAbZTYCP////////fAACMxP//////////9wAAncT///////4EGDrbf8hqDRwAvQAAqoT///////////cAALuE////////7wAAAbZT8CP////////fAACMxP//////////9wAAncT///////48ALGTgBe/AACqhP//////////9wAAu4T////////vAAABtlRgI////////98AAIzE///////////3AACdxP///////gQYOtt/yGoNHAC9AACqhP//////////9wAAu4T////////vAAABtlTwI////////98AAIzE///////////3AACdxP///////jwAsZOAF78AAKqE///////////3AAC7hP///////+8AAAGzABCHAAABthVgUYI9t/G238bbfxtt/G238bbfxtt/G238bbfxtt/G238bbfxtt/G238bbfxtt/G238bbfxtt+htt/Ybg1422/jbb+Ntv422/Q22/sNwa8bbfkbbf9huDVDbb+w3Brxtt+htt/Ybg1422/I22/7DcGsbbfxtt/G238bbfoYPptg7lYbhWLRk22CQMkbbf9huDVDbb+w3Brxtt+hnG2DuVhuFYtGTbYJAyRhhbYWA8dpujVjFTbAyisNwrAv1iQKiMm2wSBjsNwaoZxtg7lYbhWLRk22CQMsYYW2FvYbgxcDuVhuFcYFwbYZAkRtt+/AACMxIwR7b+Ntv2MHc2/hJBp9huDWNtv2MMLbC3sNwYuB3Kw3CtDFTbAySsNwrAvyMm2wSBnsNwaobbfyGoNMjbb/sNwasYYW2FvYbgxcDxymqNGNtvKgVAMFUKw3Csjbbl7TdGqGF5thnyGoNAR422/YzjbB3Kw3CsXWJAqjBCtsEgYjbb+Ntv422/IwwtsLAeO03RqhhebYZ9huDUEdjFTbAySsFSDBWCAVBsFTGTbYJHCSDQZ7DcGrGGFthb2G4MXA7lYbhWRhebYZAkdhuDUjDC2wsB47TdGrGKm2BlFYKkGCsC/Kg2CpjbbysFSDBXlQbBVGNW2BagYEbbfkbbf9huDVjJtsEjhJBoMdhuDWNtv422/jbb+NtvyNtv+U1RohnG2DuVhuFYsxjVtgW3IagwcBg9pujUjbbn2m6NWMVNsDKKwVIMFYF+VBsFRGGFtgWoGB2m6NWNtu9huDF3ymqNGMatsC2KgVAMFQP5WG4VsbbfyGoMHZWG4Vxtt/G235GGFthYDuVhuFZG233tN0axtthmCPG238bbfxtt+RhebYZgj8hqDRDbbBJKg2CoZI2258pqjSNtv2MatsC2KgVAMFQP5WG4Vkbbf8pqjRjFTbAySsFSDBWBflQbBUxtt5WG4V6xIFRGTbYJAxyGoNCMMLbCwHjlNUaEbbf9huDUjC82wzBI5DUGkYYW2FgPEbbfxtt+/AACdxIwR7b+Ntv4wdzb9jONsHcrDcKxdYkCpjJtsEjpLBqMchqDQjDC2wsB45TVGjGKm2Bl9pujF4F9yGoNCMm2wRxoqDYKmMMLbC0qBUAwVA7FYbhWxhebYZcJINASOw3BrG235G23/Iag0IwwtsLAdysNwrIwvNsMwSOw3BqRhhbYWA8cpqjSMC4NsMwR422/jbb+Ntv422/Yxq2wLYqBUAwVA/lYbhWhiptgZJWG4VgX5GF5tgkAkFQbBUxnG38pqjB/2G4NSMMLbCwHYrDcK2MVNsDKKwVIMFYIBUGwVEYYW2Bag/lYbhWhhebYZ9huDUEiNtvyMLzbDMEjkNQaEYYW2FgO5WG4VkYMxthmCPyGoNI22/jbb+Ntv422/jbb9jFTbAyu03Ri8C/5DUGjGTbYI/CSDQZ7DcGpGGFthYDsVhuFbG22Ba8hqDB2VhuFbGF5thn0lg1BI5DUGjGGFtgW3IagwcD+VhuFZGF5thmCRyGoNEM42wdysNwrFoybbBIGY22/IwvNsMwSOQ1BpGCSbfxtt/G237wAAqoSMEe2/jbb8jB3Nv+w3BqhnG2DxymqNBYjGrbAtAMArDcKyMLzbDMEjkNQaEbbf8hqDRDONsHcrDcKxYjJtsEgZ5DUGkbbfobbfyGoNONtv422/jbb+Ntv4wSLb+Ntv422/jbb8jDC2wsB3Kw3CtjC82wR+EkGgJHYbg1IwvNsMwSOQ1BpG235G23/Ybg1QybbBI5DUGgzG238bbfobbf2G4NdDbb+w3Brxtt+htt/Ybg10Ntv7DcGvG238bbfxtt/G235GF5thmCRyGoNCMMLbCwHcrDcK4wvNsMwSI22/IwwtsLAdysNwrQwvNsM+w3BqCRG238bbfoZxtg7lYbhWLIbbd7TdGuRk22COM9huDVDONsHcrDcKxZDbbysNwr422wSBmNtv422/jbb9Dbb+w3BrkYXm2GYJJUGwVEbbf9huDWNtvyMLzbDMEkqDYKkM42wdysNwrFkMm2wSOw3BqMxtt+hk22CRyGoNBljONsHjlNUYPFuw3BqRhhbYWA8dpujVDC82wSOQ1BoCOhtt0qDYKuNtv422/QAAu4SMEe2/jbb9DB9NsHcrDcKxYjGrbAtQMArDcKyNtvysNwrjC82wzBIIwwtsLAdysNwrQwvNsM+Q1BoCQhnG2DuVhuFYtGTbYJAzG237GGFthbyGoMHA7lYbhWRtty8pqjSMLzbDMEdDONsHcrDcKxaMEK2wSBmNtv422/jbb9DBCtsEjkNQaDJG22GYJHIag0I22/5DUGkbbfkbbYZgkchqDSNtv0NtsEjkNQaDMbbfxtt+RtthkCRyGoNCNtv+Q1BpG236G22CRyGoNBmNtv422/jbb+Ntv422/jbb+Ntv422/jbb+Ntv422/jbb+Ntv422/jbb+Ntv422/jbb+Ntv3wAAAbZV8CX////////fAABGYn/F7/////F7+L3////3AABO4n/8f8q1Gn//jwMfavRqPgYjL//j/tXo178AAFVCf//////////7AABdwn////////cAAAG2VmAj////////3wAAjMT///////////cAAJ3E/////DHLb8eAFjL//+8AAKqE///////////3AAC7hP///////+8AAAG2VvAj////////3wAAjMT///////////cAAJ3E/////DGDrbfjwAsZf//3AACqhP//////////9wAAu4T////////vAAABtldgI////////98AAIzE///////////3AACdxP////x4AX2r0ajwAsZf//0AAKqE///////////3AAC7hP///////+8AAAG2V/Aj////////3wAAjMT///////////cAAJ3E/////DGDrbfjwAsZf//3AACqhP//////////9wAAu4T////////vAAABtlhgI////////98AAIzE///////////3AACdxP////x4AX2r0ajwAsZf//0AAKqE///////////3AAC7hP///////+8AAAG2WPAj////////3wAAjMT///////////cAAJ3E/////DGDrbfjwAsZf//3AACqhP//////////9wAAu4T////////vAAABtllgI////////98AAIzE///////////3AACdxP////x4AX2r0ajwAsZf//0AAKqE///////////3AAC7hP///////+8AAAG2WfAj////////3wAAjMT///////////cAAJ3E/////DGDrbfjwAsZf//3AACqhP//////////9wAAu4T////////vAAABtlpgI////////98AAIzE///////////3AACdxP////x4AX2r0ajwAsZf//0AAKqE///////////3AAC7hP///////+8AAAG2WvAj////////3wAAjMT///////////cAAJ3E/////jwAsZf/+PgBRnsAAKqE///////////3AAC7hP///////+8AAAGzABCHAAABthtgUYI9t/G238bbfxtt/G238bbfxtt/G238bbfxtt/G238bbfxtt/G238bbfxtt/G238bbfxtt+htt/Ybg1422/jbb+Ntv422/Q22/sNwa8bbfkbbf9huDVDbb+w3Brxtt+htt/Ybg1422/I22/7DcGsbbfxtt/G238bbfoYPptg7lYbhWLRk22CQMkbbf9huDVDbb+w3Brxtt+hnG2DuVhuFYtGTbYJAyRhhbYWA8dpujVjFTbAyisNwrAv1iQKiMm2wSBjsNwaoZxtg7lYbhWLRk22CQMsYYW2FvYbgxcDuVhuFcYFwbYZAkRtt+/AACMxIwR7b+Ntv2MHc2/hJBp9huDWNtv2MMLbC3sNwYuB3Kw3CtDFTbAySsNwrAvyMm2wSBnsNwaobbfyGoNMjbb/sNwasYYW2FvYbgxcDxymqNGNtvKgVAMFUKw3Csjbbl7TdGqGF5thnyGoNAR422/YzjbB3Kw3CsXWJAqjBCtsEgYjbb+Ntv422/IwwtsLAeO03RqhhebYZ9huDUEdjFTbAySsFSDBWCAVBsFTGTbYJHCSDQZ7DcGrGGFthb2G4MXA7lYbhWRhebYZAkdhuDUjDC2wsB47TdGrGKm2BlFYKkGCsC/Kg2CpjbbysFSDBXlQbBVGNW2BagYEbbfkbbf9huDVjJtsEjhJBoMdhuDWNtv422/jbb+NtvyNtv+U1RohnG2DuVhuFYsxjVtgW3IagwcBg9pujUjbbn2m6NWMVNsDKKwVIMFYF+VBsFRGGFtgWoGB2m6NWNtu9huDF3ymqNGMatsC2KgVAMFQP5WG4VsbbfyGoMHZWG4Vxtt/G235GGFthYDuVhuFZG233tN0axtthmCPG238bbfxtt+RhebYZgj8hqDRDbbBJKg2CoZI2258pqjSNtv2MatsC2KgVAMFQP5WG4Vkbbf8pqjRjFTbAySsFSDBWBflQbBUxtt5WG4V6xIFRGTbYJAxyGoNCMMLbCwHjlNUaEbbf9huDUjC82wzBI5DUGkYYW2FgPEbbfxtt+/AACdxIwR7b+Ntv4wdzb9jONsHcrDcKxdYkCpjJtsEjpLBqMchqDQjDC2wsB45TVGjGKm2Bl9pujF4F9yGoNCMm2wRxoqDYKmMMLbC0qBUAwVA7FYbhWxhebYZcJINASOw3BrG235G23/Iag0IwwtsLAdysNwrjC82wzBIIwwtsLAeOU1RpGBcG2GYI8bbfxtt/G238bbfsY1bYFsVAqAYKgfysNwrQxU2wMkrDcKwL8jC82wSASCoNgqYzjb+U1Rg/7DcGpGGFthYDsVhuFbGKm2BlFYKkGCsEAqDYKiMMLbAtQfysNwrQwvNsM+w3BqCRG235GF5thmCRyGoNI22/IwvNsMwR+Q1BpG238bbfxtt/G238bbfsYqbYGV2m6MXgX/Iag0YybbBH4SQaDPYbg1IwwtsLAdisNwrY22wLXkNQYOysNwrYwvNsM+ksGoJHIag0YwwtsC25DUGDgfysNwrIwvNsMwSOQ1BohnG2DuVhuFYtGTbYJAzG238YO1t/GCSbfxtt/G234AAKqEjBHtv422/Iwdzb/sNwaoZxtg8cpqjQWIxq2wLQDAKw3CsjC82wzBI5DUGhG23/Iag0QzjbB3Kw3CsWIybbBIGeQ1BpG236G238hqDTjbb+Ntv422/jbb+MEi2/jbb+Ntv422/IwwtsLAdysNwrYwvNsEfhJBoCR2G4NSMLzbDMEjkNQaRtt+Rtt/2G4NUMm2wSOQ1BoMxtt/G236G239huDXQ22/sNwa8bbfobbf2G4NdDbb+w3Brxtt/G238bbfxtt+RhebYZgkchqDQjDC2wsB3Kw3CuMLzbDMEiNtvyMMLbCwHcrDcK0MLzbDPsNwagkRtt/G236GcbYO5WG4ViyG23e03RrkZNtgjjPYbg1QzjbB3Kw3CsWQ228rDcK+NtsEgZjbb+Ntv422/Q22/sNwa5GF5thmCSVBsFRG23/Ybg1jbb8jC82wzBJKg2CpDONsHcrDcKxZDJtsEjsNwajMbbfoZNtgkchqDQZYzjbB45TVGDxbsNwakYYW2FgPHabo1QwvNsEjkNQaAjobbdKg2Crjbb+Ntv0AALuEjBHtv422/QwfTbB3Kw3CsWIxq2wLUDAKw3Csjbb8rDcK4wvNsMwSCMMLbCwHcrDcK0MLzbDPkNQaAkIZxtg7lYbhWLRk22CQMxtt+xhhbYW8hqDBwO5WG4VkbbcvKao0jC82wzBHQzjbB3Kw3CsWjBCtsEgZjbb+Ntv422/QwQrbBI5DUGgyRtthmCRyGoNCNtv+Q1BpG235G22GYJHIag0jbb9DbbBI5DUGgzG238bbfkbbYZAkchqDQjbb/kNQaRtt+httgkchqDQZjbb+Ntv422/jbb+Ntv422/jbb+Ntv422/jbb+Ntv422/jbb+Ntv422/jbb+Ntv422/jbb98AAAG2W/Aj////////3wAAjMT/i9/////i9/F7////7wAAncT///////7wArgBewAAqoT///////////cAALuE////////7wAAAbZcYCP////////fAACMxP//////////9wAAncT///////4Ywdbb9wAvfwAAqoT///////////cAALuE////////7wAAAbZoOBH////////vAACMxP//////////9wAAncT///////7gBbgBewAAqoT///////////cAALuE////////7wAAAbZQ4CP////////fAACMxP//////////9wAAncT///////4Ywdbb9wAvfwAAqoT///////////cAALuE////////7wAAAbZRcCP////////fAACMxP//////////9wAAncT///////7gBbgBewAAqoT///////////cAALuE////////7wAAAbZR4CP////////fAACMxP//////////9wAAncT///////4Ywdbb9wAvfwAAqoT///////////cAALuE////////7wAAAbZScCP////////fAACMxP//////////9wAAncT///////7gBbgBewAAqoT///////////cAALuE////////7wAAAbZS4CP////////fAACMxP//////////9wAAncT///////4Ywdbb9wAvfwAAqoT///////////cAALuE////////7wAAAbZTcCP////////fAACMxP//////////9wAAncT///////7gBbgBewAAqoT///////////cAALuE////////7wAAAbZT4CP////////fAACMxP//////////9wAAncT///////4Ywdbb9wAvfwAAqoT///////////cAALuE////////7wAAAbZUcCP////////fAACMxP//////////9wAAncT///////7gBbgBewAAqoT///////////cAALuE////////7wAAAbMAEMcAAAG2FOBRgj238bbfxtt/G238bbfxtt/G238bbfxtt/G238bbfxtt/G238bbfxtt/G238bbfxtt/G236G239huDXjbb+Ntv422/jbb9Dbb+w3Brxtt+Rtt/2G4NUNtv7DcGvG236G239huDXjbb8jbb/sNwaxtt/G238bbfxtt+hg+m2DuVhuFYtGTbYJAyRtt/2G4NUNtv7DcGvG236GcbYO5WG4Vi0ZNtgkDJGGFthYDx2m6NWMVNsDKKw3CsC/WJAqIybbBIGOw3BqhnG2DuVhuFYtGTbYJAyxhhbYW9huDFwO5WG4VxgXBthkCRG2378AAIzEjBHtv422/Ywdzb+EkGn2G4NY22/YwwtsLew3Bi4HcrDcK0MVNsDJKw3CsC/IybbBIGew3Bqhtt/Iag0yNtv+w3BqxhhbYW9huDFwPHKao0Y228qBUAwVQrDcKyNtuXtN0aoYXm2GfIag0BHjbb9jONsHcrDcKxdYkCqMEK2wSBiNtv422/jbb8jDC2wsB47TdGqGF5thn2G4NQR2MVNsDJKwVIMFYIBUGwVMZNtgkcJINBnsNwasYYW2FvYbgxcDuVhuFZGF5thkCR2G4NSMMLbCwHjtN0asYqbYGUVgqQYKwL8qDYKmNtvKwVIMFeVBsFUY1bYFqBgRtt+Rtt/2G4NWMm2wSOEkGgx2G4NY22/jbb+Ntv422/I22/5TVGiGcbYO5WG4VizGNW2BbchqDBwGD2m6NSNtufabo1YxU2wMorBUgwVgX5UGwVEYYW2BagYHabo1Y2272G4MXfKao0Yxq2wLYqBUAwVA/lYbhWxtt/IagwdlYbhXG238bbfkYYW2FgO5WG4Vkbbfe03RrG22GYI8bbfxtt/G235GF5thmCPyGoNENtsEkqDYKhkjbbnymqNI22/Yxq2wLYqBUAwVA/lYbhWRtt/ymqNGMVNsDJKwVIMFYF+VBsFTG23lYbhXrEgVEZNtgkDHIag0IwwtsLAeOU1RoRtt/2G4NSMLzbDMEjkNQaRhhbYWA8Rtt/G2378AAJ3EjBHtv422/jB3Nv2M42wdysNwrF1iQKmMm2wSOksGoxyGoNCMMLbCwHjlNUaMYqbYGX2m6MXgX3Iag0IybbBHGioNgqYwwtsLSoFQDBUDsVhuFbGF5thlwkg0BI7DcGsbbfkbbf8hqDQjDC2wsB3Kw3CuMLzbDMEgjDC2wsB45TVGkYFwbYZgjxtt/G238bbfxtt+xjVtgWxUCoBgqB/Kw3CtDFTbAySsNwrAvyMLzbBIBIKg2CpjONv5TVGD/sNwakYYW2FgOxWG4VsYqbYGUVgqQYKwQCoNgqIwwtsC1B/Kw3CtDC82wz7DcGoJEbbfkYXm2GYJHIag0jbb8jC82wzBH5DUGkbbfxtt/G238bbfxtt+xiptgZXaboxeBf8hqDRjJtsEfhJBoM9huDUjDC2wsB2Kw3CtjbbAteQ1Bg7Kw3CtjC82wz6SwagkchqDRjDC2wLbkNQYOB/Kw3CsjC82wzBI5DUGiGcbYO5WG4Vi0ZNtgkDMbbfxg7W38YJJt/G238bbfgAAqoSMEe2/jbb8jB3Nv+w3BqhnG2DxymqNBYjGrbAtAMArDcKyMLzbDMEjkNQaEbbf8hqDRDONsHcrDcKxYjJtsEgZ5DUGkbbfobbfyGoNONtv422/jbb+Ntv4wSLb+Ntv422/jbb8jDC2wsB3Kw3CtjC82wR+EkGgJHYbg1IwvNsMwSOQ1BpG235G23/Ybg1QybbBI5DUGgzG238bbfobbf2G4NdDbb+w3Brxtt+htt/Ybg10Ntv7DcGvG238bbfxtt/G235GF5thmCRyGoNCMMLbCwHcrDcK4wvNsMwSI22/IwwtsLAdysNwrQwvNsM+w3BqCRG238bbfoZxtg7lYbhWLIbbd7TdGuRk22COM9huDVDONsHcrDcKxZDbbysNwr422wSBmNtv422/jbb9Dbb+w3BrkYXm2GYJJUGwVEbbf9huDWNtvyMLzbDMEkqDYKkM42wdysNwrFkMm2wSOw3BqMxtt+hk22CRyGoNBljONsHjlNUYPFuw3BqRhhbYWA8dpujVDC82wSOQ1BoCOhtt0qDYKuNtv422/QAAu4SMEe2/jbb9DB9NsHcrDcKxYjGrbAtQMArDcKyNtvysNwrjC82wzBIIwwtsLAdysNwrQwvNsM+Q1BoCQhnG2DuVhuFYtGTbYJAzG237GGFthbyGoMHA7lYbhWRtty8pqjSMLzbDMEdDONsHcrDcKxaMEK2wSBmNtv422/jbb9DBCtsEjkNQaDJG22GYJHIag0I22/5DUGkbbfkbbYZgkchqDSNtv0NtsEjkNQaDMbbfxtt+RtthkCRyGoNCNtv+Q1BpG236G22CRyGoNBmNtv422/jbb+Ntv422/jbb+Ntv422/jbb+Ntv422/jbb+Ntv422/jbb+Ntv422/jbb+Ntv3wAAAbZVcCP////////fAACMxP+L3////+L38Xv////vAACdxP///////vACuAF7AACqhP//////////9wAAu4T////////vAAABtlXgI////////98AAIzE///////////3AACdxP///////hjB1tv3AC9/AACqhP//////////9wAAu4T////////vAAABtlZwI////////98AAIzE///////////3AACdxP///////uAFuAF7AACqhP//////////9wAAu4T////////vAAABtlbgI////////98AAIzE///////////3AACdxP///////hjB1tv3AC9/AACqhP//////////9wAAu4T////////vAAABtldwI////////98AAIzE///////////3AACdxP///////uAFuAF7AACqhP//////////9wAAu4T////////vAAABtlfgI////////98AAIzE///////////3AACdxP///////hjB1tv3AC9/AACqhP//////////9wAAu4T////////vAAABtlhwI////////98AAIzE///////////3AACdxP///////uAFuAF7AACqhP//////////9wAAu4T////////vAAABtljgI////////98AAIzE///////////3AACdxP///////hjB1tv3AC9/AACqhP//////////9wAAu4T////////vAAABtllwI////////98AAIzE///////////3AACdxP///////uAFuAF7AACqhP//////////9wAAu4T////////vAAABtlngI////////98AAIzE///////////3AACdxP///////hjB1tv3AC9/AACqhP//////////9wAAu4T////////vAAABtlpwI////////98AAIzE///////////3AACdxP///////uAFuAF7AACqhP//////////9wAAu4T////////vAAABswAQxwAAAbYa4FGCPbfxtt/G238bbfxtt/G238bbfxtt/G238bbfxtt/G238bbfxtt/G238bbfxtt/G238bbfobbf2G4NeNtv422/jbb+Ntv0Ntv7DcGvG235G23/Ybg1Q22/sNwa8bbfobbf2G4NeNtvyNtv+w3BrG238bbfxtt/G236GD6bYO5WG4Vi0ZNtgkDJG23/Ybg1Q22/sNwa8bbfoZxtg7lYbhWLRk22CQMkYYW2FgPHabo1YxU2wMorDcKwL9YkCojJtsEgY7DcGqGcbYO5WG4Vi0ZNtgkDLGGFthb2G4MXA7lYbhXGBcG2GQJEbbfvwAAjMSMEe2/jbb9jB3Nv4SQafYbg1jbb9jDC2wt7DcGLgdysNwrQxU2wMkrDcKwL8jJtsEgZ7DcGqG238hqDTI22/7DcGrGGFthb2G4MXA8cpqjRjbbyoFQDBVCsNwrI225e03RqhhebYZ8hqDQEeNtv2M42wdysNwrF1iQKowQrbBIGI22/jbb+NtvyMMLbCwHjtN0aoYXm2GfYbg1BHYxU2wMkrBUgwVggFQbBUxk22CRwkg0Gew3BqxhhbYW9huDFwO5WG4VkYXm2GQJHYbg1IwwtsLAeO03RqxiptgZRWCpBgrAvyoNgqY228rBUgwV5UGwVRjVtgWoGBG235G23/Ybg1YybbBI4SQaDHYbg1jbb+Ntv422/jbb8jbb/lNUaIZxtg7lYbhWLMY1bYFtyGoMHAYPabo1I2259pujVjFTbAyisFSDBWBflQbBURhhbYFqBgdpujVjbbvYbgxd8pqjRjGrbAtioFQDBUD+VhuFbG238hqDB2VhuFcbbfxtt+RhhbYWA7lYbhWRtt97TdGsbbYZgjxtt/G238bbfkYXm2GYI/Iag0Q22wSSoNgqGSNtufKao0jbb9jGrbAtioFQDBUD+VhuFZG23/Kao0YxU2wMkrBUgwVgX5UGwVMbbeVhuFesSBURk22CQMchqDQjDC2wsB45TVGhG23/Ybg1IwvNsMwSOQ1BpGGFthYDxG238bbfvwAAncSMEe2/jbb+MHc2/YzjbB3Kw3CsXWJAqYybbBI6SwajHIag0IwwtsLAeOU1RoxiptgZfaboxeBfchqDQjJtsEcaKg2CpjDC2wtKgVAMFQOxWG4VsYXm2GXCSDQEjsNwaxtt+Rtt/yGoNCMMLbCwHcrDcK4wvNsMwSCMMLbCwHjlNUaRgXBthmCPG238bbfxtt/G237GNW2BbFQKgGCoH8rDcK0MVNsDJKw3CsC/IwvNsEgEgqDYKmM42/lNUYP+w3BqRhhbYWA7FYbhWxiptgZRWCpBgrBAKg2CojDC2wLUH8rDcK0MLzbDPsNwagkRtt+RhebYZgkchqDSNtvyMLzbDMEfkNQaRtt/G238bbfxtt/G237GKm2BldpujF4F/yGoNGMm2wR+EkGgz2G4NSMMLbCwHYrDcK2NtsC15DUGDsrDcK2MLzbDPpLBqCRyGoNGMMLbAtuQ1Bg4H8rDcKyMLzbDMEjkNQaIZxtg7lYbhWLRk22CQMxtt/GDtbfxgkm38bbfxtt+AACqhIwR7b+NtvyMHc2/7DcGqGcbYPHKao0FiMatsC0AwCsNwrIwvNsMwSOQ1BoRtt/yGoNEM42wdysNwrFiMm2wSBnkNQaRtt+htt/Iag0422/jbb+Ntv422/jBItv422/jbb+NtvyMMLbCwHcrDcK2MLzbBH4SQaAkdhuDUjC82wzBI5DUGkbbfkbbf9huDVDJtsEjkNQaDMbbfxtt+htt/Ybg10Ntv7DcGvG236G239huDXQ22/sNwa8bbfxtt/G238bbfkYXm2GYJHIag0IwwtsLAdysNwrjC82wzBIjbb8jDC2wsB3Kw3CtDC82wz7DcGoJEbbfxtt+hnG2DuVhuFYshtt3tN0a5GTbYI4z2G4NUM42wdysNwrFkNtvKw3CvjbbBIGY22/jbb+Ntv0Ntv7DcGuRhebYZgklQbBURtt/2G4NY22/IwvNsMwSSoNgqQzjbB3Kw3CsWQybbBI7DcGozG236GTbYJHIag0GWM42weOU1Rg8W7DcGpGGFthYDx2m6NUMLzbBI5DUGgI6G23SoNgq422/jbb9AAC7hIwR7b+Ntv0MH02wdysNwrFiMatsC1AwCsNwrI22/Kw3CuMLzbDMEgjDC2wsB3Kw3CtDC82wz5DUGgJCGcbYO5WG4Vi0ZNtgkDMbbfsYYW2FvIagwcDuVhuFZG23LymqNIwvNsMwR0M42wdysNwrFowQrbBIGY22/jbb+Ntv0MEK2wSOQ1BoMkbbYZgkchqDQjbb/kNQaRtt+RtthmCRyGoNI22/Q22wSOQ1BoMxtt/G235G22GQJHIag0I22/5DUGkbbfobbYJHIag0GY22/jbb+Ntv422/jbb+Ntv422/jbb+Ntv422/jbb+Ntv422/jbb+Ntv422/jbb+Ntv422/fAAABtltwJf///////98AAEZif8Xv////8Xv4vf////cAAE7if////vAx//94GPcAAFVCf//////////7AABdwn////////cAAAG2W+Aj////////3wAAjMT///////////cAAJ3E/////DHLb8eAFjL//+8AAKqE///////////3AAC7hP///////+8AAAG2XHAj////////3wAAjMT///////////cAAJ3E/////DGDrbfjwAsZf//3AACqhP//////////9wAAu4T////////vAAABtmgwEf///////+8AAIzE///////////3AACdxP////x4AX2r0ajwAsZf//0AAKqE///////////3AAC7hP///////+8AAAG2UPAj////////3wAAjMT///////////cAAJ3E/////DGDrbfjwAsZf//3AACqhP//////////9wAAu4T////////vAAABtlFgI////////98AAIzE///////////3AACdxP////x4AX2r0ajwAsZf//0AAKqE///////////3AAC7hP///////+8AAAG2UfAj////////3wAAjMT///////////cAAJ3E/////DGDrbfjwAsZf//3AACqhP//////////9wAAu4T////////vAAABtlJgI////////98AAIzE///////////3AACdxP////x4AX2r0ajwAsZf//0AAKqE///////////3AAC7hP///////+8AAAG2UvAj////////3wAAjMT///////////cAAJ3E/////DGDrbfjwAsZf//3AACqhP//////////9wAAu4T////////vAAABtlNgI////////98AAIzE///////////3AACdxP////x4AX2r0ajwAsZf//0AAKqE///////////3AAC7hP///////+8AAAG2U/Aj////////3wAAjMT///////////cAAJ3E/////DGDrbfjwAsZf//3AACqhP//////////9wAAu4T////////vAAABswARBwAAAbYUYFGCPbfxtt/G238bbfxtt/G238bbfxtt/G238bbfxtt/G238bbfxtt/G238bbfxtt/G238bbfobbf2G4NeNtv422/jbb+Ntv0Ntv7DcGvG235G23/Ybg1Q22/sNwa8bbfobbf2G4NeNtvyNtv+w3BrG238bbfxtt/G236GD6bYO5WG4Vi0ZNtgkDJG23/Ybg1Q22/sNwa8bbfoZxtg7lYbhWLRk22CQMkYYW2FgPHabo1YxU2wMorDcKwL9YkCojJtsEgY7DcGqGcbYO5WG4Vi0ZNtgkDLGGFthb2G4MXA7lYbhXGBcG2GQJEbbfvwAAjMSMEe2/jbb9jB3Nv4SQafYbg1jbb9jDC2wt7DcGLgdysNwrQxU2wMkrDcKwL8jJtsEgZ7DcGqG238hqDTI22/7DcGrGGFthb2G4MXA8cpqjRjbbyoFQDBVCsNwrI225e03RqhhebYZ8hqDQEeNtv2M42wdysNwrF1iQKowQrbBIGI22/jbb+NtvyMMLbCwHjtN0aoYXm2GfYbg1BHYxU2wMkrBUgwVggFQbBUxk22CRwkg0Gew3BqxhhbYW9huDFwO5WG4VkYXm2GQJHYbg1IwwtsLAeO03RqxiptgZRWCpBgrAvyoNgqY228rBUgwV5UGwVRjVtgWoGBG235G23/Ybg1YybbBI4SQaDHYbg1jbb+Ntv422/jbb8jbb/lNUaIZxtg7lYbhWLMY1bYFtyGoMHAYPabo1I2259pujVjFTbAyisFSDBWBflQbBURhhbYFqBgdpujVjbbvYbgxd8pqjRjGrbAtioFQDBUD+VhuFbG238hqDB2VhuFcbbfxtt+RhhbYWA7lYbhWRtt97TdGsbbYZgjxtt/G238bbfkYXm2GYI/Iag0Q22wSSoNgqGSNtufKao0jbb9jGrbAtioFQDBUD+VhuFZG23/Kao0YxU2wMkrBUgwVgX5UGwVMbbeVhuFesSBURk22CQMchqDQjDC2wsB45TVGhG23/Ybg1IwvNsMwSOQ1BpGGFthYDxG238bbfvwAAncSMEe2/jbb+MHc2/YzjbB3Kw3CsXWJAqYybbBI6SwajHIag0IwwtsLAeOU1RoxiptgZfaboxeBfchqDQjJtsEcaKg2CpjDC2wtKgVAMFQOxWG4VsYXm2GXCSDQEjsNwaxtt+Rtt/yGoNCMMLbCwHcrDcK4wvNsMwSCMMLbCwHjlNUaRgXBthmCPG238bbfxtt/G237GNW2BbFQKgGCoH8rDcK0MVNsDJKw3CsC/IwvNsEgEgqDYKmM42/lNUYP+w3BqRhhbYWA7FYbhWxiptgZRWCpBgrBAKg2CojDC2wLUH8rDcK0MLzbDPsNwagkRtt+RhebYZgkchqDSNtvyMGY2wzBH5DUGkbbfxtt/G238bbfxtt+xiptgZXaboxeBf8hqDRjJtsEfhJBoM9huDUjDC2wsB2Kw3CtjbbAteQ1Bg7Kw3CtjC82wz6SwagkchqDRjDC2wLbkNQYOB/Kw3CsjC82wzBI5DUGiGcbYO5WG4Vi0ZNtgkDMbbfxtt/GCSbfxtt/G234AAKqEjBHtv422/Iwdzb/sNwaoZxtg8cpqjQWIxq2wLQDAKw3CsjC82wzBI5DUGhG23/Iag0QzjbB3Kw3CsWIybbBIGeQ1BpG236G238hqDTjbb+Ntv422/jbb+MEi2/jbb+Ntv422/IwwtsLAdysNwrYwvNsEfhJBoCR2G4NSMLzbDMEjkNQaRtt+Rtt/2G4NUMm2wSOQ1BoMxtt/G236G239huDXQ22/sNwa8bbfobbf2G4NdDbb+w3Brxtt/G238bbfxtt+RhebYZgkchqDQjDC2wsB3Kw3CuMLzbDMEiNtvyMMLbCwHcrDcK0MLzbDPsNwagkRtt/G236GcbYO5WG4ViyG23e03RrkZNtgjjPYbg1QzjbB3Kw3CsWQ228rDcK+NtsEgZjbb+Ntv422/Q22/sNwa5GF5thmCSVBsFRG23/Ybg1jbb8jC82wzBJKg2CpDONsHcrDcKxZDJtsEjsNwajMbbfoZNtgkchqDQZYzjbB45TVGDxbsNwakYYW2FgPHabo1QwvNsEjkNQaAjobbdKg2Crjbb+Ntv0AALuEjBHtv422/QwfTbB3Kw3CsWIxq2wLUDAKw3Csjbb8rDcK4wvNsMwSCMMLbCwHcrDcK0MLzbDPkNQaAkIZxtg7lYbhWLRk22CQMxtt+xhhbYW8hqDBwO5WG4VkbbcvKao0jC82wzBHQzjbB3Kw3CsWjBCtsEgZjbb+Ntv422/QwQrbBI5DUGgyRtthmCRyGoNCNtv+Q1BpG235G22GYJHIag0jbb9DbbBI5DUGgzG238bbfkbbYZAkchqDQjbb/kNQaRtt+httgkchqDQZjbb+Ntv422/jbb+Ntv422/jbb+Ntv422/jbb+Ntv422/jbb+Ntv422/jbb+Ntv422/jbb98AAAG2VPAl////////3wAARmJ/xe/////xe/i9////9wAATuJ////+PAx9q9Go+BiMv//7AABVQn//////////+wAAXcJ////////3AAABtlVgI////////98AAIzE///////////3AACdxP////wxy2/HgBYy///vAACqhP//////////9wAAu4T////////vAAABtlXwI////////98AAIzE///////////3AACdxP////wxg62348ALGX//9wAAqoT///////////cAALuE////////7wAAAbZWYCP////////fAACMxP//////////9wAAncT////8eAF9q9Go8ALGX//9AACqhP//////////9wAAu4T////////vAAABtlbwI////////98AAIzE///////////3AACdxP////wxg62348ALGX//9wAAqoT///////////cAALuE////////7wAAAbZXYCP////////fAACMxP//////////9wAAncT////8eAF9q9Go8ALGX//9AACqhP//////////9wAAu4T////////vAAABtlfwI////////98AAIzE///////////3AACdxP////wxg62348ALGX//9wAAqoT///////////cAALuE////////7wAAAbZYYCP////////fAACMxP//////////9wAAncT////8eAF9q9Go8ALGX//9AACqhP//////////9wAAu4T////////vAAABtljwI////////98AAIzE///////////3AACdxP////wxg62348ALGX//9wAAqoT///////////cAALuE////////7wAAAbZZYCP////////fAACMxP//////////9wAAncT////8eAF9q9Go8ALGX//9AACqhP//////////9wAAu4T////////vAAABtlnwI////////98AAIzE///////////3AACdxP////wxg62348ALGX//9wAAqoT///////////cAALuE////////7wAAAbMAEQcAAAG2GmBRgj238bbfxtt/G238bbfxtt/G238bbfxtt/G238bbfxtt/G238bbfxtt/G238bbfxtt/G236G239huDXjbb+Ntv422/jbb9Dbb+w3Brxtt+Rtt/2G4NUNtv7DcGvG236G239huDXjbb8jbb/sNwaxtt/G238bbfxtt+hg+m2DuVhuFYtGTbYJAyRtt/2G4NUNtv7DcGvG236GcbYO5WG4Vi0ZNtgkDJGGFthYDx2m6NWMVNsDKKw3CsC/WJAqIybbBIGOw3BqhnG2DuVhuFYtGTbYJAyxhhbYW9huDFwO5WG4VxgXBthkCRG2378AAIzEjBHtv422/Ywdzb+EkGn2G4NY22/YwwtsLew3Bi4HcrDcK0MVNsDJKw3CsC/IybbBIGew3Bqhtt/Iag0yNtv+w3BqxhhbYW9huDFwPHKao0Y228qBUAwVQrDcKyNtuXtN0aoYXm2GfIag0BHjbb9jONsHcrDcKxdYkCqMEK2wSBiNtv422/jbb8jDC2wsB47TdGqGF5thn2G4NQR2MVNsDJKwVIMFYIBUGwVMZNtgkcJINBnsNwasYYW2FvYbgxcDuVhuFZGF5thkCR2G4NSMMLbCwHjtN0asYqbYGUVgqQYKwL8qDYKmNtvKwVIMFeVBsFUY1bYFqBgRtt+Rtt/2G4NWMm2wSOEkGgx2G4NY22/jbb+Ntv422/I22/5TVGiGcbYO5WG4VizGNW2BbchqDBwGD2m6NSNtufabo1YxU2wMorBUgwVgX5UGwVEYYW2BagYHabo1Y2272G4MXfKao0Yxq2wLYqBUAwVA/lYbhWxtt/IagwdlYbhXG238bbfkYYW2FgO5WG4Vkbbfe03RrG22GYI8bbfxtt/G235GF5thmCPyGoNENtsEkqDYKhkjbbnymqNI22/Yxq2wLYqBUAwVA/lYbhWRtt/ymqNGMVNsDJKwVIMFYF+VBsFTG23lYbhXrEgVEZNtgkDHIag0IwwtsLAeOU1RoRtt/2G4NSMLzbDMEjkNQaRhhbYWA8Rtt/G2378AAJ3EjBHtv422/jB3Nv2M42wdysNwrF1iQKmMm2wSOksGoxyGoNCMMLbCwHjlNUaMYqbYGX2m6MXgX3Iag0IybbBHGioNgqYwwtsLSoFQDBUDsVhuFbGF5thlwkg0BI7DcGsbbfkbbf8hqDQjDC2wsB3Kw3CuMLzbDMEgjDC2wsB45TVGkYFwbYZgjxtt/G238bbfxtt+xjVtgWxUCoBgqB/Kw3CtDFTbAySsNwrAvyMLzbBIBIKg2CpjONv5TVGD/sNwakYYW2FgOxWG4VsYqbYGUVgqQYKwQCoNgqIwwtsC1B/Kw3CtDC82wz7DcGoJEbbfkYXm2GYJHIag0jbb8jBmNsMwR+Q1BpG238bbfxtt/G238bbfsYqbYGV2m6MXgX/Iag0YybbBH4SQaDPYbg1IwwtsLAdisNwrY22wLXkNQYOysNwrYwvNsM+ksGoJHIag0YwwtsC25DUGDgfysNwrIwvNsMwSOQ1BohnG2DuVhuFYtGTbYJAzG238bbfxgkm38bbfxtt+AACqhIwR7b+NtvyMHc2/7DcGqGcbYPHKao0FiMatsC0AwCsNwrIwvNsMwSOQ1BoRtt/yGoNEM42wdysNwrFiMm2wSBnkNQaRtt+htt/Iag0422/jbb+Ntv422/jBItv422/jbb+NtvyMMLbCwHcrDcK2MLzbBH4SQaAkdhuDUjC82wzBI5DUGkbbfkbbf9huDVDJtsEjkNQaDMbbfxtt+htt/Ybg10Ntv7DcGvG236G239huDXQ22/sNwa8bbfxtt/G238bbfkYXm2GYJHIag0IwwtsLAdysNwrjC82wzBIjbb8jDC2wsB3Kw3CtDC82wz7DcGoJEbbfxtt+hnG2DuVhuFYshtt3tN0a5GTbYI4z2G4NUM42wdysNwrFkNtvKw3CvjbbBIGY22/jbb+Ntv0Ntv7DcGuRhebYZgklQbBURtt/2G4NY22/IwvNsMwSSoNgqQzjbB3Kw3CsWQybbBI7DcGozG236GTbYJHIag0GWM42weOU1Rg8W7DcGpGGFthYDx2m6NUMLzbBI5DUGgI6G23SoNgq422/jbb9AAC7hIwR7b+Ntv0MH02wdysNwrFiMatsC1AwCsNwrI22/Kw3CuMLzbDMEgjDC2wsB3Kw3CtDC82wz5DUGgJCGcbYO5WG4Vi0ZNtgkDMbbfsYYW2FvIagwcDuVhuFZG23LymqNIwvNsMwR0M42wdysNwrFowQrbBIGY22/jbb+Ntv0MEK2wSOQ1BoMkbbYZgkchqDQjbb/kNQaRtt+RtthmCRyGoNI22/Q22wSOQ1BoMxtt/G235G22GQJHIag0I22/5DUGkbbfobbYJHIag0GY22/jbb+Ntv422/jbb+Ntv422/jbb+Ntv422/jbb+Ntv422/jbb+Ntv422/jbb+Ntv422/fAAABtlrwJf///////98AAEZif8Xv////8Xv4vf////cAAE7if////jwMfavRqPgYjL//+wAAVUJ///////////sAAF3Cf///////9wAAAbZbYCX////////fAABGYn//////////+wAATuJ////8eBjGQ8DGM///9wAAVUJ///////////sAAF3Cf///////9wAAAbZb8CX////////fAABGYn//////////H/KtRp4AAE7if/j4GIz//9wMf///fwAAVUJ///////////sAAF3Cf///////9wAAAbZcYCX////////fAABGYn//////////eBj7AABO4n/7wMf/////9wAAVUJ///////////sAAF3Cf///////9wAAAbZoOBL////////vAABGYn///////vAx//94GPsAAE7if///////9wAAVUJ///////////sAAF3Cf///////9wAAAbZQ4CX////////fAABGYn////3gY//+8DH///sAAE7if///////9wAAVUJ///////////sAAF3Cf///////9wAAAbZRcCP////////fAACMxP////hjlt+BBg7W3/Ybg1//////vwAAncT////////vAACqhP//////////9wAAu4T////////vAAABtlHgI////////98AAIzE/////HwAoyAxg6238JINPsNwa//////vAACdxP///////+8AAKqE///////////3AAC7hP///////+8AAAG2UnAj////////3wAAjMT////8CDB1tv+w3BqLAC+Jhl/////+AACdxP///////+8AAKqE///////////3AAC7hP///////+8AAAG2UuAj////////3wAAjMT////8eAFjIWAF8TDL/////98AAJ3E////////7wAAqoT///////////cAALuE////////7wAAAbZTcCP////////fAACMxP////wIMHW2/7DcGosAL4mGX/////4AAJ3E////////7wAAqoT///////////cAALuE////////7wAAAbMAEUcAAAG2E+BRgj238bbfxtt/G238bbfxtt/G238bbfxtt/G238bbfxtt/G238bbfxtt/G238bbfxtt/G236G239huDXjbb+Ntv422/jbb9Dbb+w3Brxtt+Rtt/2G4NUNtv7DcGvG236G239huDXjbb8jbb/sNwaxtt/G238bbfxtt+hg+m2DuVhuFYtGTbYJAyRtt/2G4NUNtv7DcGvG236GcbYO5WG4Vi0ZNtgkDJGGFthYDx2m6NWMVNsDKKw3CsC/WJAqIybbBIGOw3BqhnG2DuVhuFYtGTbYJAyxhhbYW9huDFwO5WG4VxgXBthkCRG2378AAIzEjBHtv422/Ywdzb+EkGn2G4NY22/YwwtsLew3Bi4HcrDcK0MVNsDJKw3CsC/IybbBIGew3Bqhtt/Iag0yNtv+w3BqxhhbYW9huDFwPHKao0Y228qBUAwVQrDcKyNtuXtN0aoYXm2GfIag0BHjbb9jONsHcrDcKxdYkCqMEK2wSBiNtv422/jbb8jDC2wsB47TdGqGF5thn2G4NQR2MVNsDJKwVIMFYIBUGwVMZNtgkcJINBnsNwasYYW2FvYbgxcDuVhuFZGF5thkCR2G4NSMMLbCwHjtN0asYqbYGUVgqQYKwL8qDYKmNtvKwVIMFeVBsFUY1bYFqBgRtt+Rtt/2G4NWMHC2wSOEkGgx2G4NY22/jbb+Ntv422/I22/5TVGiGcbYO5WG4VizGNW2BbchqDBwGD2m6NSNtufabo1YxU2wMorBUgwVgX5UGwVEYYW2BagYHabo1Y2272G4MXfKao0Yxq2wLYqBUAwVA/lYbhWxtt/IagwdlYbhXG238bbfkYYW2FgO5WG4VkYLNt97TdGsbbYZgjxtt/G238bbfkYXm2GYI/Iag0Q22wSSoNgqGSNtufKao0jbb9jGrbAtioFQDBUD+VhuFZG23/Kao0YxU2wMkrBUgwVgX5UGwVMbbeVhuFesSBURk22CQMchqDQjDC2wsB45TVGkbbfkYXm2GYJHIag0jDC2wsB4jbb+Ntv3AACdxIwR7b+Ntv4wdzb9jONsHcrDcKxdYkCpjJtsEjpLBqMchqDQjDC2wsB45TVGjGKm2Bl9pujF4F9yGoNCMm2wRxoqDYKmMMLbC0qBUAwVA7FYbhWxhebYZcJINASOw3BrG235G23/Iag0jbb+NtvyMMLbCwHjlNUaRgXBthmCPG238bbfxtt/G237GNW2BbFQKgGCoH8rDcK0MVNsDJKw3CsC/IwvNsEgEgqDYKmM42/lNUYP+w3BqRhhbYWA7FYbhWxiptgZRWCpBgrBAKg2CojDC2wLUH8rDcK0MLzbDPsNwagkRtt/G238bbfkYXm2GYI/Iag0jbb+Ntv422/jbb+Ntv2MVNsDK7TdGLwL/kNQaMZNtgj8JINBnsNwakYYW2FgOxWG4VsbbYFryGoMHZWG4VsYXm2GfSWDUEjkNQaMYYW2BbchqDBwP5WG4VkYXm2GYJHIag0QzjbB3Kw3CsWjJtsEgZjbb+Ntv422/jbb+Ntv3wAAqoSMEe2/jbb8jB3Nv+w3BqhnG2DxymqNBYjGrbAtAMArDcKyMLzbDMEjkNQaEbbf8hqDRDONsHcrDcKxYjJtsEgZ5DUGkbbfobbfyGoNONtv422/jbb+Ntv4wSLb+Ntv422/jbb8jDC2wsB3Kw3CtjC82wR+EkGgJHYbg1IwvNsMwSOQ1BpG235G23/Ybg1QybbBI5DUGgzG238bbfobbf2G4NdDbb+w3Brxtt+htt/Ybg10Ntv7DcGvG238bbfxtt/G235GF5thmCRyGoNCMMLbCwHcrDcK4wvNsMwSI22/IwwtsLAdysNwrQwvNsM+w3BqCRG238bbfoZxtg7lYbhWLIbbd7TdGuRk22COM9huDVDONsHcrDcKxZDbbysNwr422wSBmNtv422/jbb9Dbb+w3BrkYXm2GYJJUGwVEbbf9huDWNtvyMLzbDMEkqDYKkM42wdysNwrFkMm2wSOw3BqMxtt+hk22CRyGoNBljONsHjlNUYPFuw3BqRhhbYWA8dpujVDC82wSOQ1BoCOhtt0qDYKuNtv422/QAAu4SMEe2/jbb9DB9NsHcrDcKxYjGrbAtQMArDcKyNtvysNwrjC82wzBIIwwtsLAdysNwrQwvNsM+Q1BoCQhnG2DuVhuFYtGTbYJAzG237GGFthbyGoMHA7lYbhWRtty8pqjSMLzbDMEdDONsHcrDcKxaMEK2wSBmNtv422/jbb9DBCtsEjkNQaDJG22GYJHIag0I22/5DUGkbbfkbbYZgkchqDSNtv0NtsEjkNQaDMbbfxtt+RtthkCRyGoNCNtv+Q1BpG236G22CRyGoNBmNtv422/jbb+Ntv422/jbb+Ntv422/jbb+Ntv422/jbb+Ntv422/jbb+Ntv422/jbb+Ntv3wAAAbZUcCP////////fAACMxP+L3///4EGDrbf9huDUWAF8TDL8Xv4vf////QAAncT////////vAACqhP//////////9wAAu4T////////vAAABtlTgI////////98AAIzE/////HgBYyFgBfEwy//////fAACdxP///////+8AAKqE///////////3AAC7hP///////+8AAAG2VXAj////////3wAAjMT////8CDB1tv+w3BqLAC+Jhl/////+AACdxP///////+8AAKqE///////////3AAC7hP///////+8AAAG2VeAj////////3wAAjMT////8eAFjIWAF8TDL/////98AAJ3E////////7wAAqoT///////////cAALuE////////7wAAAbZWcCP////////fAACMxP////wIMHW2/7DcGosAL4mGX/////4AAJ3E////////7wAAqoT///////////cAALuE////////7wAAAbZW4CP////////fAACMxP////x4AWMhYAXxMMv/////3wAAncT////////vAACqhP//////////9wAAu4T////////vAAABtldwI////////98AAIzE/////Agwdbb/sNwaiwAviYZf/////gAAncT////////vAACqhP//////////9wAAu4T////////vAAABtlfgI////////98AAIzE/////HgBYyFgBfEwy//////fAACdxP///////+8AAKqE///////////3AAC7hP///////+8AAAG2WHAj////////3wAAjMT////8CDB1tv+w3BqLAC+Jhl/////+AACdxP///////+8AAKqE///////////3AAC7hP///////+8AAAG2WOAj////////3wAAjMT////8eAFjIWAF8TDL/////98AAJ3E////////7wAAqoT///////////cAALuE////////7wAAAbZZcCP///////4vp7cAAIzE//wIMHW2/5DUGn//uAF//////gAAncT////////vAACqhP//////////9wAAu4T////////vAAABswARRwAAAbYZ4FGCPbfxtt/G238bbfxtt/G238bbfxtt/G238bbfxtt/G238bbfxtt/G238bbfxtt/G238bbfobbf2G4NeNtv422/jbb+Ntv0Ntv7DcGvG235G23/Ybg1Q22/sNwa8bbfobbf2G4NeNtvyNtv+w3BrG238bbfxtt/G236GD6bYO5WG4Vi0ZNtgkDJG23/Ybg1Q22/sNwa8bbfoZxtg7lYbhWLRk22CQMkYYW2FgPHabo1YxU2wMorDcKwL9YkCojJtsEgY7DcGqGcbYO5WG4Vi0ZNtgkDJGGFthYDuVhuFcYFwbYZgkRtt+/AACMxIwR7b+Ntv2MHc2/hJBp9huDWNtv2MMLbC3sNwYuB3Kw3CtDFTbAySsNwrAvyMm2wSBnsNwaobbfyGoNMjbb/sNwasYYW2FvYbgxcDxymqNGNtvKgVAMFUKw3Csjbbl7TdGqGF5thnyGoNAR4wdrb8jBJNv+Q1BpGCRbfxtt/G238bbfkYYW2FgPHabo1QwvNsM+w3BqCOxiptgZJWCpBgrBAKg2CpjJtsEjhJBoM9huDVjDC2wt7DcGLgdysNwrIwvNsMgSOw3BqRhhbYWA8dpujVjFTbAyisFSDBWBflQbBUxtt5WCpBgryoNgqjGrbAtQMCNtvyMEk2/7DcGpG23/Ybg1jbb+Ntv422/jbb8jbb/lNUaIZxtg7lYbhWLMY1bYFtyGoMHAYPabo1I2259pujVjFTbAyisFSDBWBflQbBURhhbYFqBgdpujVjbbvYbgxd8pqjRjGrbAtioFQDBUD+VhuFbG238hqDB2VhuFcbbfxtt+RhhbYWA7lYbhWRtt97TdGsbbYZgjxtt/G238bbfkYXm2GYI/Iag0Q22wSSoNgqGSNtufKao0jbb9jGrbAtioFQDBUD+VhuFZG23/Kao0YxU2wMkrBUgwVgX5UGwVMbbeVhuFesSBURk22CQMchqDQjDC2wsB45TVGkbbfkYXm2GYJHIag0jDC2wsB4jbb+Ntv38AAJ3EjBHtv422/jB3Nv2M42wdysNwrF1iQKmMm2wSOksGoxyGoNCMMLbCwHjlNUaMYqbYGX2m6MXgX3Iag0IybbBHGioNgqYwwtsLSoFQDBUDsVhuFbGF5thlwkg0BI7DcGsbbfkbbf8hqDSNtv422/IwwtsLAeOU1RpGBcG2GYI8bbfxtt/G238bbfsY1bYFsVAqAYKgfysNwrQxU2wMkrDcKwL8jC82wSASCoNgqYzjb+U1Rg/7DcGpGGFthYDsVhuFbGKm2BlFYKkGCsEAqDYKiMMLbAtQfysNwrQwvNsM+w3BqCRG238bbfxtt+RhebYZgj8hqDSNtv422/jbb+Ntv422/YxU2wMrtN0YvAv+Q1Boxk22CPwkg0Gew3BqRhhbYWA7FYbhWxttgWvIagwdlYbhWxhebYZ9JYNQSOQ1BoxhhbYFtyGoMHA/lYbhWRhebYZgkchqDRDONsHcrDcKxaMm2wSBmNtv422/jbb+Ntv422/fAACqhIwR7b+NtvyMHc2/7DcGqGcbYPHKao0FiMatsC0AwCsNwrIwvNsMwSOQ1BoRtt/yGoNEM42wdysNwrFiMm2wSBnkNQaRtt+htt/Iag0422/jbb+Ntv422/jBItv422/jbb+NtvyMMLbCwHcrDcK2MLzbBH4SQaAkdhuDUjC82wzBI5DUGkbbfkbbf9huDVDJtsEjkNQaDMbbfxtt+htt/Ybg10Ntv7DcGvG236G239huDXQ22/sNwa8bbfxtt/G238bbfkYXm2GYJHIag0IwwtsLAdysNwrjC82wzBIjbb8jDC2wsB3Kw3CtDC82wz7DcGoJEbbfxtt+hnG2DuVhuFYshtt3tN0a5GTbYI4z2G4NUM42wdysNwrFkNtvKw3CvjbbBIGY22/jbb+Ntv0Ntv7DcGuRhebYZgklQbBURtt/2G4NY22/IwvNsMwSSoNgqQzjbB3Kw3CsWQybbBI7DcGozG236GTbYJHIag0GWM42weOU1Rg8W7DcGpGGFthYDx2m6NUMLzbBI5DUGgI6G23SoNgq422/jbb9AAC7hIwR7b+Ntv0MH02wdysNwrFiMatsC1AwCsNwrI22/Kw3CuMLzbDMEgjDC2wsB3Kw3CtDC82wz5DUGgJCGcbYO5WG4Vi0ZNtgkDMbbfsYYW2FvIagwcDuVhuFZG23LymqNIwvNsMwR0M42wdysNwrFowQrbBIGY22/jbb+Ntv0MEK2wSOQ1BoMkbbYZgkchqDQjbb/kNQaRtt+RtthmCRyGoNI22/Q22wSOQ1BoMxtt/G235G22GQJHIag0I22/5DUGkbbfobbYJHIag0GY22/jbb+Ntv422/jbb+Ntv422/jbb+Ntv422/jbb+Ntv422/jbb+Ntv422/jbb+Ntv422/fAAABtlpwI////////98AAIzE/4vfxYAX2r0aj8Zf///F7+L3////3wAAncT////////vAACqhP//////////9wAAu4T////////vAAABtlrgI/////x/yrUaf/+GMHW2/38AAIzE//3AC/////////sAAJ3E////////7wAAqoT///////////cAALuE////////7wAAAbZbcCX///////3AxvAx3wAARmJ///////////sAAE7if///////9wAAVUJ///////////sAAF3Cf///////9wAAAbZb4CP///////wxy2/7AACMxP/7wAv////////7AACdxP///////+8AAKqE///////////3AAC7hP///////+8AAAG2XHAj////////3wAAjMT/+8AKGMHW2/////////+/AACdxP///////+8AAKqE///////////3AAC7hP///////+8AAAG2aDAR////////7wAAjMT/+GMHW2/cAK/////////vAACdxP///////+8AAKqE///////////3AAC7hP///////+8AAAG2UPAj////////3wAAjMT/+LAC+1ejV/////////4AAJ3E////////7wAAqoT///////////cAALuE////////7wAAAbZRYCP////////fAACMxP/4Ywdbb9wAr////////+8AAJ3E////////7wAAqoT///////////cAALuE////////7wAAAbZR8CP////////fAACMxP/4sAL7V6NX/////////gAAncT////////vAACqhP//////////9wAAu4T////////vAAABtlJgI////////98AAIzE//hjB1tv3ACv////////7wAAncT////////vAACqhP//////////9wAAu4T////////vAAABtlLwI////////98AAIzE//iwAvtXo1f////////+AACdxP///////+8AAKqE///////////3AAC7hP///////+8AAAGzABGHAAABthNgUYI9t/G238bbfxtt/G238bbfxtt/G238bbfxtt/G238bbfxtt/G238bbfxtt/G238bbfxtt+htt/Ybg1422/jbb+Ntv422/Q22/sNwa8bbfkbbf9huDVDbb+w3Brxtt+htt/Ybg1422/jbb+Ntv422/jbb+Ntv0MH02wdysNwrFoybbBIGSNtv+w3Bqhtt/Ybg1422/QzjbB3Kw3CsWjJtsEgZIwwtsLAeO03RqxiptgZRWG4VgX6xIFRGTbYJAx2G4NUM42wdysNwrFoybbBIGY22/jBItv422/fwAAjMSMEe2/jbb9jB3Nv4SQafYbg1jbb9jDC2wt7DcGLgdysNwrQxU2wMkrDcKwL8jJtsEgZ7DcGqG238hqDTI22/7DcGrGGFthb2G4MXA8cpqjRjbbyoFQDBVCsNwrI225e03RqhhebYZ8hqDQEeMHa2/jBJNv4wSLb+Ntv422/jbb8jDC2wsB47TdGqGF5thn2G4NQR2MVNsDJKwVIMFYIBUGwVMZNtgkcJINBnsNwasYYW2FvYbgxcDuVhuFZGF5thkCR2G4NSMMLbCwHjtN0asYqbYGUVgqQYKwL8qDYKmNtvKwVIMFeVBsFUY1bYFqBgRtt+Rgkm3/Ybg1I22/7DcGsbbfxtt/G238bbfkbbf8pqjRDONsHcrDcKxZjGrbAtuQ1Bg4DB7TdGpG23PtN0asYqbYGUVgqQYKwL8qDYKiMMLbAtQMDtN0asbbd7DcGLvlNUaMY1bYFsVAqAYKgfysNwrY22/kNQYOysNwrjbb+NtvyMMLbCwHcrDcKyNtvvabo1jbbDMEeNtv422/jbb8jC82wzBH5DUGiG22CSVBsFQyRttz5TVGkbbfsY1bYFsVAqAYKgfysNwrI22/5TVGjGKm2BklYKkGCsC/Kg2CpjbbysNwr1iQKiMm2wSBjkNQaEYYW2FgPHKao0jbb8jC82wzBI5DUGkYYW2FgPEbbfxtt+8AAJ3EjBHtv422/jB3Nv2M42wdysNwrF1iQKmMm2wSOksGoxyGoNCMMLbCwHjlNUaMYqbYGX2m6MXgX3Iag0IybbBHGioNgqYwwtsLSoFQDBUDsVhuFbGF5thlwkg0BI7DcGsbbfkbbf8hqDSNtv422/IwwtsLAeOU1RpGBcG2GYI8bbfxtt/G238bbfsY1bYFsVAqAYKgfysNwrQxU2wMkrDcKwL8jC82wSASCoNgqYzjb+U1Rg/7DcGpGGFthYDsVhuFbGKm2BlFYKkGCsEAqDYKiMMLbAtQfysNwrQwvNsM+w3BqCRG238bbfxtt+RhebYZgj8hqDSNtv422/jbb+Ntv422/YxU2wMrtN0YvAv+Q1Boxk22CPwkg0Gew3BqRhhbYWA7FYbhWxttgWvIagwdlYbhWxhebYZ9JYNQSOQ1BoxhhbYFtyGoMHA/lYbhWRhebYZgkchqDRDONsHcrDcKxaMm2wSBmNtv422/jbb+Ntv422/fAACqhIwR7b+NtvyMHc2/7DcGqGcbYPHKao0FiMatsC0AwCsNwrIwvNsMwSOQ1BoRtt/yGoNEM42wdysNwrFiMm2wSBnkNQaRtt+htt/Iag0422/jbb+Ntv422/jBItv422/jbb+NtvyMMLbCwHcrDcK2MLzbBH4SQaAkdhuDUjC82wzBI5DUGkbbfkbbf9huDVDJtsEjkNQaDMbbfxtt+htt/Ybg10Ntv7DcGvG236G239huDXQ22/sNwa8bbfxtt/G238bbfkYXm2GYJHIag0IwwtsLAdysNwrjC82wzBIjbb8jDC2wsB3Kw3CtDC82wz7DcGoJEbbfxtt+hnG2DuVhuFYshtt3tN0a5GTbYI4z2G4NUM42wdysNwrFkNtvKw3CvjbbBIGY22/jbb+Ntv0Ntv7DcGuRhebYZgklQbBURtt/2G4NY22/IwvNsMwSSoNgqQzjbB3Kw3CsWQybbBI7DcGozG236GTbYJHIag0GWM42weOU1Rg8W7DcGpGGFthYDx2m6NUMLzbBI5DUGgI6G23SoNgq422/jbb9AAC7hIwR7b+Ntv0MH02wdysNwrFiMatsC1AwCsNwrI22/Kw3CuMLzbDMEgjDC2wsB3Kw3CtDC82wz5DUGgJCGcbYO5WG4Vi0ZNtgkDMbbfsYYW2FvIagwcDuVhuFZG23LymqNIwvNsMwR0M42wdysNwrFowQrbBIGY22/jbb+Ntv0MEK2wSOQ1BoMkbbYZgkchqDQjbb/kNQaRtt+RtthmCRyGoNI22/Q22wSOQ1BoMxtt/G235G22GQJHIag0I22/5DUGkbbfobbYJHIag0GY22/jbb+Ntv422/jbb+Ntv422/jbb+Ntv422/jbb+Ntv422/jbb+Ntv422/jbb+Ntv422/fAAABtlPwI////////98AAIzE/4vfxYAX2r0av////F7+L3////0AAJ3E////////7wAAqoT///////////cAALuE////////7wAAAbZUYCP////////fAACMxP/4Ywdbb9wAr////////+8AAJ3E////////7wAAqoT///////////cAALuE////////7wAAAbZU8CP////////fAACMxP/4sAL7V6NX/////////gAAncT////////vAACqhP//////////9wAAu4T////////vAAABtlVgI////////98AAIzE//hjB1tv3ACv////////7wAAncT////////vAACqhP//////////9wAAu4T////////vAAABtlXwI////////98AAIzE//iwAvtXo1f////////+AACdxP///////+8AAKqE///////////3AAC7hP///////+8AAAG2VmAj////////3wAAjMT/+GMHW2/cAK/////////vAACdxP///////+8AAKqE///////////3AAC7hP///////+8AAAG2VvAj////////3wAAjMT/+LAC+1ejV/////////4AAJ3E////////7wAAqoT///////////cAALuE////////7wAAAbZXYCP////////fAACMxP/4Ywdbb9wAr////////+8AAJ3E////////7wAAqoT///////////cAALuE////////7wAAAbZX8CP////////fAACMxP/4sAL7V6NX/////////gAAncT////////vAACqhP//////////9wAAu4T////////vAAABtlhgI////////98AAIzE//hjB1tv3ACv////////7wAAncT////////vAACqhP//////////9wAAu4T////////vAAABtljwI////////98AAIzE//iwAvtXo1f////////+AACdxP///////+8AAKqE///////////3AAC7hP///////+8AAAGzABGHAAABthlgUYI9t/G238bbfxtt/G238bbfxtt/G238bbfxtt/G238bbfxtt/G238bbfxtt/G238bbfxtt+htt/Ybg1422/jbb+Ntv422/Q22/sNwa8bbfkbbf9huDVDbb+w3Brxtt+htt/Ybg1422/jbb+Ntv422/jbb+Ntv0MH02wdysNwrFoybbBIGSNtv+w3Bqhtt/Ybg1422/QzjbB3Kw3CsWjJtsEgZIwwtsLAeO03RqxiptgZRWG4VgX6xIFRGTbYJAx2G4NUM42wdysNwrFoybbBIGY22/jBItv422/fwAAjMSMEe2/jbb9jB3Nv4SQafYbg1jbb9jDC2wt7DcGLgdysNwrQxU2wMkrDcKwL8jJtsEgZ7DcGqG238hqDTI22/7DcGrGGFthb2G4MXA8cpqjRjbbyoFQDBVCsNwrI225e03RqhhebYZ8hqDQEeMHa2/jBJNv4wSLb+Ntv422/jbb8jDC2wsB47TdGqGF5thn2G4NQR2MVNsDJKwVIMFYIBUGwVMZNtgkcJINBnsNwasYYW2FvYbgxcDuVhuFZGF5thkCR2G4NSMMLbCwHjtN0asYqbYGUVgqQYKwL8qDYKmNtvKwVIMFeVBsFUY1bYFqBgRtt+Rgkm3/Ybg1I22/7DcGsbbfxtt/G238bbfkbbf8pqjRDONsHcrDcKxZjGrbAtuQ1Bg4DB7TdGpG23PtN0asYqbYGUVgqQYKwL8qDYKiMMLbAtQMDtN0asbbd7DcGLvlNUaMY1bYFsVAqAYKgfysNwrY22/kNQYOysNwrjbb+NtvyMMLbCwHcrDcKyNtvvabo1jbbDMEeNtv422/jbb8jC82wzBH5DUGiG22CSVBsFQyRttz5TVGkbbfsY1bYFsVAqAYKgfysNwrI22/5TVGjGKm2BklYKkGCsC/Kg2CpjbbysNwr1iQKiMm2wSBjkNQaEYYW2FgPHKao0jbb8jC82wzBI5DUGkYYW2FgPEbbfxtt+8AAJ3EjBHtv422/jB3Nv2M42wdysNwrF1iQKmMm2wSOksGoxyGoNCMMLbCwHjlNUaMYqbYGX2m6MXgX3Iag0IybbBHGioNgqYwwtsLSoFQDBUDsVhuFbGF5thlwkg0BI7DcGsbbfkbbf8hqDSNtv422/IwwtsLAeOU1RpGBcG2GYI8bbfxtt/G238bbfsY1bYFsVAqAYKgfysNwrQxU2wMkrDcKwL8jC82wSASCoNgqYzjb+U1Rg/7DcGpGGFthYDsVhuFbGKm2BlFYKkGCsEAqDYKiMMLbAtQfysNwrQwvNsM+w3BqCRG238bbfxtt+RhebYZgj8hqDSNtv422/jbb+Ntv422/YxU2wMrtN0YvAv+Q1Boxk22CPwkg0Gew3BqRhhbYWA7FYbhWxttgWvIagwdlYbhWxhebYZ9JYNQSOQ1BoxhhbYFtyGoMHA/lYbhWRhebYZgkchqDRDONsHcrDcKxaMm2wSBmNtv422/jbb+Ntv422/fAACqhIwR7b+NtvyMHc2/7DcGqGcbYPHKao0FiMatsC0AwCsNwrIwvNsMwSOQ1BoRtt/yGoNEM42wdysNwrFiMm2wSBnkNQaRtt+htt/Iag0422/jbb+Ntv422/jBItv422/jbb+NtvyMMLbCwHcrDcK2MLzbBH4SQaAkdhuDUjC82wzBI5DUGkbbfkbbf9huDVDJtsEjkNQaDMbbfxtt+htt/Ybg10Ntv7DcGvG236G239huDXQ22/sNwa8bbfxtt/G238bbfkYXm2GYJHIag0IwwtsLAdysNwrjC82wzBIjbb8jDC2wsB3Kw3CtDC82wz7DcGoJEbbfxtt+hnG2DuVhuFYshtt3tN0a5GTbYI4z2G4NUM42wdysNwrFkNtvKw3CvjbbBIGY22/jbb+Ntv0Ntv7DcGuRhebYZgklQbBURtt/2G4NY22/IwvNsMwSSoNgqQzjbB3Kw3CsWQybbBI7DcGozG236GTbYJHIag0GWM42weOU1Rg8W7DcGpGGFthYDx2m6NUMLzbBI5DUGgI6G23SoNgq422/jbb9AAC7hIwR7b+Ntv0MH02wdysNwrFiMatsC1AwCsNwrI22/Kw3CuMLzbDMEgjDC2wsB3Kw3CtDC82wz5DUGgJCGcbYO5WG4Vi0ZNtgkDMbbfsYYW2FvIagwcDuVhuFZG23LymqNIwvNsMwR0M42wdysNwrFowQrbBIGY22/jbb+Ntv0MEK2wSOQ1BoMkbbYZgkchqDQjbb/kNQaRtt+RtthmCRyGoNI22/Q22wSOQ1BoMxtt/G235G22GQJHIag0I22/5DUGkbbfobbYJHIag0GY22/jbb+Ntv422/jbb+Ntv422/jbb+Ntv422/jbb+Ntv422/jbb+Ntv422/jbb+Ntv422/fAAABtlnwJf///////98AAEZif8XvxYGMZP////i9/F7////7AABO4n////////cAAFVCf//////////7AABdwn////////cAAAG2WmAl///////x/yrUafcAAEZif/C4GMGGYyF4y//48DOM//////+/AABO4n////////cAAFVCf//////////7AABdwn////////cAAAG2WvAl///////j9/4AAEZif+FwMcHQFhkMwvgwzGX////////+AABO4n////////cAAFVCf//////////7AABdwn////////cAAAG2W2Al///////H9xNUD/4AAEZif8LgY+1ejUZBfg6AsMhn/////////38AAE7if///////9wAAVUJ///////////sAAF3Cf///////9wAAAbZb8CP////////fAACMxP+Bjlt/SWDX5DUGgXAC+RaDQZ/////////9AACdxP///////+8AAKqE///////////3AAC7hP///////+8AAAG2XGAl////////3wAARmJ/wuBj7V6NRkF+DoCwyGf/////////fwAATuJ////////3AABVQn//////////+wAAXcJ////////3AAABtmg4Ev///////+8AAEZif4sDHcq1QPC/2r0ajL/////////3AABO4n////////cAAFVCf//////////7AABdwn////////cAAAG2UOAj////////3wAAjMT/Ag5bf9huDUWAFjX/////////3wAAncT////////vAACqhP//////////9wAAu4T////////vAAABtlFwJf///////98AAEZif4sDGNAv9q9Goy/////////9AABO4n////////cAAFVCf//////////7AABdwn////////cAAAG2UeAj////////3wAAjMT/Ag5bf9huDUWAFjX/////////3wAAncT////////vAACqhP//////////9wAAu4T////////vAAABtlJwI////////98AAIzE/4XAC+pxmOgLAwyC+0BYZDP/////////vwAAncT////////vAACqhP//////////9wAAu4T////////vAAABswARxwAAAbYS4FGCPbfxtt/G238bbfxtt/G238bbfxtt/G238bbfxtt/G238bbfxtt/G238bbfxtt/G238bbfobbf2G4NeNtv422/jbb+Ntv0Ntv7DcGvG235G23/Ybg1Q22/sNwa8bbfobbf2G4NeNtv422/jbb+Ntv422/jbb9DB9NsHcrDcKxaMm2wSBkjbb/sNwaobbf2G4NeNtv0M42wdysNwrFoybbBIGSMMLbCwHcrDcK0MVNsDKKw3CsC/jJtsEgZQzjbB3Kw3CsWjJtsEgZjbb+MEi2/jbb9wAAjMSMEe2/jbb9jB3Nv4SQafYbg1jbb9jDC2wt7DcGLgdysNwrQxU2wMkrDcKwL8jJtsEgZ7DcGqG238hqDTI22/7DcGrGDtbf0lg1+Q1Bohgkm3SoNgqyNtufYbg1Q22/kNQacbbfxtt/GCRbfxtt/G238bbfkYYW2FgPHabo1QwvNsM+w3BqCOxiptgZJWCpBgrBAKg2CpjJtsEjhJBoM9huDVjDC2wt7DcGLgdysNwrIwvNsMgSOw3BqRhhbYWA8dpujVjBPNsDKKw3CsC/WJAqYzjbysNwr1iQKiMatsC1AwO03RrGF5thmCORtt/2G4NSNtv+w3BrG238bbfxtt/G235G23/Kao0QzjbB3Kw3CsWYxq2wLbkNQYOAwe03RqRttz7TdGrGKm2BlFYKkGCsC/Kg2CojDC2wLUDA7TdGrG23ew3Bi75TVGjGNW2BbFQKgGCoH8rDcK2Ntv5DUGDsrDcK422/jbb8jDC2wsB3Kw3Csjbb72m6NY22wzBHjbb+Ntv422/IwvNsMwR+Q1BohttgklQbBUMkbbc+U1RpG237GNW2BbFQKgGCoH8rDcKyNtv+U1RoxiptgZJWCpBgrAvyoNgqY228rDcK9YkCojJtsEgY5DUGhGGFthYDxymqNI22/IwvNsMwSOQ1BpGGFthYDxG238bbfgAAncSMEe2/jbb+MHc2/YzjbB3Kw3CsXWJAqYybbBI6SwajHIag0IwwtsLAeOU1RoxiptgZfaboxeBfchqDQjJtsEcaKg2CpjDC2wtKgVAMFQOxWG4VsYXm2GXCSDQEjsNwaxtt+Rtt/yGoNI22/jbb8jDC2wsB45TVGkYFwbYZgjxtt/G238bbfxtt+xjVtgWxUCoBgqB/Kw3CtDFTbAySsNwrAvyMLzbBIBIKg2CpjONv5TVGD/sNwakYYW2FgOxWG4VsYqbYGUVgqQYKwQCoNgqIwwtsC1B/Kw3CtDC82wz7DcGoJEbbfxtt/G235GF5thmCPyGoNI22/jbb+Ntv422/jbb9jFTbAyu03Ri8C/5DUGjGTbYI/CSDQZ7DcGpGGFthYDsVhuFbG22Ba8hqDB2VhuFbGF5thn0lg1BI5DUGjGGFtgW3IagwcD+VhuFZGF5thmCRyGoNEM42wdysNwrFoybbBIGY22/jbb+Ntv422/jbb98AAKqEjBHtv422/Iwdzb/sNwaoZxtg8cpqjQWIxq2wLQDAKw3CsjC82wzBI5DUGhG23/Iag0QzjbB3Kw3CsWIybbBIGeQ1BpG236G238hqDTjbb+Ntv422/jbb+MEi2/jbb+Ntv422/IwwtsLAdysNwrYwvNsEfhJBoCR2G4NSMLzbDMEjkNQaRtt+Rtt/2G4NUMm2wSOQ1BoMxtt/G236G239huDXQ22/sNwa8bbfobbf2G4NdDbb+w3Brxtt/G238bbfxtt+RhebYZgkchqDQjDC2wsB3Kw3CuMLzbDMEiNtvyMMLbCwHcrDcK0MLzbDPsNwagkRtt/G236GcbYO5WG4ViyG23e03RrkZNtgjjPYbg1QzjbB3Kw3CsWQ228rDcK+NtsEgZjbb+Ntv422/Q22/sNwa5GF5thmCSVBsFRG23/Ybg1jbb8jC82wzBJKg2CpDONsHcrDcKxZDJtsEjsNwajMbbfoZNtgkchqDQZYzjbB45TVGDxbsNwakYYW2FgPHabo1QwvNsEjkNQaAjobbdKg2Crjbb+Ntv0AALuEjBHtv422/QwfTbB3Kw3CsWIxq2wLUDAKw3Csjbb8rDcK4wvNsMwSCMMLbCwHcrDcK0MLzbDPkNQaAkIZxtg7lYbhWLRk22CQMxtt+xhhbYW8hqDBwO5WG4VkbbcvKao0jC82wzBHQzjbB3Kw3CsWjBCtsEgZjbb+Ntv422/QwQrbBI5DUGgyRtthmCRyGoNCNtv+Q1BpG235G22GYJHIag0jbb9DbbBI5DUGgzG238bbfkbbYZAkchqDQjbb/kNQaRtt+httgkchqDQZjbb+Ntv422/jbb+Ntv422/jbb+Ntv422/jbb+Ntv422/jbb+Ntv422/jbb+Ntv422/jbb98AAAG2U3Al////////3wAARmJ/hcDHxNRoOwLgwzC/dq4zGX////i9/F7////7AABO4n////////cAAFVCf//////////7AABdwn////////cAAAG2U+Aj////////3wAAjMT/DHLb///3gBf//H91PUL////7AACdxP///////+8AAKqE///////////3AAC7hP///////+8AAAG2VHAj////////3wAAjMT///+8AL//4XgBRk2S////3wAAncT////////vAACqhP//////////9wAAu4T////////vAAABtlTgI////////98AAIzE///////eAF//8XACgwz/3wAAncT/F9Gv//////4AAKqE///////////3AAC7hP///////+8AAAG2VXAj////////3wAAjMT//////8MYOtt///4+AFGX+wAAncT////////vAACqhP//////////9wAAu4T////////vAAABtlXgI////////98AAIzE////x+///vACiwAuDoCwy//8fv/vAACdxP///////+8AAKqE///////////3AAC7hP///////+8AAAG2VnAj////////3wAAjMT/i+5QLjP//wxg623///iwAsZf///vAACdxP///////+8AAKqE///////////3AAC7hP///////+8AAAG2VuAl////////3wAARmJ/x8DEZf/+LgYjP//////7AABO4n////////cAAFVCf//////////7AABdwn////////cAAAG2V3Al////j/lWo0//8fAxGf9/AABGYn/eBj/////////7AABO4n////////cAAFVCf//////////7AABdwn////////cAAAG2V+Aj///////DHLb/+wAAjMT/vAC/////////+wAAncT////////vAACqhP//////////9wAAu4T////////vAAABtlhwI///////wxg623/9AACMxP+8AL/////////7AACdxP///////+8AAKqE///////////3AAC7hP///////+8AAAGzABHHAAABthjgUYI9t/G238bbfxtt/G238bbfxtt/G238bbfxtt/G238bbfxtt/G238bbfxtt/G238bbfxtt+htt/Ybg1422/jbb+Ntv422/Q22/sNwa8bbfxtt+htt/Ybg1422/Q22/sNwa8bbfxtt/G238bbfxtt/G236GD6bYO5WG4Vi0ZNtgkDJG23/Ybg1Q22/sNwa8bbfoZxtg7lYbhWLRk22CQMxtt+hnG2DuVhuFYtGTbYJAyhnG2DuVhuFYtGTbYJAzG238YJFt/G237AACMxIwR7b+Ntv2MHc2/hJBp9huDWNtv2MMLbC3sNwYuB3Kw3CtDFTbAySsNwrAvyMm2wSBnsNwaobbfyGoNONtv4wdrb9DBJNulQbBVkbbc+w3Bqhtt/Iag0422/jbb+MEi2/jbb+Ntv422/IwwtsLAeO03RqhhebYZ9huDUEdjFTbAySsFSDBWCAVBsFTGTbYJHCSDQZ7DcGrGGFthb2G4MXA7lYbhWRhebYZAkdhuDWNtv4wSTb9jONsHYrDcKxdYkCojGrbAtQMDtN0axhebYZgjkbbf9huDUjbb/sNwaxtt/G238bbfxtt+Rtt/ymqNEM42wdysNwrFmMatsC25DUGDgMHtN0akbbc+03RqxiptgZRWCpBgrAvyoNgqIwwtsC1AwO03RrGF5thmCOhtt/Ybg12MatsC25DUGDgfysNwrjbb+NtvyMMLbCwHcrDcKyNtvvabo1jbbDMEeNtv422/jbb8jC82wzBH5DUGiG22CSVBsFQyRttz5TVGkbbfsY1bYFsVAqAYKgfysNwrI22/5TVGhG23/Ybg1QzjbB3Kw3CsWIwvNsEgEjkNQaEYYW2FgPHKao0jbb8jC82wzBI5DUGkYYW2FgPEbbfxtt+/AACdxIwR7b+Ntv4wdzb9jONsHcrDcKxdYkCpjJtsEjpLBqMchqDQjDC2wsB45TVGjGKm2Bl9pujF4F9yGoNCMm2wRxoqDYKmMMLbC3sNwYuB2Kw3CtjC82wy4SQaAkdhuDWNtvyNtv+Q1BpG238bbfkYYW2FgPHKao0jAuDbDMEeNtv422/jbb+Ntv2MatsC2KgVAMFQP5WG4VoYqbYGSVhuFYF+RhebYJAJBUGwVMZxt/Kaowf9huDUjDC2wsB2Kw3CtjFTbAyisFSDBWCAVBsFRGGFtgWoP5WG4VoYXm2GfYbg1BIjbb+Ntv422/IwvNsMwR+Q1BpG238bbfxtt/G238bbfsYqbYGV2m6MXgX/Iag0YybbBH4SQaDPYbg1IwwtsLAdisNwrY22wLXkNQYOysNwrYwvNsM+ksGoJHIag0YwwtsC25DUGDgfysNwrIwvNsMwSOQ1BohnG2DuVhuFYtGTbYJAzG238bbfxtt/G238bbfvAACqhIwR7b+NtvyMHc2/7DcGqGcbYPHKao0FiMatsC0AwCsNwrIwvNsMwSOQ1BoRtt/yGoNEM42wdysNwrFiMm2wSBnkNQaRtt+htt/Iag0422/jbb+Ntv422/jBItv422/jbb+NtvyMMLbCwHcrDcK2MLzbBH4SQaAkdhuDUjC82wzBI5DUGkbbfkbbf9huDVDJtsEjkNQaDMbbfxtt+htt/Ybg10Ntv7DcGvG236G239huDXQ22/sNwa8bbfxtt/G238bbfkYXm2GYJHIag0IwwtsLAdysNwrjC82wzBIjbb8jDC2wsB3Kw3CtDC82wz7DcGoJEbbfxtt+hnG2DuVhuFYshtt3tN0a5GTbYI4z2G4NUM42wdysNwrFkNtvKw3CvjbbBIGY22/jbb+Ntv0Ntv7DcGuRhebYZgklQbBURtt/2G4NY22/IwvNsMwSSoNgqQzjbB3Kw3CsWQybbBI7DcGozG236GTbYJHIag0GWM42weOU1Rg8W7DcGpGGFthYDx2m6NUMLzbBI5DUGgI6G23SoNgq422/jbb9AAC7hIwR7b+Ntv0MH02wdysNwrFiMatsC1AwCsNwrI22/Kw3CuMLzbDMEgjDC2wsB3Kw3CtDC82wz5DUGgJCGcbYO5WG4Vi0ZNtgkDMbbfsYYW2FvIagwcDuVhuFZG23LymqNIwvNsMwR0M42wdysNwrFowQrbBIGY22/jbb+Ntv0MEK2wSOQ1BoMkbbYZgkchqDQjbb/kNQaRtt+RtthmCRyGoNI22/Q22wSOQ1BoMxtt/G235G22GQJHIag0I22/5DUGkbbfobbYJHIag0GY22/jbb+Ntv422/jbb+Ntv422/jbb+Ntv422/jbb+Ntv422/jbb+Ntv422/jbb+Ntv422/fAAABtllwJf///////98AAEZif7gYxfR2S////+L3/////QAATuJ////////3AABVQn//////////+wAAXcJ////////3AAABtlngI////////98AAIzE/wxy2/cAL/////////9/AACdxP///////+8AAKqE///////////3AAC7hP///////+8AAAG2WnAl////////3wAARmJ/uBjF9HZL/////////78AAE7if///////9wAAVUJ///////////sAAF3Cf///////9wAAAbZa4CP////////fAACMxP8Mctv3AC//////////fwAAncT////////vAACqhP//////////9wAAu4T////////vAAABtltwI///////wxg623/9AACMxP+4AX/////////7AACdxP///////+8AAKqE///////////3AAC7hP///////+8AAAG2W+Aj///////DHLb/+wAAjMT/vAC/////////+wAAncT////////vAACqhP//////////9wAAu4T////////vAAABtlxwI///////wxg623/9AACMxP+8AL/////////7AACdxP///////+8AAKqE///////////3AAC7hP///////+8AAAG2aDAR///////hjlt//QAAjMT/vAC/////////+wAAncT////////vAACqhP//////////9wAAu4T////////vAAABtlDwKf//xfyrUaeL+VajTF/KtRpF/KtRp+Lh/yrUaPD94fvD94fi4f8q1Gjw/eH4uH/KtRo8PxcP+VajR4fvD/cAABGYm4fwxgj234Y22/DG234Y22/DG234Y22/eC/F/KtRo+L+VajR9/3D+GNtvwxtt+GNtvwxtt+GNtvwxtt+8PxcP+VajR4fi4f8q1Gjw/eH/uH8Mbbfhjbb8Mbbfhjbb8Mbbfhjbb94fi4f8q1Gjw/Fw/5VqNHh+8P/cP4Y22/DG234Y22/DG234Y22/DG237w/Fw/5VqNHh+Lh/yrUaPD94f4AABO4m4f3D+GMEe2/DG234Y22/DG234Y22/DG234Y22/DG234Y22/DG237hv99w/uCHwxgj234Y22/DG234Y22/DG234Y22/DG234Y22/DG237hv999w/hjbb8Mbbfhjbb8Mbbfhjbb8Mbbfhjbb8Mbbfhjbb9w37AAAVUJuH9w/uH8MYI9t+GNtvwxtt+GNtvwxtt+GNtvwxtt+GNtvwxtt+4b/ffcP4Y22/DG234Y22/DG234Y22/DG234Y22/DG234Y22/cN/vvuH8Mbbfhjbb8Mbbfhjbb8Mbbfhjbb8Mbbfhjbb8MbbfuG/333D+GNtvwxtt+GNtvwxtt+GNtvwxtt+GNtvwxtt+GNtv3DfvAAAXcJuH9w/uH8MYI9t+Phv2r0avi/tXo1ffH/avRqP+1ejV8X9q9Gviw39q9Go8Fv7V6NR/2r0ax8P+1ejWLh/2r0a4+H/avRqPh/2r0axf2r0a///3AAAGmW1vb3YAAABsbXZoZAAAAAAAAAAAAAAAAAAAA+gAAB+QAAEAAAEAAAAAAAAAAAAAAAABAAAAAAAAAAAAAAAAAAAAAQAAAAAAAAAAAAAAAAAAQAAAAAAAAAAAAAAAAAAAAAAAAAAAAAAAAAAAAAAAAAIAAAXDdHJhawAAAFx0a2hkAAAAAwAAAAAAAAAAAAAAAQAAAAAAAB+QAAAAAAAAAAAAAAAAAAAAAAABAAAAAAAAAAAAAAAAAAAAAQAAAAAAAAAAAAAAAAAAQAAAAAEQAAABEAAAAAAAJGVkdHMAAAAcZWxzdAAAAAAAAAABAAAfkAAAAAAAAQAAAAAFO21kaWEAAAAgbWRoZAAAAAAAAAAAAAAAAAAAMgAAAZQAVcQAAAAAAC1oZGxyAAAAAAAAAAB2aWRlAAAAAAAAAAAAAAAAVmlkZW9IYW5kbGVyAAAABOZtaW5mAAAAFHZtaGQAAAABAAAAAAAAAAAAAAAkZGluZgAAABxkcmVmAAAAAAAAAAEAAAAMdXJsIAAAAAEAAASmc3RibAAAAMZzdHNkAAAAAAAAAAEAAAC2bXA0dgAAAAAAAAABAAAAAAAAAAAAAAAAAAAAAAEQARAASAAAAEgAAAAAAAAAAQAAAAAAAAAAAAAAAAAAAAAAAAAAAAAAAAAAAAAAAAAAABj//wAAAGBlc2RzAAAAAAOAgIBPAAEABICAgEEgEQAAAAADDUAAAK97BYCAgC8AAAGwAQAAAbWJEwAAAQAAAAEgAMSNiADNCIQiFEMAAAGyTGF2YzU4LjE4LjEwMAaAgIABAgAAABhzdHRzAAAAAAAAAAEAAADKAAACAAAAAFRzdHNzAAAAAAAAABEAAAABAAAADQAAABkAAAAlAAAAMQAAAD0AAABJAAAAVQAAAGEAAABtAAAAeQAAAIUAAACRAAAAnQAAAKkAAAC1AAAAwQAAABxzdHNjAAAAAAAAAAEAAAABAAAAygAAAAEAAAM8c3RzegAAAAAAAAAAAAAAygAAB9oAAABnAAAATQAAAEgAAABOAAAASgAAAEgAAABMAAAARQAAAEcAAABSAAAATwAAB5oAAABTAAAATAAAAEgAAABFAAAARQAAAEYAAABGAAAASQAAAEwAAABOAAAATAAAB4AAAABUAAAATgAAAEwAAABOAAAATAAAAE4AAABMAAAASgAAAFEAAABHAAAASQAAB2EAAABTAAAASgAAAEsAAABKAAAATAAAAEwAAABHAAAASAAAAEQAAABIAAAARAAAB08AAABMAAAASAAAAEQAAABIAAAARAAAAEgAAABEAAAASAAAAEQAAABIAAAARAAAB1IAAABVAAAARQAAAEYAAABHAAAARgAAAEcAAABGAAAARwAAAEYAAABHAAAARQAAB0EAAABHAAAARQAAAEIAAABFAAAAQgAAAEUAAABCAAAARQAAAEIAAABFAAAAQgAAB0EAAABHAAAARQAAAEIAAABFAAAAQgAAAEUAAABCAAAARQAAAEIAAABFAAAAQgAAB0EAAABHAAAARQAAAEYAAABHAAAARgAAAEcAAABGAAAARwAAAEYAAABHAAAARgAAB0AAAABMAAAARQAAAEYAAABHAAAARgAAAEcAAABGAAAARwAAAEYAAABHAAAARgAAB0AAAABMAAAARQAAAEgAAABCAAAAQgAAAEIAAABKAAAATQAAAEsAAABHAAAASwAABywAAABQAAAARwAAAEsAAABHAAAASwAAAEcAAABLAAAARwAAAEsAAABHAAAASgAABx0AAABLAAAASQAAAEIAAABDAAAARQAAAEUAAABEAAAARQAAAEQAAABFAAAARAAABwwAAABJAAAARQAAAEQAAABFAAAARAAAAEUAAABEAAAARQAAAEQAAABFAAAARAAABwwAAABHAAAATgAAAEsAAABQAAAATwAAAEwAAABKAAAASQAAAEcAAABJAAAATgAABvsAAABRAAAASAAAAEYAAABHAAAARgAAAEoAAABLAAAARQAAAEgAAABDAAAARAAABsQAAABFAAAARAAAAEQAAABEAAAARAAAAEMAAABEAAAAQwAAAlIAAAAUc3RjbwAAAAAAAAABAAAALAAAAGJ1ZHRhAAAAWm1ldGEAAAAAAAAAIWhkbHIAAAAAAAAAAG1kaXJhcHBsAAAAAAAAAAAAAAAALWlsc3QAAAAlqXRvbwAAAB1kYXRhAAAAAQAAAABMYXZmNTguMTIuMTAw\" type=\"video/mp4\" />\n",
       "             </video>"
      ],
      "text/plain": [
       "<IPython.core.display.HTML object>"
      ]
     },
     "execution_count": 66,
     "metadata": {},
     "output_type": "execute_result"
    }
   ],
   "source": [
    "epochs_train = 21 # set small when debugging\n",
    "\n",
    "env = Environment(grid_size=size, max_time=T, temperature=0.3)\n",
    "agent = DQN_CNN(size, lr=.05, epsilon = 0.1, memory_size=2000, batch_size = 32)\n",
    "train(agent,env,epochs_train,prefix='cnn_train')\n",
    "HTML(display_videos('cnn_train10.mp4'))"
   ]
  },
  {
   "cell_type": "markdown",
   "metadata": {},
   "source": [
    "***\n",
    "***\n",
    "__Question 9__ Test both algorithms and compare their performances. Which issue(s) do you observe? Observe also different behaviors by changing the temperature."
   ]
  },
  {
   "cell_type": "code",
   "execution_count": 51,
   "metadata": {},
   "outputs": [
    {
     "name": "stdout",
     "output_type": "stream",
     "text": [
      "Test of the CNN\n",
      "Win/lose count 0.5/2.0. Average score (-1.5)\n",
      "Win/lose count 4.0/5.0. Average score (-1.25)\n",
      "Win/lose count 3.5/4.0. Average score (-1.0)\n",
      "Win/lose count 1.0/0.0. Average score (-0.5)\n",
      "Win/lose count 3.0/5.0. Average score (-0.8)\n",
      "Win/lose count 2.0/2.0. Average score (-0.6666666666666666)\n",
      "Win/lose count 1.5/3.0. Average score (-0.7857142857142857)\n",
      "Win/lose count 1.0/2.0. Average score (-0.8125)\n",
      "Win/lose count 1.5/3.0. Average score (-0.8888888888888888)\n",
      "Win/lose count 6.5/3.0. Average score (-0.45)\n",
      "Win/lose count 2.5/3.0. Average score (-0.45454545454545453)\n",
      "Final score: -0.45454545454545453\n",
      "Test of the FC\n",
      "Win/lose count 8.5/7.0. Average score (1.5)\n",
      "Win/lose count 13.0/11.0. Average score (1.75)\n",
      "Win/lose count 7.5/12.0. Average score (-0.3333333333333333)\n",
      "Win/lose count 2.5/5.0. Average score (-0.875)\n",
      "Win/lose count 3.5/13.0. Average score (-2.6)\n",
      "Win/lose count 9.0/10.0. Average score (-2.3333333333333335)\n",
      "Win/lose count 11.5/17.0. Average score (-2.7857142857142856)\n",
      "Win/lose count 7.5/8.0. Average score (-2.5)\n",
      "Win/lose count 4.5/6.0. Average score (-2.388888888888889)\n",
      "Win/lose count 3.5/8.0. Average score (-2.6)\n",
      "Win/lose count 2.5/1.0. Average score (-2.227272727272727)\n",
      "Final score: -2.227272727272727\n"
     ]
    }
   ],
   "source": [
    "env = Environment(grid_size=size, max_time=T,temperature=0.3)\n",
    "agent_cnn = DQN_CNN(size, lr=.1, epsilon = 0.1, memory_size=2000, batch_size = 32)\n",
    "agent_cnn.load(name_weights='cnn_trainmodel.h5',name_model='cnn_trainmodel.json')\n",
    "\n",
    "epochs_test = 11 # set small when debugging\n",
    "\n",
    "agent_fc = DQN_FC(size, lr=.1, epsilon = 0.1, memory_size=2000, batch_size = 32)\n",
    "agent_cnn.load(name_weights='fc_trainmodel.h5',name_model='fc_trainmodel.json')\n",
    "print('Test of the CNN')\n",
    "test(agent_cnn,env,epochs_test,prefix='cnn_test')\n",
    "print('Test of the FC')\n",
    "test(agent_fc,env,epochs_test,prefix='fc_test')"
   ]
  },
  {
   "cell_type": "code",
   "execution_count": 50,
   "metadata": {},
   "outputs": [
    {
     "ename": "FileNotFoundError",
     "evalue": "[Errno 2] No such file or directory: 'cnn_test10.mp4'",
     "output_type": "error",
     "traceback": [
      "\u001b[0;31m---------------------------------------------------------------------------\u001b[0m",
      "\u001b[0;31mFileNotFoundError\u001b[0m                         Traceback (most recent call last)",
      "\u001b[0;32m<ipython-input-50-6258079ce82e>\u001b[0m in \u001b[0;36m<module>\u001b[0;34m\u001b[0m\n\u001b[0;32m----> 1\u001b[0;31m \u001b[0mHTML\u001b[0m\u001b[0;34m(\u001b[0m\u001b[0mdisplay_videos\u001b[0m\u001b[0;34m(\u001b[0m\u001b[0;34m'cnn_test10.mp4'\u001b[0m\u001b[0;34m)\u001b[0m\u001b[0;34m)\u001b[0m\u001b[0;34m\u001b[0m\u001b[0;34m\u001b[0m\u001b[0m\n\u001b[0m",
      "\u001b[0;32m<ipython-input-8-891832c0847e>\u001b[0m in \u001b[0;36mdisplay_videos\u001b[0;34m(name)\u001b[0m\n\u001b[1;32m      8\u001b[0m \u001b[0;31m# display videos\u001b[0m\u001b[0;34m\u001b[0m\u001b[0;34m\u001b[0m\u001b[0;34m\u001b[0m\u001b[0m\n\u001b[1;32m      9\u001b[0m \u001b[0;32mdef\u001b[0m \u001b[0mdisplay_videos\u001b[0m\u001b[0;34m(\u001b[0m\u001b[0mname\u001b[0m\u001b[0;34m)\u001b[0m\u001b[0;34m:\u001b[0m\u001b[0;34m\u001b[0m\u001b[0;34m\u001b[0m\u001b[0m\n\u001b[0;32m---> 10\u001b[0;31m     \u001b[0mvideo\u001b[0m \u001b[0;34m=\u001b[0m \u001b[0mio\u001b[0m\u001b[0;34m.\u001b[0m\u001b[0mopen\u001b[0m\u001b[0;34m(\u001b[0m\u001b[0mname\u001b[0m\u001b[0;34m,\u001b[0m \u001b[0;34m'r+b'\u001b[0m\u001b[0;34m)\u001b[0m\u001b[0;34m.\u001b[0m\u001b[0mread\u001b[0m\u001b[0;34m(\u001b[0m\u001b[0;34m)\u001b[0m\u001b[0;34m\u001b[0m\u001b[0;34m\u001b[0m\u001b[0m\n\u001b[0m\u001b[1;32m     11\u001b[0m     \u001b[0mencoded\u001b[0m \u001b[0;34m=\u001b[0m \u001b[0mbase64\u001b[0m\u001b[0;34m.\u001b[0m\u001b[0mb64encode\u001b[0m\u001b[0;34m(\u001b[0m\u001b[0mvideo\u001b[0m\u001b[0;34m)\u001b[0m\u001b[0;34m\u001b[0m\u001b[0;34m\u001b[0m\u001b[0m\n\u001b[1;32m     12\u001b[0m     return '''<video alt=\"test\" controls>\n",
      "\u001b[0;31mFileNotFoundError\u001b[0m: [Errno 2] No such file or directory: 'cnn_test10.mp4'"
     ]
    }
   ],
   "source": [
    "HTML(display_videos('cnn_test10.mp4'))"
   ]
  },
  {
   "cell_type": "code",
   "execution_count": null,
   "metadata": {
    "collapsed": true
   },
   "outputs": [],
   "source": [
    "HTML(display_videos('fc_test10.mp4'))"
   ]
  },
  {
   "cell_type": "markdown",
   "metadata": {},
   "source": []
  },
  {
   "cell_type": "markdown",
   "metadata": {},
   "source": [
    "***\n",
    "\n",
    "The algorithm tends to not explore the map which can be an issue. We propose two ideas in order to encourage exploration:\n",
    "1. Incorporating a decreasing $\\epsilon$-greedy exploration. You can use the method ```set_epsilon```\n",
    "2. Append via the environment a new state that describes if a cell has been visited or not\n",
    "\n",
    "***\n",
    "__Question 10__ Design a new ```train_explore``` function and environment class ```EnvironmentExploring``` to tackle the issue of exploration.\n",
    "\n"
   ]
  },
  {
   "cell_type": "code",
   "execution_count": null,
   "metadata": {
    "collapsed": true
   },
   "outputs": [],
   "source": [
    "def train_explore(agent,env,epoch,prefix=''):\n",
    "    pass\n",
    "        \n",
    "class EnvironmentExploring(object):\n",
    "    def __init__(self, grid_size=10, max_time=500, temperature=0.1):\n",
    "        pass\n",
    "    \n",
    "## use those samples of code:\n",
    "#In train explore:\n",
    "state, reward, game_over = env.act(action, train=True)\n",
    "\n",
    "## In Environment exploring:\n",
    "# You will have to change n_state to 3 because you will use one more layer!\n",
    "reward = 0\n",
    "if train:\n",
    "    reward = -self.malus_position[self.x, self.y]\n",
    "self.malus_position[self.x, self.y] = 0.1\n",
    "\n",
    "reward = reward + self.board[self.x, self.y]\n",
    "# 3 \"feature\" states instead of 2\n",
    "state = np.concatenate((self.malus_position.reshape(self.grid_size, self.grid_size,1),\n",
    "                                self.board.reshape(self.grid_size, self.grid_size,1),\n",
    "                        self.position.reshape(self.grid_size, self.grid_size,1)),axis=2)"
   ]
  },
  {
   "cell_type": "code",
   "execution_count": null,
   "metadata": {
    "collapsed": true
   },
   "outputs": [],
   "source": [
    "# Training\n",
    "env = EnvironmentExploring(grid_size=size, max_time=T, temperature=0.3)\n",
    "agent = DQN_CNN(size, lr=.1, epsilon = 0.1, memory_size=2000, batch_size = 32,n_state=3)\n",
    "train_explore(agent, env, epochs_train, prefix='cnn_train_explore')\n",
    "HTML(display_videos('cnn_train_explore10.mp4'))"
   ]
  },
  {
   "cell_type": "code",
   "execution_count": null,
   "metadata": {
    "collapsed": true
   },
   "outputs": [],
   "source": [
    "# Evaluation\n",
    "test(agent,env,epochs_test,prefix='cnn_test_explore')\n",
    "HTML(display_videos('cnn_test_explore10.mp4'))"
   ]
  },
  {
   "cell_type": "markdown",
   "metadata": {},
   "source": [
    "***\n",
    "***\n",
    "__BONUS question__ Use the expert DQN from the previous question to generate some winning games. Train a model that mimicks its behavior. Compare the performances."
   ]
  },
  {
   "cell_type": "markdown",
   "metadata": {},
   "source": []
  },
  {
   "cell_type": "markdown",
   "metadata": {},
   "source": [
    "***"
   ]
  }
 ],
 "metadata": {
  "kernelspec": {
   "display_name": "Python 3",
   "language": "python",
   "name": "python3"
  },
  "language_info": {
   "codemirror_mode": {
    "name": "ipython",
    "version": 3
   },
   "file_extension": ".py",
   "mimetype": "text/x-python",
   "name": "python",
   "nbconvert_exporter": "python",
   "pygments_lexer": "ipython3",
   "version": "3.6.8"
  }
 },
 "nbformat": 4,
 "nbformat_minor": 2
}
